{
  "nbformat": 4,
  "nbformat_minor": 0,
  "metadata": {
    "colab": {
      "provenance": []
    },
    "kernelspec": {
      "name": "python3",
      "display_name": "Python 3"
    },
    "language_info": {
      "name": "python"
    }
  },
  "cells": [
    {
      "cell_type": "code",
      "execution_count": null,
      "metadata": {
        "id": "Mq5E46BtMzeL"
      },
      "outputs": [],
      "source": [
        "import pandas as pd\n",
        "import os\n",
        "import numpy as np"
      ]
    },
    {
      "cell_type": "code",
      "source": [
        "# От человека берем только голову\n",
        "path = '/content/drive/MyDrive/trainee/head/val/labels/'\n",
        "# Создадим список пустых файлов (необязательно)\n",
        "for fname in os.listdir(path):\n",
        "  if os.stat(path + fname).st_size > 10:\n",
        "    df = pd.read_csv(path + fname, sep=' ', names=['cls', 'x', 'y', 'w', 'h'])\n",
        "    '''Для вычисления нового центра нам надо определить верх человека.\n",
        "    Верх определяется как старый центр минус половина высоты.\n",
        "    Новый центр определяется как верх + половина новой высоты.\n",
        "    Так разница между старым и новым значением центра не сильно влияет на\n",
        "    новую высоту, то используем старый центр в выражении вместо новой высоты'''\n",
        "    df.loc[df.cls == 0, 'y'] = df.y - df.h / 2 + (0.4125 * df.y - 0.0183) / 2\n",
        "    df.loc[df.cls == 0, 'h'] = df.y * 0.4125 - 0.0183\n",
        "    df.to_csv(path + fname, sep=' ', index=False, header=False)"
      ],
      "metadata": {
        "id": "G_BgEGAX3UU2"
      },
      "execution_count": null,
      "outputs": []
    }
  ]
}