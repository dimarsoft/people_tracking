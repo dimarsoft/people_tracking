{
  "cells": [
    {
      "cell_type": "code",
      "source": [
        "from google.colab import drive\n",
        "import os\n",
        "drive.mount('/content/drive/')\n",
        "dataset_path = '/content/drive/MyDrive/dataset-v1.1/'\n",
        "import cv2\n",
        "from google.colab.patches import cv2_imshow\n",
        "import cv2\n",
        "import os\n",
        "from matplotlib import pyplot as plt\n",
        "import numpy as np\n",
        "!pip install ultralytics\n",
        "import ultralytics\n",
        "from ultralytics import YOLO\n",
        "\n",
        "model = YOLO('yolov8s.pt')"
      ],
      "metadata": {
        "id": "OYH1Z62yO_sM"
      },
      "execution_count": null,
      "outputs": []
    },
    {
      "cell_type": "markdown",
      "source": [
        "## Получение треков \n",
        "https://github.com/mikel-brostrom/yolov8_tracking, трекер ocsort.\n",
        "\n",
        "Модель yolov8s, обучена на 100 эпохах (подробности можно уточнить у @apchoo11)"
      ],
      "metadata": {
        "id": "BnFLD_HkN4OA"
      }
    },
    {
      "cell_type": "code",
      "source": [
        "!rm -r /content/yolov8_tracking/runs/track\n"
      ],
      "metadata": {
        "id": "W_qz4C63Pqr_"
      },
      "execution_count": null,
      "outputs": []
    },
    {
      "cell_type": "code",
      "source": [
        "!git clone --recurse-submodules https://github.com/mikel-brostrom/yolov8_tracking.git \n",
        "!cp yolov8_tracking/requirements.txt /content/\n",
        "!pip install -r requirements.txt  \n",
        "!mkdir /content/yolov8_tracking/weights"
      ],
      "metadata": {
        "id": "F4V4gF5ON17Y"
      },
      "execution_count": null,
      "outputs": []
    },
    {
      "cell_type": "code",
      "source": [
        "!python3 yolov8_tracking/track.py --yolo-weights /content/yolov8m.pt --tracking-method ocsort --source /content/drive/MyDrive/dataset-v1.1/test/1.mp4 --save-txt --save-conf --save-crop --save-trajectories --classes 0 --save-vid \n",
        "!cp /content/yolov8_tracking/runs/track/exp/1.mp4 /content/drive/MyDrive/Helmet/tracks/Ocsort\n",
        "!cp /content/yolov8_tracking/runs/track/exp/tracks/1.txt /content/drive/MyDrive/Helmet/tracks/Ocsort"
      ],
      "metadata": {
        "id": "akSF8LtsOSxY"
      },
      "execution_count": null,
      "outputs": []
    },
    {
      "cell_type": "code",
      "source": [
        "for i in range(2, 44):\n",
        "    os.system(f'python3 yolov8_tracking/track.py --yolo-weights /content/drive/MyDrive/Helmet/models/best.pt --tracking-method ocsort --source /content/drive/MyDrive/dataset-v1.1/test/{i}.mp4 --save-txt --save-conf --save-crop --save-trajectories --classes 0 --save-vid ')\n",
        "    os.system(f'cp /content/yolov8_tracking/runs/track/exp{i}/tracks/{i}.txt /content/drive/MyDrive/Helmet/tracks/Ocsort')\n",
        "    os.system(f'cp /content/yolov8_tracking/runs/track/exp{i}/{i}.mp4 /content/drive/MyDrive/Helmet/tracks/Ocsort')"
      ],
      "metadata": {
        "id": "umHE118hU_Id"
      },
      "execution_count": null,
      "outputs": []
    },
    {
      "cell_type": "markdown",
      "source": [
        "## Подсчёт входящих и исходящих (без учёта касок и жилетов)"
      ],
      "metadata": {
        "id": "AKHPgfEjN28G"
      }
    },
    {
      "cell_type": "code",
      "source": [
        "for N in range(1, 44):\n",
        "    try:\n",
        "        with open(f'/content/drive/MyDrive/Helmet/tracks/Ocsort/{N}.txt', 'r') as f:\n",
        "            tracks = f.readlines()\n",
        "        tracks = [t.strip().split() for t in tracks]\n",
        "        tracks = [list(map(int, map(float, t)))[:-4] for t in tracks]           # Прошу не кидать тапками, это конвертация символов в цифры (str -> int).\n",
        "        detections = True\n",
        "\n",
        "    except:\n",
        "        print(f'Video {N}: No detections')\n",
        "        print()\n",
        "        detections = False\n",
        "\n",
        "    if detections:\n",
        "        vidcap = cv2.VideoCapture(f'/content/drive/MyDrive/Helmet/tracks/Ocsort/{N}.mp4', )\n",
        "        success, image = vidcap.read()\n",
        "\n",
        "        gate_y = 375 * image.shape[0] // 640    # примерная координата турникета\n",
        "        delta = 50 * image.shape[0] // 640      # эмпирическая поправка (она вроде не особо влияет, но пусть будет)\n",
        "        gate_y -= delta\n",
        "        res = image.shape[0]                    # размер видео по вертикали\n",
        "\n",
        "        n_humans = 0                            # общее количество id в треке (далее может увеличиться)\n",
        "\n",
        "        for t in tracks:\n",
        "            n_humans = (max(t[1], n_humans))\n",
        "\n",
        "        '''\n",
        "        Предобработка треков.\n",
        "        Иногда один и тот же id сначала проходит в одном направлении, а потом в другом, нужно посчитать его как одного входящего и одного выходящего.\n",
        "        В данной реализации сравнивается первая и последняя координата объекта, поэтому если он сначала вошёл, а потом вышел, начальная и последняя координаты будут по одну сторону от турникета и алгоритм не сработает.\n",
        "        Предпринята попытка форсированной смены id. Идея: после того как объект прошёл коридор - все дальнейшие id этого объекта заменяются на новые, и при последующем проходе, он будет считаться как новый объект с новым id.\n",
        "        '''\n",
        "\n",
        "        bb_y = [None] + [list() for _ in range(n_humans)]               # координата 'у' верхнего левого угла\n",
        "        bb_h = [None] + [list() for _ in range(n_humans)]               # высота баундин бокса\n",
        "        bb_frame = [None] + [list() for _ in range(n_humans)]           # номер кадра\n",
        "        bb_start = [None] + [None for _ in range(n_humans)]             # с какой стороны заходит (= 0, если чел выходит,  = res, если заходит)\n",
        "\n",
        "        for i, t in enumerate(tracks):\n",
        "            id = t[1]\n",
        "            frame_n = t[0]\n",
        "            x, y, w, h = t[2:]\n",
        "            bb_y[id].append(y)\n",
        "            bb_h[id].append(h)\n",
        "            bb_frame[id].append(frame_n)\n",
        "            if i == 0:\n",
        "                bb_start[id] = bb_y[id][0]\n",
        "            else:\n",
        "                if bb_y[id][-1] < bb_y[id][0]:\n",
        "                    bb_start[id] = res\n",
        "                else:\n",
        "                    bb_start[id] = 0\n",
        "\n",
        "            if len(bb_frame[id]) > 20:\n",
        "\n",
        "                condition_in = bb_start[id] == 0 and (bb_y[id][-1] + bb_h[id][-1]) / res > 0.75 and bb_frame[id][-1] - bb_frame[id][-2] > 20          # условие смены id при проходе внутрь: 1) стартовая точка наверху, 2) нижняя граница бб пересекла порог (0,75 от высоты изображения) 3) бб не детектировался в течение 10 предыдущих кадров                                         # go in\n",
        "                condition_out = bb_start[id] == res and bb_y[id][-1] / res < 0.35 and bb_frame[id][-1] - bb_frame[id][-2] > 20                        # условие смены id при проходе наружу: 1) стартовая точка внизу, 2) верхняя граница бб пересекла порог (0,35 от высоты изображения) 3) бб не детектировался в течение 10 предыдущих кадров\n",
        "\n",
        "                if condition_in or condition_out:\n",
        "                    # print(f'New human {id} -> {n_humans+1}, frame: {frame_n}')\n",
        "                    # print()\n",
        "                    n_humans += 1\n",
        "                    bb_y.append([])\n",
        "                    bb_h.append([])\n",
        "                    bb_frame.append([])\n",
        "                    bb_start.append(None)\n",
        "                    for j in range(i+1, len(tracks)):       # во всех последующих детекциях данный id меняются новый\n",
        "                        if tracks[j][1] == id:\n",
        "                            tracks[j][1] = n_humans\n",
        "\n",
        "        '''\n",
        "        Собственно подсчёт.\n",
        "        Если условная координата \"y\" турникета находится в интервале между начальной и конечной координатой объекта, то защитывается проход\n",
        "        '''\n",
        "\n",
        "        came_in = 0                                         # количество вошедших\n",
        "        came_out = 0                                        # количество вышедших\n",
        "\n",
        "        human_tracks = [None] + [list() for _ in range(n_humans)]               # нулевой элемент добавлен, чтобы нумерация начиналась с 1\n",
        "\n",
        "        print(f'Track {N}):')\n",
        "\n",
        "        for t in tracks:\n",
        "            n = t[1]\n",
        "            x, y, w, h = t[2:]\n",
        "            box_center = x + w//2, y + h//2\n",
        "            human_tracks[n].append(box_center[1])\n",
        "\n",
        "        for i, h in enumerate(human_tracks):\n",
        "            if h and h[0] < gate_y  < h[-1]:\n",
        "                came_in += 1\n",
        "                # print(f'          Human {i} came in')\n",
        "\n",
        "            elif h and h[0] > gate_y > h[-1]:\n",
        "                came_out += 1\n",
        "                # print(f'          Human {i} came out')\n",
        "\n",
        "        print()\n",
        "        print(f'    {came_in} humans came in')\n",
        "        print(f'    {came_out} humans came out')\n",
        "        print()"
      ],
      "metadata": {
        "id": "w89dgCYbSmDj",
        "colab": {
          "base_uri": "https://localhost:8080/"
        },
        "outputId": "5a19ef06-b511-47f9-c14b-6a2747fd224c"
      },
      "execution_count": null,
      "outputs": [
        {
          "output_type": "stream",
          "name": "stdout",
          "text": [
            "Video 0: No detections\n",
            "\n",
            "Track 1):\n",
            "\n",
            "    3 humans came in\n",
            "    0 humans came out\n",
            "\n",
            "Track 2):\n",
            "\n",
            "    3 humans came in\n",
            "    0 humans came out\n",
            "\n",
            "Track 3):\n",
            "\n",
            "    3 humans came in\n",
            "    0 humans came out\n",
            "\n",
            "Track 4):\n",
            "\n",
            "    4 humans came in\n",
            "    0 humans came out\n",
            "\n",
            "Track 5):\n",
            "\n",
            "    0 humans came in\n",
            "    0 humans came out\n",
            "\n",
            "Track 6):\n",
            "\n",
            "    1 humans came in\n",
            "    4 humans came out\n",
            "\n",
            "Track 7):\n",
            "\n",
            "    0 humans came in\n",
            "    4 humans came out\n",
            "\n",
            "Track 8):\n",
            "\n",
            "    0 humans came in\n",
            "    5 humans came out\n",
            "\n",
            "Track 9):\n",
            "\n",
            "    1 humans came in\n",
            "    1 humans came out\n",
            "\n",
            "Track 10):\n",
            "\n",
            "    0 humans came in\n",
            "    2 humans came out\n",
            "\n",
            "Track 11):\n",
            "\n",
            "    0 humans came in\n",
            "    3 humans came out\n",
            "\n",
            "Track 12):\n",
            "\n",
            "    0 humans came in\n",
            "    4 humans came out\n",
            "\n",
            "Track 13):\n",
            "\n",
            "    2 humans came in\n",
            "    4 humans came out\n",
            "\n",
            "Track 14):\n",
            "\n",
            "    0 humans came in\n",
            "    4 humans came out\n",
            "\n",
            "Track 15):\n",
            "\n",
            "    2 humans came in\n",
            "    0 humans came out\n",
            "\n",
            "Track 16):\n",
            "\n",
            "    0 humans came in\n",
            "    4 humans came out\n",
            "\n",
            "Track 17):\n",
            "\n",
            "    0 humans came in\n",
            "    6 humans came out\n",
            "\n",
            "Track 18):\n",
            "\n",
            "    4 humans came in\n",
            "    0 humans came out\n",
            "\n",
            "Track 19):\n",
            "\n",
            "    1 humans came in\n",
            "    0 humans came out\n",
            "\n",
            "Track 20):\n",
            "\n",
            "    1 humans came in\n",
            "    0 humans came out\n",
            "\n",
            "Track 21):\n",
            "\n",
            "    0 humans came in\n",
            "    0 humans came out\n",
            "\n",
            "Track 22):\n",
            "\n",
            "    0 humans came in\n",
            "    3 humans came out\n",
            "\n",
            "Track 23):\n",
            "\n",
            "    0 humans came in\n",
            "    1 humans came out\n",
            "\n",
            "Track 24):\n",
            "\n",
            "    1 humans came in\n",
            "    0 humans came out\n",
            "\n",
            "Track 25):\n",
            "\n",
            "    2 humans came in\n",
            "    0 humans came out\n",
            "\n",
            "Track 26):\n",
            "\n",
            "    0 humans came in\n",
            "    1 humans came out\n",
            "\n",
            "Track 27):\n",
            "\n",
            "    1 humans came in\n",
            "    1 humans came out\n",
            "\n",
            "Track 28):\n",
            "\n",
            "    1 humans came in\n",
            "    1 humans came out\n",
            "\n",
            "Track 29):\n",
            "\n",
            "    1 humans came in\n",
            "    1 humans came out\n",
            "\n",
            "Track 30):\n",
            "\n",
            "    1 humans came in\n",
            "    1 humans came out\n",
            "\n",
            "Track 31):\n",
            "\n",
            "    0 humans came in\n",
            "    2 humans came out\n",
            "\n",
            "Video 32: No detections\n",
            "\n",
            "Video 33: No detections\n",
            "\n",
            "Video 34: No detections\n",
            "\n",
            "Video 35: No detections\n",
            "\n",
            "Track 36):\n",
            "\n",
            "    0 humans came in\n",
            "    0 humans came out\n",
            "\n",
            "Video 37: No detections\n",
            "\n",
            "Track 38):\n",
            "\n",
            "    7 humans came in\n",
            "    6 humans came out\n",
            "\n",
            "Track 39):\n",
            "\n",
            "    0 humans came in\n",
            "    1 humans came out\n",
            "\n",
            "Track 40):\n",
            "\n",
            "    0 humans came in\n",
            "    1 humans came out\n",
            "\n",
            "Video 41: No detections\n",
            "\n",
            "Track 42):\n",
            "\n",
            "    2 humans came in\n",
            "    0 humans came out\n",
            "\n",
            "Video 43: No detections\n",
            "\n"
          ]
        }
      ]
    },
    {
      "cell_type": "markdown",
      "source": [
        "## Ошибки"
      ],
      "metadata": {
        "id": "Swp-LPHqSOwT"
      }
    },
    {
      "cell_type": "markdown",
      "source": [
        "Форсированная смена id, ocsort"
      ],
      "metadata": {
        "id": "G8YWB2OqREhO"
      }
    },
    {
      "cell_type": "code",
      "source": [
        "Видео 14: 0 вошли, 3 вышли // посчитано 0, 4 (один человек посчитан 2 раза, т.к. на нём детектится 2 бб)\n",
        "Видео 30: 1 вошёл, 3 вышли // посчитано 1, 1 (плохо детектится первый выходящий, всем выходящим присваиваится id5)\n"
      ],
      "metadata": {
        "id": "_ojddETtRRfH"
      },
      "execution_count": null,
      "outputs": []
    },
    {
      "cell_type": "markdown",
      "source": [
        "COCO"
      ],
      "metadata": {
        "id": "uFEMyCweLU6v"
      }
    },
    {
      "cell_type": "code",
      "source": [
        "go_in_true = 3+3+3+4+1+1+2+2+4+1+1++1+2+1+1+1+1+7+2\n",
        "go_out_true = 4+4+4+1+2+3+4+4+3+4+6+3+1+1+1+1+1+3+2+6+1+1\n",
        "go_in_err = 0 \n",
        "go_out_err = 1+2\n",
        "\n",
        "err = (go_in_err + go_out_err)/(go_in_true + go_out_true)\n",
        "1 - err"
      ],
      "metadata": {
        "colab": {
          "base_uri": "https://localhost:8080/"
        },
        "id": "jTf0GR32p3Z-",
        "outputId": "194f80a7-3acd-45b4-d6e6-e9cc58b3853f"
      },
      "execution_count": null,
      "outputs": [
        {
          "output_type": "execute_result",
          "data": {
            "text/plain": [
              "0.9702970297029703"
            ]
          },
          "metadata": {},
          "execution_count": 11
        }
      ]
    },
    {
      "cell_type": "code",
      "source": [
        "\n",
        "\n",
        "\n",
        "\n",
        "\n",
        "\n",
        "\n",
        "\n",
        "\n",
        "\n",
        "\n",
        "\n",
        "\n",
        "\n",
        "\n",
        "\n",
        "\n",
        "\n",
        "\n",
        "\n",
        "\n",
        "\n",
        "\n",
        "\n",
        "\n",
        "\n",
        "\n",
        "\n",
        "\n",
        "\n",
        "\n",
        "\n",
        "\n",
        "\n",
        "\n",
        "\n",
        "\n",
        "\n",
        "\n",
        "\n",
        "\n",
        "\n",
        "\n",
        "\n",
        "\n"
      ],
      "metadata": {
        "id": "cmTu7DD74B1e"
      },
      "execution_count": null,
      "outputs": []
    }
  ],
  "metadata": {
    "colab": {
      "provenance": []
    },
    "gpuClass": "standard",
    "kernelspec": {
      "display_name": "Python 3",
      "name": "python3"
    },
    "language_info": {
      "name": "python"
    }
  },
  "nbformat": 4,
  "nbformat_minor": 0
}