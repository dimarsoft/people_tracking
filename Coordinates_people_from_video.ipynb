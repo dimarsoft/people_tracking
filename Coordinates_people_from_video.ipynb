{
  "nbformat": 4,
  "nbformat_minor": 0,
  "metadata": {
    "colab": {
      "provenance": []
    },
    "kernelspec": {
      "name": "python3",
      "display_name": "Python 3"
    },
    "language_info": {
      "name": "python"
    },
    "accelerator": "GPU",
    "gpuClass": "standard"
  },
  "cells": [
    {
      "cell_type": "code",
      "execution_count": null,
      "metadata": {
        "id": "houunGXeECyv"
      },
      "outputs": [],
      "source": [
        "!pip install ultralytics"
      ]
    },
    {
      "cell_type": "code",
      "source": [
        "from ultralytics import YOLO\n",
        "import numpy as np\n",
        "from IPython.display import clear_output\n",
        "import pandas as pd"
      ],
      "metadata": {
        "id": "Hp9PcUE-EQnW"
      },
      "execution_count": null,
      "outputs": []
    },
    {
      "cell_type": "code",
      "source": [
        "path = '/content/drive/MyDrive/trainee/dataset1.1/'\n",
        "for i in range(1, 44):\n",
        "  model = YOLO('yolov8n.pt')\n",
        "  video = f'{path}test/{i}.mp4'\n",
        "  people = np.empty((0, 5))\n",
        "  for res in model.track(video, tracker='bytetrack.yaml', classes=0,\n",
        "                         single_cls=True):\n",
        "    clear_output()\n",
        "    res1 = res.cpu().boxes.boxes.numpy()\n",
        "    if res1.shape[1] == 7: people = np.vstack((people, res1[:, :5]))\n",
        "  df = pd.DataFrame(people, columns=['x_left', 'y_top', 'x_right', 'y_bottom',\n",
        "                                     'id'])\n",
        "  csv = f'{path}coordinates/{i}.csv'\n",
        "  df.to_csv(csv, index=False)"
      ],
      "metadata": {
        "id": "8HktubdMEhin"
      },
      "execution_count": null,
      "outputs": []
    }
  ]
}