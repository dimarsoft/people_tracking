{
  "nbformat": 4,
  "nbformat_minor": 0,
  "metadata": {
    "colab": {
      "provenance": []
    },
    "kernelspec": {
      "name": "python3",
      "display_name": "Python 3"
    },
    "language_info": {
      "name": "python"
    }
  },
  "cells": [
    {
      "cell_type": "code",
      "execution_count": null,
      "metadata": {
        "id": "R0GteSfd7YGx"
      },
      "outputs": [],
      "source": [
        "import cv2\n",
        "import numpy as np"
      ]
    },
    {
      "cell_type": "code",
      "source": [
        "cap = cv2.VideoCapture('1.mp4')\n",
        "detector = cv2.createBackgroundSubtractorMOG2(history=100, varThreshold=40)\n",
        "out = cv2.VideoWriter('out.avi',cv2.VideoWriter_fourcc(*'XVID'), 1, (640, 640))\n",
        "ret = True\n",
        "while ret:\n",
        "    ret, frame = cap.read()\n",
        "    # 1. Object Detection\n",
        "    mask = detector.apply(frame)\n",
        "    _, mask = cv2.threshold(mask, 0, 255, cv2.THRESH_BINARY)\n",
        "    contours, _ = cv2.findContours(mask, cv2.RETR_EXTERNAL, cv2.CHAIN_APPROX_SIMPLE)\n",
        "    for cnt in contours:\n",
        "      x, y, w, h = cv2.boundingRect(cv2.boxPoints(cv2.minAreaRect(cnt)))\n",
        "      #cv2.drawContours(frame, [box], 0, (0, 255, 0), 1)\n",
        "      #x, y, w, h = cv2.boundingRect(cnt)\n",
        "      cv2.rectangle(frame, (x, y), (x + w, y + h), (0, 255, 0), 3)\n",
        "    out.write(frame)\n",
        "out.release()"
      ],
      "metadata": {
        "id": "4JAe6zh_MyaI"
      },
      "execution_count": null,
      "outputs": []
    }
  ]
}