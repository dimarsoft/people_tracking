{
  "nbformat": 4,
  "nbformat_minor": 0,
  "metadata": {
    "colab": {
      "provenance": []
    },
    "kernelspec": {
      "name": "python3",
      "display_name": "Python 3"
    },
    "language_info": {
      "name": "python"
    },
    "accelerator": "GPU",
    "gpuClass": "standard"
  },
  "cells": [
    {
      "cell_type": "code",
      "source": [
        "!pip install ultralytics"
      ],
      "metadata": {
        "id": "kKrh7gf4ogrI"
      },
      "execution_count": null,
      "outputs": []
    },
    {
      "cell_type": "code",
      "source": [
        "from ultralytics import YOLO\n",
        "import numpy as np"
      ],
      "metadata": {
        "id": "BSP7G0XSoiLp"
      },
      "execution_count": null,
      "outputs": []
    },
    {
      "cell_type": "code",
      "source": [
        "path = '/content/drive/MyDrive/trainee/dataset-cls/'\n",
        "model = YOLO('yolov8s-cls.pt')\n",
        "model.train(data=path, epochs=30)"
      ],
      "metadata": {
        "id": "CwNL_5RLon8b"
      },
      "execution_count": null,
      "outputs": []
    },
    {
      "cell_type": "code",
      "source": [
        "path = '/content/drive/MyDrive/trainee/dataset-cls/'\n",
        "path1 = path + 'train/builder/'\n",
        "model = YOLO(path + 'best-cls1s30.pt')\n",
        "res = model.predict(source=path1)"
      ],
      "metadata": {
        "id": "grRwZ8C_aS2C"
      },
      "execution_count": null,
      "outputs": []
    },
    {
      "cell_type": "code",
      "source": [
        "np_res = np.empty((0, 4))\n",
        "for result in res:\n",
        "  temp = result.probs.cpu().numpy()\n",
        "  np_res = np.vstack((np_res, temp))\n",
        "_, np_prob = np.unique(np.argmax(np_res, axis=1), return_counts=True)\n",
        "np_prob"
      ],
      "metadata": {
        "colab": {
          "base_uri": "https://localhost:8080/"
        },
        "id": "LEzQB-MbcK9q",
        "outputId": "972a36ac-d281-4ba7-8477-5f76459128aa"
      },
      "execution_count": null,
      "outputs": [
        {
          "output_type": "execute_result",
          "data": {
            "text/plain": [
              "array([81, 36, 11, 24])"
            ]
          },
          "metadata": {},
          "execution_count": 11
        }
      ]
    }
  ]
}