{
  "nbformat": 4,
  "nbformat_minor": 0,
  "metadata": {
    "colab": {
      "provenance": []
    },
    "kernelspec": {
      "name": "python3",
      "display_name": "Python 3"
    },
    "language_info": {
      "name": "python"
    }
  },
  "cells": [
    {
      "cell_type": "markdown",
      "source": [
        "# Трекинг"
      ],
      "metadata": {
        "id": "gy9W6mHUEi2Y"
      }
    },
    {
      "cell_type": "code",
      "source": [
        "# Подключение к гугл-диску\n",
        "from google.colab import drive\n",
        "drive.mount('/content/drive')"
      ],
      "metadata": {
        "colab": {
          "base_uri": "https://localhost:8080/"
        },
        "id": "d7YcLbjz8861",
        "outputId": "c23fc020-29e9-452a-dc42-ed03e90d1f96"
      },
      "execution_count": null,
      "outputs": [
        {
          "output_type": "stream",
          "name": "stdout",
          "text": [
            "Mounted at /content/drive\n"
          ]
        }
      ]
    },
    {
      "cell_type": "code",
      "execution_count": null,
      "metadata": {
        "colab": {
          "base_uri": "https://localhost:8080/"
        },
        "id": "x44y_dy62V0E",
        "outputId": "d69fe8e5-aa01-45b7-e022-044aa007f09f"
      },
      "outputs": [
        {
          "output_type": "stream",
          "name": "stdout",
          "text": [
            "fatal: destination path 'yolov8_tracking' already exists and is not an empty directory.\n",
            "Looking in indexes: https://pypi.org/simple, https://us-python.pkg.dev/colab-wheels/public/simple/\n",
            "Requirement already satisfied: ultralytics==8.0.20 in /usr/local/lib/python3.9/dist-packages (from -r /content/yolov8_tracking/requirements.txt (line 2)) (8.0.20)\n",
            "Requirement already satisfied: gitpython in /usr/local/lib/python3.9/dist-packages (from -r /content/yolov8_tracking/requirements.txt (line 5)) (3.1.31)\n",
            "Requirement already satisfied: ipython in /usr/local/lib/python3.9/dist-packages (from -r /content/yolov8_tracking/requirements.txt (line 6)) (7.9.0)\n",
            "Requirement already satisfied: matplotlib>=3.2.2 in /usr/local/lib/python3.9/dist-packages (from -r /content/yolov8_tracking/requirements.txt (line 7)) (3.5.3)\n",
            "Requirement already satisfied: numpy==1.23.1 in /usr/local/lib/python3.9/dist-packages (from -r /content/yolov8_tracking/requirements.txt (line 8)) (1.23.1)\n",
            "Requirement already satisfied: opencv-python>=4.1.1 in /usr/local/lib/python3.9/dist-packages (from -r /content/yolov8_tracking/requirements.txt (line 9)) (4.6.0.66)\n",
            "Requirement already satisfied: Pillow>=7.1.2 in /usr/local/lib/python3.9/dist-packages (from -r /content/yolov8_tracking/requirements.txt (line 10)) (8.4.0)\n",
            "Requirement already satisfied: psutil in /usr/local/lib/python3.9/dist-packages (from -r /content/yolov8_tracking/requirements.txt (line 11)) (5.4.8)\n",
            "Requirement already satisfied: PyYAML>=5.3.1 in /usr/local/lib/python3.9/dist-packages (from -r /content/yolov8_tracking/requirements.txt (line 12)) (6.0)\n",
            "Requirement already satisfied: requests>=2.23.0 in /usr/local/lib/python3.9/dist-packages (from -r /content/yolov8_tracking/requirements.txt (line 13)) (2.25.1)\n",
            "Requirement already satisfied: scipy>=1.4.1 in /usr/local/lib/python3.9/dist-packages (from -r /content/yolov8_tracking/requirements.txt (line 14)) (1.10.1)\n",
            "Requirement already satisfied: thop>=0.1.1 in /usr/local/lib/python3.9/dist-packages (from -r /content/yolov8_tracking/requirements.txt (line 15)) (0.1.1.post2209072238)\n",
            "Requirement already satisfied: torch>=1.7.0 in /usr/local/lib/python3.9/dist-packages (from -r /content/yolov8_tracking/requirements.txt (line 16)) (1.13.1+cu116)\n",
            "Requirement already satisfied: torchvision>=0.8.1 in /usr/local/lib/python3.9/dist-packages (from -r /content/yolov8_tracking/requirements.txt (line 17)) (0.14.1+cu116)\n",
            "Requirement already satisfied: tqdm>=4.64.0 in /usr/local/lib/python3.9/dist-packages (from -r /content/yolov8_tracking/requirements.txt (line 18)) (4.65.0)\n",
            "Requirement already satisfied: tensorboard>=2.4.1 in /usr/local/lib/python3.9/dist-packages (from -r /content/yolov8_tracking/requirements.txt (line 22)) (2.11.2)\n",
            "Requirement already satisfied: pandas>=1.1.4 in /usr/local/lib/python3.9/dist-packages (from -r /content/yolov8_tracking/requirements.txt (line 27)) (1.3.5)\n",
            "Requirement already satisfied: seaborn>=0.11.0 in /usr/local/lib/python3.9/dist-packages (from -r /content/yolov8_tracking/requirements.txt (line 28)) (0.11.2)\n",
            "Requirement already satisfied: easydict in /usr/local/lib/python3.9/dist-packages (from -r /content/yolov8_tracking/requirements.txt (line 31)) (1.10)\n",
            "Requirement already satisfied: gdown in /usr/local/lib/python3.9/dist-packages (from -r /content/yolov8_tracking/requirements.txt (line 34)) (4.4.0)\n",
            "Requirement already satisfied: lap in /usr/local/lib/python3.9/dist-packages (from -r /content/yolov8_tracking/requirements.txt (line 37)) (0.4.0)\n",
            "Requirement already satisfied: filterpy in /usr/local/lib/python3.9/dist-packages (from -r /content/yolov8_tracking/requirements.txt (line 40)) (1.4.5)\n",
            "Requirement already satisfied: sentry-sdk in /usr/local/lib/python3.9/dist-packages (from ultralytics==8.0.20->-r /content/yolov8_tracking/requirements.txt (line 2)) (1.16.0)\n",
            "Requirement already satisfied: gitdb<5,>=4.0.1 in /usr/local/lib/python3.9/dist-packages (from gitpython->-r /content/yolov8_tracking/requirements.txt (line 5)) (4.0.10)\n",
            "Requirement already satisfied: setuptools>=18.5 in /usr/local/lib/python3.9/dist-packages (from ipython->-r /content/yolov8_tracking/requirements.txt (line 6)) (57.4.0)\n",
            "Requirement already satisfied: pexpect in /usr/local/lib/python3.9/dist-packages (from ipython->-r /content/yolov8_tracking/requirements.txt (line 6)) (4.8.0)\n",
            "Requirement already satisfied: prompt-toolkit<2.1.0,>=2.0.0 in /usr/local/lib/python3.9/dist-packages (from ipython->-r /content/yolov8_tracking/requirements.txt (line 6)) (2.0.10)\n",
            "Requirement already satisfied: decorator in /usr/local/lib/python3.9/dist-packages (from ipython->-r /content/yolov8_tracking/requirements.txt (line 6)) (4.4.2)\n",
            "Requirement already satisfied: jedi>=0.10 in /usr/local/lib/python3.9/dist-packages (from ipython->-r /content/yolov8_tracking/requirements.txt (line 6)) (0.18.2)\n",
            "Requirement already satisfied: pickleshare in /usr/local/lib/python3.9/dist-packages (from ipython->-r /content/yolov8_tracking/requirements.txt (line 6)) (0.7.5)\n",
            "Requirement already satisfied: traitlets>=4.2 in /usr/local/lib/python3.9/dist-packages (from ipython->-r /content/yolov8_tracking/requirements.txt (line 6)) (5.7.1)\n",
            "Requirement already satisfied: backcall in /usr/local/lib/python3.9/dist-packages (from ipython->-r /content/yolov8_tracking/requirements.txt (line 6)) (0.2.0)\n",
            "Requirement already satisfied: pygments in /usr/local/lib/python3.9/dist-packages (from ipython->-r /content/yolov8_tracking/requirements.txt (line 6)) (2.6.1)\n",
            "Requirement already satisfied: cycler>=0.10 in /usr/local/lib/python3.9/dist-packages (from matplotlib>=3.2.2->-r /content/yolov8_tracking/requirements.txt (line 7)) (0.11.0)\n",
            "Requirement already satisfied: fonttools>=4.22.0 in /usr/local/lib/python3.9/dist-packages (from matplotlib>=3.2.2->-r /content/yolov8_tracking/requirements.txt (line 7)) (4.39.0)\n",
            "Requirement already satisfied: python-dateutil>=2.7 in /usr/local/lib/python3.9/dist-packages (from matplotlib>=3.2.2->-r /content/yolov8_tracking/requirements.txt (line 7)) (2.8.2)\n",
            "Requirement already satisfied: kiwisolver>=1.0.1 in /usr/local/lib/python3.9/dist-packages (from matplotlib>=3.2.2->-r /content/yolov8_tracking/requirements.txt (line 7)) (1.4.4)\n",
            "Requirement already satisfied: pyparsing>=2.2.1 in /usr/local/lib/python3.9/dist-packages (from matplotlib>=3.2.2->-r /content/yolov8_tracking/requirements.txt (line 7)) (3.0.9)\n",
            "Requirement already satisfied: packaging>=20.0 in /usr/local/lib/python3.9/dist-packages (from matplotlib>=3.2.2->-r /content/yolov8_tracking/requirements.txt (line 7)) (23.0)\n",
            "Requirement already satisfied: idna<3,>=2.5 in /usr/local/lib/python3.9/dist-packages (from requests>=2.23.0->-r /content/yolov8_tracking/requirements.txt (line 13)) (2.10)\n",
            "Requirement already satisfied: chardet<5,>=3.0.2 in /usr/local/lib/python3.9/dist-packages (from requests>=2.23.0->-r /content/yolov8_tracking/requirements.txt (line 13)) (4.0.0)\n",
            "Requirement already satisfied: urllib3<1.27,>=1.21.1 in /usr/local/lib/python3.9/dist-packages (from requests>=2.23.0->-r /content/yolov8_tracking/requirements.txt (line 13)) (1.26.14)\n",
            "Requirement already satisfied: certifi>=2017.4.17 in /usr/local/lib/python3.9/dist-packages (from requests>=2.23.0->-r /content/yolov8_tracking/requirements.txt (line 13)) (2022.12.7)\n",
            "Requirement already satisfied: typing-extensions in /usr/local/lib/python3.9/dist-packages (from torch>=1.7.0->-r /content/yolov8_tracking/requirements.txt (line 16)) (4.5.0)\n",
            "Requirement already satisfied: absl-py>=0.4 in /usr/local/lib/python3.9/dist-packages (from tensorboard>=2.4.1->-r /content/yolov8_tracking/requirements.txt (line 22)) (1.4.0)\n",
            "Requirement already satisfied: protobuf<4,>=3.9.2 in /usr/local/lib/python3.9/dist-packages (from tensorboard>=2.4.1->-r /content/yolov8_tracking/requirements.txt (line 22)) (3.19.6)\n",
            "Requirement already satisfied: werkzeug>=1.0.1 in /usr/local/lib/python3.9/dist-packages (from tensorboard>=2.4.1->-r /content/yolov8_tracking/requirements.txt (line 22)) (2.2.3)\n",
            "Requirement already satisfied: markdown>=2.6.8 in /usr/local/lib/python3.9/dist-packages (from tensorboard>=2.4.1->-r /content/yolov8_tracking/requirements.txt (line 22)) (3.4.1)\n",
            "Requirement already satisfied: google-auth<3,>=1.6.3 in /usr/local/lib/python3.9/dist-packages (from tensorboard>=2.4.1->-r /content/yolov8_tracking/requirements.txt (line 22)) (2.16.2)\n",
            "Requirement already satisfied: tensorboard-data-server<0.7.0,>=0.6.0 in /usr/local/lib/python3.9/dist-packages (from tensorboard>=2.4.1->-r /content/yolov8_tracking/requirements.txt (line 22)) (0.6.1)\n",
            "Requirement already satisfied: google-auth-oauthlib<0.5,>=0.4.1 in /usr/local/lib/python3.9/dist-packages (from tensorboard>=2.4.1->-r /content/yolov8_tracking/requirements.txt (line 22)) (0.4.6)\n",
            "Requirement already satisfied: grpcio>=1.24.3 in /usr/local/lib/python3.9/dist-packages (from tensorboard>=2.4.1->-r /content/yolov8_tracking/requirements.txt (line 22)) (1.51.3)\n",
            "Requirement already satisfied: tensorboard-plugin-wit>=1.6.0 in /usr/local/lib/python3.9/dist-packages (from tensorboard>=2.4.1->-r /content/yolov8_tracking/requirements.txt (line 22)) (1.8.1)\n",
            "Requirement already satisfied: wheel>=0.26 in /usr/local/lib/python3.9/dist-packages (from tensorboard>=2.4.1->-r /content/yolov8_tracking/requirements.txt (line 22)) (0.38.4)\n",
            "Requirement already satisfied: pytz>=2017.3 in /usr/local/lib/python3.9/dist-packages (from pandas>=1.1.4->-r /content/yolov8_tracking/requirements.txt (line 27)) (2022.7.1)\n",
            "Requirement already satisfied: beautifulsoup4 in /usr/local/lib/python3.9/dist-packages (from gdown->-r /content/yolov8_tracking/requirements.txt (line 34)) (4.6.3)\n",
            "Requirement already satisfied: six in /usr/local/lib/python3.9/dist-packages (from gdown->-r /content/yolov8_tracking/requirements.txt (line 34)) (1.15.0)\n",
            "Requirement already satisfied: filelock in /usr/local/lib/python3.9/dist-packages (from gdown->-r /content/yolov8_tracking/requirements.txt (line 34)) (3.9.0)\n",
            "Requirement already satisfied: smmap<6,>=3.0.1 in /usr/local/lib/python3.9/dist-packages (from gitdb<5,>=4.0.1->gitpython->-r /content/yolov8_tracking/requirements.txt (line 5)) (5.0.0)\n",
            "Requirement already satisfied: cachetools<6.0,>=2.0.0 in /usr/local/lib/python3.9/dist-packages (from google-auth<3,>=1.6.3->tensorboard>=2.4.1->-r /content/yolov8_tracking/requirements.txt (line 22)) (5.3.0)\n",
            "Requirement already satisfied: rsa<5,>=3.1.4 in /usr/local/lib/python3.9/dist-packages (from google-auth<3,>=1.6.3->tensorboard>=2.4.1->-r /content/yolov8_tracking/requirements.txt (line 22)) (4.9)\n",
            "Requirement already satisfied: pyasn1-modules>=0.2.1 in /usr/local/lib/python3.9/dist-packages (from google-auth<3,>=1.6.3->tensorboard>=2.4.1->-r /content/yolov8_tracking/requirements.txt (line 22)) (0.2.8)\n",
            "Requirement already satisfied: requests-oauthlib>=0.7.0 in /usr/local/lib/python3.9/dist-packages (from google-auth-oauthlib<0.5,>=0.4.1->tensorboard>=2.4.1->-r /content/yolov8_tracking/requirements.txt (line 22)) (1.3.1)\n",
            "Requirement already satisfied: parso<0.9.0,>=0.8.0 in /usr/local/lib/python3.9/dist-packages (from jedi>=0.10->ipython->-r /content/yolov8_tracking/requirements.txt (line 6)) (0.8.3)\n",
            "Requirement already satisfied: importlib-metadata>=4.4 in /usr/local/lib/python3.9/dist-packages (from markdown>=2.6.8->tensorboard>=2.4.1->-r /content/yolov8_tracking/requirements.txt (line 22)) (6.0.0)\n",
            "Requirement already satisfied: wcwidth in /usr/local/lib/python3.9/dist-packages (from prompt-toolkit<2.1.0,>=2.0.0->ipython->-r /content/yolov8_tracking/requirements.txt (line 6)) (0.2.6)\n",
            "Requirement already satisfied: MarkupSafe>=2.1.1 in /usr/local/lib/python3.9/dist-packages (from werkzeug>=1.0.1->tensorboard>=2.4.1->-r /content/yolov8_tracking/requirements.txt (line 22)) (2.1.2)\n",
            "Requirement already satisfied: ptyprocess>=0.5 in /usr/local/lib/python3.9/dist-packages (from pexpect->ipython->-r /content/yolov8_tracking/requirements.txt (line 6)) (0.7.0)\n",
            "Requirement already satisfied: PySocks!=1.5.7,>=1.5.6 in /usr/local/lib/python3.9/dist-packages (from requests>=2.23.0->-r /content/yolov8_tracking/requirements.txt (line 13)) (1.7.1)\n",
            "Requirement already satisfied: zipp>=0.5 in /usr/local/lib/python3.9/dist-packages (from importlib-metadata>=4.4->markdown>=2.6.8->tensorboard>=2.4.1->-r /content/yolov8_tracking/requirements.txt (line 22)) (3.15.0)\n",
            "Requirement already satisfied: pyasn1<0.5.0,>=0.4.6 in /usr/local/lib/python3.9/dist-packages (from pyasn1-modules>=0.2.1->google-auth<3,>=1.6.3->tensorboard>=2.4.1->-r /content/yolov8_tracking/requirements.txt (line 22)) (0.4.8)\n",
            "Requirement already satisfied: oauthlib>=3.0.0 in /usr/local/lib/python3.9/dist-packages (from requests-oauthlib>=0.7.0->google-auth-oauthlib<0.5,>=0.4.1->tensorboard>=2.4.1->-r /content/yolov8_tracking/requirements.txt (line 22)) (3.2.2)\n"
          ]
        }
      ],
      "source": [
        "# Клонируем репозиторий и устанавливаем зависимости\n",
        "!git clone --recurse-submodules https://github.com/apchooo/yolov8_tracking.git  # clone recursively\n",
        "!pip install -r /content/yolov8_tracking/requirements.txt  # install dependencies"
      ]
    },
    {
      "cell_type": "code",
      "source": [
        "# Импортируем библиотеки\n",
        "import os\n",
        "import pandas as pd\n",
        "import cv2"
      ],
      "metadata": {
        "id": "7XhsRmdSFLLO"
      },
      "execution_count": null,
      "outputs": []
    },
    {
      "cell_type": "code",
      "source": [
        "# Создаем папку weights в папке репозитория (требуется при запуске трекера)\n",
        "!mkdir /content/yolov8_tracking/weights"
      ],
      "metadata": {
        "id": "Y43wzB7ALcTD"
      },
      "execution_count": null,
      "outputs": []
    },
    {
      "cell_type": "code",
      "source": [
        "# Проверяем наличие папки weights в папке репозитория\n",
        "!ls /content/yolov8_tracking/"
      ],
      "metadata": {
        "colab": {
          "base_uri": "https://localhost:8080/"
        },
        "id": "dhH0rAjXMJBR",
        "outputId": "c32adc86-2acb-4762-b3c4-09cabe43e7b3"
      },
      "execution_count": null,
      "outputs": [
        {
          "output_type": "stream",
          "name": "stdout",
          "text": [
            "assets\t      Dockerfile  LICENSE    requirements.txt  track.py  weights\n",
            "CITATION.cff  evolve.py   README.md  trackers\t       val.py\t yolov8\n"
          ]
        }
      ]
    },
    {
      "cell_type": "code",
      "source": [
        "# Запускаем трекер\n",
        "!python /content/yolov8_tracking/track.py --yolo-weights /content/drive/MyDrive/Hardhats_vests/yolov8s.pt --tracking-method strongsort --source /content/drive/MyDrive/Hardhats_vests/test/1.mp4 --save-txt --save-conf --save-trajectories --save-vid\n"
      ],
      "metadata": {
        "colab": {
          "base_uri": "https://localhost:8080/"
        },
        "id": "M36DV-hfJk1L",
        "outputId": "bbc1d2d4-ec13-4b21-d5cd-94b6d5588044"
      },
      "execution_count": null,
      "outputs": [
        {
          "output_type": "stream",
          "name": "stdout",
          "text": [
            "\u001b[34m\u001b[1mtrack: \u001b[0myolo_weights=[PosixPath('/content/drive/MyDrive/Hardhats_vests/yolov8s.pt')], reid_weights=/content/yolov8_tracking/weights/osnet_x0_25_msmt17.pt, tracking_method=strongsort, tracking_config=yolov8_tracking/trackers/strongsort/configs/strongsort.yaml, source=/content/drive/MyDrive/Hardhats_vests/test/1.mp4, imgsz=[640, 640], conf_thres=0.5, iou_thres=0.5, max_det=1000, device=, show_vid=False, save_txt=True, save_conf=True, save_crop=False, save_trajectories=True, save_vid=True, nosave=False, classes=None, agnostic_nms=False, augment=False, visualize=False, update=False, project=yolov8_tracking/runs/track, name=exp, exist_ok=False, line_thickness=2, hide_labels=False, hide_conf=False, hide_class=False, half=False, dnn=False, vid_stride=1, retina_masks=False\n",
            "Ultralytics YOLOv8.0.20 🚀 Python-3.8.10 torch-1.13.1+cu116 CPU\n",
            "Model summary (fused): 168 layers, 11126745 parameters, 0 gradients, 28.4 GFLOPs\n",
            "Successfully loaded pretrained weights from \"/content/yolov8_tracking/weights/osnet_x0_25_msmt17.pt\"\n",
            "** The following layers are discarded due to unmatched keys or layer size: ['classifier.weight', 'classifier.bias']\n",
            "video 1/1 (1/276) /content/drive/MyDrive/Hardhats_vests/test/1.mp4: 640x640 (no detections), 752.6ms\n",
            "video 1/1 (2/276) /content/drive/MyDrive/Hardhats_vests/test/1.mp4: 640x640 (no detections), 744.6ms\n",
            "video 1/1 (3/276) /content/drive/MyDrive/Hardhats_vests/test/1.mp4: 640x640 (no detections), 754.8ms\n",
            "video 1/1 (4/276) /content/drive/MyDrive/Hardhats_vests/test/1.mp4: 640x640 (no detections), 676.3ms\n",
            "video 1/1 (5/276) /content/drive/MyDrive/Hardhats_vests/test/1.mp4: 640x640 (no detections), 1016.9ms\n",
            "video 1/1 (6/276) /content/drive/MyDrive/Hardhats_vests/test/1.mp4: 640x640 (no detections), 1036.1ms\n",
            "video 1/1 (7/276) /content/drive/MyDrive/Hardhats_vests/test/1.mp4: 640x640 (no detections), 1098.2ms\n",
            "video 1/1 (8/276) /content/drive/MyDrive/Hardhats_vests/test/1.mp4: 640x640 (no detections), 1125.3ms\n",
            "video 1/1 (9/276) /content/drive/MyDrive/Hardhats_vests/test/1.mp4: 640x640 (no detections), 1016.6ms\n",
            "video 1/1 (10/276) /content/drive/MyDrive/Hardhats_vests/test/1.mp4: 640x640 (no detections), 1089.2ms\n",
            "video 1/1 (11/276) /content/drive/MyDrive/Hardhats_vests/test/1.mp4: 640x640 (no detections), 717.4ms\n",
            "video 1/1 (12/276) /content/drive/MyDrive/Hardhats_vests/test/1.mp4: 640x640 (no detections), 710.2ms\n",
            "video 1/1 (13/276) /content/drive/MyDrive/Hardhats_vests/test/1.mp4: 640x640 (no detections), 723.9ms\n",
            "video 1/1 (14/276) /content/drive/MyDrive/Hardhats_vests/test/1.mp4: 640x640 (no detections), 706.6ms\n",
            "video 1/1 (15/276) /content/drive/MyDrive/Hardhats_vests/test/1.mp4: 640x640 (no detections), 677.1ms\n",
            "video 1/1 (16/276) /content/drive/MyDrive/Hardhats_vests/test/1.mp4: 640x640 (no detections), 656.0ms\n",
            "video 1/1 (17/276) /content/drive/MyDrive/Hardhats_vests/test/1.mp4: 640x640 (no detections), 658.2ms\n",
            "video 1/1 (18/276) /content/drive/MyDrive/Hardhats_vests/test/1.mp4: 640x640 (no detections), 711.0ms\n",
            "video 1/1 (19/276) /content/drive/MyDrive/Hardhats_vests/test/1.mp4: 640x640 (no detections), 713.3ms\n",
            "video 1/1 (20/276) /content/drive/MyDrive/Hardhats_vests/test/1.mp4: 640x640 (no detections), 718.8ms\n",
            "video 1/1 (21/276) /content/drive/MyDrive/Hardhats_vests/test/1.mp4: 640x640 (no detections), 759.5ms\n",
            "video 1/1 (22/276) /content/drive/MyDrive/Hardhats_vests/test/1.mp4: 640x640 (no detections), 727.0ms\n",
            "video 1/1 (23/276) /content/drive/MyDrive/Hardhats_vests/test/1.mp4: 640x640 (no detections), 752.8ms\n",
            "video 1/1 (24/276) /content/drive/MyDrive/Hardhats_vests/test/1.mp4: 640x640 (no detections), 746.5ms\n",
            "video 1/1 (25/276) /content/drive/MyDrive/Hardhats_vests/test/1.mp4: 640x640 (no detections), 1101.9ms\n",
            "video 1/1 (26/276) /content/drive/MyDrive/Hardhats_vests/test/1.mp4: 640x640 (no detections), 1069.7ms\n",
            "video 1/1 (27/276) /content/drive/MyDrive/Hardhats_vests/test/1.mp4: 640x640 (no detections), 1074.2ms\n",
            "video 1/1 (28/276) /content/drive/MyDrive/Hardhats_vests/test/1.mp4: 640x640 (no detections), 1035.3ms\n",
            "video 1/1 (29/276) /content/drive/MyDrive/Hardhats_vests/test/1.mp4: 640x640 (no detections), 1100.4ms\n",
            "video 1/1 (30/276) /content/drive/MyDrive/Hardhats_vests/test/1.mp4: 640x640 (no detections), 1046.1ms\n",
            "video 1/1 (31/276) /content/drive/MyDrive/Hardhats_vests/test/1.mp4: 640x640 (no detections), 643.1ms\n",
            "video 1/1 (32/276) /content/drive/MyDrive/Hardhats_vests/test/1.mp4: 640x640 (no detections), 625.5ms\n",
            "video 1/1 (33/276) /content/drive/MyDrive/Hardhats_vests/test/1.mp4: 640x640 (no detections), 664.2ms\n",
            "video 1/1 (34/276) /content/drive/MyDrive/Hardhats_vests/test/1.mp4: 640x640 (no detections), 680.9ms\n",
            "video 1/1 (35/276) /content/drive/MyDrive/Hardhats_vests/test/1.mp4: 640x640 (no detections), 658.1ms\n",
            "video 1/1 (36/276) /content/drive/MyDrive/Hardhats_vests/test/1.mp4: 640x640 (no detections), 633.9ms\n",
            "video 1/1 (37/276) /content/drive/MyDrive/Hardhats_vests/test/1.mp4: 640x640 (no detections), 673.7ms\n",
            "video 1/1 (38/276) /content/drive/MyDrive/Hardhats_vests/test/1.mp4: 640x640 (no detections), 1026.0ms\n",
            "video 1/1 (39/276) /content/drive/MyDrive/Hardhats_vests/test/1.mp4: 640x640 (no detections), 935.1ms\n",
            "video 1/1 (40/276) /content/drive/MyDrive/Hardhats_vests/test/1.mp4: 640x640 (no detections), 701.0ms\n",
            "video 1/1 (41/276) /content/drive/MyDrive/Hardhats_vests/test/1.mp4: 640x640 (no detections), 697.2ms\n",
            "video 1/1 (42/276) /content/drive/MyDrive/Hardhats_vests/test/1.mp4: 640x640 (no detections), 693.9ms\n",
            "video 1/1 (43/276) /content/drive/MyDrive/Hardhats_vests/test/1.mp4: 640x640 (no detections), 698.1ms\n",
            "video 1/1 (44/276) /content/drive/MyDrive/Hardhats_vests/test/1.mp4: 640x640 (no detections), 830.1ms\n",
            "video 1/1 (45/276) /content/drive/MyDrive/Hardhats_vests/test/1.mp4: 640x640 (no detections), 1008.1ms\n",
            "video 1/1 (46/276) /content/drive/MyDrive/Hardhats_vests/test/1.mp4: 640x640 (no detections), 974.8ms\n",
            "video 1/1 (47/276) /content/drive/MyDrive/Hardhats_vests/test/1.mp4: 640x640 (no detections), 1028.3ms\n",
            "video 1/1 (48/276) /content/drive/MyDrive/Hardhats_vests/test/1.mp4: 640x640 (no detections), 980.2ms\n",
            "video 1/1 (49/276) /content/drive/MyDrive/Hardhats_vests/test/1.mp4: 640x640 (no detections), 998.3ms\n",
            "video 1/1 (50/276) /content/drive/MyDrive/Hardhats_vests/test/1.mp4: 640x640 (no detections), 851.7ms\n",
            "video 1/1 (51/276) /content/drive/MyDrive/Hardhats_vests/test/1.mp4: 640x640 (no detections), 823.3ms\n",
            "video 1/1 (52/276) /content/drive/MyDrive/Hardhats_vests/test/1.mp4: 640x640 (no detections), 615.8ms\n",
            "video 1/1 (53/276) /content/drive/MyDrive/Hardhats_vests/test/1.mp4: 640x640 (no detections), 620.9ms\n",
            "video 1/1 (54/276) /content/drive/MyDrive/Hardhats_vests/test/1.mp4: 640x640 (no detections), 631.5ms\n",
            "video 1/1 (55/276) /content/drive/MyDrive/Hardhats_vests/test/1.mp4: 640x640 (no detections), 629.0ms\n",
            "video 1/1 (56/276) /content/drive/MyDrive/Hardhats_vests/test/1.mp4: 640x640 (no detections), 638.4ms\n",
            "video 1/1 (57/276) /content/drive/MyDrive/Hardhats_vests/test/1.mp4: 640x640 (no detections), 633.4ms\n",
            "video 1/1 (58/276) /content/drive/MyDrive/Hardhats_vests/test/1.mp4: 640x640 (no detections), 641.1ms\n",
            "video 1/1 (59/276) /content/drive/MyDrive/Hardhats_vests/test/1.mp4: 640x640 (no detections), 636.9ms\n",
            "video 1/1 (60/276) /content/drive/MyDrive/Hardhats_vests/test/1.mp4: 640x640 (no detections), 661.6ms\n",
            "video 1/1 (61/276) /content/drive/MyDrive/Hardhats_vests/test/1.mp4: 640x640 (no detections), 661.7ms\n",
            "video 1/1 (62/276) /content/drive/MyDrive/Hardhats_vests/test/1.mp4: 640x640 (no detections), 637.2ms\n",
            "video 1/1 (63/276) /content/drive/MyDrive/Hardhats_vests/test/1.mp4: 640x640 (no detections), 628.8ms\n",
            "video 1/1 (64/276) /content/drive/MyDrive/Hardhats_vests/test/1.mp4: 640x640 (no detections), 624.7ms\n",
            "video 1/1 (65/276) /content/drive/MyDrive/Hardhats_vests/test/1.mp4: 640x640 (no detections), 646.3ms\n",
            "video 1/1 (66/276) /content/drive/MyDrive/Hardhats_vests/test/1.mp4: 640x640 (no detections), 1291.2ms\n",
            "video 1/1 (67/276) /content/drive/MyDrive/Hardhats_vests/test/1.mp4: 640x640 (no detections), 1104.1ms\n",
            "video 1/1 (68/276) /content/drive/MyDrive/Hardhats_vests/test/1.mp4: 640x640 (no detections), 1066.8ms\n",
            "video 1/1 (69/276) /content/drive/MyDrive/Hardhats_vests/test/1.mp4: 640x640 (no detections), 1070.1ms\n",
            "video 1/1 (70/276) /content/drive/MyDrive/Hardhats_vests/test/1.mp4: 640x640 (no detections), 1000.2ms\n",
            "video 1/1 (71/276) /content/drive/MyDrive/Hardhats_vests/test/1.mp4: 640x640 (no detections), 1061.8ms\n",
            "video 1/1 (72/276) /content/drive/MyDrive/Hardhats_vests/test/1.mp4: 640x640 (no detections), 1021.2ms\n",
            "video 1/1 (73/276) /content/drive/MyDrive/Hardhats_vests/test/1.mp4: 640x640 (no detections), 1096.6ms\n",
            "video 1/1 (74/276) /content/drive/MyDrive/Hardhats_vests/test/1.mp4: 640x640 (no detections), 1032.2ms\n",
            "video 1/1 (75/276) /content/drive/MyDrive/Hardhats_vests/test/1.mp4: 640x640 (no detections), 1026.4ms\n",
            "video 1/1 (76/276) /content/drive/MyDrive/Hardhats_vests/test/1.mp4: 640x640 (no detections), 1123.8ms\n",
            "video 1/1 (77/276) /content/drive/MyDrive/Hardhats_vests/test/1.mp4: 640x640 (no detections), 853.2ms\n",
            "video 1/1 (78/276) /content/drive/MyDrive/Hardhats_vests/test/1.mp4: 640x640 (no detections), 627.9ms\n",
            "video 1/1 (79/276) /content/drive/MyDrive/Hardhats_vests/test/1.mp4: 640x640 (no detections), 640.8ms\n",
            "video 1/1 (80/276) /content/drive/MyDrive/Hardhats_vests/test/1.mp4: 640x640 (no detections), 706.4ms\n",
            "video 1/1 (81/276) /content/drive/MyDrive/Hardhats_vests/test/1.mp4: 640x640 1 human, 1 uniform, 772.9ms\n",
            "video 1/1 (82/276) /content/drive/MyDrive/Hardhats_vests/test/1.mp4: 640x640 1 human, 1 uniform, 742.7ms\n",
            "video 1/1 (83/276) /content/drive/MyDrive/Hardhats_vests/test/1.mp4: 640x640 1 human, 1 helmet, 1 uniform, 1003.9ms\n",
            "video 1/1 (84/276) /content/drive/MyDrive/Hardhats_vests/test/1.mp4: 640x640 1 human, 1 helmet, 1 uniform, 1129.0ms\n",
            "video 1/1 (85/276) /content/drive/MyDrive/Hardhats_vests/test/1.mp4: 640x640 1 human, 1 helmet, 1 uniform, 1130.5ms\n",
            "video 1/1 (86/276) /content/drive/MyDrive/Hardhats_vests/test/1.mp4: 640x640 1 human, 1 helmet, 1 uniform, 1147.7ms\n",
            "video 1/1 (87/276) /content/drive/MyDrive/Hardhats_vests/test/1.mp4: 640x640 1 human, 1 helmet, 1 uniform, 1102.5ms\n",
            "video 1/1 (88/276) /content/drive/MyDrive/Hardhats_vests/test/1.mp4: 640x640 1 human, 1 helmet, 1 uniform, 842.0ms\n",
            "video 1/1 (89/276) /content/drive/MyDrive/Hardhats_vests/test/1.mp4: 640x640 1 human, 2 helmets, 2 uniforms, 741.6ms\n",
            "video 1/1 (90/276) /content/drive/MyDrive/Hardhats_vests/test/1.mp4: 640x640 1 human, 2 helmets, 2 uniforms, 718.7ms\n",
            "video 1/1 (91/276) /content/drive/MyDrive/Hardhats_vests/test/1.mp4: 640x640 1 human, 2 helmets, 2 uniforms, 724.7ms\n",
            "video 1/1 (92/276) /content/drive/MyDrive/Hardhats_vests/test/1.mp4: 640x640 1 human, 2 helmets, 2 uniforms, 744.3ms\n",
            "video 1/1 (93/276) /content/drive/MyDrive/Hardhats_vests/test/1.mp4: 640x640 2 humans, 2 helmets, 2 uniforms, 781.6ms\n",
            "video 1/1 (94/276) /content/drive/MyDrive/Hardhats_vests/test/1.mp4: 640x640 2 humans, 2 helmets, 2 uniforms, 773.3ms\n",
            "video 1/1 (95/276) /content/drive/MyDrive/Hardhats_vests/test/1.mp4: 640x640 2 humans, 2 helmets, 2 uniforms, 800.1ms\n",
            "video 1/1 (96/276) /content/drive/MyDrive/Hardhats_vests/test/1.mp4: 640x640 2 humans, 2 helmets, 2 uniforms, 751.7ms\n",
            "video 1/1 (97/276) /content/drive/MyDrive/Hardhats_vests/test/1.mp4: 640x640 2 humans, 2 helmets, 2 uniforms, 1021.3ms\n",
            "video 1/1 (98/276) /content/drive/MyDrive/Hardhats_vests/test/1.mp4: 640x640 2 humans, 2 helmets, 2 uniforms, 743.4ms\n",
            "video 1/1 (99/276) /content/drive/MyDrive/Hardhats_vests/test/1.mp4: 640x640 1 human, 1 helmet, 2 uniforms, 738.9ms\n",
            "video 1/1 (100/276) /content/drive/MyDrive/Hardhats_vests/test/1.mp4: 640x640 1 human, 1 helmet, 2 uniforms, 917.1ms\n",
            "video 1/1 (101/276) /content/drive/MyDrive/Hardhats_vests/test/1.mp4: 640x640 1 human, 1 helmet, 1 uniform, 1239.4ms\n",
            "video 1/1 (102/276) /content/drive/MyDrive/Hardhats_vests/test/1.mp4: 640x640 1 human, 1 helmet, 1 uniform, 1153.8ms\n",
            "video 1/1 (103/276) /content/drive/MyDrive/Hardhats_vests/test/1.mp4: 640x640 1 human, 1 helmet, 1 uniform, 1335.7ms\n",
            "video 1/1 (104/276) /content/drive/MyDrive/Hardhats_vests/test/1.mp4: 640x640 1 human, 1 helmet, 1 uniform, 1080.3ms\n",
            "video 1/1 (105/276) /content/drive/MyDrive/Hardhats_vests/test/1.mp4: 640x640 2 humans, 1 helmet, 1 uniform, 730.2ms\n",
            "video 1/1 (106/276) /content/drive/MyDrive/Hardhats_vests/test/1.mp4: 640x640 2 humans, 1 helmet, 1 uniform, 721.8ms\n",
            "video 1/1 (107/276) /content/drive/MyDrive/Hardhats_vests/test/1.mp4: 640x640 2 humans, 2 helmets, 2 uniforms, 763.9ms\n",
            "video 1/1 (108/276) /content/drive/MyDrive/Hardhats_vests/test/1.mp4: 640x640 2 humans, 2 helmets, 2 uniforms, 756.5ms\n",
            "video 1/1 (109/276) /content/drive/MyDrive/Hardhats_vests/test/1.mp4: 640x640 2 humans, 2 helmets, 2 uniforms, 766.7ms\n",
            "video 1/1 (110/276) /content/drive/MyDrive/Hardhats_vests/test/1.mp4: 640x640 2 humans, 2 helmets, 2 uniforms, 768.9ms\n",
            "video 1/1 (111/276) /content/drive/MyDrive/Hardhats_vests/test/1.mp4: 640x640 2 humans, 2 helmets, 2 uniforms, 757.6ms\n",
            "video 1/1 (112/276) /content/drive/MyDrive/Hardhats_vests/test/1.mp4: 640x640 2 humans, 2 helmets, 2 uniforms, 768.7ms\n",
            "video 1/1 (113/276) /content/drive/MyDrive/Hardhats_vests/test/1.mp4: 640x640 2 humans, 2 helmets, 2 uniforms, 763.6ms\n",
            "video 1/1 (114/276) /content/drive/MyDrive/Hardhats_vests/test/1.mp4: 640x640 2 humans, 2 helmets, 2 uniforms, 755.0ms\n",
            "video 1/1 (115/276) /content/drive/MyDrive/Hardhats_vests/test/1.mp4: 640x640 2 humans, 2 helmets, 2 uniforms, 787.3ms\n",
            "video 1/1 (116/276) /content/drive/MyDrive/Hardhats_vests/test/1.mp4: 640x640 2 humans, 2 helmets, 2 uniforms, 793.2ms\n",
            "video 1/1 (117/276) /content/drive/MyDrive/Hardhats_vests/test/1.mp4: 640x640 2 humans, 2 helmets, 2 uniforms, 1144.0ms\n",
            "video 1/1 (118/276) /content/drive/MyDrive/Hardhats_vests/test/1.mp4: 640x640 2 humans, 2 helmets, 2 uniforms, 1215.5ms\n",
            "video 1/1 (119/276) /content/drive/MyDrive/Hardhats_vests/test/1.mp4: 640x640 2 humans, 3 helmets, 2 uniforms, 1305.9ms\n",
            "video 1/1 (120/276) /content/drive/MyDrive/Hardhats_vests/test/1.mp4: 640x640 2 humans, 3 helmets, 2 uniforms, 1238.1ms\n",
            "video 1/1 (121/276) /content/drive/MyDrive/Hardhats_vests/test/1.mp4: 640x640 2 humans, 3 helmets, 2 uniforms, 1147.2ms\n",
            "video 1/1 (122/276) /content/drive/MyDrive/Hardhats_vests/test/1.mp4: 640x640 2 humans, 3 helmets, 2 uniforms, 787.1ms\n",
            "video 1/1 (123/276) /content/drive/MyDrive/Hardhats_vests/test/1.mp4: 640x640 3 humans, 2 helmets, 2 uniforms, 824.8ms\n",
            "video 1/1 (124/276) /content/drive/MyDrive/Hardhats_vests/test/1.mp4: 640x640 3 humans, 2 helmets, 2 uniforms, 818.5ms\n",
            "video 1/1 (125/276) /content/drive/MyDrive/Hardhats_vests/test/1.mp4: 640x640 3 humans, 2 helmets, 2 uniforms, 816.3ms\n",
            "video 1/1 (126/276) /content/drive/MyDrive/Hardhats_vests/test/1.mp4: 640x640 3 humans, 2 helmets, 2 uniforms, 773.2ms\n",
            "video 1/1 (127/276) /content/drive/MyDrive/Hardhats_vests/test/1.mp4: 640x640 2 humans, 2 helmets, 2 uniforms, 819.8ms\n",
            "video 1/1 (128/276) /content/drive/MyDrive/Hardhats_vests/test/1.mp4: 640x640 2 humans, 2 helmets, 2 uniforms, 773.0ms\n",
            "video 1/1 (129/276) /content/drive/MyDrive/Hardhats_vests/test/1.mp4: 640x640 1 human, 1 helmet, 1 uniform, 700.0ms\n",
            "video 1/1 (130/276) /content/drive/MyDrive/Hardhats_vests/test/1.mp4: 640x640 1 human, 1 helmet, 1 uniform, 774.4ms\n",
            "video 1/1 (131/276) /content/drive/MyDrive/Hardhats_vests/test/1.mp4: 640x640 1 human, 1 helmet, 1 uniform, 1049.6ms\n",
            "video 1/1 (132/276) /content/drive/MyDrive/Hardhats_vests/test/1.mp4: 640x640 1 human, 1 helmet, 1 uniform, 770.1ms\n",
            "video 1/1 (133/276) /content/drive/MyDrive/Hardhats_vests/test/1.mp4: 640x640 2 humans, 2 helmets, 1 uniform, 1038.0ms\n",
            "video 1/1 (134/276) /content/drive/MyDrive/Hardhats_vests/test/1.mp4: 640x640 2 humans, 2 helmets, 1 uniform, 1185.4ms\n",
            "video 1/1 (135/276) /content/drive/MyDrive/Hardhats_vests/test/1.mp4: 640x640 3 humans, 2 helmets, 1 uniform, 1255.4ms\n",
            "video 1/1 (136/276) /content/drive/MyDrive/Hardhats_vests/test/1.mp4: 640x640 3 humans, 2 helmets, 1 uniform, 1303.2ms\n",
            "video 1/1 (137/276) /content/drive/MyDrive/Hardhats_vests/test/1.mp4: 640x640 3 humans, 2 helmets, 3 uniforms, 1199.8ms\n",
            "video 1/1 (138/276) /content/drive/MyDrive/Hardhats_vests/test/1.mp4: 640x640 3 humans, 2 helmets, 3 uniforms, 817.7ms\n",
            "video 1/1 (139/276) /content/drive/MyDrive/Hardhats_vests/test/1.mp4: 640x640 3 humans, 2 helmets, 3 uniforms, 789.5ms\n",
            "video 1/1 (140/276) /content/drive/MyDrive/Hardhats_vests/test/1.mp4: 640x640 3 humans, 2 helmets, 3 uniforms, 824.3ms\n",
            "video 1/1 (141/276) /content/drive/MyDrive/Hardhats_vests/test/1.mp4: 640x640 3 humans, 2 helmets, 3 uniforms, 813.9ms\n",
            "video 1/1 (142/276) /content/drive/MyDrive/Hardhats_vests/test/1.mp4: 640x640 3 humans, 2 helmets, 3 uniforms, 849.0ms\n",
            "video 1/1 (143/276) /content/drive/MyDrive/Hardhats_vests/test/1.mp4: 640x640 3 humans, 2 helmets, 3 uniforms, 819.8ms\n",
            "video 1/1 (144/276) /content/drive/MyDrive/Hardhats_vests/test/1.mp4: 640x640 3 humans, 2 helmets, 3 uniforms, 804.1ms\n",
            "video 1/1 (145/276) /content/drive/MyDrive/Hardhats_vests/test/1.mp4: 640x640 3 humans, 2 helmets, 3 uniforms, 832.9ms\n",
            "video 1/1 (146/276) /content/drive/MyDrive/Hardhats_vests/test/1.mp4: 640x640 3 humans, 2 helmets, 3 uniforms, 871.3ms\n",
            "video 1/1 (147/276) /content/drive/MyDrive/Hardhats_vests/test/1.mp4: 640x640 3 humans, 2 helmets, 3 uniforms, 810.3ms\n",
            "video 1/1 (148/276) /content/drive/MyDrive/Hardhats_vests/test/1.mp4: 640x640 3 humans, 2 helmets, 3 uniforms, 980.5ms\n",
            "video 1/1 (149/276) /content/drive/MyDrive/Hardhats_vests/test/1.mp4: 640x640 3 humans, 2 helmets, 3 uniforms, 1364.1ms\n",
            "video 1/1 (150/276) /content/drive/MyDrive/Hardhats_vests/test/1.mp4: 640x640 3 humans, 2 helmets, 3 uniforms, 1304.4ms\n",
            "video 1/1 (151/276) /content/drive/MyDrive/Hardhats_vests/test/1.mp4: 640x640 3 humans, 2 helmets, 3 uniforms, 1282.3ms\n",
            "video 1/1 (152/276) /content/drive/MyDrive/Hardhats_vests/test/1.mp4: 640x640 3 humans, 2 helmets, 3 uniforms, 1276.2ms\n",
            "video 1/1 (153/276) /content/drive/MyDrive/Hardhats_vests/test/1.mp4: 640x640 3 humans, 2 helmets, 3 uniforms, 843.0ms\n",
            "video 1/1 (154/276) /content/drive/MyDrive/Hardhats_vests/test/1.mp4: 640x640 3 humans, 2 helmets, 3 uniforms, 839.4ms\n",
            "video 1/1 (155/276) /content/drive/MyDrive/Hardhats_vests/test/1.mp4: 640x640 3 humans, 2 helmets, 2 uniforms, 814.4ms\n",
            "video 1/1 (156/276) /content/drive/MyDrive/Hardhats_vests/test/1.mp4: 640x640 3 humans, 2 helmets, 2 uniforms, 782.0ms\n",
            "video 1/1 (157/276) /content/drive/MyDrive/Hardhats_vests/test/1.mp4: 640x640 2 humans, 2 helmets, 1 uniform, 742.1ms\n",
            "video 1/1 (158/276) /content/drive/MyDrive/Hardhats_vests/test/1.mp4: 640x640 2 humans, 2 helmets, 1 uniform, 718.3ms\n",
            "video 1/1 (159/276) /content/drive/MyDrive/Hardhats_vests/test/1.mp4: 640x640 1 human, 1 helmet, 1 uniform, 729.7ms\n",
            "video 1/1 (160/276) /content/drive/MyDrive/Hardhats_vests/test/1.mp4: 640x640 1 human, 1 helmet, 1 uniform, 724.2ms\n",
            "video 1/1 (161/276) /content/drive/MyDrive/Hardhats_vests/test/1.mp4: 640x640 1 human, 1 helmet, 1 uniform, 717.0ms\n",
            "video 1/1 (162/276) /content/drive/MyDrive/Hardhats_vests/test/1.mp4: 640x640 1 human, 1 helmet, 1 uniform, 700.8ms\n",
            "video 1/1 (163/276) /content/drive/MyDrive/Hardhats_vests/test/1.mp4: 640x640 2 humans, 1 helmet, 1 uniform, 717.5ms\n",
            "video 1/1 (164/276) /content/drive/MyDrive/Hardhats_vests/test/1.mp4: 640x640 2 humans, 1 helmet, 1 uniform, 999.5ms\n",
            "video 1/1 (165/276) /content/drive/MyDrive/Hardhats_vests/test/1.mp4: 640x640 2 humans, 1 helmet, 1 uniform, 1234.0ms\n",
            "video 1/1 (166/276) /content/drive/MyDrive/Hardhats_vests/test/1.mp4: 640x640 2 humans, 1 helmet, 1 uniform, 1160.1ms\n",
            "video 1/1 (167/276) /content/drive/MyDrive/Hardhats_vests/test/1.mp4: 640x640 2 humans, 1 helmet, 1 uniform, 1150.5ms\n",
            "video 1/1 (168/276) /content/drive/MyDrive/Hardhats_vests/test/1.mp4: 640x640 2 humans, 1 helmet, 1 uniform, 1102.8ms\n",
            "video 1/1 (169/276) /content/drive/MyDrive/Hardhats_vests/test/1.mp4: 640x640 2 humans, 2 uniforms, 762.2ms\n",
            "video 1/1 (170/276) /content/drive/MyDrive/Hardhats_vests/test/1.mp4: 640x640 2 humans, 2 uniforms, 771.4ms\n",
            "video 1/1 (171/276) /content/drive/MyDrive/Hardhats_vests/test/1.mp4: 640x640 1 human, 2 uniforms, 711.1ms\n",
            "video 1/1 (172/276) /content/drive/MyDrive/Hardhats_vests/test/1.mp4: 640x640 1 human, 2 uniforms, 701.9ms\n",
            "video 1/1 (173/276) /content/drive/MyDrive/Hardhats_vests/test/1.mp4: 640x640 1 human, 660.6ms\n",
            "video 1/1 (174/276) /content/drive/MyDrive/Hardhats_vests/test/1.mp4: 640x640 1 human, 689.8ms\n",
            "video 1/1 (175/276) /content/drive/MyDrive/Hardhats_vests/test/1.mp4: 640x640 1 human, 727.2ms\n",
            "video 1/1 (176/276) /content/drive/MyDrive/Hardhats_vests/test/1.mp4: 640x640 1 human, 734.4ms\n",
            "video 1/1 (177/276) /content/drive/MyDrive/Hardhats_vests/test/1.mp4: 640x640 1 human, 1 uniform, 723.6ms\n",
            "video 1/1 (178/276) /content/drive/MyDrive/Hardhats_vests/test/1.mp4: 640x640 1 human, 1 uniform, 759.0ms\n",
            "video 1/1 (179/276) /content/drive/MyDrive/Hardhats_vests/test/1.mp4: 640x640 1 human, 797.0ms\n",
            "video 1/1 (180/276) /content/drive/MyDrive/Hardhats_vests/test/1.mp4: 640x640 1 human, 768.4ms\n",
            "video 1/1 (181/276) /content/drive/MyDrive/Hardhats_vests/test/1.mp4: 640x640 1 human, 1 uniform, 828.0ms\n",
            "video 1/1 (182/276) /content/drive/MyDrive/Hardhats_vests/test/1.mp4: 640x640 1 human, 1 uniform, 1169.1ms\n",
            "video 1/1 (183/276) /content/drive/MyDrive/Hardhats_vests/test/1.mp4: 640x640 1 human, 1 uniform, 1111.5ms\n",
            "video 1/1 (184/276) /content/drive/MyDrive/Hardhats_vests/test/1.mp4: 640x640 1 human, 1 uniform, 1107.0ms\n",
            "video 1/1 (185/276) /content/drive/MyDrive/Hardhats_vests/test/1.mp4: 640x640 1 human, 1 uniform, 1142.6ms\n",
            "video 1/1 (186/276) /content/drive/MyDrive/Hardhats_vests/test/1.mp4: 640x640 1 human, 1 uniform, 1075.8ms\n",
            "video 1/1 (187/276) /content/drive/MyDrive/Hardhats_vests/test/1.mp4: 640x640 1 human, 1 uniform, 702.7ms\n",
            "video 1/1 (188/276) /content/drive/MyDrive/Hardhats_vests/test/1.mp4: 640x640 1 human, 1 uniform, 683.4ms\n",
            "video 1/1 (189/276) /content/drive/MyDrive/Hardhats_vests/test/1.mp4: 640x640 1 human, 1 uniform, 677.1ms\n",
            "video 1/1 (190/276) /content/drive/MyDrive/Hardhats_vests/test/1.mp4: 640x640 1 human, 1 uniform, 665.1ms\n",
            "video 1/1 (191/276) /content/drive/MyDrive/Hardhats_vests/test/1.mp4: 640x640 1 human, 1 uniform, 677.7ms\n",
            "video 1/1 (192/276) /content/drive/MyDrive/Hardhats_vests/test/1.mp4: 640x640 1 human, 1 uniform, 694.8ms\n",
            "video 1/1 (193/276) /content/drive/MyDrive/Hardhats_vests/test/1.mp4: 640x640 1 human, 1 uniform, 690.1ms\n",
            "video 1/1 (194/276) /content/drive/MyDrive/Hardhats_vests/test/1.mp4: 640x640 1 human, 1 uniform, 722.7ms\n",
            "video 1/1 (195/276) /content/drive/MyDrive/Hardhats_vests/test/1.mp4: 640x640 1 human, 1 uniform, 716.2ms\n",
            "video 1/1 (196/276) /content/drive/MyDrive/Hardhats_vests/test/1.mp4: 640x640 1 human, 1 uniform, 667.8ms\n",
            "video 1/1 (197/276) /content/drive/MyDrive/Hardhats_vests/test/1.mp4: 640x640 1 human, 1 uniform, 684.1ms\n",
            "video 1/1 (198/276) /content/drive/MyDrive/Hardhats_vests/test/1.mp4: 640x640 1 human, 1 uniform, 689.3ms\n",
            "video 1/1 (199/276) /content/drive/MyDrive/Hardhats_vests/test/1.mp4: 640x640 1 human, 1 uniform, 665.4ms\n",
            "video 1/1 (200/276) /content/drive/MyDrive/Hardhats_vests/test/1.mp4: 640x640 1 human, 1 uniform, 776.7ms\n",
            "video 1/1 (201/276) /content/drive/MyDrive/Hardhats_vests/test/1.mp4: 640x640 1 human, 1 uniform, 1151.6ms\n",
            "video 1/1 (202/276) /content/drive/MyDrive/Hardhats_vests/test/1.mp4: 640x640 1 human, 1 uniform, 1123.9ms\n",
            "video 1/1 (203/276) /content/drive/MyDrive/Hardhats_vests/test/1.mp4: 640x640 (no detections), 1552.2ms\n",
            "video 1/1 (204/276) /content/drive/MyDrive/Hardhats_vests/test/1.mp4: 640x640 (no detections), 1104.8ms\n",
            "video 1/1 (205/276) /content/drive/MyDrive/Hardhats_vests/test/1.mp4: 640x640 (no detections), 1051.1ms\n",
            "video 1/1 (206/276) /content/drive/MyDrive/Hardhats_vests/test/1.mp4: 640x640 (no detections), 746.4ms\n",
            "video 1/1 (207/276) /content/drive/MyDrive/Hardhats_vests/test/1.mp4: 640x640 (no detections), 701.6ms\n",
            "video 1/1 (208/276) /content/drive/MyDrive/Hardhats_vests/test/1.mp4: 640x640 (no detections), 718.2ms\n",
            "video 1/1 (209/276) /content/drive/MyDrive/Hardhats_vests/test/1.mp4: 640x640 (no detections), 710.2ms\n",
            "video 1/1 (210/276) /content/drive/MyDrive/Hardhats_vests/test/1.mp4: 640x640 (no detections), 701.6ms\n",
            "video 1/1 (211/276) /content/drive/MyDrive/Hardhats_vests/test/1.mp4: 640x640 (no detections), 724.8ms\n",
            "video 1/1 (212/276) /content/drive/MyDrive/Hardhats_vests/test/1.mp4: 640x640 (no detections), 686.7ms\n",
            "video 1/1 (213/276) /content/drive/MyDrive/Hardhats_vests/test/1.mp4: 640x640 (no detections), 758.2ms\n",
            "video 1/1 (214/276) /content/drive/MyDrive/Hardhats_vests/test/1.mp4: 640x640 (no detections), 711.5ms\n",
            "video 1/1 (215/276) /content/drive/MyDrive/Hardhats_vests/test/1.mp4: 640x640 (no detections), 700.7ms\n",
            "video 1/1 (216/276) /content/drive/MyDrive/Hardhats_vests/test/1.mp4: 640x640 (no detections), 703.5ms\n",
            "video 1/1 (217/276) /content/drive/MyDrive/Hardhats_vests/test/1.mp4: 640x640 (no detections), 706.9ms\n",
            "video 1/1 (218/276) /content/drive/MyDrive/Hardhats_vests/test/1.mp4: 640x640 (no detections), 773.2ms\n",
            "video 1/1 (219/276) /content/drive/MyDrive/Hardhats_vests/test/1.mp4: 640x640 (no detections), 767.5ms\n",
            "video 1/1 (220/276) /content/drive/MyDrive/Hardhats_vests/test/1.mp4: 640x640 (no detections), 1004.9ms\n",
            "video 1/1 (221/276) /content/drive/MyDrive/Hardhats_vests/test/1.mp4: 640x640 (no detections), 1233.9ms\n",
            "video 1/1 (222/276) /content/drive/MyDrive/Hardhats_vests/test/1.mp4: 640x640 (no detections), 1102.4ms\n",
            "video 1/1 (223/276) /content/drive/MyDrive/Hardhats_vests/test/1.mp4: 640x640 (no detections), 1135.9ms\n",
            "video 1/1 (224/276) /content/drive/MyDrive/Hardhats_vests/test/1.mp4: 640x640 (no detections), 1147.6ms\n",
            "video 1/1 (225/276) /content/drive/MyDrive/Hardhats_vests/test/1.mp4: 640x640 (no detections), 1089.5ms\n",
            "video 1/1 (226/276) /content/drive/MyDrive/Hardhats_vests/test/1.mp4: 640x640 (no detections), 901.0ms\n",
            "video 1/1 (227/276) /content/drive/MyDrive/Hardhats_vests/test/1.mp4: 640x640 (no detections), 686.9ms\n",
            "video 1/1 (228/276) /content/drive/MyDrive/Hardhats_vests/test/1.mp4: 640x640 (no detections), 729.1ms\n",
            "video 1/1 (229/276) /content/drive/MyDrive/Hardhats_vests/test/1.mp4: 640x640 (no detections), 795.2ms\n",
            "video 1/1 (230/276) /content/drive/MyDrive/Hardhats_vests/test/1.mp4: 640x640 (no detections), 770.4ms\n",
            "video 1/1 (231/276) /content/drive/MyDrive/Hardhats_vests/test/1.mp4: 640x640 (no detections), 696.2ms\n",
            "video 1/1 (232/276) /content/drive/MyDrive/Hardhats_vests/test/1.mp4: 640x640 (no detections), 842.5ms\n",
            "video 1/1 (233/276) /content/drive/MyDrive/Hardhats_vests/test/1.mp4: 640x640 (no detections), 873.6ms\n",
            "video 1/1 (234/276) /content/drive/MyDrive/Hardhats_vests/test/1.mp4: 640x640 (no detections), 722.4ms\n",
            "video 1/1 (235/276) /content/drive/MyDrive/Hardhats_vests/test/1.mp4: 640x640 (no detections), 740.7ms\n",
            "video 1/1 (236/276) /content/drive/MyDrive/Hardhats_vests/test/1.mp4: 640x640 (no detections), 731.7ms\n",
            "video 1/1 (237/276) /content/drive/MyDrive/Hardhats_vests/test/1.mp4: 640x640 (no detections), 721.8ms\n",
            "video 1/1 (238/276) /content/drive/MyDrive/Hardhats_vests/test/1.mp4: 640x640 (no detections), 737.0ms\n",
            "video 1/1 (239/276) /content/drive/MyDrive/Hardhats_vests/test/1.mp4: 640x640 (no detections), 719.9ms\n",
            "video 1/1 (240/276) /content/drive/MyDrive/Hardhats_vests/test/1.mp4: 640x640 (no detections), 704.8ms\n",
            "video 1/1 (241/276) /content/drive/MyDrive/Hardhats_vests/test/1.mp4: 640x640 (no detections), 1003.0ms\n",
            "video 1/1 (242/276) /content/drive/MyDrive/Hardhats_vests/test/1.mp4: 640x640 (no detections), 1080.3ms\n",
            "video 1/1 (243/276) /content/drive/MyDrive/Hardhats_vests/test/1.mp4: 640x640 (no detections), 1131.3ms\n",
            "video 1/1 (244/276) /content/drive/MyDrive/Hardhats_vests/test/1.mp4: 640x640 (no detections), 1115.5ms\n",
            "video 1/1 (245/276) /content/drive/MyDrive/Hardhats_vests/test/1.mp4: 640x640 (no detections), 1094.8ms\n",
            "video 1/1 (246/276) /content/drive/MyDrive/Hardhats_vests/test/1.mp4: 640x640 (no detections), 1005.5ms\n",
            "video 1/1 (247/276) /content/drive/MyDrive/Hardhats_vests/test/1.mp4: 640x640 (no detections), 719.1ms\n",
            "video 1/1 (248/276) /content/drive/MyDrive/Hardhats_vests/test/1.mp4: 640x640 (no detections), 722.6ms\n",
            "video 1/1 (249/276) /content/drive/MyDrive/Hardhats_vests/test/1.mp4: 640x640 (no detections), 725.7ms\n",
            "video 1/1 (250/276) /content/drive/MyDrive/Hardhats_vests/test/1.mp4: 640x640 (no detections), 722.3ms\n",
            "video 1/1 (251/276) /content/drive/MyDrive/Hardhats_vests/test/1.mp4: 640x640 (no detections), 714.2ms\n",
            "video 1/1 (252/276) /content/drive/MyDrive/Hardhats_vests/test/1.mp4: 640x640 (no detections), 715.4ms\n",
            "video 1/1 (253/276) /content/drive/MyDrive/Hardhats_vests/test/1.mp4: 640x640 (no detections), 713.9ms\n",
            "video 1/1 (254/276) /content/drive/MyDrive/Hardhats_vests/test/1.mp4: 640x640 (no detections), 711.4ms\n",
            "video 1/1 (255/276) /content/drive/MyDrive/Hardhats_vests/test/1.mp4: 640x640 (no detections), 697.3ms\n",
            "video 1/1 (256/276) /content/drive/MyDrive/Hardhats_vests/test/1.mp4: 640x640 (no detections), 690.9ms\n",
            "video 1/1 (257/276) /content/drive/MyDrive/Hardhats_vests/test/1.mp4: 640x640 (no detections), 714.5ms\n",
            "video 1/1 (258/276) /content/drive/MyDrive/Hardhats_vests/test/1.mp4: 640x640 (no detections), 717.9ms\n",
            "video 1/1 (259/276) /content/drive/MyDrive/Hardhats_vests/test/1.mp4: 640x640 (no detections), 709.4ms\n",
            "video 1/1 (260/276) /content/drive/MyDrive/Hardhats_vests/test/1.mp4: 640x640 (no detections), 724.5ms\n",
            "video 1/1 (261/276) /content/drive/MyDrive/Hardhats_vests/test/1.mp4: 640x640 (no detections), 712.7ms\n",
            "video 1/1 (262/276) /content/drive/MyDrive/Hardhats_vests/test/1.mp4: 640x640 (no detections), 990.5ms\n",
            "video 1/1 (263/276) /content/drive/MyDrive/Hardhats_vests/test/1.mp4: 640x640 (no detections), 1113.0ms\n",
            "video 1/1 (264/276) /content/drive/MyDrive/Hardhats_vests/test/1.mp4: 640x640 (no detections), 1150.1ms\n",
            "video 1/1 (265/276) /content/drive/MyDrive/Hardhats_vests/test/1.mp4: 640x640 (no detections), 1097.0ms\n",
            "video 1/1 (266/276) /content/drive/MyDrive/Hardhats_vests/test/1.mp4: 640x640 (no detections), 1054.3ms\n",
            "video 1/1 (267/276) /content/drive/MyDrive/Hardhats_vests/test/1.mp4: 640x640 (no detections), 1127.5ms\n",
            "video 1/1 (268/276) /content/drive/MyDrive/Hardhats_vests/test/1.mp4: 640x640 (no detections), 761.9ms\n",
            "video 1/1 (269/276) /content/drive/MyDrive/Hardhats_vests/test/1.mp4: 640x640 (no detections), 743.8ms\n",
            "video 1/1 (270/276) /content/drive/MyDrive/Hardhats_vests/test/1.mp4: 640x640 (no detections), 700.5ms\n",
            "video 1/1 (271/276) /content/drive/MyDrive/Hardhats_vests/test/1.mp4: 640x640 (no detections), 715.2ms\n",
            "video 1/1 (272/276) /content/drive/MyDrive/Hardhats_vests/test/1.mp4: 640x640 (no detections), 707.2ms\n",
            "video 1/1 (273/276) /content/drive/MyDrive/Hardhats_vests/test/1.mp4: 640x640 (no detections), 697.6ms\n",
            "video 1/1 (274/276) /content/drive/MyDrive/Hardhats_vests/test/1.mp4: 640x640 (no detections), 707.2ms\n",
            "video 1/1 (275/276) /content/drive/MyDrive/Hardhats_vests/test/1.mp4: 640x640 (no detections), 728.4ms\n",
            "video 1/1 (276/276) /content/drive/MyDrive/Hardhats_vests/test/1.mp4: 640x640 (no detections), 698.2ms\n",
            "Speed: 1.5ms pre-process, 778.3ms inference, 0.7ms NMS, 53.7ms strongsort update per image at shape (1, 3, 640, 640)\n",
            "Results saved to \u001b[1myolov8_tracking/runs/track/exp5\u001b[0m\n",
            "1 tracks saved to yolov8_tracking/runs/track/exp5/tracks\n"
          ]
        }
      ]
    },
    {
      "cell_type": "markdown",
      "source": [
        "# Постобработка"
      ],
      "metadata": {
        "id": "1HPFoyOLohfl"
      }
    },
    {
      "cell_type": "code",
      "source": [
        "# Трекер сохранил результаты в yolov8_tracking/runs/track/exp5\n",
        "# Находим нужный файл\n",
        "data_file = '/content/yolov8_tracking/runs/track/exp5/tracks/1.txt'\n",
        "filepath = '/content/drive/MyDrive/Hardhats_vests/tracker_results/1/tracks/1.txt'"
      ],
      "metadata": {
        "id": "Fkwlu5pzn2of"
      },
      "execution_count": null,
      "outputs": []
    },
    {
      "cell_type": "code",
      "source": [
        "# Загружаем данные из файла в Pandas DataFrame\n",
        "data = pd.read_csv(filepath, header=None, sep=' ', usecols=[ 0, 1, 2, 3, 4, 5, 6, 7, 8, 9 ])\n",
        "data.columns = [\"frame\", \"id\", \"class\", \"confidence\", \"bb_left\", \"bb_top\", \"bb_right\", \"bb_bottom\", \"cntrx\", \"cntry\"]"
      ],
      "metadata": {
        "id": "cbtoNCtwoQYN"
      },
      "execution_count": null,
      "outputs": []
    },
    {
      "cell_type": "code",
      "source": [
        "data.head()"
      ],
      "metadata": {
        "colab": {
          "base_uri": "https://localhost:8080/",
          "height": 206
        },
        "id": "AU3uxwpCocZF",
        "outputId": "86e09906-d4a3-4cd0-f6d6-7eaddc4aa99b"
      },
      "execution_count": null,
      "outputs": [
        {
          "output_type": "execute_result",
          "data": {
            "text/plain": [
              "   frame  id  class  confidence  bb_left  bb_top  bb_right  bb_bottom  cntrx  \\\n",
              "0     83   1      2    0.904746      268     207       327        289    297   \n",
              "1     83   2      0    0.850198      257     157       335        386    296   \n",
              "2     84   1      2    0.904765      267     206       328        290    297   \n",
              "3     84   2      0    0.850209      258     156       336        386    297   \n",
              "4     85   1      2    0.859295      273     202       337        290    305   \n",
              "\n",
              "   cntry  \n",
              "0    248  \n",
              "1    271  \n",
              "2    248  \n",
              "3    271  \n",
              "4    246  "
            ],
            "text/html": [
              "\n",
              "  <div id=\"df-a590364e-7ef1-4d52-8873-0e619d61369a\">\n",
              "    <div class=\"colab-df-container\">\n",
              "      <div>\n",
              "<style scoped>\n",
              "    .dataframe tbody tr th:only-of-type {\n",
              "        vertical-align: middle;\n",
              "    }\n",
              "\n",
              "    .dataframe tbody tr th {\n",
              "        vertical-align: top;\n",
              "    }\n",
              "\n",
              "    .dataframe thead th {\n",
              "        text-align: right;\n",
              "    }\n",
              "</style>\n",
              "<table border=\"1\" class=\"dataframe\">\n",
              "  <thead>\n",
              "    <tr style=\"text-align: right;\">\n",
              "      <th></th>\n",
              "      <th>frame</th>\n",
              "      <th>id</th>\n",
              "      <th>class</th>\n",
              "      <th>confidence</th>\n",
              "      <th>bb_left</th>\n",
              "      <th>bb_top</th>\n",
              "      <th>bb_right</th>\n",
              "      <th>bb_bottom</th>\n",
              "      <th>cntrx</th>\n",
              "      <th>cntry</th>\n",
              "    </tr>\n",
              "  </thead>\n",
              "  <tbody>\n",
              "    <tr>\n",
              "      <th>0</th>\n",
              "      <td>83</td>\n",
              "      <td>1</td>\n",
              "      <td>2</td>\n",
              "      <td>0.904746</td>\n",
              "      <td>268</td>\n",
              "      <td>207</td>\n",
              "      <td>327</td>\n",
              "      <td>289</td>\n",
              "      <td>297</td>\n",
              "      <td>248</td>\n",
              "    </tr>\n",
              "    <tr>\n",
              "      <th>1</th>\n",
              "      <td>83</td>\n",
              "      <td>2</td>\n",
              "      <td>0</td>\n",
              "      <td>0.850198</td>\n",
              "      <td>257</td>\n",
              "      <td>157</td>\n",
              "      <td>335</td>\n",
              "      <td>386</td>\n",
              "      <td>296</td>\n",
              "      <td>271</td>\n",
              "    </tr>\n",
              "    <tr>\n",
              "      <th>2</th>\n",
              "      <td>84</td>\n",
              "      <td>1</td>\n",
              "      <td>2</td>\n",
              "      <td>0.904765</td>\n",
              "      <td>267</td>\n",
              "      <td>206</td>\n",
              "      <td>328</td>\n",
              "      <td>290</td>\n",
              "      <td>297</td>\n",
              "      <td>248</td>\n",
              "    </tr>\n",
              "    <tr>\n",
              "      <th>3</th>\n",
              "      <td>84</td>\n",
              "      <td>2</td>\n",
              "      <td>0</td>\n",
              "      <td>0.850209</td>\n",
              "      <td>258</td>\n",
              "      <td>156</td>\n",
              "      <td>336</td>\n",
              "      <td>386</td>\n",
              "      <td>297</td>\n",
              "      <td>271</td>\n",
              "    </tr>\n",
              "    <tr>\n",
              "      <th>4</th>\n",
              "      <td>85</td>\n",
              "      <td>1</td>\n",
              "      <td>2</td>\n",
              "      <td>0.859295</td>\n",
              "      <td>273</td>\n",
              "      <td>202</td>\n",
              "      <td>337</td>\n",
              "      <td>290</td>\n",
              "      <td>305</td>\n",
              "      <td>246</td>\n",
              "    </tr>\n",
              "  </tbody>\n",
              "</table>\n",
              "</div>\n",
              "      <button class=\"colab-df-convert\" onclick=\"convertToInteractive('df-a590364e-7ef1-4d52-8873-0e619d61369a')\"\n",
              "              title=\"Convert this dataframe to an interactive table.\"\n",
              "              style=\"display:none;\">\n",
              "        \n",
              "  <svg xmlns=\"http://www.w3.org/2000/svg\" height=\"24px\"viewBox=\"0 0 24 24\"\n",
              "       width=\"24px\">\n",
              "    <path d=\"M0 0h24v24H0V0z\" fill=\"none\"/>\n",
              "    <path d=\"M18.56 5.44l.94 2.06.94-2.06 2.06-.94-2.06-.94-.94-2.06-.94 2.06-2.06.94zm-11 1L8.5 8.5l.94-2.06 2.06-.94-2.06-.94L8.5 2.5l-.94 2.06-2.06.94zm10 10l.94 2.06.94-2.06 2.06-.94-2.06-.94-.94-2.06-.94 2.06-2.06.94z\"/><path d=\"M17.41 7.96l-1.37-1.37c-.4-.4-.92-.59-1.43-.59-.52 0-1.04.2-1.43.59L10.3 9.45l-7.72 7.72c-.78.78-.78 2.05 0 2.83L4 21.41c.39.39.9.59 1.41.59.51 0 1.02-.2 1.41-.59l7.78-7.78 2.81-2.81c.8-.78.8-2.07 0-2.86zM5.41 20L4 18.59l7.72-7.72 1.47 1.35L5.41 20z\"/>\n",
              "  </svg>\n",
              "      </button>\n",
              "      \n",
              "  <style>\n",
              "    .colab-df-container {\n",
              "      display:flex;\n",
              "      flex-wrap:wrap;\n",
              "      gap: 12px;\n",
              "    }\n",
              "\n",
              "    .colab-df-convert {\n",
              "      background-color: #E8F0FE;\n",
              "      border: none;\n",
              "      border-radius: 50%;\n",
              "      cursor: pointer;\n",
              "      display: none;\n",
              "      fill: #1967D2;\n",
              "      height: 32px;\n",
              "      padding: 0 0 0 0;\n",
              "      width: 32px;\n",
              "    }\n",
              "\n",
              "    .colab-df-convert:hover {\n",
              "      background-color: #E2EBFA;\n",
              "      box-shadow: 0px 1px 2px rgba(60, 64, 67, 0.3), 0px 1px 3px 1px rgba(60, 64, 67, 0.15);\n",
              "      fill: #174EA6;\n",
              "    }\n",
              "\n",
              "    [theme=dark] .colab-df-convert {\n",
              "      background-color: #3B4455;\n",
              "      fill: #D2E3FC;\n",
              "    }\n",
              "\n",
              "    [theme=dark] .colab-df-convert:hover {\n",
              "      background-color: #434B5C;\n",
              "      box-shadow: 0px 1px 3px 1px rgba(0, 0, 0, 0.15);\n",
              "      filter: drop-shadow(0px 1px 2px rgba(0, 0, 0, 0.3));\n",
              "      fill: #FFFFFF;\n",
              "    }\n",
              "  </style>\n",
              "\n",
              "      <script>\n",
              "        const buttonEl =\n",
              "          document.querySelector('#df-a590364e-7ef1-4d52-8873-0e619d61369a button.colab-df-convert');\n",
              "        buttonEl.style.display =\n",
              "          google.colab.kernel.accessAllowed ? 'block' : 'none';\n",
              "\n",
              "        async function convertToInteractive(key) {\n",
              "          const element = document.querySelector('#df-a590364e-7ef1-4d52-8873-0e619d61369a');\n",
              "          const dataTable =\n",
              "            await google.colab.kernel.invokeFunction('convertToInteractive',\n",
              "                                                     [key], {});\n",
              "          if (!dataTable) return;\n",
              "\n",
              "          const docLinkHtml = 'Like what you see? Visit the ' +\n",
              "            '<a target=\"_blank\" href=https://colab.research.google.com/notebooks/data_table.ipynb>data table notebook</a>'\n",
              "            + ' to learn more about interactive tables.';\n",
              "          element.innerHTML = '';\n",
              "          dataTable['output_type'] = 'display_data';\n",
              "          await google.colab.output.renderOutput(dataTable, element);\n",
              "          const docLink = document.createElement('div');\n",
              "          docLink.innerHTML = docLinkHtml;\n",
              "          element.appendChild(docLink);\n",
              "        }\n",
              "      </script>\n",
              "    </div>\n",
              "  </div>\n",
              "  "
            ]
          },
          "metadata": {},
          "execution_count": 5
        }
      ]
    },
    {
      "cell_type": "code",
      "source": [
        "# Сортируем по значениям кадров и классов (по возрастанию)\n",
        "data.sort_values(['frame','class'], ascending=[True, True], inplace=True)\n",
        "data.head(10)"
      ],
      "metadata": {
        "colab": {
          "base_uri": "https://localhost:8080/",
          "height": 363
        },
        "id": "KPkuJZPwoxp7",
        "outputId": "a41a0229-bda2-4db6-f897-9da685f9fd94"
      },
      "execution_count": null,
      "outputs": [
        {
          "output_type": "execute_result",
          "data": {
            "text/plain": [
              "   frame  id  class  confidence  bb_left  bb_top  bb_right  bb_bottom  cntrx  \\\n",
              "1     83   2      0    0.850198      257     157       335        386    296   \n",
              "0     83   1      2    0.904746      268     207       327        289    297   \n",
              "3     84   2      0    0.850209      258     156       336        386    297   \n",
              "2     84   1      2    0.904765      267     206       328        290    297   \n",
              "5     85   2      0    0.855229      264     151       343        377    303   \n",
              "6     85   3      1    0.746842      297     153       341        182    319   \n",
              "4     85   1      2    0.859295      273     202       337        290    305   \n",
              "8     86   2      0    0.855378      265     151       344        376    304   \n",
              "9     86   3      1    0.748865      296     152       342        183    319   \n",
              "7     86   1      2    0.859451      272     201       338        291    305   \n",
              "\n",
              "   cntry  \n",
              "1    271  \n",
              "0    248  \n",
              "3    271  \n",
              "2    248  \n",
              "5    264  \n",
              "6    167  \n",
              "4    246  \n",
              "8    263  \n",
              "9    167  \n",
              "7    246  "
            ],
            "text/html": [
              "\n",
              "  <div id=\"df-18204dcf-a564-439c-aa49-5fcfef7c6d85\">\n",
              "    <div class=\"colab-df-container\">\n",
              "      <div>\n",
              "<style scoped>\n",
              "    .dataframe tbody tr th:only-of-type {\n",
              "        vertical-align: middle;\n",
              "    }\n",
              "\n",
              "    .dataframe tbody tr th {\n",
              "        vertical-align: top;\n",
              "    }\n",
              "\n",
              "    .dataframe thead th {\n",
              "        text-align: right;\n",
              "    }\n",
              "</style>\n",
              "<table border=\"1\" class=\"dataframe\">\n",
              "  <thead>\n",
              "    <tr style=\"text-align: right;\">\n",
              "      <th></th>\n",
              "      <th>frame</th>\n",
              "      <th>id</th>\n",
              "      <th>class</th>\n",
              "      <th>confidence</th>\n",
              "      <th>bb_left</th>\n",
              "      <th>bb_top</th>\n",
              "      <th>bb_right</th>\n",
              "      <th>bb_bottom</th>\n",
              "      <th>cntrx</th>\n",
              "      <th>cntry</th>\n",
              "    </tr>\n",
              "  </thead>\n",
              "  <tbody>\n",
              "    <tr>\n",
              "      <th>1</th>\n",
              "      <td>83</td>\n",
              "      <td>2</td>\n",
              "      <td>0</td>\n",
              "      <td>0.850198</td>\n",
              "      <td>257</td>\n",
              "      <td>157</td>\n",
              "      <td>335</td>\n",
              "      <td>386</td>\n",
              "      <td>296</td>\n",
              "      <td>271</td>\n",
              "    </tr>\n",
              "    <tr>\n",
              "      <th>0</th>\n",
              "      <td>83</td>\n",
              "      <td>1</td>\n",
              "      <td>2</td>\n",
              "      <td>0.904746</td>\n",
              "      <td>268</td>\n",
              "      <td>207</td>\n",
              "      <td>327</td>\n",
              "      <td>289</td>\n",
              "      <td>297</td>\n",
              "      <td>248</td>\n",
              "    </tr>\n",
              "    <tr>\n",
              "      <th>3</th>\n",
              "      <td>84</td>\n",
              "      <td>2</td>\n",
              "      <td>0</td>\n",
              "      <td>0.850209</td>\n",
              "      <td>258</td>\n",
              "      <td>156</td>\n",
              "      <td>336</td>\n",
              "      <td>386</td>\n",
              "      <td>297</td>\n",
              "      <td>271</td>\n",
              "    </tr>\n",
              "    <tr>\n",
              "      <th>2</th>\n",
              "      <td>84</td>\n",
              "      <td>1</td>\n",
              "      <td>2</td>\n",
              "      <td>0.904765</td>\n",
              "      <td>267</td>\n",
              "      <td>206</td>\n",
              "      <td>328</td>\n",
              "      <td>290</td>\n",
              "      <td>297</td>\n",
              "      <td>248</td>\n",
              "    </tr>\n",
              "    <tr>\n",
              "      <th>5</th>\n",
              "      <td>85</td>\n",
              "      <td>2</td>\n",
              "      <td>0</td>\n",
              "      <td>0.855229</td>\n",
              "      <td>264</td>\n",
              "      <td>151</td>\n",
              "      <td>343</td>\n",
              "      <td>377</td>\n",
              "      <td>303</td>\n",
              "      <td>264</td>\n",
              "    </tr>\n",
              "    <tr>\n",
              "      <th>6</th>\n",
              "      <td>85</td>\n",
              "      <td>3</td>\n",
              "      <td>1</td>\n",
              "      <td>0.746842</td>\n",
              "      <td>297</td>\n",
              "      <td>153</td>\n",
              "      <td>341</td>\n",
              "      <td>182</td>\n",
              "      <td>319</td>\n",
              "      <td>167</td>\n",
              "    </tr>\n",
              "    <tr>\n",
              "      <th>4</th>\n",
              "      <td>85</td>\n",
              "      <td>1</td>\n",
              "      <td>2</td>\n",
              "      <td>0.859295</td>\n",
              "      <td>273</td>\n",
              "      <td>202</td>\n",
              "      <td>337</td>\n",
              "      <td>290</td>\n",
              "      <td>305</td>\n",
              "      <td>246</td>\n",
              "    </tr>\n",
              "    <tr>\n",
              "      <th>8</th>\n",
              "      <td>86</td>\n",
              "      <td>2</td>\n",
              "      <td>0</td>\n",
              "      <td>0.855378</td>\n",
              "      <td>265</td>\n",
              "      <td>151</td>\n",
              "      <td>344</td>\n",
              "      <td>376</td>\n",
              "      <td>304</td>\n",
              "      <td>263</td>\n",
              "    </tr>\n",
              "    <tr>\n",
              "      <th>9</th>\n",
              "      <td>86</td>\n",
              "      <td>3</td>\n",
              "      <td>1</td>\n",
              "      <td>0.748865</td>\n",
              "      <td>296</td>\n",
              "      <td>152</td>\n",
              "      <td>342</td>\n",
              "      <td>183</td>\n",
              "      <td>319</td>\n",
              "      <td>167</td>\n",
              "    </tr>\n",
              "    <tr>\n",
              "      <th>7</th>\n",
              "      <td>86</td>\n",
              "      <td>1</td>\n",
              "      <td>2</td>\n",
              "      <td>0.859451</td>\n",
              "      <td>272</td>\n",
              "      <td>201</td>\n",
              "      <td>338</td>\n",
              "      <td>291</td>\n",
              "      <td>305</td>\n",
              "      <td>246</td>\n",
              "    </tr>\n",
              "  </tbody>\n",
              "</table>\n",
              "</div>\n",
              "      <button class=\"colab-df-convert\" onclick=\"convertToInteractive('df-18204dcf-a564-439c-aa49-5fcfef7c6d85')\"\n",
              "              title=\"Convert this dataframe to an interactive table.\"\n",
              "              style=\"display:none;\">\n",
              "        \n",
              "  <svg xmlns=\"http://www.w3.org/2000/svg\" height=\"24px\"viewBox=\"0 0 24 24\"\n",
              "       width=\"24px\">\n",
              "    <path d=\"M0 0h24v24H0V0z\" fill=\"none\"/>\n",
              "    <path d=\"M18.56 5.44l.94 2.06.94-2.06 2.06-.94-2.06-.94-.94-2.06-.94 2.06-2.06.94zm-11 1L8.5 8.5l.94-2.06 2.06-.94-2.06-.94L8.5 2.5l-.94 2.06-2.06.94zm10 10l.94 2.06.94-2.06 2.06-.94-2.06-.94-.94-2.06-.94 2.06-2.06.94z\"/><path d=\"M17.41 7.96l-1.37-1.37c-.4-.4-.92-.59-1.43-.59-.52 0-1.04.2-1.43.59L10.3 9.45l-7.72 7.72c-.78.78-.78 2.05 0 2.83L4 21.41c.39.39.9.59 1.41.59.51 0 1.02-.2 1.41-.59l7.78-7.78 2.81-2.81c.8-.78.8-2.07 0-2.86zM5.41 20L4 18.59l7.72-7.72 1.47 1.35L5.41 20z\"/>\n",
              "  </svg>\n",
              "      </button>\n",
              "      \n",
              "  <style>\n",
              "    .colab-df-container {\n",
              "      display:flex;\n",
              "      flex-wrap:wrap;\n",
              "      gap: 12px;\n",
              "    }\n",
              "\n",
              "    .colab-df-convert {\n",
              "      background-color: #E8F0FE;\n",
              "      border: none;\n",
              "      border-radius: 50%;\n",
              "      cursor: pointer;\n",
              "      display: none;\n",
              "      fill: #1967D2;\n",
              "      height: 32px;\n",
              "      padding: 0 0 0 0;\n",
              "      width: 32px;\n",
              "    }\n",
              "\n",
              "    .colab-df-convert:hover {\n",
              "      background-color: #E2EBFA;\n",
              "      box-shadow: 0px 1px 2px rgba(60, 64, 67, 0.3), 0px 1px 3px 1px rgba(60, 64, 67, 0.15);\n",
              "      fill: #174EA6;\n",
              "    }\n",
              "\n",
              "    [theme=dark] .colab-df-convert {\n",
              "      background-color: #3B4455;\n",
              "      fill: #D2E3FC;\n",
              "    }\n",
              "\n",
              "    [theme=dark] .colab-df-convert:hover {\n",
              "      background-color: #434B5C;\n",
              "      box-shadow: 0px 1px 3px 1px rgba(0, 0, 0, 0.15);\n",
              "      filter: drop-shadow(0px 1px 2px rgba(0, 0, 0, 0.3));\n",
              "      fill: #FFFFFF;\n",
              "    }\n",
              "  </style>\n",
              "\n",
              "      <script>\n",
              "        const buttonEl =\n",
              "          document.querySelector('#df-18204dcf-a564-439c-aa49-5fcfef7c6d85 button.colab-df-convert');\n",
              "        buttonEl.style.display =\n",
              "          google.colab.kernel.accessAllowed ? 'block' : 'none';\n",
              "\n",
              "        async function convertToInteractive(key) {\n",
              "          const element = document.querySelector('#df-18204dcf-a564-439c-aa49-5fcfef7c6d85');\n",
              "          const dataTable =\n",
              "            await google.colab.kernel.invokeFunction('convertToInteractive',\n",
              "                                                     [key], {});\n",
              "          if (!dataTable) return;\n",
              "\n",
              "          const docLinkHtml = 'Like what you see? Visit the ' +\n",
              "            '<a target=\"_blank\" href=https://colab.research.google.com/notebooks/data_table.ipynb>data table notebook</a>'\n",
              "            + ' to learn more about interactive tables.';\n",
              "          element.innerHTML = '';\n",
              "          dataTable['output_type'] = 'display_data';\n",
              "          await google.colab.output.renderOutput(dataTable, element);\n",
              "          const docLink = document.createElement('div');\n",
              "          docLink.innerHTML = docLinkHtml;\n",
              "          element.appendChild(docLink);\n",
              "        }\n",
              "      </script>\n",
              "    </div>\n",
              "  </div>\n",
              "  "
            ]
          },
          "metadata": {},
          "execution_count": 6
        }
      ]
    },
    {
      "cell_type": "code",
      "source": [
        "# Создаем мультииндекс\n",
        "data.set_index(['frame', 'class'], inplace=True)\n",
        "data.head(10)"
      ],
      "metadata": {
        "colab": {
          "base_uri": "https://localhost:8080/",
          "height": 394
        },
        "id": "BXDSPqOzo4Kz",
        "outputId": "5ddac0af-70ad-4299-917a-6f725f24a5d5"
      },
      "execution_count": null,
      "outputs": [
        {
          "output_type": "execute_result",
          "data": {
            "text/plain": [
              "             id  confidence  bb_left  bb_top  bb_right  bb_bottom  cntrx  \\\n",
              "frame class                                                                \n",
              "83    0       2    0.850198      257     157       335        386    296   \n",
              "      2       1    0.904746      268     207       327        289    297   \n",
              "84    0       2    0.850209      258     156       336        386    297   \n",
              "      2       1    0.904765      267     206       328        290    297   \n",
              "85    0       2    0.855229      264     151       343        377    303   \n",
              "      1       3    0.746842      297     153       341        182    319   \n",
              "      2       1    0.859295      273     202       337        290    305   \n",
              "86    0       2    0.855378      265     151       344        376    304   \n",
              "      1       3    0.748865      296     152       342        183    319   \n",
              "      2       1    0.859451      272     201       338        291    305   \n",
              "\n",
              "             cntry  \n",
              "frame class         \n",
              "83    0        271  \n",
              "      2        248  \n",
              "84    0        271  \n",
              "      2        248  \n",
              "85    0        264  \n",
              "      1        167  \n",
              "      2        246  \n",
              "86    0        263  \n",
              "      1        167  \n",
              "      2        246  "
            ],
            "text/html": [
              "\n",
              "  <div id=\"df-84e28ce0-5679-47bc-92f8-2a53532ed34e\">\n",
              "    <div class=\"colab-df-container\">\n",
              "      <div>\n",
              "<style scoped>\n",
              "    .dataframe tbody tr th:only-of-type {\n",
              "        vertical-align: middle;\n",
              "    }\n",
              "\n",
              "    .dataframe tbody tr th {\n",
              "        vertical-align: top;\n",
              "    }\n",
              "\n",
              "    .dataframe thead th {\n",
              "        text-align: right;\n",
              "    }\n",
              "</style>\n",
              "<table border=\"1\" class=\"dataframe\">\n",
              "  <thead>\n",
              "    <tr style=\"text-align: right;\">\n",
              "      <th></th>\n",
              "      <th></th>\n",
              "      <th>id</th>\n",
              "      <th>confidence</th>\n",
              "      <th>bb_left</th>\n",
              "      <th>bb_top</th>\n",
              "      <th>bb_right</th>\n",
              "      <th>bb_bottom</th>\n",
              "      <th>cntrx</th>\n",
              "      <th>cntry</th>\n",
              "    </tr>\n",
              "    <tr>\n",
              "      <th>frame</th>\n",
              "      <th>class</th>\n",
              "      <th></th>\n",
              "      <th></th>\n",
              "      <th></th>\n",
              "      <th></th>\n",
              "      <th></th>\n",
              "      <th></th>\n",
              "      <th></th>\n",
              "      <th></th>\n",
              "    </tr>\n",
              "  </thead>\n",
              "  <tbody>\n",
              "    <tr>\n",
              "      <th rowspan=\"2\" valign=\"top\">83</th>\n",
              "      <th>0</th>\n",
              "      <td>2</td>\n",
              "      <td>0.850198</td>\n",
              "      <td>257</td>\n",
              "      <td>157</td>\n",
              "      <td>335</td>\n",
              "      <td>386</td>\n",
              "      <td>296</td>\n",
              "      <td>271</td>\n",
              "    </tr>\n",
              "    <tr>\n",
              "      <th>2</th>\n",
              "      <td>1</td>\n",
              "      <td>0.904746</td>\n",
              "      <td>268</td>\n",
              "      <td>207</td>\n",
              "      <td>327</td>\n",
              "      <td>289</td>\n",
              "      <td>297</td>\n",
              "      <td>248</td>\n",
              "    </tr>\n",
              "    <tr>\n",
              "      <th rowspan=\"2\" valign=\"top\">84</th>\n",
              "      <th>0</th>\n",
              "      <td>2</td>\n",
              "      <td>0.850209</td>\n",
              "      <td>258</td>\n",
              "      <td>156</td>\n",
              "      <td>336</td>\n",
              "      <td>386</td>\n",
              "      <td>297</td>\n",
              "      <td>271</td>\n",
              "    </tr>\n",
              "    <tr>\n",
              "      <th>2</th>\n",
              "      <td>1</td>\n",
              "      <td>0.904765</td>\n",
              "      <td>267</td>\n",
              "      <td>206</td>\n",
              "      <td>328</td>\n",
              "      <td>290</td>\n",
              "      <td>297</td>\n",
              "      <td>248</td>\n",
              "    </tr>\n",
              "    <tr>\n",
              "      <th rowspan=\"3\" valign=\"top\">85</th>\n",
              "      <th>0</th>\n",
              "      <td>2</td>\n",
              "      <td>0.855229</td>\n",
              "      <td>264</td>\n",
              "      <td>151</td>\n",
              "      <td>343</td>\n",
              "      <td>377</td>\n",
              "      <td>303</td>\n",
              "      <td>264</td>\n",
              "    </tr>\n",
              "    <tr>\n",
              "      <th>1</th>\n",
              "      <td>3</td>\n",
              "      <td>0.746842</td>\n",
              "      <td>297</td>\n",
              "      <td>153</td>\n",
              "      <td>341</td>\n",
              "      <td>182</td>\n",
              "      <td>319</td>\n",
              "      <td>167</td>\n",
              "    </tr>\n",
              "    <tr>\n",
              "      <th>2</th>\n",
              "      <td>1</td>\n",
              "      <td>0.859295</td>\n",
              "      <td>273</td>\n",
              "      <td>202</td>\n",
              "      <td>337</td>\n",
              "      <td>290</td>\n",
              "      <td>305</td>\n",
              "      <td>246</td>\n",
              "    </tr>\n",
              "    <tr>\n",
              "      <th rowspan=\"3\" valign=\"top\">86</th>\n",
              "      <th>0</th>\n",
              "      <td>2</td>\n",
              "      <td>0.855378</td>\n",
              "      <td>265</td>\n",
              "      <td>151</td>\n",
              "      <td>344</td>\n",
              "      <td>376</td>\n",
              "      <td>304</td>\n",
              "      <td>263</td>\n",
              "    </tr>\n",
              "    <tr>\n",
              "      <th>1</th>\n",
              "      <td>3</td>\n",
              "      <td>0.748865</td>\n",
              "      <td>296</td>\n",
              "      <td>152</td>\n",
              "      <td>342</td>\n",
              "      <td>183</td>\n",
              "      <td>319</td>\n",
              "      <td>167</td>\n",
              "    </tr>\n",
              "    <tr>\n",
              "      <th>2</th>\n",
              "      <td>1</td>\n",
              "      <td>0.859451</td>\n",
              "      <td>272</td>\n",
              "      <td>201</td>\n",
              "      <td>338</td>\n",
              "      <td>291</td>\n",
              "      <td>305</td>\n",
              "      <td>246</td>\n",
              "    </tr>\n",
              "  </tbody>\n",
              "</table>\n",
              "</div>\n",
              "      <button class=\"colab-df-convert\" onclick=\"convertToInteractive('df-84e28ce0-5679-47bc-92f8-2a53532ed34e')\"\n",
              "              title=\"Convert this dataframe to an interactive table.\"\n",
              "              style=\"display:none;\">\n",
              "        \n",
              "  <svg xmlns=\"http://www.w3.org/2000/svg\" height=\"24px\"viewBox=\"0 0 24 24\"\n",
              "       width=\"24px\">\n",
              "    <path d=\"M0 0h24v24H0V0z\" fill=\"none\"/>\n",
              "    <path d=\"M18.56 5.44l.94 2.06.94-2.06 2.06-.94-2.06-.94-.94-2.06-.94 2.06-2.06.94zm-11 1L8.5 8.5l.94-2.06 2.06-.94-2.06-.94L8.5 2.5l-.94 2.06-2.06.94zm10 10l.94 2.06.94-2.06 2.06-.94-2.06-.94-.94-2.06-.94 2.06-2.06.94z\"/><path d=\"M17.41 7.96l-1.37-1.37c-.4-.4-.92-.59-1.43-.59-.52 0-1.04.2-1.43.59L10.3 9.45l-7.72 7.72c-.78.78-.78 2.05 0 2.83L4 21.41c.39.39.9.59 1.41.59.51 0 1.02-.2 1.41-.59l7.78-7.78 2.81-2.81c.8-.78.8-2.07 0-2.86zM5.41 20L4 18.59l7.72-7.72 1.47 1.35L5.41 20z\"/>\n",
              "  </svg>\n",
              "      </button>\n",
              "      \n",
              "  <style>\n",
              "    .colab-df-container {\n",
              "      display:flex;\n",
              "      flex-wrap:wrap;\n",
              "      gap: 12px;\n",
              "    }\n",
              "\n",
              "    .colab-df-convert {\n",
              "      background-color: #E8F0FE;\n",
              "      border: none;\n",
              "      border-radius: 50%;\n",
              "      cursor: pointer;\n",
              "      display: none;\n",
              "      fill: #1967D2;\n",
              "      height: 32px;\n",
              "      padding: 0 0 0 0;\n",
              "      width: 32px;\n",
              "    }\n",
              "\n",
              "    .colab-df-convert:hover {\n",
              "      background-color: #E2EBFA;\n",
              "      box-shadow: 0px 1px 2px rgba(60, 64, 67, 0.3), 0px 1px 3px 1px rgba(60, 64, 67, 0.15);\n",
              "      fill: #174EA6;\n",
              "    }\n",
              "\n",
              "    [theme=dark] .colab-df-convert {\n",
              "      background-color: #3B4455;\n",
              "      fill: #D2E3FC;\n",
              "    }\n",
              "\n",
              "    [theme=dark] .colab-df-convert:hover {\n",
              "      background-color: #434B5C;\n",
              "      box-shadow: 0px 1px 3px 1px rgba(0, 0, 0, 0.15);\n",
              "      filter: drop-shadow(0px 1px 2px rgba(0, 0, 0, 0.3));\n",
              "      fill: #FFFFFF;\n",
              "    }\n",
              "  </style>\n",
              "\n",
              "      <script>\n",
              "        const buttonEl =\n",
              "          document.querySelector('#df-84e28ce0-5679-47bc-92f8-2a53532ed34e button.colab-df-convert');\n",
              "        buttonEl.style.display =\n",
              "          google.colab.kernel.accessAllowed ? 'block' : 'none';\n",
              "\n",
              "        async function convertToInteractive(key) {\n",
              "          const element = document.querySelector('#df-84e28ce0-5679-47bc-92f8-2a53532ed34e');\n",
              "          const dataTable =\n",
              "            await google.colab.kernel.invokeFunction('convertToInteractive',\n",
              "                                                     [key], {});\n",
              "          if (!dataTable) return;\n",
              "\n",
              "          const docLinkHtml = 'Like what you see? Visit the ' +\n",
              "            '<a target=\"_blank\" href=https://colab.research.google.com/notebooks/data_table.ipynb>data table notebook</a>'\n",
              "            + ' to learn more about interactive tables.';\n",
              "          element.innerHTML = '';\n",
              "          dataTable['output_type'] = 'display_data';\n",
              "          await google.colab.output.renderOutput(dataTable, element);\n",
              "          const docLink = document.createElement('div');\n",
              "          docLink.innerHTML = docLinkHtml;\n",
              "          element.appendChild(docLink);\n",
              "        }\n",
              "      </script>\n",
              "    </div>\n",
              "  </div>\n",
              "  "
            ]
          },
          "metadata": {},
          "execution_count": 7
        }
      ]
    },
    {
      "cell_type": "code",
      "source": [
        "# Задаем функцию who_came_left, принимает датафрейм, возвращает id людей, которые вошли и вышли.\n",
        "def who_came_left(data):\n",
        "    frame_top = data['bb_top'].min() # кадры иногда имеют черную рамку, ищем границы картинки\n",
        "    frame_bottom = data['bb_bottom'].max()\n",
        "    ppl_who_came = []\n",
        "    ppl_who_left = []\n",
        "    for idx, df in data.groupby(['class', 'id']):\n",
        "        if idx[0] == 0: # only for human class\n",
        "            print(idx)\n",
        "            cntry_min = df['cntry'].min() # человек иногда заходит и сразу выходит\n",
        "            cntry_max = df['cntry'].max() # поэтому учитываем не только его начальную и конечную координаты,\n",
        "            cntry_start = df['cntry'].iat[0] # но и его минимальную и максимальную координаты.\n",
        "            cntry_end = df['cntry'].iat[-1]\n",
        "            print(f'cntry_min = {cntry_min}, cntry_max = {cntry_max}')\n",
        "            print(f'cntry_start = {cntry_start}, cntry_end = {cntry_end}')\n",
        "            moved = (cntry_max - cntry_min)/(frame_bottom - frame_top)\n",
        "            print(f'Human {idx[1]} moved {int(100*moved)}% of the frame (vertically)')\n",
        "            if moved >= 0.25:        # если центр бб человека переместился более 25% кадра по вертикали, считаем прошедшим\n",
        "                if (0.8*cntry_min < cntry_start < 1.2*cntry_min and # если человек начал путь примерно наверху кадра\n",
        "                    0.8*cntry_max < cntry_end < 1.2*cntry_max): # если человек закончил путь примерно внизу кадра\n",
        "                    ppl_who_came.append(idx[1])                 # то мы засчитываем его как вошедшего\n",
        "                    print(f'Human {idx[1]} came in.')\n",
        "                elif (0.8*cntry_min < cntry_end < 1.2*cntry_min and # если человек закончил путь примерно наверху кадра\n",
        "                    0.8*cntry_max < cntry_start < 1.2*cntry_max): # если человек начал путь примерно внизу кадра\n",
        "                    ppl_who_left.append(idx[1])                 # то мы засчитываем его как вышедшего\n",
        "                    print(f'Human {idx[1]} left.')\n",
        "                elif (0.8*cntry_min < cntry_start < 1.2*cntry_min and # если человек начал путь примерно наверху кадра\n",
        "                    0.8*cntry_min < cntry_end < 1.2*cntry_min): # если человек закончил путь примерно наверху кадра\n",
        "                    ppl_who_came.append(idx[1])                 # то мы считаем, что он вошел и сразу вышел\n",
        "                    ppl_who_left.append(idx[1])\n",
        "                    print(f'Human {idx[1]} came and left.')\n",
        "                elif (0.8*cntry_max < cntry_start < 1.2*cntry_max and # если человек начал путь примерно внизу кадра\n",
        "                    0.8*cntry_max < cntry_end < 1.2*cntry_max): # если человек закончил путь примерно внизу кадра\n",
        "                    ppl_who_came.append(idx[1])                 # то мы считаем, что он вышел и сразу вернулся\n",
        "                    ppl_who_left.append(idx[1])\n",
        "                    print(f'Human {idx[1]} left and came back.')\n",
        "                else:\n",
        "                    print(f'Can not define what human {idx[1]} did.')\n",
        "    return ppl_who_came, ppl_who_left"
      ],
      "metadata": {
        "id": "bGGLvZDWtZb5"
      },
      "execution_count": null,
      "outputs": []
    },
    {
      "cell_type": "code",
      "source": [
        "# Применим функцию who_came_left и получим списки id прошедших людей.\n",
        "ppl_who_came, ppl_who_left = who_came_left(data)\n",
        "print(ppl_who_came, ppl_who_left)\n",
        "print(f'{len(ppl_who_came)} people came in')\n",
        "print(f'{len(ppl_who_left)} people left')"
      ],
      "metadata": {
        "colab": {
          "base_uri": "https://localhost:8080/"
        },
        "id": "VsK869WHtZVq",
        "outputId": "f1d685bc-a4ea-4f96-e887-f26eb08ff47a"
      },
      "execution_count": null,
      "outputs": [
        {
          "output_type": "stream",
          "name": "stdout",
          "text": [
            "(0, 2)\n",
            "cntry_min = 249, cntry_max = 394\n",
            "cntry_start = 271, cntry_end = 394\n",
            "Human 2 moved 40% of the frame (vertically)\n",
            "Human 2 came in.\n",
            "(0, 6)\n",
            "cntry_min = 242, cntry_max = 425\n",
            "cntry_start = 248, cntry_end = 425\n",
            "Human 6 moved 50% of the frame (vertically)\n",
            "Human 6 came in.\n",
            "(0, 7)\n",
            "cntry_min = 266, cntry_max = 398\n",
            "cntry_start = 266, cntry_end = 398\n",
            "Human 7 moved 36% of the frame (vertically)\n",
            "Human 7 came in.\n",
            "(0, 10)\n",
            "cntry_min = 384, cntry_max = 396\n",
            "cntry_start = 391, cntry_end = 384\n",
            "Human 10 moved 3% of the frame (vertically)\n",
            "[2, 6, 7] []\n",
            "3 people came in\n",
            "0 people left\n"
          ]
        }
      ]
    },
    {
      "cell_type": "code",
      "source": [
        "# Зададим функцию get_who_wears_what,\n",
        "# на вход - часть датафрейма с инфо по одному кадру\n",
        "# на выход - список кортежей, где каждый кортеж это:\n",
        "# (id человека, True/False на наличие каски, True/False на наличие жилета)\n",
        "def get_who_wears_what(current_frame):\n",
        "    try:\n",
        "        humans_frame = current_frame.loc[0]\n",
        "        humans = True\n",
        "        if isinstance(humans_frame, pd.Series):\n",
        "            humans_frame = humans_frame.to_frame().transpose()\n",
        "    except:\n",
        "        # print(f\"There are no humans in frame {frame}.\")\n",
        "        humans = False\n",
        "    try:\n",
        "        hardhats_frame = current_frame.loc[1]\n",
        "        hardhats = True\n",
        "        if isinstance(hardhats_frame, pd.Series):\n",
        "            hardhats_frame = hardhats_frame.to_frame().transpose()\n",
        "    except:\n",
        "        # print(f\"There are no hardhats in frame {frame}.\")\n",
        "        hardhats = False\n",
        "    try:\n",
        "        vests_frame = current_frame.loc[2]\n",
        "        vests = True\n",
        "        if isinstance(vests_frame, pd.Series):\n",
        "            vests_frame = vests_frame.to_frame().transpose()\n",
        "    except:\n",
        "        # print(f\"There are no vests in frame {frame}.\")\n",
        "        vests = False\n",
        "    frame_info = []\n",
        "    if humans:\n",
        "        for index, row in humans_frame.iterrows():\n",
        "            current_human = [int(row['id']), False, False]\n",
        "            if hardhats:\n",
        "                for idx, rw in hardhats_frame.iterrows():\n",
        "                    if row['bb_left'] < rw['cntrx'] < row['bb_right'] and row['bb_top'] < rw['cntry'] < row['bb_bottom']:\n",
        "                        # print(f\"human {row['id']} has a hat\")\n",
        "                        current_human[1] = True\n",
        "            if vests:            \n",
        "                for idx, rw in vests_frame.iterrows():\n",
        "                    if row['bb_left'] < rw['cntrx'] < row['bb_right'] and row['bb_top'] < rw['cntry'] < row['bb_bottom']:\n",
        "                        # print(f\"human {row['id']} has a vest\")\n",
        "                        current_human[2] = True\n",
        "            current_human = tuple(current_human)\n",
        "            # print(current_human)\n",
        "            frame_info.append(current_human)\n",
        "    # print(frame_info)\n",
        "    return frame_info"
      ],
      "metadata": {
        "id": "6HbHEJihpA8C"
      },
      "execution_count": null,
      "outputs": []
    },
    {
      "cell_type": "code",
      "source": [
        "# Используем созданную функцию get_who_wears_what на данных\n",
        "# Получаем словарь info:\n",
        "# ключи - номера кадров,\n",
        "# значения - списки кортежей, где каждый кортеж это:\n",
        "# (id человека, True/False на наличие каски, True/False на наличие жилета)\n",
        "info = {}\n",
        "for frame, new_df in data.groupby(level=0):\n",
        "    current_frame = new_df.droplevel(0)\n",
        "    frame_info = get_who_wears_what(current_frame)\n",
        "    info[frame] = frame_info\n",
        "print(info)"
      ],
      "metadata": {
        "colab": {
          "base_uri": "https://localhost:8080/"
        },
        "id": "PjwvVcO3pixX",
        "outputId": "6b96462a-31b3-4800-d3fe-e24efd1a9ed2"
      },
      "execution_count": null,
      "outputs": [
        {
          "output_type": "stream",
          "name": "stdout",
          "text": [
            "{83: [(2, False, True)], 84: [(2, False, True)], 85: [(2, True, True)], 86: [(2, True, True)], 87: [(2, True, True)], 88: [(2, True, True)], 89: [(2, True, True)], 90: [(2, True, True)], 91: [(2, True, True)], 92: [(2, True, True)], 93: [(2, True, True)], 94: [(2, True, True)], 95: [(2, True, True), (6, True, True)], 96: [(2, True, True), (6, True, True)], 97: [(2, True, True), (6, True, True)], 98: [(2, True, True), (6, True, True)], 99: [(2, True, True), (6, True, True)], 100: [(2, True, True)], 101: [(2, True, True)], 102: [(2, True, True)], 103: [(2, True, True)], 104: [(2, True, True)], 105: [(2, True, True)], 106: [(2, True, True)], 107: [(2, True, True), (7, False, True)], 108: [(2, True, True), (7, False, True)], 109: [(2, True, True), (7, True, True)], 110: [(2, True, True), (7, True, True)], 111: [(2, True, True), (6, True, True), (7, True, True)], 112: [(2, True, True), (6, True, True)], 113: [(2, True, True), (6, True, True)], 114: [(2, True, True), (6, True, True)], 115: [(2, True, True), (6, True, True)], 116: [(2, True, True), (6, True, True)], 117: [(2, True, True), (6, True, True)], 118: [(2, True, True), (6, True, True)], 119: [(2, True, True), (6, True, True)], 120: [(2, True, True), (6, True, True)], 121: [(2, True, True), (6, True, True)], 122: [(2, True, True), (6, True, True)], 123: [(2, True, True), (6, True, True)], 124: [(2, True, True), (6, True, True)], 125: [(2, True, True), (6, True, True), (10, False, False)], 126: [(2, False, True), (6, True, True), (10, False, False)], 127: [(2, False, True), (6, True, True), (10, False, False)], 128: [(2, True, True), (6, True, True)], 129: [(2, True, True), (6, True, True)], 130: [(6, True, True)], 131: [(6, True, True)], 132: [(6, True, True)], 133: [(6, True, True)], 134: [(6, True, True)], 135: [(6, True, True), (7, True, False), (10, False, False)], 136: [(6, True, True), (7, True, False), (10, False, False)], 137: [(6, True, True), (7, True, False), (10, False, False)], 138: [(6, True, True), (7, True, False), (10, False, False)], 139: [(6, True, True), (7, True, True), (10, False, True)], 140: [(6, True, True), (7, True, True), (10, False, True)], 141: [(6, True, True), (7, True, True), (10, False, True)], 142: [(6, True, True), (7, True, True), (10, False, True)], 143: [(6, True, True), (7, True, True), (10, False, True)], 144: [(6, True, True), (7, True, True), (10, False, True)], 145: [(6, True, True), (7, True, True), (10, False, True)], 146: [(6, True, True), (7, True, True), (10, False, True)], 147: [(6, True, True), (7, True, True), (10, False, True)], 148: [(6, True, True), (7, True, True), (10, False, True)], 149: [(6, True, True), (7, True, True), (10, False, True)], 150: [(6, True, True), (7, True, True), (10, False, True)], 151: [(6, True, True), (7, True, True), (10, False, True)], 152: [(6, True, True), (7, True, True), (10, False, True)], 153: [(6, True, True), (7, True, True), (10, False, True)], 154: [(6, True, True), (7, True, True), (10, False, True)], 155: [(6, True, True), (7, True, True), (10, False, True)], 156: [(6, False, True), (7, True, True), (10, False, False)], 157: [(6, True, True), (7, True, True)], 158: [(6, True, False), (7, True, True)], 159: [(6, True, False), (7, True, True)], 160: [(7, True, True)], 161: [(7, True, True)], 162: [(7, True, True)], 163: [(7, True, True)], 164: [(7, True, True), (10, False, False)], 165: [(7, True, True), (10, False, False)], 166: [(7, True, True), (10, False, False)], 167: [(7, True, True), (10, False, False)], 168: [(7, True, True), (10, False, False)], 169: [(7, True, True), (10, False, True)], 170: [(7, False, True), (10, False, True)], 171: [(7, False, True), (10, False, True)], 172: [(10, False, True)], 173: [(10, False, True)], 174: [(10, False, False)], 175: [(10, False, False)], 176: [(10, False, False)], 177: [(10, False, True)], 178: [(10, False, True)], 179: [(10, False, True)], 180: [(10, False, False)], 181: [(10, False, True)], 182: [(10, False, True)], 183: [(10, False, True)], 184: [(10, False, True)], 185: [(10, False, True)], 186: [(10, False, True)], 187: [(10, False, True)], 188: [(10, False, True)], 189: [(10, False, True)], 190: [(10, False, True)], 191: [(10, False, True)], 192: [(10, False, True)], 193: [(10, False, True)], 194: [(10, False, True)], 195: [(10, False, True)], 196: [(10, False, True)], 197: [(10, False, True)], 198: [(10, False, True)], 199: [(10, False, True)], 200: [(10, False, True)], 201: [(10, False, True)], 202: [(10, False, True)]}\n"
          ]
        }
      ]
    },
    {
      "cell_type": "code",
      "source": [
        "filepath = '/content/drive/MyDrive/Hardhats_vests/tracker_results/1/1.mp4'\n",
        "video = cv2.VideoCapture(filepath)\n",
        "fps = video.get(cv2.CAP_PROP_FPS)\n",
        "fps"
      ],
      "metadata": {
        "colab": {
          "base_uri": "https://localhost:8080/"
        },
        "id": "5Ui9vsVEYubB",
        "outputId": "b65b0ade-0096-408f-fd9f-fd9782cfa0d2"
      },
      "execution_count": null,
      "outputs": [
        {
          "output_type": "execute_result",
          "data": {
            "text/plain": [
              "12.025"
            ]
          },
          "metadata": {},
          "execution_count": 13
        }
      ]
    },
    {
      "cell_type": "code",
      "source": [
        "# Теперь, когда у нас есть словарь info, мы можем оценить в каком количестве кадров у человека детектится каска и жилет\n",
        "def get_good_bad_human(id, info, fps):\n",
        "    human_frames = []\n",
        "    hardhat_frames = []\n",
        "    vest_frames = []\n",
        "    for key, value in info.items():\n",
        "        for human in value:\n",
        "            if human[0] == id:\n",
        "                human_frames.append(key)\n",
        "                if human[1] == True:\n",
        "                    hardhat_frames.append(key)\n",
        "                if human[2] == True:\n",
        "                    vest_frames.append(key)\n",
        "    start_frame = min(human_frames)\n",
        "    end_frame = max(human_frames)\n",
        "    start_time = int(start_frame//fps)\n",
        "    end_time = int(end_frame//fps)\n",
        "    human_frames_n = len(human_frames)\n",
        "    hardhat_frames_n = len(hardhat_frames)\n",
        "    vest_frames_n = len(vest_frames)\n",
        "    violations_dict = {0 : 'all good!', 1 : 'no hat, no vest', 2 : 'no vest', 3 : 'no hat'}\n",
        "    print(f'Human {id} is detected in {human_frames_n} frames, we detect that he has a hat in {hardhat_frames_n} frames and vest in {vest_frames_n} frames.')\n",
        "    if hardhat_frames_n/human_frames_n >= 0.7 and vest_frames_n/human_frames_n >= 0.7:\n",
        "        violation_key = 0\n",
        "        print(f\"Human {id} is a good human. :-)\")\n",
        "    elif hardhat_frames_n/human_frames_n >= 0.7:\n",
        "        violation_key = 2\n",
        "        print(f'Human with id {id} is crossing with {violations_dict[violation_key]} in interval {start_time//60} min {start_time%60} sec - {end_time//60} min {end_time%60} sec.')\n",
        "    elif vest_frames_n/human_frames_n >= 0.7:\n",
        "        violation_key = 3\n",
        "        print(f'Human with id {id} is crossing with {violations_dict[violation_key]} in interval {start_time//60} min {start_time%60} sec - {end_time//60} min {end_time%60} sec.')\n",
        "    else:\n",
        "        violation_key = 1\n",
        "        print(f'Human with id {id} is crossing with {violations_dict[violation_key]} in interval {start_time//60} min {start_time%60} sec - {end_time//60} min {end_time%60} sec.')\n",
        "    return id, violation_key, start_time, end_time\n"
      ],
      "metadata": {
        "id": "5w251bA7p04_"
      },
      "execution_count": null,
      "outputs": []
    },
    {
      "cell_type": "code",
      "source": [
        "# Применим функцию get_good_bad_human к полученным ранее спискам вошедших и вышедших\n",
        "for id in ppl_who_came:\n",
        "    id, violation_key, start_time, end_time = get_good_bad_human(id, info, fps)"
      ],
      "metadata": {
        "colab": {
          "base_uri": "https://localhost:8080/"
        },
        "id": "nR_4kBYetKZV",
        "outputId": "92b89cd1-1528-4e99-b04a-43ebf945904f"
      },
      "execution_count": null,
      "outputs": [
        {
          "output_type": "stream",
          "name": "stdout",
          "text": [
            "Human 2 is detected in 47 frames, we detect that he has a hat in 43 frames and vest in 47 frames.\n",
            "Human 2 is a good human. :-)\n",
            "Human 6 is detected in 54 frames, we detect that he has a hat in 53 frames and vest in 52 frames.\n",
            "Human 6 is a good human. :-)\n",
            "Human 7 is detected in 42 frames, we detect that he has a hat in 38 frames and vest in 38 frames.\n",
            "Human 7 is a good human. :-)\n"
          ]
        }
      ]
    },
    {
      "cell_type": "code",
      "source": [
        "for id in ppl_who_left:\n",
        "    id, violation_key, start_time, end_time = get_good_bad_human(id, info, fps)"
      ],
      "metadata": {
        "id": "FSex8Lx-yUOf"
      },
      "execution_count": null,
      "outputs": []
    },
    {
      "cell_type": "markdown",
      "source": [
        "# Проверка работы алгоритма на данных с других видео"
      ],
      "metadata": {
        "id": "zD1xZldL5Swt"
      }
    },
    {
      "cell_type": "markdown",
      "source": [
        "Здесь берем данные с гугл-диска, которые уже были получены на локальном GPU\n",
        "\n",
        " (чтобы здесь повторно не пересчитывать то же самое)"
      ],
      "metadata": {
        "id": "o79iVsbh8oa4"
      }
    },
    {
      "cell_type": "code",
      "source": [
        "directory = '/content/drive/MyDrive/Hardhats_vests/tracker_results'\n",
        "# /content/drive/MyDrive/Hardhats_vests/tracker_results/1/tracks/1.txt"
      ],
      "metadata": {
        "id": "9VILt2r_5SUk"
      },
      "execution_count": null,
      "outputs": []
    },
    {
      "cell_type": "code",
      "source": [
        "for file_number in range(43):\n",
        "  filepath = directory + '/' + str(file_number) + '/tracks/' + str(file_number) + '.txt'\n",
        "  print(filepath)"
      ],
      "metadata": {
        "id": "tCX5I2aY9jxs"
      },
      "execution_count": null,
      "outputs": []
    },
    {
      "cell_type": "code",
      "source": [
        "def get_results(filepath):\n",
        "    # Загружаем данные из файла в Pandas DataFrame\n",
        "    data = pd.read_csv(filepath, header=None, sep=' ', usecols=[ 0, 1, 2, 3, 4, 5, 6, 7, 8, 9 ])\n",
        "    data.columns = [\"frame\", \"id\", \"class\", \"confidence\", \"bb_left\", \"bb_top\", \"bb_right\", \"bb_bottom\", \"cntrx\", \"cntry\"]\n",
        "    # Сортируем по значениям кадров и классов (по возрастанию)\n",
        "    data.sort_values(['frame','class'], ascending=[True, True], inplace=True)\n",
        "    # Создаем мультииндекс\n",
        "    data.set_index(['frame', 'class'], inplace=True)\n",
        "\n",
        "    # Применим функцию who_came_left и получим списки id прошедших людей.\n",
        "    ppl_who_came, ppl_who_left = who_came_left(data)\n",
        "    ppl_who_crossed = ppl_who_came + ppl_who_left\n",
        "    print(ppl_who_came, ppl_who_left)\n",
        "    came = len(ppl_who_came)\n",
        "    left = len(ppl_who_left)\n",
        "    print(f'{came} people came in')\n",
        "    print(f'{left} people left')\n",
        "\n",
        "    # Используем созданную функцию get_who_wears_what на данных\n",
        "    # Получаем словарь info:\n",
        "    # ключи - номера кадров,\n",
        "    # значения - списки кортежей, где каждый кортеж это:\n",
        "    # (id человека, True/False на наличие каски, True/False на наличие жилета)\n",
        "    info = {}\n",
        "    for frame, new_df in data.groupby(level=0):\n",
        "        current_frame = new_df.droplevel(0)\n",
        "        frame_info = get_who_wears_what(current_frame)\n",
        "        info[frame] = frame_info\n",
        "    print(info)\n",
        "\n",
        "    # Применим функцию get_good_bad_human к полученным ранее спискам вошедших и вышедших\n",
        "    violations = {}\n",
        "    for id in ppl_who_crossed:\n",
        "        id, violation_key, start_time, end_time = get_good_bad_human(id, info, fps)\n",
        "        if violation_key != 0:\n",
        "            if violation_key in violations:\n",
        "                violations[violation_key].append((start_time, end_time))\n",
        "            else:\n",
        "                violations[violation_key] = [(start_time, end_time)]\n",
        "    return came, left, violations"
      ],
      "metadata": {
        "id": "ooxo03ou_HlW"
      },
      "execution_count": null,
      "outputs": []
    },
    {
      "cell_type": "code",
      "source": [
        "came, left, violations = get_results('/content/drive/MyDrive/Hardhats_vests/tracker_results/1/tracks/1.txt')\n",
        "print(came, left, violations)"
      ],
      "metadata": {
        "colab": {
          "base_uri": "https://localhost:8080/"
        },
        "id": "OIBbERr1HwTi",
        "outputId": "205b40b8-ee37-4d65-e227-d92a4fa2f212"
      },
      "execution_count": null,
      "outputs": [
        {
          "output_type": "stream",
          "name": "stdout",
          "text": [
            "(0, 2)\n",
            "cntry_min = 249, cntry_max = 394\n",
            "cntry_start = 271, cntry_end = 394\n",
            "Human 2 moved 40% of the frame (vertically)\n",
            "Human 2 came in.\n",
            "(0, 6)\n",
            "cntry_min = 242, cntry_max = 425\n",
            "cntry_start = 248, cntry_end = 425\n",
            "Human 6 moved 50% of the frame (vertically)\n",
            "Human 6 came in.\n",
            "(0, 7)\n",
            "cntry_min = 266, cntry_max = 398\n",
            "cntry_start = 266, cntry_end = 398\n",
            "Human 7 moved 36% of the frame (vertically)\n",
            "Human 7 came in.\n",
            "(0, 10)\n",
            "cntry_min = 384, cntry_max = 396\n",
            "cntry_start = 391, cntry_end = 384\n",
            "Human 10 moved 3% of the frame (vertically)\n",
            "[2, 6, 7] []\n",
            "3 people came in\n",
            "0 people left\n",
            "{83: [(2, False, True)], 84: [(2, False, True)], 85: [(2, True, True)], 86: [(2, True, True)], 87: [(2, True, True)], 88: [(2, True, True)], 89: [(2, True, True)], 90: [(2, True, True)], 91: [(2, True, True)], 92: [(2, True, True)], 93: [(2, True, True)], 94: [(2, True, True)], 95: [(2, True, True), (6, True, True)], 96: [(2, True, True), (6, True, True)], 97: [(2, True, True), (6, True, True)], 98: [(2, True, True), (6, True, True)], 99: [(2, True, True), (6, True, True)], 100: [(2, True, True)], 101: [(2, True, True)], 102: [(2, True, True)], 103: [(2, True, True)], 104: [(2, True, True)], 105: [(2, True, True)], 106: [(2, True, True)], 107: [(2, True, True), (7, False, True)], 108: [(2, True, True), (7, False, True)], 109: [(2, True, True), (7, True, True)], 110: [(2, True, True), (7, True, True)], 111: [(2, True, True), (6, True, True), (7, True, True)], 112: [(2, True, True), (6, True, True)], 113: [(2, True, True), (6, True, True)], 114: [(2, True, True), (6, True, True)], 115: [(2, True, True), (6, True, True)], 116: [(2, True, True), (6, True, True)], 117: [(2, True, True), (6, True, True)], 118: [(2, True, True), (6, True, True)], 119: [(2, True, True), (6, True, True)], 120: [(2, True, True), (6, True, True)], 121: [(2, True, True), (6, True, True)], 122: [(2, True, True), (6, True, True)], 123: [(2, True, True), (6, True, True)], 124: [(2, True, True), (6, True, True)], 125: [(2, True, True), (6, True, True), (10, False, False)], 126: [(2, False, True), (6, True, True), (10, False, False)], 127: [(2, False, True), (6, True, True), (10, False, False)], 128: [(2, True, True), (6, True, True)], 129: [(2, True, True), (6, True, True)], 130: [(6, True, True)], 131: [(6, True, True)], 132: [(6, True, True)], 133: [(6, True, True)], 134: [(6, True, True)], 135: [(6, True, True), (7, True, False), (10, False, False)], 136: [(6, True, True), (7, True, False), (10, False, False)], 137: [(6, True, True), (7, True, False), (10, False, False)], 138: [(6, True, True), (7, True, False), (10, False, False)], 139: [(6, True, True), (7, True, True), (10, False, True)], 140: [(6, True, True), (7, True, True), (10, False, True)], 141: [(6, True, True), (7, True, True), (10, False, True)], 142: [(6, True, True), (7, True, True), (10, False, True)], 143: [(6, True, True), (7, True, True), (10, False, True)], 144: [(6, True, True), (7, True, True), (10, False, True)], 145: [(6, True, True), (7, True, True), (10, False, True)], 146: [(6, True, True), (7, True, True), (10, False, True)], 147: [(6, True, True), (7, True, True), (10, False, True)], 148: [(6, True, True), (7, True, True), (10, False, True)], 149: [(6, True, True), (7, True, True), (10, False, True)], 150: [(6, True, True), (7, True, True), (10, False, True)], 151: [(6, True, True), (7, True, True), (10, False, True)], 152: [(6, True, True), (7, True, True), (10, False, True)], 153: [(6, True, True), (7, True, True), (10, False, True)], 154: [(6, True, True), (7, True, True), (10, False, True)], 155: [(6, True, True), (7, True, True), (10, False, True)], 156: [(6, False, True), (7, True, True), (10, False, False)], 157: [(6, True, True), (7, True, True)], 158: [(6, True, False), (7, True, True)], 159: [(6, True, False), (7, True, True)], 160: [(7, True, True)], 161: [(7, True, True)], 162: [(7, True, True)], 163: [(7, True, True)], 164: [(7, True, True), (10, False, False)], 165: [(7, True, True), (10, False, False)], 166: [(7, True, True), (10, False, False)], 167: [(7, True, True), (10, False, False)], 168: [(7, True, True), (10, False, False)], 169: [(7, True, True), (10, False, True)], 170: [(7, False, True), (10, False, True)], 171: [(7, False, True), (10, False, True)], 172: [(10, False, True)], 173: [(10, False, True)], 174: [(10, False, False)], 175: [(10, False, False)], 176: [(10, False, False)], 177: [(10, False, True)], 178: [(10, False, True)], 179: [(10, False, True)], 180: [(10, False, False)], 181: [(10, False, True)], 182: [(10, False, True)], 183: [(10, False, True)], 184: [(10, False, True)], 185: [(10, False, True)], 186: [(10, False, True)], 187: [(10, False, True)], 188: [(10, False, True)], 189: [(10, False, True)], 190: [(10, False, True)], 191: [(10, False, True)], 192: [(10, False, True)], 193: [(10, False, True)], 194: [(10, False, True)], 195: [(10, False, True)], 196: [(10, False, True)], 197: [(10, False, True)], 198: [(10, False, True)], 199: [(10, False, True)], 200: [(10, False, True)], 201: [(10, False, True)], 202: [(10, False, True)]}\n",
            "Human 2 is detected in 47 frames, we detect that he has a hat in 43 frames and vest in 47 frames.\n",
            "Human 2 is a good human. :-)\n",
            "Human 6 is detected in 54 frames, we detect that he has a hat in 53 frames and vest in 52 frames.\n",
            "Human 6 is a good human. :-)\n",
            "Human 7 is detected in 42 frames, we detect that he has a hat in 38 frames and vest in 38 frames.\n",
            "Human 7 is a good human. :-)\n",
            "3 0 {}\n"
          ]
        }
      ]
    },
    {
      "cell_type": "code",
      "source": [
        "came, left, violations = get_results('/content/drive/MyDrive/Hardhats_vests/tracker_results/2/tracks/2.txt')\n",
        "print(came, left, violations)"
      ],
      "metadata": {
        "colab": {
          "base_uri": "https://localhost:8080/"
        },
        "id": "IX4usOUWNTlx",
        "outputId": "466c4d41-6f6f-4fd3-e72c-c5cd0b8a1f88"
      },
      "execution_count": null,
      "outputs": [
        {
          "output_type": "stream",
          "name": "stdout",
          "text": [
            "(0, 1)\n",
            "cntry_min = 276, cntry_max = 409\n",
            "cntry_start = 278, cntry_end = 409\n",
            "Human 1 moved 38% of the frame (vertically)\n",
            "Human 1 came in.\n",
            "(0, 5)\n",
            "cntry_min = 383, cntry_max = 398\n",
            "cntry_start = 398, cntry_end = 383\n",
            "Human 5 moved 4% of the frame (vertically)\n",
            "(0, 9)\n",
            "cntry_min = 388, cntry_max = 404\n",
            "cntry_start = 390, cntry_end = 403\n",
            "Human 9 moved 4% of the frame (vertically)\n",
            "(0, 11)\n",
            "cntry_min = 388, cntry_max = 416\n",
            "cntry_start = 399, cntry_end = 407\n",
            "Human 11 moved 8% of the frame (vertically)\n",
            "(0, 16)\n",
            "cntry_min = 291, cntry_max = 414\n",
            "cntry_start = 291, cntry_end = 414\n",
            "Human 16 moved 35% of the frame (vertically)\n",
            "Human 16 came in.\n",
            "(0, 20)\n",
            "cntry_min = 294, cntry_max = 417\n",
            "cntry_start = 294, cntry_end = 417\n",
            "Human 20 moved 35% of the frame (vertically)\n",
            "Human 20 came in.\n",
            "(0, 22)\n",
            "cntry_min = 391, cntry_max = 417\n",
            "cntry_start = 398, cntry_end = 396\n",
            "Human 22 moved 7% of the frame (vertically)\n",
            "(0, 27)\n",
            "cntry_min = 422, cntry_max = 427\n",
            "cntry_start = 422, cntry_end = 427\n",
            "Human 27 moved 1% of the frame (vertically)\n",
            "(0, 28)\n",
            "cntry_min = 376, cntry_max = 403\n",
            "cntry_start = 403, cntry_end = 376\n",
            "Human 28 moved 7% of the frame (vertically)\n",
            "[1, 16, 20] []\n",
            "3 people came in\n",
            "0 people left\n",
            "{63: [(1, False, False)], 64: [(1, False, False)], 65: [(1, False, False)], 66: [(1, False, False)], 67: [(1, False, False)], 68: [(1, False, False)], 69: [(1, False, False)], 70: [(1, False, False)], 71: [(1, False, True)], 72: [(1, False, True)], 73: [(1, False, True)], 74: [(1, False, True)], 75: [(1, False, True)], 76: [(1, False, True)], 77: [(1, False, True)], 78: [(1, False, True)], 79: [(1, False, True)], 80: [(1, False, True)], 81: [(1, False, True)], 82: [(1, False, True)], 83: [(1, False, True)], 84: [(1, False, True)], 85: [(1, False, True)], 86: [(1, False, True)], 87: [(1, False, True)], 88: [(1, False, True)], 89: [(1, False, True)], 90: [(1, False, True)], 91: [(1, False, True)], 92: [(1, False, True)], 93: [(1, False, True)], 94: [(1, False, True)], 95: [(1, False, True)], 96: [(1, False, True)], 97: [(1, False, True)], 98: [(1, False, True)], 99: [(1, False, True)], 100: [(1, False, True)], 101: [(1, False, True)], 102: [(1, False, True)], 103: [(1, False, True)], 104: [(1, False, False)], 105: [(1, False, False)], 106: [(1, False, False)], 107: [(1, False, True)], 108: [(1, False, True)], 109: [(1, False, True)], 110: [(1, False, True)], 111: [(1, False, True)], 112: [(1, False, False)], 113: [(1, False, False)], 114: [(1, False, False)], 115: [(1, False, False), (5, False, True)], 116: [(1, False, False), (5, False, True)], 117: [(1, False, False), (5, False, True)], 118: [(1, False, False), (5, False, True)], 119: [(1, False, False), (5, False, True)], 120: [(1, False, False), (5, False, False)], 121: [(1, False, False), (5, False, False)], 122: [(1, False, False), (5, False, False)], 123: [(1, False, False), (5, False, False)], 124: [(1, False, False)], 125: [(1, False, False)], 126: [(1, False, False)], 127: [(1, False, True)], 128: [(1, False, True)], 129: [(1, False, True)], 130: [(1, False, False)], 131: [(1, False, False)], 132: [(1, False, False)], 133: [(1, False, False)], 134: [(1, False, False)], 135: [(1, False, False)], 136: [(1, False, False)], 137: [(1, False, True), (5, False, False)], 138: [(1, False, True), (5, False, False)], 139: [(1, False, True), (5, False, False)], 140: [(1, False, True)], 141: [(1, False, True)], 142: [(1, False, True)], 143: [(1, False, True), (5, False, False)], 144: [(1, False, True), (5, False, False)], 145: [(1, False, True), (5, False, True)], 146: [(1, False, True), (5, False, True)], 147: [(1, False, True), (5, False, True)], 148: [(1, False, True), (5, False, False)], 149: [(1, False, True), (5, False, False)], 150: [(1, False, True), (5, False, False)], 151: [(1, False, True), (5, False, False)], 152: [(1, False, True), (5, False, False)], 153: [(1, False, True), (5, False, True)], 154: [(1, False, True), (5, False, True)], 155: [(1, False, True), (5, False, True)], 156: [(1, False, True), (5, False, True)], 157: [(1, False, True), (5, False, True)], 158: [(1, False, True), (5, False, True)], 159: [(1, False, True), (5, False, True)], 160: [(1, False, True), (5, False, True)], 161: [(1, False, True), (5, False, True)], 162: [(1, False, True), (5, False, True)], 163: [(1, False, True), (5, False, True)], 164: [(1, False, True), (5, False, True)], 165: [(1, False, True), (5, False, True)], 166: [(1, False, True), (5, False, True)], 167: [(1, False, True), (5, False, True)], 168: [(1, False, True), (5, False, True)], 169: [(1, False, True), (5, False, True)], 170: [(1, False, True), (5, False, True)], 171: [(1, False, True), (5, False, True)], 172: [(1, False, True), (5, False, True)], 173: [(1, False, True), (5, False, True)], 174: [(1, False, True), (5, False, True)], 175: [(1, False, True), (5, False, True)], 176: [(1, False, True), (5, False, True)], 177: [(1, False, True), (5, False, True)], 178: [(1, False, True)], 179: [(1, False, True)], 180: [(1, False, True)], 181: [(1, False, True)], 182: [(1, False, True)], 183: [(1, False, True)], 184: [(1, False, True)], 185: [(1, False, True)], 186: [(1, False, True)], 187: [(1, False, True)], 188: [(1, False, True)], 189: [(1, False, True)], 190: [(1, False, True)], 191: [(1, False, True)], 192: [(1, False, True)], 193: [(1, False, True)], 194: [(1, False, True)], 195: [(1, False, True)], 196: [(1, False, True)], 197: [(1, False, True)], 198: [(1, False, True)], 199: [(1, False, True)], 200: [(1, False, True)], 201: [(1, False, True)], 202: [(1, False, True)], 203: [(1, False, True)], 204: [(1, False, True)], 205: [(1, False, True)], 206: [(1, False, True)], 207: [(1, False, True)], 208: [(1, False, True)], 209: [(1, False, True)], 210: [(1, False, True)], 211: [(1, False, True)], 212: [(1, False, True)], 213: [(1, False, True)], 214: [(1, False, True)], 215: [(1, False, True)], 216: [(1, False, True)], 217: [(1, False, True)], 218: [(1, False, True)], 219: [(1, False, True)], 220: [(1, False, True)], 221: [(1, False, True)], 222: [(1, False, True)], 223: [(1, False, True)], 224: [(1, False, True)], 225: [(1, False, True)], 226: [(1, False, True)], 227: [(1, False, True)], 228: [(1, False, True)], 229: [(1, False, True)], 230: [(1, False, True)], 231: [(1, False, True)], 232: [(1, False, True)], 233: [(1, False, True)], 234: [(1, False, True)], 235: [(1, False, True)], 236: [(1, False, True)], 237: [(1, False, True)], 238: [(1, False, True)], 239: [(1, False, True)], 240: [(1, False, True)], 241: [(1, False, True)], 242: [(1, False, True)], 243: [(1, False, True)], 244: [(1, False, True)], 245: [(1, False, True)], 246: [(1, False, True)], 247: [(1, False, True)], 248: [(1, False, True)], 249: [(1, False, True)], 250: [(1, False, True)], 251: [(1, False, True)], 252: [(1, False, True)], 253: [(1, False, True)], 254: [(1, False, True)], 255: [(1, False, True)], 256: [(1, False, True)], 257: [(1, False, True)], 258: [(1, False, True)], 259: [(1, False, True)], 260: [(1, False, True)], 261: [(1, False, True)], 262: [(1, False, True)], 263: [(1, False, True)], 264: [(1, False, True)], 265: [(1, False, True)], 266: [(1, False, True)], 267: [(1, False, True)], 268: [(1, False, True)], 269: [(1, False, True)], 270: [(1, False, True)], 271: [(1, False, True)], 272: [(1, False, True)], 273: [(1, False, True)], 274: [(1, False, True)], 275: [(1, False, True)], 276: [(1, False, True)], 277: [(1, False, True)], 278: [(1, False, True)], 279: [(1, False, True)], 280: [(1, False, True)], 281: [(1, False, True)], 282: [(1, False, True)], 283: [(1, False, True)], 284: [(1, False, True)], 285: [(1, False, True)], 286: [(1, False, True)], 287: [(1, False, True)], 288: [(1, False, True)], 289: [(1, False, True)], 290: [(1, False, True)], 291: [(1, False, True)], 292: [(1, False, True)], 293: [(1, False, True), (9, False, True)], 294: [(1, False, True), (9, False, True)], 295: [(1, False, True), (9, False, True)], 296: [(1, False, True), (9, False, False)], 297: [(1, False, True), (9, False, True)], 298: [(1, False, True), (9, False, True)], 299: [(1, False, True), (9, False, True)], 300: [(1, False, True), (9, False, True)], 301: [(1, False, True), (9, False, True)], 302: [(1, False, True), (9, False, True)], 303: [(1, False, True), (9, False, True)], 304: [(1, False, True), (9, False, True)], 305: [(1, False, True), (9, False, True)], 306: [(1, False, True), (9, False, True)], 307: [(1, False, True), (9, False, True)], 308: [(1, False, True), (9, False, True)], 309: [(1, False, True), (9, False, True)], 310: [(1, False, True), (9, False, True)], 311: [(1, False, True), (9, False, True)], 312: [(1, False, True)], 313: [(1, False, True), (9, False, True)], 314: [(1, False, True), (9, False, True)], 315: [(1, False, True), (9, False, True)], 316: [(1, False, True), (9, False, False)], 317: [(1, False, True), (9, False, False)], 318: [(1, False, True), (9, False, False)], 319: [(1, False, True), (9, False, False)], 320: [(1, False, True), (9, False, False)], 321: [(1, False, True), (9, False, False)], 322: [(1, False, True)], 323: [(1, False, True), (9, False, False)], 324: [(1, False, True), (9, False, False)], 325: [(1, False, True), (9, False, False)], 326: [(1, False, True), (9, False, False)], 327: [(1, False, True), (9, False, False)], 328: [(1, False, True), (9, False, False)], 329: [(1, False, True), (9, False, False)], 330: [(1, False, True), (9, False, False)], 331: [(1, False, True), (9, False, True)], 332: [(1, False, True), (9, False, True)], 333: [(1, False, True), (9, False, True)], 334: [(1, False, True), (9, False, True)], 335: [(1, False, True), (9, False, True)], 336: [(1, False, True), (9, False, True)], 337: [(1, False, True), (9, False, True)], 338: [(1, False, True), (9, False, True)], 339: [(1, False, True), (9, False, True)], 340: [(1, False, True), (9, False, True)], 341: [(1, False, True), (9, False, True)], 342: [(1, False, True), (9, False, True)], 343: [(1, False, True), (9, False, True)], 344: [(1, False, True), (9, False, False)], 345: [(1, False, True), (9, False, False)], 346: [(1, False, True), (9, False, False)], 347: [(1, False, True), (9, False, False)], 348: [(1, False, True), (9, False, False)], 349: [(1, False, True), (9, False, False)], 350: [(1, False, True), (9, False, False)], 351: [(1, False, True), (9, False, True)], 352: [(1, False, True), (9, False, True)], 353: [(1, False, True), (9, False, True)], 354: [(1, False, True), (9, False, True)], 355: [(1, False, True), (9, False, True)], 356: [(1, False, True), (9, False, True)], 357: [(1, False, True), (9, False, True)], 358: [(1, False, True), (9, False, True)], 359: [(1, False, True), (9, False, True)], 360: [(1, False, True), (9, False, True)], 361: [(1, False, True), (9, False, True)], 362: [(1, False, True), (9, False, True)], 363: [(1, False, True), (9, False, True)], 364: [(1, False, True), (9, False, True)], 365: [(1, False, True), (9, False, True)], 366: [(1, False, True), (9, False, True)], 367: [(1, False, True), (9, False, True)], 368: [(1, False, True)], 369: [(1, False, True)], 370: [(1, False, True)], 371: [(1, False, True), (9, False, True)], 372: [(1, False, True), (9, False, True)], 373: [(1, False, True), (9, False, True)], 374: [(1, False, True), (9, False, True)], 375: [(1, False, True), (9, False, True)], 376: [(1, False, True), (9, False, True)], 377: [(1, False, True), (9, False, True)], 378: [(1, False, True), (9, False, False)], 379: [(1, False, True), (9, False, False)], 380: [(1, False, True)], 381: [(1, False, True)], 382: [(1, False, True)], 383: [(1, False, True)], 384: [(1, False, False)], 385: [(1, False, True)], 386: [(1, False, True)], 387: [(1, False, True)], 388: [(1, False, True)], 389: [(1, False, True)], 390: [(1, False, True)], 391: [(1, False, True), (9, False, False)], 392: [(1, False, True), (9, False, False)], 393: [(1, False, True), (9, False, False)], 394: [(1, False, True), (9, False, False)], 395: [(1, False, True), (9, False, True)], 396: [], 397: [], 398: [], 399: [(11, False, True)], 400: [(11, False, True)], 401: [(11, False, True)], 402: [(11, False, True)], 403: [(11, False, True)], 404: [(11, False, True)], 405: [(11, False, True)], 406: [(11, False, True)], 407: [(11, False, True)], 408: [(11, False, True)], 409: [(11, False, True)], 410: [(11, False, True)], 411: [(11, False, True)], 412: [(11, False, True)], 413: [(11, False, True)], 414: [(11, False, True)], 415: [(11, False, True)], 416: [(11, False, True)], 417: [(11, False, True)], 418: [(11, False, True)], 419: [(11, False, True)], 420: [(11, False, True)], 421: [(11, False, True)], 422: [], 423: [], 424: [], 425: [(11, False, True)], 426: [(11, False, True)], 427: [(11, False, True)], 428: [(11, False, True)], 429: [(11, False, True)], 430: [(11, False, True)], 431: [(9, False, True), (11, False, True)], 432: [(9, False, True), (11, False, True)], 433: [(9, False, True), (11, False, True)], 434: [(11, False, True)], 435: [(11, False, True)], 436: [(11, False, True)], 437: [(11, False, True)], 438: [(11, False, True)], 439: [(11, False, True)], 440: [(11, False, True)], 441: [(11, False, True)], 442: [(11, False, True)], 443: [(11, False, True)], 444: [(11, False, True)], 445: [(11, False, True)], 446: [(11, False, True)], 447: [(11, False, True)], 448: [(11, False, True)], 449: [(11, False, True)], 450: [(11, False, True)], 451: [(11, False, True)], 452: [(11, False, True)], 453: [(11, False, True)], 454: [(11, False, True)], 455: [(11, False, True)], 456: [(11, False, True)], 457: [(11, False, True)], 458: [(11, False, True)], 459: [(11, False, True)], 460: [(11, False, True)], 461: [(11, False, True)], 462: [(11, False, True)], 463: [(11, False, True)], 464: [(11, False, True)], 465: [(11, False, True)], 466: [(11, False, True)], 467: [(11, False, True)], 468: [(11, False, True)], 469: [(11, False, True)], 470: [(11, False, True)], 471: [(11, False, True)], 472: [(11, False, True)], 473: [(11, False, True)], 474: [(11, False, True)], 475: [(11, False, True)], 476: [(11, False, True)], 477: [(11, False, True)], 478: [(11, False, True)], 479: [(11, False, True)], 480: [(11, False, True)], 481: [(11, False, True)], 482: [(11, False, True)], 483: [(11, False, True)], 484: [(11, False, True)], 485: [(11, False, True)], 486: [(11, False, True)], 487: [(11, False, True)], 488: [(11, False, True)], 489: [(11, False, True)], 490: [(11, False, True)], 491: [(11, False, True)], 492: [(11, False, True)], 495: [(11, False, True)], 496: [(11, False, False)], 497: [(11, True, False)], 498: [(11, True, False)], 499: [(11, True, False)], 500: [(11, False, False)], 501: [(11, False, False)], 502: [(11, False, False)], 503: [(11, False, False)], 504: [(11, False, False)], 505: [(11, False, False)], 506: [(11, False, False)], 507: [(11, False, False)], 508: [(11, False, False)], 509: [(11, False, True)], 510: [(11, False, True)], 511: [(11, False, True)], 512: [(11, False, False)], 513: [(11, False, False)], 514: [(11, False, False)], 515: [(11, False, True)], 516: [], 517: [(11, False, True)], 518: [(11, False, False)], 519: [(11, False, False)], 520: [(11, False, False)], 521: [(11, False, False)], 522: [(11, False, False)], 523: [(11, False, False)], 524: [(11, False, False)], 525: [(11, True, False)], 526: [(11, True, False)], 527: [(11, True, False)], 528: [(11, True, False)], 529: [(11, True, False)], 530: [(11, True, False)], 531: [(11, True, False)], 532: [(11, True, False)], 533: [(11, True, False)], 534: [(11, True, False)], 537: [(11, True, False)], 538: [(11, True, False)], 539: [(11, True, False)], 540: [(11, True, False)], 541: [(11, True, False)], 542: [(11, True, False)], 543: [(11, True, False)], 544: [], 643: [], 645: [(16, False, True)], 646: [(16, False, True)], 647: [(16, False, True)], 648: [(16, False, False)], 649: [(16, False, False)], 650: [(16, False, False)], 651: [(16, False, True)], 652: [(16, False, True)], 653: [(16, True, True)], 654: [(16, True, True)], 655: [(16, True, True)], 656: [(16, True, True)], 657: [(16, True, True)], 658: [(16, True, True)], 659: [(16, True, True)], 660: [(16, True, True)], 661: [(16, True, True)], 662: [(16, True, True)], 663: [(16, True, True)], 664: [(16, True, True)], 665: [(16, True, True)], 666: [(16, True, True)], 667: [(16, True, True)], 668: [(16, True, True)], 669: [(16, True, True)], 670: [(16, True, True)], 671: [(16, True, True)], 672: [(16, True, True)], 673: [(16, True, True)], 674: [(16, True, True)], 675: [(16, True, True)], 676: [(16, True, True)], 677: [(16, True, True), (20, True, True)], 678: [(16, True, True), (20, True, True)], 679: [(16, True, True), (20, True, True)], 680: [(16, True, True), (20, True, True)], 681: [(16, True, True), (20, True, True)], 682: [(16, True, True)], 683: [(16, True, True), (22, False, False)], 684: [(16, True, True), (22, False, False)], 685: [(16, True, True), (22, False, True)], 686: [(16, True, True), (22, False, True)], 687: [(16, True, True), (22, False, True)], 688: [(16, True, True), (22, False, True)], 689: [(16, True, True), (22, False, True)], 690: [(16, True, True), (22, False, True)], 691: [(16, True, True), (20, True, True), (22, False, True)], 692: [(16, True, True), (20, True, True), (22, False, True)], 693: [(16, True, True), (20, True, True), (22, False, True)], 694: [(16, True, True), (20, True, True), (22, False, True)], 695: [(16, True, True), (20, True, True), (22, False, True)], 696: [(16, True, True), (20, True, True), (22, False, True)], 697: [(16, True, True), (20, True, True), (22, False, True)], 698: [(16, True, True), (20, True, True), (22, False, True)], 699: [(16, True, True), (20, True, True), (22, False, True)], 700: [(16, False, False), (20, True, True), (22, False, True)], 701: [(16, False, True), (20, True, True), (22, False, True)], 702: [(16, False, True), (20, True, True), (22, False, True)], 703: [(16, True, True), (20, True, True), (22, False, True)], 704: [(16, True, True), (20, True, True), (22, False, True)], 705: [(16, True, True), (20, True, True), (22, False, True)], 706: [(16, True, True), (20, True, True), (22, False, False)], 707: [(16, True, True), (20, True, True), (22, False, True)], 708: [(16, True, False), (20, True, True), (22, False, True)], 709: [(16, True, True), (20, True, True), (22, False, True)], 710: [(16, True, True), (20, True, True), (22, False, True)], 711: [(16, True, False), (20, True, True), (22, False, True), (27, True, False)], 712: [(20, True, True), (22, False, False), (27, False, False)], 713: [(20, True, True), (22, False, False), (27, False, False)], 714: [(20, True, True), (22, False, False)], 715: [(20, True, True), (22, False, False)], 716: [(20, True, True), (22, False, False)], 717: [(20, True, True), (22, False, False)], 718: [(20, True, True)], 719: [(20, True, True)], 720: [(20, True, True)], 721: [(20, True, True), (28, False, False)], 722: [(20, True, True), (28, False, False)], 723: [(20, True, True), (28, False, True)], 724: [(20, True, True), (28, False, True)], 725: [(20, True, True), (28, False, True)], 726: [(20, True, True), (28, False, True)], 727: [(20, True, True), (28, False, True)], 728: [(20, True, True), (28, False, True)], 729: [(20, True, True), (28, False, True)], 730: [(20, True, True), (28, False, True)], 731: [(20, True, True), (28, False, True)], 732: [(20, True, True), (28, False, True)], 733: [(20, True, True), (28, False, True)], 734: [(20, True, True), (28, False, True)], 735: [(20, True, True), (28, False, True)], 736: [(20, True, True), (28, False, True)], 737: [(20, True, True), (28, False, True)], 738: [(20, True, True), (28, False, True)], 739: [(20, True, True), (28, False, True)], 740: [(20, True, True), (28, False, True)], 741: [(20, True, True), (28, False, True)], 742: [(20, True, True), (28, False, True)], 743: [(20, True, True), (28, False, True)], 744: [(20, True, True), (28, False, True)], 745: [(20, True, True), (28, False, True)], 746: [(20, True, True), (28, False, True)], 747: [(20, True, True), (28, False, True)], 748: [(20, True, True), (28, False, True)], 749: [(20, True, True), (28, False, True)], 750: [(20, True, True), (28, False, True)], 751: [(20, True, True), (28, False, True)], 752: [(20, True, True), (28, False, True)], 753: [(20, True, True), (28, False, True)], 754: [(20, True, True), (28, False, True)], 755: [(20, True, True), (22, False, True), (28, False, True)], 756: [(20, True, True), (22, False, True)], 757: [(20, True, True), (22, False, True)], 758: [(20, True, True), (22, False, False)], 759: [(20, True, True), (22, False, False)], 760: [(20, True, True), (22, False, False)], 761: [(20, True, True), (22, False, False)], 762: [(20, True, True), (22, False, False)], 763: [(20, True, True), (22, False, False)], 764: [(20, True, True)], 765: [(20, True, True)], 766: [(20, True, True)], 767: [(20, True, True), (22, False, False)], 768: [(20, True, True), (22, False, False)], 769: [(20, True, True), (22, False, False)], 770: [(20, True, True)], 771: [(20, True, True)], 772: [(20, True, True)], 773: [(20, True, True)], 774: [(20, True, True)], 775: [(20, True, True), (22, False, False)], 776: [(20, True, True), (22, False, False)], 777: [(20, True, True), (22, False, False)], 778: [(20, True, True), (22, False, False)], 779: [(20, True, True), (22, False, False)], 780: [(20, True, True), (22, False, False)], 781: [(20, True, True), (22, False, False)], 782: [(20, True, True), (22, False, False)], 783: [(20, True, True), (22, False, False)], 784: [(20, True, False)], 785: [(20, True, False)], 786: [(20, True, False)], 787: [(20, True, False)], 788: [(20, True, False)], 793: [(20, True, False), (22, False, True)], 794: [(22, False, True)], 795: [(22, False, True), (28, False, True)], 796: [(28, False, True)], 797: [(28, False, True)], 798: [(28, False, True)], 799: [(28, False, True)], 800: [(28, False, True)], 801: [(28, False, True)], 802: [(28, False, True)], 803: [(28, False, True)], 804: [(28, False, True)], 805: [(28, False, True)], 806: [(28, False, True)], 807: [(28, False, True)], 808: [(28, False, True)], 809: [(28, False, True)], 810: [(28, False, True)], 811: [(28, False, True)], 812: [(28, False, True)], 813: [(28, False, True)], 814: [(28, False, True)], 815: [(28, False, True)], 816: [(28, False, True)]}\n",
            "Human 1 is detected in 333 frames, we detect that he has a hat in 0 frames and vest in 299 frames.\n",
            "Human with id 1 is crossing with no hat in interval 0 min 5 sec - 0 min 32 sec.\n",
            "Human 16 is detected in 67 frames, we detect that he has a hat in 56 frames and vest in 61 frames.\n",
            "Human 16 is a good human. :-)\n",
            "Human 20 is detected in 104 frames, we detect that he has a hat in 104 frames and vest in 98 frames.\n",
            "Human 20 is a good human. :-)\n",
            "3 0 {3: [(5, 32)]}\n"
          ]
        }
      ]
    },
    {
      "cell_type": "code",
      "source": [
        "came, left, violations = get_results('/content/drive/MyDrive/Hardhats_vests/tracker_results/3/tracks/3.txt')\n",
        "print(came, left, violations)"
      ],
      "metadata": {
        "colab": {
          "base_uri": "https://localhost:8080/"
        },
        "id": "uUSzQANVBWJN",
        "outputId": "87f8d071-bf1b-4b8c-a81e-ec04780c71ac"
      },
      "execution_count": null,
      "outputs": [
        {
          "output_type": "stream",
          "name": "stdout",
          "text": [
            "(0, 1)\n",
            "cntry_min = 296, cntry_max = 332\n",
            "cntry_start = 296, cntry_end = 325\n",
            "Human 1 moved 10% of the frame (vertically)\n",
            "(0, 4)\n",
            "cntry_min = 275, cntry_max = 308\n",
            "cntry_start = 275, cntry_end = 284\n",
            "Human 4 moved 9% of the frame (vertically)\n",
            "[] []\n",
            "0 people came in\n",
            "0 people left\n",
            "{46: [(1, False, False)], 47: [(1, False, False)], 48: [(1, False, False)], 49: [(1, False, False)], 50: [(1, False, False)], 51: [(1, False, False)], 52: [(1, False, False)], 53: [(1, False, False)], 54: [(1, False, False)], 55: [(1, False, False)], 56: [(1, False, False)], 57: [(1, False, False)], 58: [(1, False, False)], 59: [(1, False, False)], 60: [(1, False, False)], 61: [(1, False, False)], 62: [(1, False, False)], 63: [(1, False, False)], 64: [(1, False, False)], 65: [(1, False, False)], 66: [(1, False, False)], 67: [(1, False, False)], 68: [(1, False, False), (4, True, True)], 69: [(1, False, False), (4, True, True)], 70: [(1, False, False), (4, True, True)], 71: [(1, False, False), (4, True, True)], 72: [(1, False, False), (4, True, True)], 73: [(4, True, True)], 74: [(1, False, False), (4, True, True)], 75: [(1, False, False), (4, True, True)], 76: [(1, False, False), (4, True, True)], 77: [(1, False, False), (4, True, True)], 78: [(1, True, False), (4, True, True)], 79: [(1, True, False), (4, True, True)], 80: [(1, True, False), (4, True, True)], 81: [(1, True, False), (4, True, True)], 82: [(1, True, False), (4, True, True)], 83: [(1, True, False), (4, True, True)], 84: [(1, True, False), (4, True, True)], 85: [(1, True, False), (4, True, True)], 86: [(1, False, False), (4, True, True)], 87: [(1, False, False), (4, True, True)], 88: [(1, False, False), (4, True, True)], 89: [(1, False, False), (4, True, True)], 90: [(1, False, False), (4, True, True)], 91: [(1, False, False), (4, True, True)], 92: [(1, False, False), (4, True, True)], 93: [(1, False, False), (4, True, True)], 94: [(1, False, False), (4, True, True)], 95: [(1, False, False), (4, True, True)], 96: [(1, False, False), (4, True, True)], 97: [(1, False, False), (4, False, True)], 98: [(1, False, False), (4, True, True)], 99: [(4, True, True)], 100: [(1, False, False), (4, True, True)], 101: [(1, False, False), (4, True, True)], 102: [(1, False, False), (4, True, True)], 103: [(1, False, False), (4, True, True)], 104: [(1, False, False), (4, True, True)], 105: [(1, False, False), (4, True, True)], 106: [(1, False, False), (4, True, True)], 107: [(1, False, False), (4, True, True)], 108: [(1, False, False), (4, True, True)], 109: [(1, False, False), (4, True, True)], 110: [(1, False, False), (4, True, True)], 111: [(1, False, False), (4, True, True)], 112: [(1, False, False), (4, True, True)], 113: [(1, False, False), (4, True, True)], 114: [(1, False, False), (4, True, True)], 115: [(1, False, False), (4, True, True)], 116: [(1, False, False), (4, True, True)], 117: [(1, False, False), (4, True, True)], 118: [(1, False, False), (4, True, True)], 119: [(1, False, False), (4, True, True)], 120: [(1, False, False), (4, True, True)], 121: [(1, False, False), (4, True, True)], 122: [(1, False, False), (4, True, True)], 123: [(1, False, False), (4, True, True)], 124: [(1, False, False), (4, True, True)], 125: [(1, False, False), (4, True, True)], 126: [(1, False, False), (4, True, True)], 127: [(1, False, False), (4, True, True)], 128: [(1, False, False), (4, True, True)], 129: [(1, False, False), (4, True, True)], 130: [(1, False, False), (4, True, True)], 131: [(1, False, False), (4, True, True)], 132: [(1, False, False), (4, True, True)], 133: [(1, False, False), (4, True, True)], 134: [(1, False, False), (4, True, True)], 135: [(1, False, False), (4, True, True)], 136: [(1, False, False), (4, True, True)], 137: [(1, False, False), (4, True, True)], 138: [(1, False, False), (4, True, True)], 139: [(1, False, False), (4, True, True)], 140: [(1, False, False), (4, True, True)], 141: [(1, False, False), (4, True, True)], 142: [(1, False, False), (4, True, True)], 143: [(1, False, False), (4, True, True)], 144: [(1, False, False), (4, True, True)]}\n",
            "0 0 {}\n"
          ]
        }
      ]
    },
    {
      "cell_type": "code",
      "source": [
        "came, left, violations = get_results('/content/drive/MyDrive/Hardhats_vests/tracker_results/4/tracks/4.txt')\n",
        "print(came, left, violations)"
      ],
      "metadata": {
        "colab": {
          "base_uri": "https://localhost:8080/"
        },
        "id": "MHBlVS6UGqC7",
        "outputId": "b6dfbc5d-0381-4c4d-a16f-4ae4f1df4e29"
      },
      "execution_count": null,
      "outputs": [
        {
          "output_type": "stream",
          "name": "stdout",
          "text": [
            "(0, 1)\n",
            "cntry_min = 575, cntry_max = 827\n",
            "cntry_start = 575, cntry_end = 827\n",
            "Human 1 moved 35% of the frame (vertically)\n",
            "Human 1 came in.\n",
            "(0, 2)\n",
            "cntry_min = 853, cntry_max = 865\n",
            "cntry_start = 853, cntry_end = 865\n",
            "Human 2 moved 1% of the frame (vertically)\n",
            "(0, 6)\n",
            "cntry_min = 562, cntry_max = 832\n",
            "cntry_start = 562, cntry_end = 832\n",
            "Human 6 moved 38% of the frame (vertically)\n",
            "Human 6 came in.\n",
            "(0, 7)\n",
            "cntry_min = 768, cntry_max = 786\n",
            "cntry_start = 784, cntry_end = 768\n",
            "Human 7 moved 2% of the frame (vertically)\n",
            "(0, 9)\n",
            "cntry_min = 573, cntry_max = 590\n",
            "cntry_start = 573, cntry_end = 576\n",
            "Human 9 moved 2% of the frame (vertically)\n",
            "(0, 12)\n",
            "cntry_min = 757, cntry_max = 787\n",
            "cntry_start = 787, cntry_end = 757\n",
            "Human 12 moved 4% of the frame (vertically)\n",
            "(0, 15)\n",
            "cntry_min = 583, cntry_max = 796\n",
            "cntry_start = 588, cntry_end = 796\n",
            "Human 15 moved 30% of the frame (vertically)\n",
            "Human 15 came in.\n",
            "(0, 18)\n",
            "cntry_min = 562, cntry_max = 830\n",
            "cntry_start = 564, cntry_end = 830\n",
            "Human 18 moved 37% of the frame (vertically)\n",
            "Human 18 came in.\n",
            "[1, 6, 15, 18] []\n",
            "4 people came in\n",
            "0 people left\n",
            "{88: [(1, False, True)], 89: [(1, False, True)], 90: [(1, True, True)], 91: [(1, True, True)], 92: [(1, True, True)], 93: [(1, True, True)], 94: [(1, True, True)], 95: [(1, True, True)], 96: [(1, True, True)], 97: [(1, True, True)], 98: [(1, True, True)], 99: [(1, True, True)], 100: [(1, True, True)], 101: [(1, True, True)], 102: [(1, True, True)], 103: [(1, True, True)], 104: [(1, True, True)], 105: [(1, True, True)], 106: [(1, True, True)], 107: [(1, True, True)], 108: [(1, True, True)], 109: [(1, True, True)], 110: [(1, True, True)], 111: [(1, True, True)], 112: [(1, True, True)], 113: [(1, True, True)], 114: [(1, True, True)], 115: [(1, True, True)], 116: [(1, True, True)], 117: [(1, True, True)], 118: [(1, True, True)], 119: [(1, True, True)], 120: [(1, True, True)], 121: [(1, True, True)], 122: [(1, True, True)], 123: [(1, True, True)], 124: [(1, True, True)], 125: [(1, True, True)], 126: [(1, True, True)], 127: [(1, True, True)], 128: [(1, True, True)], 129: [(1, True, True)], 130: [(1, True, True)], 131: [(1, True, True)], 132: [(1, True, True)], 133: [(1, True, True)], 134: [(1, True, True)], 135: [(1, True, True)], 136: [(1, True, True)], 137: [(1, True, True)], 138: [(1, True, True)], 139: [(1, False, True)], 140: [(1, True, True)], 141: [(1, True, True)], 142: [(2, True, True)], 143: [(2, True, True)], 212: [(2, True, True)], 214: [(6, False, False)], 215: [(6, False, False)], 216: [(6, False, False)], 217: [(6, False, False)], 218: [(6, False, False)], 219: [(6, False, False)], 220: [(6, False, False)], 221: [(6, False, False)], 222: [(6, False, False)], 223: [(6, False, False)], 224: [(6, False, False)], 225: [(6, False, False)], 226: [(6, False, False)], 227: [(6, False, False)], 228: [(6, False, False)], 229: [(6, False, False)], 230: [(6, False, False)], 231: [(6, False, False)], 232: [(6, False, False)], 233: [(6, False, False)], 234: [(6, False, False)], 235: [(6, False, False)], 236: [(6, False, False)], 237: [(6, False, False)], 238: [(6, False, False)], 239: [(6, False, False)], 240: [(6, False, False)], 241: [(6, False, False)], 242: [(6, False, False)], 243: [(6, False, False)], 244: [(6, False, False)], 245: [(6, False, False)], 246: [(6, False, False)], 247: [(6, False, False)], 248: [(6, False, False)], 249: [(6, False, False)], 250: [(6, False, False)], 251: [(6, False, False)], 252: [(6, False, False)], 253: [(6, False, False)], 254: [(6, False, False)], 255: [(6, False, False)], 256: [(6, False, False)], 257: [(6, False, False)], 258: [(6, False, False)], 259: [(6, False, False)], 260: [(6, False, False)], 261: [(6, False, False)], 262: [(6, False, False)], 263: [(6, False, False)], 264: [(6, False, False)], 265: [(6, False, False)], 266: [(6, False, False)], 267: [(6, False, False)], 268: [(6, False, False)], 269: [(6, False, False)], 270: [(6, False, False)], 271: [(6, False, False)], 272: [(6, False, False)], 273: [(6, False, False)], 274: [(6, False, False)], 275: [(6, False, False)], 276: [(6, False, False)], 277: [(6, False, False)], 278: [(6, False, False)], 279: [(6, False, False)], 280: [(6, False, False)], 281: [(6, False, False)], 282: [(6, False, False)], 283: [(6, False, False)], 284: [(6, False, False)], 285: [(6, False, False)], 286: [(6, False, False)], 287: [(6, False, False)], 288: [(6, False, False)], 289: [(6, False, False)], 290: [(6, False, False)], 291: [(6, False, False)], 292: [(6, False, False)], 293: [(6, False, False)], 294: [(6, False, False)], 295: [(6, False, False)], 296: [(6, False, False)], 297: [(6, False, False)], 298: [(6, False, False)], 299: [(6, False, False)], 300: [(6, False, False), (7, False, False)], 301: [(6, False, False), (7, False, False)], 302: [(6, False, False), (7, False, False)], 303: [(6, False, False), (7, False, False)], 304: [(6, False, False), (7, False, False)], 305: [(6, False, False), (7, False, False)], 306: [(6, False, False), (7, False, False)], 307: [(6, False, False), (7, False, False)], 308: [(6, False, False), (7, False, False)], 309: [(6, False, False), (7, False, False)], 310: [(6, False, False), (7, False, False)], 311: [(6, False, False), (7, False, False)], 312: [(6, False, False), (7, False, False)], 313: [(6, False, False), (7, False, False)], 314: [(6, False, False), (7, False, False)], 315: [(6, False, False), (7, False, False)], 316: [(6, False, False), (7, False, True)], 317: [(6, False, False), (7, False, True)], 318: [(6, False, False), (7, False, True)], 319: [(6, False, False), (7, False, True)], 320: [(6, False, False), (7, False, True), (9, False, False)], 321: [(6, False, False), (7, False, True), (9, False, False)], 322: [(6, False, False), (7, False, True), (9, False, False)], 323: [(6, False, False), (7, False, True), (9, False, False)], 324: [(6, False, False), (7, False, True), (9, False, False)], 325: [(6, False, False), (7, False, True), (9, False, False)], 326: [(6, False, False), (7, False, True), (9, False, False)], 327: [(6, False, False), (7, False, True), (9, False, False)], 328: [(6, False, False), (7, False, True), (9, False, False)], 329: [(6, False, False), (7, False, True), (9, False, False)], 330: [(6, False, False), (7, False, True), (9, False, False)], 331: [(6, False, False), (7, False, True), (9, False, False)], 332: [(6, False, False), (7, False, True), (9, False, False)], 333: [(6, False, False), (7, False, True), (9, False, False)], 334: [(6, False, False), (7, False, True), (9, False, False)], 335: [(6, False, False), (7, False, True), (9, False, False)], 336: [(6, False, False), (7, False, True), (9, False, False)], 337: [(6, False, False), (7, False, True), (9, False, False)], 338: [(6, False, False), (7, False, True), (9, False, False)], 339: [(6, False, False), (7, False, True), (9, False, False)], 340: [(6, False, False), (7, False, True), (9, False, False)], 341: [(6, False, False), (7, False, True), (9, False, False)], 342: [(6, False, False), (7, False, True), (9, False, False)], 343: [(6, False, False), (7, False, True), (9, False, False)], 344: [(6, False, False), (7, False, True), (9, False, False)], 345: [(6, False, False), (7, False, True), (9, False, False)], 346: [(6, False, False), (7, False, True), (9, False, False)], 347: [(6, False, False), (7, False, True), (9, False, False)], 348: [(6, False, False), (7, False, True), (9, False, False)], 349: [(6, False, False), (7, False, True), (9, False, False)], 350: [(6, False, False), (7, False, True), (9, False, False)], 351: [(6, False, False), (7, False, True), (9, False, False)], 352: [(6, False, False), (7, False, True), (9, False, False)], 353: [(6, False, False), (7, False, True), (9, False, False)], 354: [(6, False, False), (7, False, True), (9, False, False)], 355: [(6, False, False), (7, False, True), (9, False, False)], 356: [(6, False, False), (7, False, True), (9, False, False)], 357: [(6, False, False), (9, False, False)], 358: [(6, False, False), (7, False, True), (9, False, False)], 359: [(6, False, False), (7, False, True), (9, False, False)], 360: [(6, False, False), (7, False, True), (9, False, False)], 361: [(6, False, False), (7, False, True), (9, False, False)], 362: [(6, False, False), (7, False, True), (9, False, False)], 363: [(6, False, False), (7, False, True), (9, False, False)], 364: [(6, False, False), (7, False, True), (9, False, False)], 365: [(6, False, False), (7, False, True), (9, False, False)], 366: [(6, False, False), (7, False, True), (9, False, False)], 367: [(6, False, False), (7, False, True), (9, False, False)], 368: [(6, False, False), (7, False, True), (9, False, False)], 369: [(6, False, False), (7, False, True), (9, False, False)], 370: [(6, False, False), (7, False, True), (9, False, False)], 371: [(6, False, False), (7, False, True), (9, False, False)], 372: [(6, False, False), (7, False, True), (9, False, False)], 373: [(6, False, False), (7, False, True), (9, False, False)], 374: [(6, False, False), (7, False, True), (9, False, False)], 375: [(6, False, False), (7, False, True), (9, False, False)], 376: [(6, False, False), (7, False, True), (9, False, False)], 377: [(6, False, False), (7, False, True), (9, False, False)], 378: [(6, False, False), (7, False, True), (9, False, False)], 379: [(6, False, False), (7, False, True), (9, False, False)], 380: [(6, False, False), (7, False, True), (9, False, False)], 381: [(6, False, False), (7, False, True), (9, False, False)], 382: [(6, False, False), (7, False, True), (9, False, False)], 383: [(6, False, False), (7, False, True), (9, False, False)], 384: [(6, False, False), (7, False, True), (9, False, False)], 385: [(6, False, False), (7, False, True), (9, False, False)], 386: [(6, False, False), (7, False, True), (9, False, False)], 387: [(6, False, False), (7, False, True), (9, False, False)], 388: [(6, False, False), (7, False, True), (9, False, False)], 389: [(6, False, False), (7, False, True), (9, False, False)], 390: [(6, False, False), (7, False, True), (9, False, False)], 391: [(6, False, False), (7, False, True), (9, False, False)], 392: [(6, False, False), (7, False, True), (9, False, False)], 393: [(6, False, False), (7, False, True), (9, False, False)], 394: [(6, False, False), (7, False, True), (9, False, False)], 395: [(6, False, False), (7, False, True), (9, False, False)], 396: [(6, False, False), (7, False, True), (9, False, False)], 397: [(6, False, False), (7, False, True), (9, False, False)], 398: [(6, False, False), (7, False, True), (9, False, False)], 399: [(6, False, False), (7, False, True), (9, False, False)], 400: [(6, False, False), (7, False, True), (9, False, False)], 401: [(6, False, False), (7, False, True), (9, False, False)], 402: [(6, False, False), (7, False, True), (9, False, False)], 403: [(6, False, False), (7, False, True), (9, False, False)], 404: [(6, False, False), (7, False, True), (9, False, False)], 405: [(6, False, False), (7, False, True), (9, False, False)], 406: [(6, False, False), (7, False, True), (9, False, False)], 407: [(6, False, False), (7, False, True), (9, False, False)], 408: [(6, False, False), (7, False, True), (9, False, False)], 409: [(6, False, False), (7, False, True), (9, False, False)], 410: [(6, False, False), (7, False, True), (9, False, False)], 411: [(6, False, False), (7, False, True), (9, False, False)], 412: [(6, False, False), (7, False, True), (9, False, False)], 413: [(6, False, False), (7, False, True), (9, False, False)], 414: [(6, False, False), (7, False, True), (9, False, False)], 415: [(6, False, False), (7, False, True), (9, False, False)], 416: [(6, False, False), (7, False, True), (9, False, False)], 417: [(6, False, False), (7, False, True), (9, False, False)], 418: [(6, False, False), (7, False, True), (9, False, False)], 419: [(6, False, False), (7, False, True), (9, False, False)], 420: [(6, False, False), (7, False, True), (9, False, False)], 421: [(6, False, False), (7, False, True), (9, False, False)], 422: [(6, False, False), (7, False, True), (9, False, False)], 423: [(6, False, False), (7, False, True), (9, False, False)], 424: [(6, False, False), (7, False, True), (9, False, False)], 425: [(6, False, False), (7, False, True), (9, False, False)], 426: [(6, False, False), (7, False, True), (9, False, False)], 427: [(6, False, False), (7, False, True), (9, False, False)], 428: [(6, False, False), (7, False, True), (9, False, False)], 429: [(6, False, False), (7, False, True), (9, False, False)], 430: [(6, False, False), (7, False, True), (9, False, False)], 431: [(6, False, False), (7, False, True), (9, False, False)], 432: [(6, False, False), (7, False, True), (9, False, False)], 433: [(6, False, False), (7, False, True), (9, False, False)], 434: [(6, False, False), (7, False, True), (9, False, False)], 435: [(6, False, False), (7, False, True), (9, False, False)], 436: [(6, False, False), (7, False, True), (9, False, False)], 437: [(6, False, False), (7, False, True), (9, False, False)], 438: [(6, False, False), (7, False, True), (9, False, False)], 439: [(6, False, False), (7, False, True), (9, False, False)], 440: [(6, False, False), (7, False, True), (9, False, False)], 441: [(6, False, False), (7, False, True), (9, False, False)], 442: [(6, False, False), (7, False, True), (9, False, False)], 443: [(6, False, False), (7, False, True), (9, False, False)], 444: [(6, False, False), (7, False, True), (9, False, False)], 445: [(6, False, False), (7, False, True), (9, False, False)], 446: [(6, False, False), (7, False, True), (9, False, False)], 447: [(6, False, False), (7, False, True), (9, False, False)], 448: [(6, False, False), (7, False, True), (9, False, False)], 449: [(6, False, False), (7, False, True), (9, False, False)], 450: [(6, False, False), (7, False, True), (9, False, False)], 451: [(6, False, False), (7, False, True), (9, False, False)], 452: [(6, False, False), (7, False, True), (9, False, False)], 453: [(6, False, False), (7, False, True), (9, False, False)], 454: [(6, False, False), (7, False, True), (9, False, False)], 455: [(6, False, False), (7, False, True), (9, False, False)], 456: [(6, False, False), (7, False, True), (9, False, False)], 457: [(6, False, False), (7, False, True), (9, False, False)], 458: [(6, False, False), (7, False, True), (9, False, False)], 459: [(6, False, False), (7, False, True), (9, False, False)], 460: [(6, False, False), (7, False, True), (9, False, False)], 461: [(6, False, False), (7, False, True), (9, False, False)], 462: [(6, False, False), (7, False, True), (9, False, False)], 463: [(6, False, False), (7, False, True), (9, False, False)], 464: [(6, False, False), (7, False, True), (9, False, False)], 465: [(6, False, False), (7, False, True), (9, False, False)], 466: [(6, False, False), (7, False, True), (9, False, False)], 467: [(6, False, False), (7, False, True), (9, False, False)], 468: [(6, False, False), (7, False, True), (9, False, False)], 469: [(6, False, False), (7, False, True), (9, False, False)], 470: [(6, False, False), (7, False, True), (9, False, False)], 471: [(6, False, False), (7, False, True), (9, False, False)], 472: [(6, False, False), (7, False, True), (9, False, False)], 473: [(6, False, False), (9, False, False)], 474: [(6, False, False), (7, False, True), (9, False, False)], 475: [(6, False, False), (7, False, True), (9, False, False)], 476: [(6, False, False), (7, False, True), (9, False, False)], 477: [(6, False, False), (9, False, False)], 478: [(6, False, False), (9, False, False)], 479: [(6, False, False), (9, False, False)], 480: [(6, False, False), (9, False, False)], 481: [(6, False, False), (9, False, False)], 482: [(6, False, False), (9, False, False)], 483: [(6, False, False), (9, False, False)], 484: [(6, False, False), (9, False, False)], 485: [(6, False, False), (9, False, False)], 486: [(6, False, False), (9, False, False)], 487: [(6, False, False), (9, False, False)], 488: [(6, False, False), (9, False, False)], 489: [(6, False, False), (9, False, False)], 490: [(6, False, False), (9, False, False)], 491: [(6, False, False), (9, False, False)], 492: [(6, False, False), (9, False, False)], 493: [(6, False, False), (9, False, False)], 494: [(6, False, False), (9, False, False)], 495: [(6, False, False), (9, False, False)], 496: [(6, False, False), (9, False, False)], 497: [(6, False, False), (9, False, False)], 498: [(6, False, False), (9, False, False)], 499: [(6, False, False), (9, False, False)], 500: [(6, False, False), (9, False, False)], 501: [(6, False, False), (9, False, False)], 502: [(6, False, False), (9, False, False)], 503: [(6, False, False), (9, False, False)], 504: [(6, False, False), (9, False, False)], 505: [(6, False, False), (9, False, False)], 506: [(6, False, False), (9, False, False)], 507: [(6, False, False), (9, False, False)], 508: [(6, False, False), (9, False, False)], 509: [(6, False, False), (9, False, False)], 510: [(6, False, False), (9, False, False)], 511: [(6, False, False), (9, False, False)], 512: [(6, False, False), (9, False, False)], 513: [(6, False, False), (9, False, False)], 514: [(6, False, False), (9, False, False)], 515: [(6, False, False), (9, False, False)], 516: [(6, False, False), (9, False, False)], 517: [(6, False, False), (9, False, False)], 518: [(6, False, False), (9, False, False)], 519: [(6, False, False), (9, False, False)], 520: [(6, False, False), (9, False, False)], 521: [(6, False, False), (9, False, False)], 522: [(6, False, False), (9, False, False)], 523: [(6, False, False), (9, False, False)], 524: [(6, False, False), (9, False, False)], 525: [(6, False, False), (9, False, False)], 526: [(6, False, False), (9, False, False)], 527: [(6, False, False), (9, False, False)], 528: [(6, False, False), (9, False, False)], 529: [(6, False, False), (9, False, False)], 530: [(6, False, False), (9, False, False)], 531: [(6, False, False), (9, False, False)], 532: [(6, False, False), (9, False, False)], 533: [(6, False, False), (9, False, False)], 534: [(6, False, False), (9, False, False)], 535: [(6, False, False), (9, False, False)], 536: [(6, False, False), (9, False, False)], 537: [(6, False, False), (9, False, False)], 538: [(6, False, False), (9, False, False)], 539: [(6, False, False), (9, False, False)], 540: [(6, False, False), (9, False, False)], 541: [(6, False, False), (9, False, False)], 542: [(6, False, False), (9, False, False)], 543: [(6, False, False), (9, False, False)], 544: [(6, False, False), (9, False, False)], 545: [(6, False, False), (9, False, False)], 546: [(6, False, False), (9, False, False)], 547: [(6, False, False), (9, False, False)], 548: [(6, False, False), (9, False, False)], 549: [(6, False, False), (9, False, False)], 550: [(6, False, False), (9, False, False)], 551: [(6, False, False), (9, False, False)], 552: [(6, False, False), (9, False, False)], 553: [(6, False, False), (9, False, False)], 554: [(6, False, False), (9, False, False)], 555: [(6, False, False), (9, False, False)], 556: [(6, False, False), (9, False, False)], 557: [(6, False, False), (9, False, False)], 558: [(6, False, False), (9, False, False)], 559: [(6, False, False), (9, False, False)], 560: [(6, False, False), (9, False, False)], 561: [(6, False, False), (9, False, False)], 562: [(6, False, False), (9, False, False)], 563: [(6, False, False), (9, False, False)], 564: [(6, False, False), (9, False, False)], 565: [(6, False, False), (9, False, False)], 566: [(6, False, False), (9, False, False)], 567: [(6, False, False), (9, False, False)], 568: [(6, False, False), (9, False, False)], 569: [(6, False, False), (9, False, False)], 570: [(6, False, False), (9, False, False)], 571: [(6, False, False), (9, False, False)], 572: [(6, False, False), (9, False, False)], 573: [(6, False, False), (9, False, False)], 574: [(6, False, False), (9, False, False)], 575: [(6, False, False), (9, False, False)], 576: [(6, False, False), (9, False, False)], 577: [(6, False, False), (9, False, False)], 578: [(6, False, False), (9, False, False)], 579: [(6, False, False), (9, False, False)], 580: [(6, False, False), (9, False, False)], 581: [(6, False, False), (9, False, False)], 582: [(6, False, False), (9, False, False)], 583: [(6, False, False), (9, False, False)], 584: [(6, False, False), (9, False, False)], 585: [(6, False, False), (9, False, False)], 586: [(6, False, False), (9, False, False)], 587: [(6, False, False)], 588: [(6, False, False)], 589: [(6, False, False)], 590: [(6, False, False)], 591: [(6, False, False)], 592: [(6, False, False), (9, False, False)], 593: [(6, False, False), (9, False, False)], 594: [(6, False, False), (9, False, False)], 595: [(6, False, False), (9, False, False)], 596: [(6, False, False), (9, False, False)], 597: [(6, False, False), (9, False, False)], 598: [(6, False, False), (9, False, False)], 599: [(6, False, False)], 600: [(6, False, False)], 601: [(6, False, False)], 602: [(6, False, False)], 603: [(6, False, False)], 604: [(6, False, False)], 605: [(6, False, False)], 606: [(6, False, False)], 607: [(6, False, False)], 608: [(6, False, False)], 609: [(6, False, False)], 610: [(6, False, False)], 611: [(6, False, False)], 612: [(6, False, False)], 613: [(6, False, False)], 614: [(6, False, False)], 615: [(6, False, False)], 616: [(6, False, False)], 617: [(6, False, False)], 618: [(6, False, False)], 619: [(6, False, False)], 620: [(6, False, False)], 621: [(6, False, False)], 622: [(6, False, False)], 623: [(6, False, False)], 624: [(6, False, False)], 625: [(6, False, False)], 626: [(6, False, False)], 627: [(6, False, False)], 628: [(6, False, False)], 629: [(6, False, False)], 630: [(6, False, False)], 631: [(6, False, False)], 632: [(6, False, False)], 633: [(6, False, False)], 634: [(6, False, False)], 635: [(6, False, False)], 636: [(6, False, False)], 637: [(6, False, False)], 638: [(6, False, False)], 639: [(6, False, False)], 640: [(6, False, False)], 641: [(6, False, False)], 642: [(6, False, False)], 643: [(6, False, False)], 644: [(6, False, False)], 645: [(6, False, False)], 646: [(6, False, False)], 647: [(6, False, False)], 648: [(6, False, False)], 649: [(6, False, False)], 650: [(6, False, False)], 651: [(6, False, False)], 652: [(6, False, False)], 653: [(6, False, False)], 654: [(6, False, False)], 655: [(6, False, False)], 656: [(6, False, False)], 657: [(6, False, False)], 658: [(6, False, False)], 659: [(6, False, False)], 660: [(6, False, False)], 661: [(6, False, False)], 662: [(6, False, False)], 663: [(6, False, False)], 664: [(6, False, False)], 665: [(6, False, False)], 666: [(6, False, False)], 667: [(6, False, False)], 668: [(6, False, False)], 669: [(6, False, False)], 670: [(6, False, False)], 671: [(6, False, False)], 672: [(6, False, False)], 673: [(6, False, False)], 674: [(6, False, False)], 675: [(6, False, False)], 676: [(6, False, False)], 677: [(6, False, False)], 678: [(6, False, False)], 679: [(6, False, False)], 680: [(6, False, False)], 681: [(6, False, False)], 682: [(6, False, False)], 683: [(6, False, False)], 684: [(6, False, False)], 685: [(6, False, False)], 686: [(6, False, False)], 687: [(6, False, False)], 688: [(6, False, False)], 689: [(6, False, False)], 690: [(6, False, False)], 691: [(6, False, False)], 692: [(6, False, False)], 693: [(6, False, False)], 694: [(6, False, False)], 695: [(6, False, False)], 696: [(6, False, False)], 697: [(6, False, False)], 698: [(6, False, False)], 699: [(6, False, False)], 700: [(6, False, False)], 701: [(6, False, False)], 702: [(6, False, False)], 703: [(6, False, False)], 704: [(6, False, False)], 705: [(6, False, False)], 706: [(6, False, False)], 707: [(6, False, False)], 708: [(6, False, False)], 709: [(6, False, False)], 710: [(6, False, False)], 711: [(6, False, False)], 712: [(6, False, False)], 713: [(6, False, False)], 714: [(6, False, False)], 715: [(6, False, False)], 716: [(6, False, False)], 717: [(6, False, False)], 718: [(6, False, False)], 719: [(6, False, False)], 720: [(6, False, False)], 721: [(6, False, False)], 722: [(6, False, False)], 723: [(6, False, False)], 724: [(6, False, False)], 725: [(6, False, False)], 726: [(6, False, False)], 727: [(6, False, False)], 728: [(6, False, False)], 729: [(6, False, False)], 730: [(6, False, False)], 731: [(6, False, False)], 732: [(6, False, False)], 733: [(6, False, False)], 734: [(6, False, False)], 735: [(6, False, False)], 736: [(6, False, False)], 737: [(6, False, False)], 738: [(6, False, False)], 739: [(6, False, False)], 740: [(6, False, False)], 741: [(6, False, False)], 742: [(6, False, False)], 743: [(6, False, False)], 744: [(6, False, False)], 745: [(6, False, False)], 746: [(6, False, False)], 747: [(6, False, False)], 748: [(6, False, False)], 749: [(6, False, False)], 750: [(6, False, False)], 751: [(6, False, False)], 752: [(6, False, False)], 753: [(6, False, False)], 754: [(6, False, False)], 755: [(6, False, False)], 756: [(6, False, False)], 757: [(6, False, False)], 758: [(6, False, False)], 759: [(6, False, False)], 760: [(6, False, False)], 761: [(6, False, False)], 762: [(6, False, False)], 763: [(6, False, False)], 764: [(6, False, False)], 765: [(6, False, False)], 766: [(6, False, False)], 767: [(6, False, False)], 768: [(6, False, False)], 769: [(6, False, False)], 770: [(6, False, False)], 771: [(6, False, False)], 772: [(6, False, False)], 773: [(6, False, False)], 774: [(6, False, False)], 775: [(6, False, False)], 776: [(6, False, False)], 777: [(6, False, False)], 778: [(6, False, False)], 779: [(6, False, False)], 780: [(6, False, False)], 781: [(6, False, False)], 782: [(6, False, False)], 783: [(6, False, False)], 784: [(6, False, False)], 785: [(6, False, False)], 786: [(6, False, False)], 787: [(6, False, False)], 788: [(6, False, False)], 789: [(6, False, False)], 790: [(6, False, False)], 791: [(6, False, False)], 792: [(6, False, False)], 793: [(6, False, False)], 794: [(6, False, False)], 795: [(6, False, False)], 796: [(6, False, False)], 797: [(6, False, False)], 798: [(6, False, False)], 799: [(6, False, False)], 800: [(6, False, False)], 801: [(6, False, False)], 802: [(6, False, False)], 803: [(6, False, False)], 804: [(6, False, False)], 805: [(6, False, False)], 806: [(6, False, False)], 807: [(6, False, False)], 808: [(6, False, False)], 809: [(6, False, False)], 810: [(6, False, False)], 811: [(6, False, False)], 812: [(6, False, False)], 813: [(6, False, False)], 814: [(6, False, False)], 815: [(6, False, False)], 816: [(6, False, False)], 817: [(6, False, False)], 818: [(6, False, False)], 819: [(6, False, False)], 820: [(6, False, False)], 821: [(6, False, False)], 822: [(6, False, False)], 823: [(6, False, False)], 824: [(6, False, False)], 825: [(6, False, False)], 826: [(6, False, False)], 827: [(6, False, False)], 828: [(6, False, False)], 829: [(6, False, False)], 830: [(6, False, False)], 831: [(6, False, False)], 832: [(6, False, False)], 833: [(6, False, False)], 834: [(6, False, False)], 835: [(6, False, False)], 836: [(6, False, False)], 837: [(6, False, False)], 838: [(6, False, False)], 839: [(6, False, False)], 840: [(6, False, False)], 841: [(6, False, False)], 842: [(6, False, False)], 843: [(6, False, False)], 844: [(6, False, False)], 845: [(6, False, False)], 846: [(6, False, False)], 847: [(6, False, False)], 848: [(6, False, False)], 849: [(6, False, False)], 850: [(6, False, False)], 851: [(6, False, False)], 852: [(6, False, False)], 853: [(6, False, False)], 854: [(6, False, False)], 855: [(6, False, False)], 856: [(6, False, False)], 857: [(6, False, False)], 858: [(6, False, False)], 859: [(6, False, False)], 860: [(6, False, False)], 861: [(6, False, False)], 862: [(6, False, False)], 863: [(6, False, False)], 864: [(6, False, False)], 865: [(6, False, False)], 866: [(6, False, False)], 867: [(6, False, False)], 868: [(6, False, False)], 869: [(6, False, False)], 870: [(6, False, False)], 871: [(6, False, False)], 872: [(6, False, False)], 873: [(6, False, False)], 874: [(6, False, False)], 875: [(6, False, False)], 876: [(6, False, False)], 877: [(6, False, False)], 878: [(6, False, False)], 879: [(6, False, False)], 880: [(6, False, False)], 881: [(6, False, False)], 882: [(6, False, False)], 883: [(6, False, False)], 884: [(6, False, False)], 885: [(6, False, False)], 886: [(6, False, False)], 887: [(6, False, False)], 888: [(6, False, False)], 889: [(6, False, False)], 890: [(6, False, False)], 891: [(6, False, False)], 892: [(6, False, False)], 893: [(6, False, False)], 894: [(6, False, False)], 895: [(6, False, False)], 896: [(6, False, False)], 897: [(6, False, False)], 898: [(6, False, False)], 899: [(6, False, False)], 900: [(6, False, False)], 901: [(6, False, False)], 902: [(6, False, False)], 903: [(6, False, False)], 904: [(6, False, False)], 905: [(6, False, False)], 906: [(6, False, False)], 907: [(6, False, False)], 908: [(6, False, False)], 909: [(6, False, False)], 910: [(6, False, False)], 911: [(6, False, False)], 912: [(6, False, False)], 913: [(6, False, False)], 914: [(6, False, False)], 915: [(6, False, False)], 916: [(6, False, False)], 917: [(6, False, False)], 918: [(6, False, False)], 919: [(6, False, False)], 920: [(6, False, False)], 921: [(6, False, False)], 922: [(6, False, False)], 923: [(6, False, False)], 924: [(6, False, False)], 925: [(6, False, False)], 926: [(6, False, False)], 927: [(6, False, False)], 928: [(6, False, False)], 929: [(6, False, False)], 930: [(6, False, False)], 931: [(6, False, False)], 932: [(6, False, False)], 933: [(6, False, False)], 934: [(6, False, False)], 935: [(6, False, False)], 936: [(6, False, False)], 937: [(6, False, False)], 938: [(6, False, False)], 939: [(6, False, False)], 940: [(6, False, False)], 941: [(6, False, False)], 942: [(6, False, False)], 943: [(6, False, False)], 944: [(6, False, False)], 945: [(6, False, False)], 946: [(6, False, False)], 947: [(6, False, False)], 948: [(6, False, False)], 949: [(6, False, False)], 950: [(6, False, False)], 951: [(6, False, False)], 952: [(6, False, False)], 953: [(6, False, False)], 954: [(6, False, False)], 955: [(6, False, False)], 956: [(6, False, False)], 957: [(6, False, False)], 958: [(6, False, False)], 959: [(6, False, False)], 960: [(6, False, False)], 961: [(6, False, False)], 962: [(6, False, False)], 963: [(6, False, False)], 964: [(6, False, False)], 965: [(6, False, False)], 966: [(6, False, False)], 967: [(6, False, False)], 968: [(6, False, False)], 969: [(6, False, False)], 970: [(6, False, False)], 971: [(6, False, False)], 972: [(6, False, False)], 973: [(6, False, False)], 974: [(6, False, False)], 975: [(6, False, False)], 976: [(6, False, False)], 977: [(6, False, False)], 978: [(6, False, False)], 979: [(6, False, False)], 980: [(6, False, False)], 981: [(6, False, False)], 982: [(6, False, False)], 983: [(6, False, False)], 1006: [(6, False, False)], 1024: [], 1025: [], 1029: [(12, False, False)], 1030: [(12, False, False)], 1031: [(12, False, True)], 1032: [(12, False, True)], 1033: [(12, False, True)], 1034: [(12, False, True)], 1035: [(12, False, True)], 1036: [(12, False, True)], 1037: [(12, False, True)], 1038: [(12, False, True)], 1039: [(12, False, True)], 1040: [(12, False, True)], 1041: [(12, False, True)], 1042: [(12, False, True)], 1043: [(12, False, True)], 1044: [(12, False, True)], 1045: [(12, False, True)], 1054: [(12, False, True)], 1055: [(12, False, True)], 1056: [(12, False, True)], 1057: [(12, False, True)], 1058: [(12, False, True)], 1059: [(12, False, True)], 1060: [(12, False, True)], 1061: [(12, False, True)], 1062: [(12, False, True)], 1063: [(12, False, True)], 1064: [(12, False, True)], 1065: [(12, False, True)], 1066: [(12, False, True)], 1067: [(12, False, True)], 1068: [(12, False, True)], 1069: [(12, False, True)], 1076: [(12, False, True)], 1077: [], 1078: [(12, False, True)], 1079: [(12, False, True)], 1080: [(12, False, True)], 1081: [(12, False, True)], 1082: [(12, False, True)], 1083: [], 1088: [], 1089: [], 1142: [], 1144: [(15, False, True)], 1145: [(15, False, True)], 1146: [(15, False, True)], 1147: [(15, False, True)], 1148: [(15, True, True)], 1149: [(15, True, True)], 1150: [(15, True, True)], 1151: [(15, True, True)], 1152: [(15, True, True)], 1153: [(15, True, True)], 1154: [(15, True, True)], 1155: [(15, True, True)], 1156: [(15, True, True)], 1157: [(15, True, True)], 1158: [(15, True, True)], 1159: [(15, True, True)], 1160: [(15, True, True)], 1161: [(15, True, True)], 1162: [(15, True, True)], 1163: [(15, True, True)], 1164: [(15, True, True)], 1165: [(15, True, True)], 1166: [(15, True, True)], 1167: [(15, True, True)], 1168: [(15, True, True)], 1169: [(15, True, True)], 1170: [(15, True, True)], 1171: [(15, True, True)], 1172: [(15, True, True)], 1173: [(15, True, True)], 1174: [(15, True, True)], 1175: [(15, True, True)], 1176: [(15, True, True)], 1177: [(15, True, True)], 1178: [(15, True, True)], 1179: [(15, True, True)], 1180: [(15, True, True), (18, False, True)], 1181: [(15, True, True), (18, False, True)], 1182: [(15, True, True), (18, True, True)], 1183: [(15, True, True)], 1184: [(15, True, True)], 1185: [(15, True, False)], 1186: [(15, True, False)], 1187: [(15, True, False)], 1188: [(15, True, False)], 1189: [(15, True, False)], 1190: [(15, True, False), (18, True, False)], 1191: [(15, True, False), (18, True, False)], 1192: [(15, True, False), (18, True, False)], 1193: [(15, True, False), (18, True, False)], 1194: [(15, True, False), (18, True, False)], 1195: [(15, True, False), (18, True, False)], 1196: [(15, True, True), (18, True, True)], 1197: [(15, True, True), (18, True, True)], 1198: [(15, True, True), (18, True, True)], 1199: [(15, True, True), (18, True, False)], 1200: [(15, True, True), (18, True, True)], 1201: [(15, False, True), (18, True, True)], 1202: [(15, False, True), (18, True, True)], 1203: [(15, False, False), (18, True, True)], 1204: [(15, False, False), (18, True, True)], 1205: [(18, True, True)], 1206: [(18, True, True)], 1207: [(18, True, True)], 1208: [(18, True, True)], 1209: [(18, True, True)], 1210: [(18, True, True)], 1211: [(18, True, True)], 1212: [(18, True, True)], 1213: [(18, True, True)], 1214: [(18, True, True)], 1215: [(18, True, True)], 1216: [(18, True, True)], 1217: [(18, True, True)], 1218: [(18, True, True)], 1219: [(18, True, True)], 1220: [(18, True, True)], 1221: [(18, True, True)], 1222: [(18, True, True)], 1223: [(18, True, True)], 1224: [(18, True, True)], 1225: [(18, True, True)], 1226: [(18, True, True)], 1227: [(18, True, True)], 1228: [(18, True, True)], 1229: [(18, True, True)], 1230: [(18, True, True)], 1231: [(18, True, True)], 1232: [(18, True, True)], 1233: [(18, True, True)], 1234: [(18, True, True)], 1235: [(18, True, True)], 1236: [(18, True, True)], 1237: [(18, True, True)], 1238: [(18, True, True)], 1239: [(18, True, True)], 1240: [(18, True, True)], 1241: [(18, True, True)], 1242: [(18, True, True)], 1243: [(18, True, True)], 1244: [(18, True, True)], 1245: [(18, True, True)], 1246: [(18, True, True)], 1247: [(18, True, False)], 1248: [(18, True, True)], 1249: [(18, True, True)], 1250: [(18, True, True)], 1251: [(18, True, True)], 1252: [(18, True, True)], 1253: [(18, True, True)], 1254: [(18, True, True)], 1255: [(18, True, False)]}\n",
            "Human 1 is detected in 54 frames, we detect that he has a hat in 51 frames and vest in 54 frames.\n",
            "Human 1 is a good human. :-)\n",
            "Human 6 is detected in 771 frames, we detect that he has a hat in 0 frames and vest in 0 frames.\n",
            "Human with id 6 is crossing with no hat, no vest in interval 0 min 17 sec - 1 min 23 sec.\n",
            "Human 15 is detected in 61 frames, we detect that he has a hat in 53 frames and vest in 48 frames.\n",
            "Human 15 is a good human. :-)\n",
            "Human 18 is detected in 69 frames, we detect that he has a hat in 67 frames and vest in 60 frames.\n",
            "Human 18 is a good human. :-)\n",
            "4 0 {1: [(17, 83)]}\n"
          ]
        }
      ]
    },
    {
      "cell_type": "code",
      "source": [
        "came, left, violations = get_results('/content/drive/MyDrive/Hardhats_vests/tracker_results/5/tracks/5.txt')\n",
        "print(came, left, violations)"
      ],
      "metadata": {
        "colab": {
          "base_uri": "https://localhost:8080/"
        },
        "id": "vvLp-qvAI_c9",
        "outputId": "fae67fcc-a72d-43ce-e098-7d779c9366b7"
      },
      "execution_count": null,
      "outputs": [
        {
          "output_type": "stream",
          "name": "stdout",
          "text": [
            "(0, 1)\n",
            "cntry_min = 290, cntry_max = 338\n",
            "cntry_start = 292, cntry_end = 290\n",
            "Human 1 moved 13% of the frame (vertically)\n",
            "(0, 3)\n",
            "cntry_min = 337, cntry_max = 429\n",
            "cntry_start = 396, cntry_end = 392\n",
            "Human 3 moved 26% of the frame (vertically)\n",
            "Human 3 came in.\n",
            "(0, 10)\n",
            "cntry_min = 285, cntry_max = 301\n",
            "cntry_start = 292, cntry_end = 293\n",
            "Human 10 moved 4% of the frame (vertically)\n",
            "[3] []\n",
            "1 people came in\n",
            "0 people left\n",
            "{51: [(1, False, True)], 52: [(1, False, True)], 53: [(1, False, True)], 54: [(1, False, True)], 55: [(1, False, True)], 56: [(1, False, True)], 57: [(1, False, True), (3, False, False)], 58: [(1, False, True), (3, False, False)], 59: [(1, False, True), (3, False, True)], 60: [(1, False, True), (3, False, True)], 61: [(1, False, True), (3, False, True)], 62: [(1, False, True), (3, False, True)], 63: [(1, False, True), (3, False, True)], 64: [(1, False, False), (3, False, True)], 65: [(1, False, False), (3, False, True)], 66: [(1, False, False), (3, False, False)], 67: [(1, False, False), (3, False, True)], 68: [(1, False, False), (3, False, True)], 69: [(1, False, False), (3, False, True)], 70: [(1, False, False), (3, False, True)], 71: [(1, False, True), (3, False, True)], 72: [(1, False, True), (3, False, True)], 73: [(1, False, True), (3, False, True)], 74: [(1, False, False), (3, False, True)], 75: [(1, False, False), (3, False, True)], 76: [(1, False, False), (3, False, True)], 77: [(1, False, True), (3, False, True)], 78: [(1, False, True), (3, False, True)], 79: [(1, False, True), (3, False, True)], 80: [(1, False, True), (3, False, True)], 81: [(1, False, True), (3, False, True)], 82: [(1, False, False), (3, False, True)], 83: [(1, False, False), (3, False, True)], 84: [(1, False, False), (3, False, True)], 85: [(1, False, True), (3, False, True)], 86: [(1, False, True), (3, False, True)], 87: [(1, False, True), (3, False, True)], 88: [(1, False, True), (3, False, True)], 89: [(1, False, True), (3, False, True)], 90: [(1, False, True), (3, False, True)], 91: [(1, False, True), (3, False, True)], 92: [(1, False, True), (3, False, True)], 93: [(1, False, True), (3, False, True)], 94: [(1, False, True), (3, False, True)], 95: [(1, False, True), (3, False, True)], 96: [(1, False, True), (3, False, True)], 97: [(1, False, True), (3, False, True)], 98: [(1, False, True), (3, False, True)], 99: [(1, False, True), (3, False, True)], 100: [(1, False, True), (3, False, True)], 101: [(1, False, True), (3, False, True)], 102: [(1, False, True), (3, False, True)], 103: [(1, False, True), (3, False, True)], 104: [(1, False, True), (3, False, True)], 105: [(1, False, True), (3, False, True)], 106: [(1, False, True), (3, False, True)], 107: [(1, False, True), (3, False, True)], 108: [(1, False, True), (3, False, True)], 109: [(1, False, True), (3, False, True)], 110: [(1, False, True), (3, False, True)], 111: [(1, False, True), (3, False, True)], 112: [(1, False, True), (3, False, True)], 113: [(1, False, True), (3, False, True)], 114: [(1, False, True), (3, False, True)], 115: [(1, False, True), (3, False, True)], 116: [(1, False, True), (3, False, True)], 117: [(1, False, True), (3, False, True)], 118: [(1, False, True), (3, False, True)], 119: [(1, False, True), (3, False, True)], 120: [(1, False, True), (3, False, True)], 121: [(1, False, True), (3, False, True)], 122: [(1, False, True), (3, False, True)], 123: [(1, False, True), (3, False, True)], 124: [(1, False, True), (3, False, True)], 125: [(1, False, True), (3, False, True)], 126: [(1, False, True), (3, False, True)], 127: [(1, False, True), (3, False, True)], 128: [(1, False, True), (3, False, True)], 129: [(1, False, True), (3, False, True)], 130: [(1, False, True), (3, False, True)], 131: [(1, False, True), (3, False, True)], 132: [(1, False, True), (3, False, True)], 133: [(1, False, True), (3, False, True)], 134: [(1, False, True), (3, False, True)], 135: [(1, False, True), (3, False, True)], 136: [(1, False, True), (3, False, True)], 137: [(1, False, True), (3, False, True)], 138: [(1, False, True), (3, False, True)], 139: [(1, False, True), (3, False, True)], 140: [(1, False, True), (3, False, True)], 141: [(1, False, True), (3, False, True)], 142: [(1, False, True), (3, False, True)], 143: [(1, False, True), (3, False, True)], 144: [(1, False, True), (3, False, True)], 145: [(1, False, True), (3, False, True)], 146: [(1, False, True), (3, False, True)], 147: [(1, False, True), (3, False, True)], 148: [(1, False, True), (3, False, True)], 149: [(1, False, True), (3, False, True)], 150: [(1, False, True), (3, False, True)], 151: [(1, False, True), (3, False, True)], 152: [(1, False, True), (3, False, True)], 153: [(1, False, True), (3, False, True)], 154: [(1, False, True), (3, False, True)], 155: [(1, False, True), (3, False, True)], 156: [(1, False, True), (3, False, True)], 157: [(1, False, True), (3, False, True)], 158: [(1, False, True), (3, False, True)], 159: [(1, False, True), (3, False, True)], 160: [(1, False, True), (3, False, True)], 161: [(1, False, True), (3, False, True)], 162: [(3, False, True)], 163: [(1, False, True), (3, False, True)], 164: [(1, False, True), (3, False, True)], 165: [(1, False, True), (3, False, True)], 166: [(1, False, True), (3, False, True)], 167: [(1, False, True), (3, False, True)], 168: [(1, False, True), (3, False, True)], 169: [(1, False, True), (3, False, True)], 170: [(1, False, True), (3, False, True)], 171: [(1, False, True), (3, False, True)], 172: [(1, False, True), (3, False, True)], 173: [(1, False, True), (3, False, True)], 174: [(1, False, True), (3, False, True)], 175: [(1, False, True), (3, False, True)], 176: [(1, False, True), (3, False, True)], 177: [(1, False, True), (3, False, True)], 178: [(1, False, True), (3, False, True)], 179: [(1, False, True), (3, False, True)], 180: [(1, False, True), (3, False, True)], 181: [(1, False, True), (3, False, True)], 182: [(1, False, True), (3, False, True)], 183: [(1, False, True), (3, False, True)], 184: [(1, False, True), (3, False, True)], 185: [(1, False, True), (3, False, True)], 186: [(1, False, True), (3, False, True)], 187: [(1, False, True), (3, False, True)], 188: [(1, False, True), (3, False, True)], 189: [(1, False, True), (3, False, True)], 190: [(1, False, True), (3, False, True)], 191: [(1, False, True), (3, False, True)], 192: [(1, False, True), (3, False, True)], 193: [(1, False, True), (3, False, True)], 194: [(1, False, True), (3, False, True)], 195: [(1, False, True), (3, False, True)], 196: [(1, False, True), (3, False, True)], 197: [(1, False, True), (3, False, True)], 198: [(1, False, True), (3, False, True)], 199: [(1, False, True), (3, False, True)], 200: [(1, False, True), (3, False, True)], 201: [(1, False, True), (3, False, True)], 202: [(1, False, True), (3, False, True)], 203: [(1, False, True), (3, False, True)], 204: [(1, False, True), (3, False, True)], 205: [(1, False, True), (3, False, True)], 206: [(1, False, True), (3, False, True)], 207: [(1, False, True), (3, False, True)], 208: [(1, False, True), (3, False, True)], 209: [(1, False, True), (3, False, True)], 210: [(1, False, True), (3, False, True)], 211: [(1, False, True), (3, False, True)], 212: [(1, False, True), (3, False, True)], 213: [(1, False, True), (3, False, True)], 214: [(1, False, True), (3, False, True)], 215: [(1, False, True), (3, False, True)], 216: [(1, False, True), (3, False, True)], 217: [(1, False, True), (3, False, True)], 218: [(1, False, True), (3, False, True)], 219: [(1, False, True), (3, False, True)], 220: [(1, False, True), (3, False, True)], 221: [(1, False, True), (3, False, True)], 222: [(1, False, True), (3, False, True)], 223: [(1, False, True), (3, False, True)], 224: [(1, False, True), (3, False, True)], 225: [(1, False, True), (3, False, True)], 226: [(1, False, True), (3, False, True)], 227: [(1, False, True), (3, False, True)], 228: [(1, False, True), (3, False, True)], 229: [(1, False, True), (3, False, True)], 230: [(1, False, True), (3, False, True)], 231: [(1, False, True), (3, False, True)], 232: [(1, False, True), (3, False, True)], 233: [(1, False, True), (3, False, True)], 234: [(1, False, True), (3, False, True)], 235: [(1, False, True), (3, False, True)], 236: [(1, False, True), (3, False, True)], 237: [(1, False, True), (3, False, True)], 238: [(1, False, True), (3, False, True)], 239: [(1, False, True), (3, False, True)], 240: [(1, False, True), (3, False, True)], 241: [(1, False, True), (3, False, True)], 242: [(1, False, True), (3, False, True)], 243: [(1, False, True), (3, False, True)], 244: [(1, False, True), (3, False, True)], 245: [(1, False, True), (3, False, True)], 246: [(1, False, True), (3, False, True)], 247: [(1, False, True), (3, False, True)], 248: [(1, False, True), (3, False, True)], 249: [(1, False, True), (3, False, True)], 250: [(1, False, True), (3, False, True)], 251: [(1, False, False), (3, False, True)], 252: [(1, False, False), (3, False, True)], 253: [(1, False, False), (3, False, True)], 254: [(1, False, False), (3, False, True)], 255: [(1, False, False), (3, False, True)], 256: [(1, False, False), (3, False, True)], 257: [(1, False, False), (3, False, True)], 258: [(1, False, False), (3, False, True)], 259: [(1, False, False), (3, False, True)], 260: [(1, False, False), (3, False, True)], 261: [(1, False, False), (3, False, True)], 262: [(1, False, False), (3, False, True)], 263: [(1, False, False), (3, False, True)], 264: [(1, False, False), (3, False, True)], 265: [(1, False, False), (3, False, True)], 266: [(1, False, False), (3, False, True)], 267: [(1, False, True), (3, False, True)], 268: [(1, False, True), (3, False, True)], 269: [(1, False, True), (3, False, True)], 270: [(1, False, True), (3, False, True)], 271: [(1, False, True), (3, False, True)], 272: [(1, False, True), (3, False, True)], 273: [(1, False, True), (3, False, True)], 274: [(1, False, True), (3, False, True)], 275: [(1, False, True), (3, False, True)], 276: [(1, False, True), (3, False, True)], 277: [(1, False, True), (3, False, True)], 278: [(1, False, True), (3, False, True)], 279: [(1, False, True), (3, False, True)], 280: [(3, False, True)], 281: [(3, False, True)], 282: [(3, False, True)], 283: [(3, False, True), (10, False, True)], 284: [(3, False, True), (10, False, True)], 285: [(3, False, True), (10, False, True)], 286: [(3, False, True), (10, False, True)], 287: [(3, False, True), (10, False, True)], 288: [(3, False, True), (10, False, True)], 289: [(3, False, True), (10, False, True)], 290: [(3, False, True), (10, False, True)], 291: [(3, False, True), (10, False, True)], 292: [(3, False, True), (10, False, True)], 293: [(3, False, True), (10, False, True)], 294: [(3, False, True), (10, False, True)], 295: [(3, False, True), (10, False, True)], 296: [(3, False, True), (10, False, True)], 297: [(3, False, True), (10, False, True)], 298: [(3, False, True), (10, False, True)], 299: [(3, False, True), (10, False, True)], 300: [(3, False, True), (10, False, True)], 301: [(3, False, True), (10, False, True)], 302: [(3, False, True), (10, False, True)], 303: [(3, False, True), (10, False, True)], 304: [(3, False, True), (10, False, True)], 305: [(3, False, True), (10, False, True)], 306: [(3, False, True), (10, False, True)], 307: [(3, False, True), (10, False, True)], 308: [(3, False, True), (10, False, True)], 309: [(3, False, True), (10, False, True)], 310: [(3, False, True), (10, False, True)], 311: [(3, False, True), (10, False, True)], 312: [(3, False, True), (10, False, True)], 313: [(3, False, True), (10, False, True)], 314: [(3, False, True), (10, False, True)], 315: [(3, False, True), (10, False, True)], 316: [(3, False, True), (10, False, True)], 317: [(3, False, True), (10, False, True)], 318: [(3, False, True), (10, False, True)], 319: [(3, False, True), (10, False, True)], 320: [(3, False, True), (10, False, True)], 321: [(3, False, True), (10, False, True)], 322: [(3, False, True)], 323: [(3, False, True)], 324: [(3, False, True)], 325: [(3, False, True), (10, False, True)], 326: [(3, False, True), (10, False, True)], 327: [(3, False, True), (10, False, True)], 328: [(3, False, True), (10, False, True)], 329: [(3, False, True), (10, False, True)], 330: [(3, False, True)], 331: [(3, False, True), (10, False, True)], 332: [(3, False, True), (10, False, True)], 333: [(3, False, True), (10, False, True)], 334: [(3, False, True), (10, False, True)], 335: [(3, False, True), (10, False, True)], 336: [(3, False, True), (10, False, True)], 337: [(3, False, True), (10, False, True)], 338: [(3, False, True), (10, False, True)], 339: [(3, False, True), (10, False, True)], 340: [(3, False, True), (10, False, True)], 341: [(3, False, True), (10, False, True)], 342: [(3, False, True)], 343: [(3, False, True)], 344: [(3, False, True)], 345: [(3, False, True)], 346: [(3, False, True)], 347: [(3, False, True)], 348: [(3, False, True)], 349: [(3, False, True)], 350: [(3, False, True)], 351: [(3, False, True), (10, False, True)], 352: [(3, False, True), (10, False, True)], 353: [(3, False, True), (10, False, True)], 354: [(3, False, True)], 355: [(3, False, True)], 356: [(3, False, True)], 357: [(3, False, True)], 358: [(3, False, True)], 359: [(3, False, True)], 360: [(3, False, True)], 361: [(3, False, True)], 362: [(3, False, True)], 363: [(3, False, True)], 364: [(3, False, True)], 365: [(3, False, True)], 366: [(3, False, True)], 367: [(3, False, True)], 368: [(3, False, True)], 369: [(3, False, True)], 370: [(3, False, True)], 371: [(3, False, True)], 372: [(3, False, True)], 373: [(3, False, True)], 374: [(3, False, True)], 375: [(3, False, True)], 376: [(3, False, True)], 377: [(3, False, True)], 378: [(3, False, True)], 379: [(3, False, True)], 380: [(3, False, True)], 381: [(3, False, True)], 382: [(3, False, True)], 383: [(3, False, True)], 384: [(3, False, True)], 385: [(3, False, True)], 386: [(3, False, True)], 387: [(3, False, True)], 388: [(3, False, True)], 389: [(3, False, True), (10, False, True)], 390: [(3, False, True), (10, False, True)], 391: [(3, False, True), (10, False, True)], 392: [(3, False, True)], 393: [(3, False, True), (10, False, True)], 394: [(3, False, True), (10, False, True)], 395: [(3, False, True), (10, False, True)], 396: [(3, False, True)], 397: [(3, False, True)], 398: [(3, False, True)], 399: [(3, False, True)], 400: [(3, False, True)], 401: [(3, False, True), (10, False, True)], 402: [(3, False, True), (10, False, True)], 403: [(3, False, True), (10, False, True)], 404: [(3, False, True)], 405: [(3, False, True), (10, False, True)], 406: [(3, False, True), (10, False, True)], 407: [(3, False, True), (10, False, True)], 408: [(3, False, True)], 409: [(3, False, True)], 410: [(3, False, True)], 411: [(3, False, True)], 412: [(3, False, True)], 413: [(3, False, True), (10, False, True)], 414: [(3, False, True), (10, False, True)], 415: [(3, False, True), (10, False, True)], 416: [(3, False, True)], 417: [(3, False, True)], 418: [(3, False, True)], 419: [(3, False, True)], 420: [(3, False, True)], 421: [(3, False, True)], 422: [(3, False, True)], 423: [(3, False, True)], 424: [(3, False, True)], 425: [(3, False, True)], 426: [(3, False, True)], 427: [(3, False, True)], 428: [(3, False, True)], 429: [(3, False, True)], 430: [(3, False, True)], 431: [(3, False, True)], 432: [(3, False, True)], 433: [(3, False, True)], 434: [(3, False, True)], 435: [(3, False, True)], 436: [(3, False, True)], 437: [(3, False, True)], 438: [(3, False, True)], 439: [(3, False, True)], 440: [(3, False, True)], 441: [(3, False, True)], 442: [(3, False, True)], 443: [(3, False, True)], 444: [(3, False, True)], 445: [(3, False, True)], 446: [(3, False, True)], 447: [(3, False, True)], 448: [(3, False, True)], 449: [(3, False, True)], 450: [(3, False, True)], 451: [(3, False, True)], 452: [(3, False, True)], 453: [(3, False, True)], 454: [(3, False, True)], 455: [(3, False, True)], 456: [(3, False, True)], 457: [(3, False, True)], 458: [(3, False, True)], 459: [(3, False, True)], 460: [(3, False, True)], 461: [(3, False, True)], 462: [(3, False, True)], 463: [(3, False, True)], 464: [(3, False, True)], 465: [(3, False, True)], 466: [(3, False, True)], 467: [(3, False, True)], 468: [(3, False, True)], 469: [(3, False, True)], 470: [(3, False, True)], 471: [(3, False, True)], 472: [(3, False, True)], 737: [(3, False, True)], 738: [(3, False, False)], 739: [(3, False, False)], 740: [(3, False, False)], 741: [(3, False, False)], 742: [(3, False, False)], 1183: [(3, False, False)], 1185: [], 1186: [], 1187: [], 1188: [], 1189: [(3, False, True)], 1190: [(3, False, True)], 1191: [(3, False, True)], 1192: [(3, False, True)], 1193: [(3, False, True)], 1194: [(3, False, True)], 1195: [(3, False, True)], 1196: [(3, False, True)], 1197: [(3, False, True)], 1198: [(3, False, True)], 1199: [(3, False, True)], 1200: [(3, False, True)], 1201: [(3, False, True)], 1202: [(3, False, True)], 1203: [(3, False, True)], 1204: [(3, False, True)], 1205: [(3, False, True)], 1206: [(3, False, True)], 1207: [(3, False, True)], 1208: [(3, False, True)], 1209: [(3, False, True)], 1210: [(3, False, True)], 1211: [(3, False, True)], 1212: [(3, False, True)], 1213: [(3, False, True)], 1214: [(3, False, True)], 1215: [(3, False, True)], 1216: [(3, False, True)], 1217: [(3, False, True)], 1218: [(3, False, True)], 1219: [(3, False, True)], 1220: [(3, False, True)], 1221: [(3, False, True)], 1222: [(3, False, True)]}\n",
            "Human 3 is detected in 457 frames, we detect that he has a hat in 0 frames and vest in 448 frames.\n",
            "Human with id 3 is crossing with no hat in interval 0 min 4 sec - 1 min 41 sec.\n",
            "1 0 {3: [(4, 101)]}\n"
          ]
        }
      ]
    },
    {
      "cell_type": "code",
      "source": [
        "came, left, violations = get_results('/content/drive/MyDrive/Hardhats_vests/tracker_results/6/tracks/6.txt')\n",
        "print(came, left, violations)"
      ],
      "metadata": {
        "colab": {
          "base_uri": "https://localhost:8080/"
        },
        "id": "ommebHwc1t7o",
        "outputId": "13583546-92fc-4f8b-add4-b5cc8c147593"
      },
      "execution_count": null,
      "outputs": [
        {
          "output_type": "stream",
          "name": "stdout",
          "text": [
            "(0, 1)\n",
            "cntry_min = 215, cntry_max = 451\n",
            "cntry_start = 399, cntry_end = 223\n",
            "Human 1 moved 37% of the frame (vertically)\n",
            "Human 1 left.\n",
            "(0, 3)\n",
            "cntry_min = 479, cntry_max = 498\n",
            "cntry_start = 498, cntry_end = 479\n",
            "Human 3 moved 3% of the frame (vertically)\n",
            "(0, 4)\n",
            "cntry_min = 248, cntry_max = 426\n",
            "cntry_start = 424, cntry_end = 248\n",
            "Human 4 moved 28% of the frame (vertically)\n",
            "Human 4 left.\n",
            "(0, 5)\n",
            "cntry_min = 300, cntry_max = 344\n",
            "cntry_start = 344, cntry_end = 300\n",
            "Human 5 moved 6% of the frame (vertically)\n",
            "(0, 6)\n",
            "cntry_min = 267, cntry_max = 295\n",
            "cntry_start = 295, cntry_end = 267\n",
            "Human 6 moved 4% of the frame (vertically)\n",
            "(0, 9)\n",
            "cntry_min = 234, cntry_max = 397\n",
            "cntry_start = 397, cntry_end = 234\n",
            "Human 9 moved 25% of the frame (vertically)\n",
            "Human 9 left.\n",
            "(0, 15)\n",
            "cntry_min = 224, cntry_max = 424\n",
            "cntry_start = 224, cntry_end = 424\n",
            "Human 15 moved 31% of the frame (vertically)\n",
            "Human 15 came in.\n",
            "(0, 20)\n",
            "cntry_min = 441, cntry_max = 447\n",
            "cntry_start = 447, cntry_end = 442\n",
            "Human 20 moved 0% of the frame (vertically)\n",
            "[15] [1, 4, 9]\n",
            "1 people came in\n",
            "3 people left\n",
            "{83: [(1, False, False)], 84: [(1, False, False)], 87: [(1, False, False)], 88: [(1, False, False)], 127: [(1, False, False)], 128: [(1, False, False)], 129: [(1, False, False)], 130: [(1, False, False)], 131: [(1, False, False)], 132: [(1, False, False)], 135: [(1, False, False)], 136: [(1, False, False)], 137: [(1, False, False)], 138: [(1, False, False)], 139: [(1, False, False)], 140: [(1, False, False)], 141: [(1, False, False)], 142: [(1, False, False)], 143: [(1, False, False)], 144: [(1, False, False)], 145: [(1, False, False)], 146: [(1, False, False)], 147: [(1, False, False)], 148: [(1, False, False)], 149: [(1, False, False)], 150: [(1, False, False)], 151: [(1, False, False)], 152: [(1, False, False)], 153: [(1, False, False)], 154: [(1, False, False)], 155: [(1, False, False)], 156: [(1, False, False)], 157: [(1, False, False)], 158: [(1, False, False)], 159: [(1, False, False), (3, False, False)], 160: [(1, False, False), (3, False, False)], 161: [(1, False, False), (3, False, False)], 162: [(1, False, False), (3, False, False)], 163: [(1, False, False), (3, False, False)], 164: [(1, False, False), (3, False, False)], 165: [(1, False, False), (3, False, False)], 166: [(1, False, False), (3, False, False)], 167: [(1, False, False), (3, False, False)], 168: [(1, False, False), (3, False, False)], 169: [(1, False, False), (3, False, False)], 170: [(1, False, False), (3, False, False)], 171: [(1, False, False), (3, False, False)], 172: [(1, False, False)], 173: [(1, False, False)], 174: [(1, False, False)], 175: [(1, False, False)], 176: [(1, False, False)], 177: [(1, False, False)], 178: [(1, False, False)], 179: [(1, False, False)], 180: [(1, False, False)], 181: [(1, False, False)], 182: [(1, False, False)], 183: [(1, False, False)], 184: [(1, False, False)], 185: [(1, False, False)], 186: [(1, False, False)], 187: [(1, False, False)], 188: [(1, False, False)], 189: [(1, False, False), (4, False, False)], 190: [(1, False, False), (4, False, False)], 191: [(1, False, False), (4, False, False)], 192: [(1, False, False), (4, False, False)], 193: [(1, False, False), (4, False, False)], 194: [(1, False, False), (4, False, False)], 195: [(1, False, False), (4, False, False)], 196: [(1, False, False), (4, False, False)], 197: [(1, False, False), (4, False, False)], 198: [(1, False, False), (4, False, False)], 199: [(1, False, False), (4, False, False)], 200: [(1, False, False), (4, False, False)], 201: [(1, False, False), (4, False, False)], 202: [(1, False, False), (4, False, False)], 203: [(1, False, False), (4, False, False)], 204: [(1, False, False), (4, False, False)], 205: [(1, False, False), (4, False, False)], 206: [(1, False, False), (4, False, False)], 207: [(1, False, False), (4, False, False)], 208: [(4, False, False)], 209: [(4, False, False)], 210: [(4, False, False)], 211: [(4, False, False)], 212: [(4, False, False)], 213: [(4, False, False)], 214: [(4, False, False)], 215: [(4, False, False)], 216: [(4, False, False)], 217: [(4, False, False)], 218: [(4, False, False)], 219: [(4, False, False)], 220: [(4, False, False)], 221: [(4, False, False), (5, False, False)], 222: [(4, False, False), (5, False, False)], 223: [(4, False, False), (5, False, False)], 224: [(4, False, False), (5, False, False)], 225: [(4, False, False), (5, False, False)], 226: [(4, False, False)], 227: [(4, False, False)], 228: [(4, False, False)], 229: [(4, False, False), (6, False, False)], 230: [(4, False, False), (6, False, False)], 231: [(4, False, False), (6, False, False)], 232: [(4, False, False), (6, False, False)], 233: [(4, False, False), (6, False, False)], 234: [(4, False, False), (6, False, False)], 235: [(4, False, False), (6, False, False)], 236: [(4, False, False), (6, False, False)], 237: [(4, False, False), (6, False, False)], 238: [(4, False, False)], 239: [(4, False, False)], 240: [(4, False, False)], 241: [(4, False, False)], 242: [(4, False, False)], 243: [(4, False, False)], 244: [(4, False, False)], 245: [(4, False, False)], 246: [(4, False, False)], 247: [(4, False, False)], 248: [(4, False, False)], 249: [(4, False, False)], 250: [(4, False, False)], 251: [(4, False, False)], 252: [(4, False, False)], 253: [(4, False, False)], 254: [(4, False, False)], 255: [(4, False, False)], 256: [(4, False, False)], 257: [(4, False, False)], 258: [(4, False, False)], 259: [(4, False, False)], 260: [(4, False, False)], 261: [(4, False, False)], 262: [(4, False, False)], 265: [(4, False, False)], 266: [(4, False, False)], 267: [(4, False, False)], 268: [(4, False, False)], 273: [(4, False, False)], 275: [(9, False, False)], 276: [(9, False, False)], 277: [(9, False, False)], 278: [(9, False, False)], 279: [(9, False, False)], 280: [(9, False, False)], 281: [(9, False, False)], 282: [(9, False, False)], 285: [(9, False, False)], 286: [(9, False, False)], 287: [(9, False, False)], 288: [(9, False, False)], 289: [(9, False, False)], 290: [(9, False, False)], 291: [(9, False, False)], 292: [(9, False, False)], 293: [(9, False, False)], 294: [(9, False, False)], 295: [(9, False, False)], 296: [(9, False, False)], 297: [(9, False, False)], 298: [(9, False, False)], 299: [(9, False, False)], 300: [(9, False, False)], 301: [(9, False, False)], 302: [(9, False, False)], 305: [(9, False, False)], 306: [(9, False, False)], 321: [(9, False, False)], 583: [], 584: [], 585: [(15, True, True)], 586: [(15, True, True)], 587: [(15, True, True)], 588: [(15, True, False)], 589: [(15, True, True)], 590: [(15, True, True)], 591: [(15, True, True)], 592: [(15, True, True)], 593: [(15, True, True)], 594: [(15, True, True)], 595: [(15, True, True)], 596: [(15, True, True)], 597: [(15, True, True)], 598: [(15, True, True)], 599: [(15, True, True)], 600: [(15, True, True)], 601: [(15, True, True)], 602: [(15, True, True)], 603: [(15, True, True)], 604: [(15, True, True)], 605: [(15, True, True)], 606: [(15, True, True)], 607: [(15, True, True)], 608: [(15, True, True)], 609: [(15, True, True)], 610: [(15, True, True)], 611: [(15, True, True)], 612: [(15, True, True)], 613: [(15, True, True)], 614: [(15, True, True)], 615: [(15, True, True)], 616: [(15, True, True)], 617: [(15, True, True)], 618: [(15, True, False)], 619: [(15, True, True)], 620: [(15, True, True)], 621: [(15, True, True)], 622: [(15, True, True)], 623: [(15, True, True)], 624: [(15, True, True)], 625: [(15, True, True)], 626: [(15, True, True)], 627: [(15, True, True)], 628: [(15, True, False)], 629: [(15, True, False)], 630: [(15, True, False)], 631: [(15, True, False)], 632: [(15, True, False)], 633: [(15, True, False)], 634: [(15, True, False)], 635: [(15, True, True)], 636: [(15, True, True)], 637: [(15, True, True)], 638: [(15, True, True)], 639: [(15, True, True)], 640: [(15, True, True)], 641: [(15, True, True)], 642: [(15, True, True)], 643: [(15, True, True)], 644: [(15, True, False)], 645: [(15, True, False)], 646: [(15, True, False)], 647: [(15, True, False)], 648: [(15, True, False)], 649: [(15, True, False)], 650: [(15, True, False)], 651: [(15, True, False)], 652: [(15, True, False)], 653: [(15, True, False)], 654: [(15, True, False)], 655: [(15, True, False)], 656: [(15, True, False)], 657: [(15, True, False)], 658: [(15, True, False)], 659: [(15, True, False)], 660: [(15, True, False)], 661: [(15, True, False)], 662: [(15, True, False)], 663: [(15, True, False)], 664: [(15, True, False)], 665: [(15, True, True)], 666: [(15, True, True)], 667: [(15, True, True)], 668: [(15, True, False)], 669: [(15, True, False)], 670: [(15, True, False)], 671: [(15, True, False)], 672: [(15, True, False)], 673: [(15, True, False)], 674: [(15, True, False)], 675: [(15, True, False)], 676: [(15, True, False)], 677: [(15, True, False)], 678: [(15, True, False)], 679: [(15, True, False)], 680: [(15, True, False)], 681: [(15, True, False)], 682: [(15, True, False)], 683: [(15, True, False)], 684: [(15, True, False)], 685: [(15, True, False)], 686: [(15, True, False)], 687: [(15, True, False)], 688: [(15, True, False)], 689: [(15, True, False)], 690: [(15, True, False)], 691: [(15, True, False)], 692: [(15, True, False)], 693: [(15, True, False)], 694: [(15, False, False)], 697: [(15, False, False)], 698: [], 705: [(15, False, False)], 706: [(15, False, False)], 707: [(15, True, False)], 708: [(15, True, False)], 709: [(15, True, False)], 710: [(15, True, False)], 711: [(15, True, False)], 712: [(15, True, False)], 713: [(15, True, False)], 714: [(15, True, False)], 715: [(15, True, False)], 716: [(15, True, False)], 717: [(15, True, False), (20, False, True)], 718: [(15, True, False), (20, False, True)], 719: [(15, True, False), (20, False, True)], 720: [(15, True, False), (20, False, True)], 721: [(15, True, False), (20, False, True)], 722: [(15, True, False), (20, False, True)], 723: [(15, True, False), (20, False, True)], 724: [(15, True, False), (20, False, True)], 725: [(15, True, False), (20, False, True)], 726: [(15, True, False), (20, False, True)], 727: [(15, True, False), (20, False, True)], 728: [(15, True, False), (20, False, True)], 729: [(15, True, False), (20, False, True)], 730: [(15, True, False), (20, False, True)], 731: [(15, True, False), (20, False, True)], 732: [(15, True, False), (20, False, True)], 733: [(15, True, False), (20, False, True)], 734: [(15, True, False), (20, False, True)], 735: [(15, True, False), (20, False, True)], 736: [(15, True, False), (20, False, True)], 737: [(15, True, False), (20, False, True)], 738: [(15, True, False), (20, False, True)], 739: [(15, True, False), (20, False, True)], 740: [(15, True, False), (20, False, True)], 741: [(15, True, False), (20, False, True)], 742: [(15, True, False), (20, False, True)], 743: [(15, True, False), (20, False, True)], 744: [(15, True, False), (20, False, True)], 745: [(15, True, False), (20, False, True)], 746: [(15, True, False), (20, False, True)], 747: [(15, True, False), (20, False, True)], 748: [(15, True, False), (20, False, True)], 749: [(15, True, False), (20, False, True)], 750: [(15, True, False), (20, False, True)], 751: [(15, True, False), (20, False, True)], 752: [(15, True, False), (20, False, False)], 753: [(15, True, False), (20, False, True)], 754: [(15, True, False), (20, False, True)], 755: [(15, True, False), (20, False, True)], 756: [(15, True, False), (20, False, True)], 757: [(15, True, False), (20, False, True)], 758: [(15, True, False), (20, False, False)], 759: [(15, True, False), (20, False, True)], 760: [(15, True, False), (20, False, True)], 761: [(15, True, False), (20, False, True)], 762: [(15, True, False), (20, False, False)], 763: [(15, True, False), (20, False, False)], 764: [(15, True, False), (20, False, False)], 765: [(15, True, False), (20, False, False)], 766: [(15, True, False), (20, False, False)], 767: [(15, True, False), (20, False, True)], 768: [(15, True, False), (20, False, True)], 769: [(15, True, False), (20, False, True)], 770: [(15, True, False), (20, False, False)], 771: [(15, True, False), (20, False, False)], 772: [(15, True, False), (20, False, False)], 773: [(15, True, False), (20, False, False)], 774: [(15, True, False), (20, False, False)], 775: [(15, True, False), (20, False, False)], 776: [(15, True, False), (20, False, False)], 777: [(15, True, False), (20, False, True)], 778: [(15, True, False), (20, False, True)], 779: [(15, True, False), (20, False, True)], 780: [(15, True, False), (20, False, False)], 781: [(15, True, False), (20, False, False)], 782: [(15, True, False), (20, False, False)], 783: [(15, True, False), (20, False, False)], 784: [(15, True, False), (20, False, False)], 785: [(15, True, False), (20, False, False)], 786: [(15, True, False), (20, False, False)], 787: [(15, True, False), (20, False, True)], 788: [(15, True, False), (20, False, True)], 789: [(15, True, False), (20, False, True)], 790: [(15, True, False), (20, False, True)], 791: [(15, True, False), (20, False, True)], 792: [(15, True, False), (20, False, True)], 793: [(15, True, False), (20, False, True)], 794: [(15, True, False), (20, False, True)], 795: [(15, True, False), (20, False, True)], 796: [(15, True, False), (20, False, True)], 797: [(15, True, False), (20, False, True)], 798: [(15, True, False), (20, False, True)], 799: [(15, True, False), (20, False, True)], 800: [(15, True, False), (20, False, True)], 801: [(15, True, False), (20, False, True)], 802: [(15, True, False), (20, False, True)], 803: [(15, True, False), (20, False, True)], 804: [(15, True, False), (20, False, True)], 805: [(15, True, False), (20, False, True)], 806: [(15, True, False), (20, False, True)], 807: [(15, True, False), (20, False, True)], 808: [(15, True, False), (20, False, True)], 809: [(15, True, False), (20, False, True)], 810: [(15, True, False), (20, False, True)], 811: [(15, True, False), (20, False, True)], 812: [(15, True, False), (20, False, False)], 813: [(15, True, False), (20, False, False)], 814: [(15, True, False), (20, False, False)], 815: [(15, True, False), (20, False, True)], 816: [(15, True, False), (20, False, True)], 817: [(15, True, False), (20, False, False)], 818: [(15, True, False), (20, False, False)], 819: [(15, True, False), (20, False, True)], 820: [(15, True, False), (20, False, True)], 821: [(15, True, False), (20, False, True)], 822: [(15, True, False), (20, False, True)], 823: [(15, True, False), (20, False, True)], 824: [(15, True, False), (20, False, True)], 825: [(15, True, False), (20, False, True)], 826: [(15, True, False), (20, False, False)], 827: [(15, True, False), (20, False, False)], 828: [(15, True, False), (20, False, False)], 829: [(15, True, False), (20, False, False)], 830: [(15, True, False)], 831: [(15, True, False)], 832: [(15, True, False)], 833: [(15, True, False)], 834: [(15, True, False)], 835: [(15, True, False)], 836: [(15, True, False)], 837: [(15, True, False)], 838: [(15, True, False)], 839: [(15, True, False)], 840: [(15, True, False)], 841: [(15, True, False)], 842: [(15, True, False)], 843: [(15, True, False)], 844: [(15, True, False)], 845: [(15, True, False)], 846: [(15, True, False)], 847: [(15, True, False)], 848: [(15, True, False)], 849: [(15, True, False)], 850: [(15, True, False)], 851: [(15, True, False)], 852: [(15, True, False)], 853: [(15, True, False)], 854: [(15, True, False)], 855: [(15, True, True)], 856: [(15, True, True)], 857: [(15, True, True)], 858: [(15, True, True)], 859: [(15, True, True)], 860: [(15, True, True)], 861: [(15, True, True)], 862: [(15, True, True)], 863: [(15, True, True)], 864: [(15, True, True)], 865: [(15, True, True)], 866: [(15, True, True)], 867: [(15, True, True)], 868: [(15, True, True)], 869: [(15, True, True)], 870: [(15, True, True)], 871: [(15, True, True)], 872: [(15, True, True)], 873: [(15, True, True)], 874: [(15, True, True)], 875: [(15, True, True)], 876: [(15, True, True)], 877: [(15, True, True)], 878: [(15, True, True)], 879: [(15, True, True)], 880: [(15, True, True)], 881: [(15, True, True)], 882: [(15, True, True)], 883: [(15, True, True)], 884: [(15, True, True)], 885: [(15, True, True)], 886: [(15, True, True)], 887: [(15, True, True)], 888: [(15, True, True)], 889: [(15, True, True)], 890: [(15, True, True)], 891: [(15, True, True)], 892: [(15, True, True)], 893: [(15, True, True)], 894: [(15, True, False)], 895: [(15, True, True)], 896: [(15, True, True)], 897: [(15, True, True)], 898: [(15, True, True)], 899: [(15, True, True)], 900: [(15, True, False)], 901: [(15, True, False)], 902: [(15, True, False)], 903: [(15, True, False)], 904: [(15, True, False)], 905: [(15, True, False)], 906: [(15, True, False)], 907: [(15, True, False)], 908: [(15, True, False)], 909: [(15, True, False)], 910: [(15, True, False)], 911: [(15, True, False)], 912: [(15, True, False)], 913: [(15, True, False)], 914: [(15, True, False)], 915: [(15, True, True)], 916: [(15, True, True)], 917: [(15, True, True)], 918: [(15, True, True)], 919: [(15, True, True)], 920: [(15, True, True)], 921: [(15, True, True)], 922: [(15, True, True)], 923: [(15, True, True)], 924: [(15, True, True)], 925: [(15, True, True)], 926: [(15, True, True)], 927: [(15, True, True)], 928: [(15, True, True)], 929: [(15, True, True)], 930: [(15, True, True)], 931: [(15, True, True)], 932: [(15, True, True)], 933: [(15, True, True)], 934: [(15, True, True)], 935: [(15, True, True)], 936: [(15, True, True)], 937: [(15, True, True)], 938: [(15, True, True)], 939: [(15, True, True)], 940: [(15, True, True)], 941: [(15, True, True)], 942: [(15, True, True)], 943: [(15, True, True)], 944: [(15, True, True)], 945: [(15, True, True)], 946: [(15, True, True)], 947: [(15, True, True)], 948: [(15, True, True)], 949: [(15, True, True)], 950: [(15, True, True)], 951: [(15, True, True)], 952: [(15, True, True)], 953: [(15, True, True)], 954: [(15, True, True)], 955: [(15, True, True)], 956: [(15, True, True)], 957: [(15, True, True)], 958: [(15, True, True)], 959: [(15, True, True)], 960: [(15, False, True)], 961: [(15, True, True)], 962: [(15, True, True)], 963: [(15, True, True)], 964: [(15, True, False)], 965: [(15, True, False)], 966: [(15, True, False)], 967: [(15, True, False)], 968: [(15, True, False)], 969: [(15, True, False)], 970: [(15, True, False)], 971: [(15, True, False)], 972: [(15, True, False)], 973: [(15, True, False)], 974: [(15, True, False)], 975: [(15, True, False)], 976: [(15, True, False)], 977: [(15, True, False)], 978: [(15, True, False)], 979: [(15, True, False)], 980: [(15, True, False)], 981: [(15, True, False)], 982: [(15, True, False)], 983: [(15, True, True)], 984: [(15, True, True)], 985: [(15, True, True)], 986: [(15, True, False)], 987: [(15, True, False)], 988: [(15, True, False)], 989: [(15, True, True)], 990: [(15, False, True)], 991: [(15, True, True)], 992: [(15, True, False)], 993: [(15, True, False)], 994: [(15, True, False)], 995: [(15, True, False)], 996: [(15, True, False)], 997: [(15, True, False)], 998: [(15, True, False)], 999: [(15, True, False)], 1000: [(15, True, False)], 1001: [(15, True, False)], 1002: [(15, True, False)], 1003: [(15, True, True)], 1004: [(15, True, True)], 1005: [(15, True, True)], 1006: [(15, True, True)], 1007: [(15, True, True)], 1008: [(15, True, False)], 1009: [(15, True, False)], 1010: [(15, True, False)], 1011: [(15, True, False)], 1012: [(15, True, False)], 1013: [(15, True, False)], 1014: [(15, True, False)], 1015: [(15, True, False)], 1016: [(15, True, False)], 1017: [(15, True, False)], 1018: [(15, True, False)], 1019: [(15, True, False)], 1020: [(15, True, False)], 1021: [(15, True, False)], 1022: [(15, True, False)], 1023: [(15, True, False)], 1024: [(15, True, False)], 1025: [(15, True, False)], 1026: [(15, True, False)], 1027: [(15, True, False)], 1028: [(15, True, False)], 1029: [(15, True, False)], 1030: [(15, True, False)], 1031: [(15, True, False)], 1032: [(15, True, False)], 1033: [(15, True, False)], 1034: [(15, True, False)], 1035: [(15, True, False)], 1036: [(15, True, False)], 1037: [(15, True, False)], 1038: [(15, True, False)], 1039: [(15, True, False)], 1040: [(15, True, False)], 1041: [(15, True, False)], 1042: [(15, True, False)], 1043: [(15, True, False)], 1044: [(15, True, False)], 1045: [(15, True, False)], 1046: [(15, True, False)], 1047: [(15, True, False)], 1048: [(15, True, False)], 1049: [(15, True, False)], 1050: [(15, True, False)], 1051: [(15, True, False)], 1052: [(15, True, False)], 1053: [(15, True, False)], 1054: [(15, True, False)], 1055: [(15, True, False)], 1056: [(15, True, False)], 1057: [(15, True, False)], 1058: [(15, True, False)], 1059: [(15, True, False)], 1060: [(15, True, False)], 1061: [(15, True, False)], 1062: [(15, True, False)], 1063: [(15, True, False)], 1064: [(15, True, False)], 1065: [(15, True, False)], 1066: [(15, True, False)], 1067: [(15, True, False)], 1068: [(15, True, False)], 1069: [(15, True, False)], 1070: [(15, True, False)], 1071: [(15, True, False)], 1072: [(15, True, False)], 1073: [(15, True, False)], 1074: [(15, True, False)], 1075: [(15, True, False)], 1076: [(15, True, False)], 1077: [(15, True, False)], 1078: [(15, True, False)], 1079: [(15, True, False)], 1080: [(15, True, False)], 1081: [(15, True, False)], 1082: [(15, True, False)], 1083: [(15, True, False)], 1084: [(15, True, False)], 1085: [(15, True, False)], 1086: [(15, True, False)], 1087: [(15, True, False)], 1088: [(15, True, False)], 1089: [(15, True, False)], 1090: [(15, True, False)], 1091: [(15, True, False)], 1092: [(15, True, False)], 1093: [(15, True, False)], 1094: [(15, True, False)], 1095: [(15, True, False)], 1096: [(15, True, False)], 1097: [(15, True, False)], 1098: [(15, True, False)], 1099: [(15, True, False)], 1100: [(15, True, False)], 1101: [(15, True, False)], 1102: [(15, True, False)], 1103: [(15, True, False)], 1104: [(15, True, False)], 1105: [(15, True, False)], 1106: [(15, True, False)], 1107: [(15, True, False)], 1108: [(15, True, False)], 1109: [(15, True, False)], 1110: [(15, True, False)], 1111: [(15, True, False)], 1112: [(15, True, False)], 1113: [(15, True, False)], 1114: [(15, True, False)], 1115: [(15, True, False)], 1116: [(15, True, False)], 1117: [(15, True, False)], 1118: [(15, True, False)], 1119: [(15, True, False)], 1120: [(15, True, False)], 1121: [(15, True, False)], 1122: [(15, True, False)], 1123: [(15, True, False)], 1124: [(15, True, False)], 1125: [(15, True, False)], 1126: [(15, True, False)], 1127: [(15, True, False)], 1128: [(15, True, False)], 1129: [(15, True, False)], 1130: [(15, True, False)], 1131: [(15, True, False)], 1132: [(15, True, False)], 1133: [(15, True, False)], 1134: [(15, True, False)], 1135: [(15, True, False)], 1136: [(15, True, False)], 1137: [(15, True, False)], 1138: [(15, True, False)], 1139: [(15, True, False)], 1140: [(15, True, False)], 1141: [(15, True, True)], 1142: [(15, True, True)], 1143: [(15, True, True)], 1144: [(15, True, True)], 1145: [(15, True, True)], 1146: [(15, True, False)], 1147: [(15, True, False)], 1148: [(15, True, False)], 1149: [(15, True, False)], 1150: [(15, False, False)], 1151: [(15, True, False)], 1152: [(15, True, False)], 1153: [(15, True, False)], 1154: [(15, True, False)], 1155: [(15, True, False)], 1156: [(15, True, False)], 1157: [(15, True, False)], 1158: [(15, True, False)], 1159: [(15, True, False)], 1160: [(15, True, False)], 1161: [(15, False, False)], 1162: [(15, False, False)], 1163: [(15, False, True)], 1164: [], 1173: [], 1175: [], 1176: [], 1177: [], 1178: [], 1179: [], 1180: [], 1181: [], 1182: [], 1269: [], 1270: [], 1271: [], 1272: [], 1273: [], 1274: [], 1275: [], 1276: [], 1277: [], 1278: [], 1279: [], 1280: [], 1281: [], 1282: [], 1284: [], 1291: [], 1292: []}\n",
            "Human 15 is detected in 570 frames, we detect that he has a hat in 560 frames and vest in 163 frames.\n",
            "Human with id 15 is crossing with no vest in interval 0 min 48 sec - 1 min 36 sec.\n",
            "Human 1 is detected in 83 frames, we detect that he has a hat in 0 frames and vest in 0 frames.\n",
            "Human with id 1 is crossing with no hat, no vest in interval 0 min 6 sec - 0 min 17 sec.\n",
            "Human 4 is detected in 79 frames, we detect that he has a hat in 0 frames and vest in 0 frames.\n",
            "Human with id 4 is crossing with no hat, no vest in interval 0 min 15 sec - 0 min 22 sec.\n",
            "Human 9 is detected in 29 frames, we detect that he has a hat in 0 frames and vest in 0 frames.\n",
            "Human with id 9 is crossing with no hat, no vest in interval 0 min 22 sec - 0 min 26 sec.\n",
            "1 3 {2: [(48, 96)], 1: [(6, 17), (15, 22), (22, 26)]}\n"
          ]
        }
      ]
    },
    {
      "cell_type": "code",
      "source": [
        "came, left, violations = get_results('/content/drive/MyDrive/Hardhats_vests/tracker_results/7/tracks/7.txt')\n",
        "print(came, left, violations)"
      ],
      "metadata": {
        "colab": {
          "base_uri": "https://localhost:8080/"
        },
        "id": "eTKzEgEF7mf2",
        "outputId": "799034bd-efd1-4fc0-920f-ef3d27ec1e70"
      },
      "execution_count": null,
      "outputs": [
        {
          "output_type": "stream",
          "name": "stdout",
          "text": [
            "(0, 2)\n",
            "cntry_min = 177, cntry_max = 346\n",
            "cntry_start = 346, cntry_end = 194\n",
            "Human 2 moved 26% of the frame (vertically)\n",
            "Human 2 left.\n",
            "(0, 6)\n",
            "cntry_min = 187, cntry_max = 431\n",
            "cntry_start = 374, cntry_end = 187\n",
            "Human 6 moved 38% of the frame (vertically)\n",
            "Human 6 left.\n",
            "(0, 8)\n",
            "cntry_min = 365, cntry_max = 414\n",
            "cntry_start = 414, cntry_end = 365\n",
            "Human 8 moved 7% of the frame (vertically)\n",
            "(0, 11)\n",
            "cntry_min = 451, cntry_max = 462\n",
            "cntry_start = 462, cntry_end = 451\n",
            "Human 11 moved 1% of the frame (vertically)\n",
            "(0, 12)\n",
            "cntry_min = 224, cntry_max = 503\n",
            "cntry_start = 458, cntry_end = 234\n",
            "Human 12 moved 43% of the frame (vertically)\n",
            "Human 12 left.\n",
            "(0, 15)\n",
            "cntry_min = 418, cntry_max = 421\n",
            "cntry_start = 421, cntry_end = 418\n",
            "Human 15 moved 0% of the frame (vertically)\n",
            "(0, 19)\n",
            "cntry_min = 224, cntry_max = 450\n",
            "cntry_start = 450, cntry_end = 224\n",
            "Human 19 moved 35% of the frame (vertically)\n",
            "Human 19 left.\n",
            "[] [2, 6, 12, 19]\n",
            "0 people came in\n",
            "4 people left\n",
            "{42: [], 43: [], 44: [(2, False, True)], 45: [(2, False, True)], 46: [(2, False, True)], 47: [(2, False, True)], 48: [(2, False, True)], 49: [(2, False, True)], 50: [(2, False, True)], 51: [(2, False, True)], 52: [(2, False, True)], 53: [(2, False, True)], 54: [(2, False, True)], 55: [(2, False, True)], 56: [(2, False, True)], 57: [(2, False, True)], 58: [(2, False, True)], 59: [(2, False, True)], 60: [(2, False, True)], 61: [(2, False, True)], 62: [(2, False, True)], 63: [(2, False, True)], 64: [(2, False, True)], 65: [(2, False, True)], 66: [(2, False, True)], 67: [(2, False, True)], 68: [(2, False, True)], 69: [(2, False, True)], 70: [(2, False, True)], 71: [(2, False, True)], 72: [(2, False, True)], 73: [(2, False, True)], 74: [(2, False, True)], 75: [(2, False, True)], 76: [(2, False, True)], 77: [(2, False, True)], 78: [(2, False, True)], 79: [(2, False, True)], 80: [(2, False, True)], 81: [(2, False, True)], 82: [(2, False, True)], 83: [(2, False, True)], 84: [(2, False, True)], 85: [(2, False, True)], 86: [(2, False, True)], 87: [(2, False, True)], 88: [(2, False, True)], 89: [(2, False, True)], 90: [(2, False, True)], 91: [(2, False, True)], 92: [(2, False, True)], 93: [(2, False, True)], 94: [(2, False, True)], 95: [(2, False, True)], 96: [(2, False, True)], 97: [(2, False, True)], 98: [(2, False, True)], 99: [], 100: [(2, False, True)], 101: [(2, False, True)], 102: [(2, False, True)], 103: [(2, False, True)], 104: [(2, False, True)], 105: [(2, False, True)], 106: [(2, False, True), (6, False, False)], 107: [(6, False, False)], 108: [(6, False, False)], 109: [(6, False, False)], 110: [(6, False, False)], 111: [(6, False, False)], 112: [(6, False, False)], 113: [(6, False, False)], 114: [(6, False, False)], 115: [(6, False, False)], 116: [(6, False, False)], 117: [(6, False, False)], 118: [(6, False, False)], 119: [(6, False, False)], 120: [(6, False, False)], 121: [(6, False, False)], 122: [(6, False, False)], 123: [(6, False, False)], 124: [(6, False, False)], 125: [(6, False, False)], 126: [(6, False, False)], 127: [(6, False, False)], 128: [(6, False, False)], 129: [(6, False, False)], 130: [(6, False, False)], 131: [(6, False, False)], 132: [(6, False, False)], 133: [(6, False, False)], 134: [(6, False, False)], 135: [(6, False, False)], 136: [(6, False, False)], 137: [(6, False, False)], 138: [(6, False, False)], 139: [(6, False, False)], 140: [(6, False, False)], 141: [(6, False, False)], 142: [(6, False, False)], 143: [(6, False, False)], 144: [(6, False, False)], 145: [(6, False, False)], 146: [(6, False, False)], 147: [(6, False, False)], 148: [(6, False, False)], 149: [(6, False, False)], 150: [(6, False, False)], 151: [(6, False, False)], 152: [(6, False, False)], 153: [(6, False, False)], 154: [(6, False, False)], 155: [(6, False, False)], 156: [(6, False, False)], 157: [(6, False, False)], 158: [(6, False, False)], 159: [(6, False, False)], 160: [(6, False, False)], 161: [(6, False, False)], 162: [(6, False, False)], 163: [(6, False, False)], 164: [(6, False, False)], 165: [(6, False, False)], 166: [(6, False, False)], 167: [(6, False, False)], 168: [(6, False, False)], 169: [(6, False, False)], 170: [(6, False, False)], 171: [(6, False, False)], 172: [(6, False, False)], 173: [(6, False, False)], 174: [(6, False, False)], 175: [(6, False, False)], 176: [(6, False, False)], 177: [(6, False, False)], 178: [(6, False, False)], 179: [(6, False, False)], 180: [(6, False, False)], 181: [(6, False, False)], 182: [(6, False, False)], 183: [(6, False, False)], 184: [(6, False, False)], 185: [(6, False, False)], 186: [(6, False, False)], 187: [(6, False, False)], 188: [(6, False, False)], 189: [(6, False, False)], 190: [(6, False, False)], 191: [(6, False, False)], 192: [(6, False, False)], 193: [(6, False, False)], 194: [(6, False, False)], 195: [(6, False, False)], 196: [(6, False, False)], 197: [(6, False, False)], 198: [(6, False, False)], 199: [(6, False, False)], 200: [(6, False, False)], 201: [(6, False, False)], 202: [(6, False, False)], 203: [(6, False, False)], 204: [(6, False, False)], 205: [(6, False, False)], 206: [(6, False, False)], 207: [(6, False, False)], 208: [(6, False, False)], 209: [(6, False, False)], 210: [(6, False, False)], 211: [(6, False, False)], 212: [(6, False, False)], 213: [(6, False, False)], 214: [(6, False, False)], 215: [(6, False, False)], 216: [(6, False, False)], 217: [(6, False, False)], 218: [(6, False, False)], 219: [(6, False, False)], 220: [(6, False, False)], 221: [(6, False, False)], 222: [(6, False, False)], 223: [(6, False, False)], 224: [(6, False, False)], 225: [(6, False, False)], 226: [(6, False, False)], 227: [(6, False, False)], 228: [(6, False, False)], 229: [(6, False, False)], 230: [(6, False, False)], 231: [(6, False, False)], 232: [(6, False, False)], 233: [(6, False, False)], 234: [(6, False, False)], 235: [(6, False, False)], 236: [(6, False, False)], 237: [(6, False, False)], 238: [(6, False, False)], 239: [(6, False, False)], 240: [(6, False, False)], 241: [(6, False, False)], 242: [(6, False, False)], 243: [(6, False, False)], 244: [(6, False, False)], 245: [(6, False, False)], 246: [(6, False, False)], 247: [(6, False, False)], 248: [(6, False, False)], 249: [(6, False, False)], 250: [(6, False, False)], 251: [(6, False, False)], 252: [(6, False, False)], 253: [(6, False, False)], 254: [(6, False, False)], 255: [(6, False, False)], 256: [(6, False, False)], 257: [(6, False, False)], 258: [(6, False, False)], 259: [(6, False, False)], 260: [(6, False, False)], 261: [(6, False, False)], 262: [(6, False, False)], 263: [(6, False, False)], 264: [(6, False, False)], 265: [(6, False, False)], 266: [(6, False, False)], 267: [(6, False, False)], 268: [(6, False, False)], 269: [(6, False, False)], 270: [(6, False, False)], 271: [(6, False, False)], 272: [(6, False, False)], 273: [(6, False, False)], 274: [(6, False, False)], 275: [(6, False, False)], 276: [(6, False, False)], 277: [(6, False, False)], 278: [(6, False, False)], 279: [(6, False, False)], 280: [(6, False, False)], 281: [(6, False, False)], 282: [(6, False, False)], 283: [(6, False, False)], 284: [(6, False, False)], 285: [(6, False, False)], 286: [(6, False, False)], 287: [(6, False, False)], 288: [(6, False, False)], 289: [(6, False, False)], 290: [(6, False, False)], 291: [(6, False, False)], 292: [(6, False, False)], 293: [(6, False, False)], 294: [(6, False, False)], 295: [(6, False, False)], 296: [(6, False, False)], 297: [(6, False, False)], 298: [(6, False, False)], 299: [(6, False, False)], 300: [(6, False, False)], 301: [(6, False, False)], 302: [(6, False, False)], 303: [(6, False, False)], 304: [(6, False, False)], 305: [(6, False, False)], 306: [(6, False, False)], 307: [(6, False, False)], 308: [(6, False, False)], 309: [(6, False, False)], 310: [(6, False, False)], 311: [(6, False, False)], 312: [(6, False, False)], 313: [(6, False, False)], 314: [(6, False, False)], 315: [(6, False, False)], 316: [(6, False, False)], 317: [(6, False, False)], 318: [(6, False, False)], 319: [(6, False, False)], 320: [(6, False, False)], 321: [(6, False, False)], 322: [(6, False, False)], 323: [(6, False, False)], 326: [(6, False, False)], 327: [(6, False, False)], 328: [(6, False, False)], 329: [(6, False, False)], 330: [(6, False, False)], 331: [(6, False, False)], 332: [(6, False, False)], 333: [(6, False, False)], 334: [(6, False, False)], 335: [(6, False, False)], 336: [(6, False, False)], 337: [(6, False, False)], 338: [(6, False, False), (8, False, False)], 339: [(6, False, False), (8, False, False)], 340: [(6, False, False), (8, False, False)], 341: [(6, False, False), (8, False, False)], 342: [(6, False, False), (8, False, False)], 343: [(6, False, False), (8, False, False)], 344: [(6, False, False), (8, False, False)], 345: [(6, False, False), (8, False, False)], 346: [(6, False, False), (8, False, False)], 347: [(6, False, False), (8, False, False)], 348: [(6, False, False), (8, False, False)], 349: [(6, False, False)], 350: [(6, False, False)], 351: [(6, False, False)], 352: [(6, False, False)], 353: [(6, False, False)], 354: [(6, False, False)], 355: [(6, False, False)], 356: [(6, False, False)], 357: [(6, False, False)], 358: [(6, False, False)], 359: [(6, False, False)], 360: [(6, False, False)], 361: [(6, False, False)], 362: [(6, False, False)], 363: [(6, False, False)], 364: [(6, False, False)], 365: [(6, False, False)], 366: [(6, False, False)], 367: [(6, False, False)], 368: [(6, False, False)], 369: [(6, False, False)], 370: [(6, False, False)], 371: [(6, False, False)], 372: [(6, False, False)], 373: [(6, False, False)], 374: [(6, False, False)], 375: [(6, False, False)], 376: [(6, False, False)], 377: [(6, False, False)], 378: [(6, False, False)], 379: [(6, False, False)], 380: [(6, False, False)], 381: [(6, False, False)], 382: [(6, False, False)], 383: [(6, False, False)], 384: [(6, False, False)], 385: [(6, False, False)], 386: [(6, False, False)], 387: [(6, False, False)], 388: [(6, False, False)], 389: [(6, False, False)], 390: [(6, False, False)], 391: [(6, False, False)], 392: [(6, False, False)], 393: [(6, False, False)], 394: [(6, False, False)], 395: [(6, False, False)], 396: [(6, False, False)], 397: [(6, False, False)], 398: [(6, False, False)], 399: [(6, False, False)], 400: [(6, False, False)], 401: [(6, False, False)], 402: [(6, False, False)], 403: [(6, False, False)], 404: [(6, False, False)], 405: [(6, False, False)], 406: [(6, False, False)], 407: [(6, False, False)], 408: [(6, False, False)], 409: [(6, False, False)], 410: [(6, False, False)], 411: [(6, False, False)], 412: [(6, False, False)], 413: [(6, False, False)], 416: [(6, False, False)], 417: [(6, False, False)], 424: [(6, False, False)], 425: [(6, False, False)], 502: [(6, False, False)], 504: [], 505: [], 506: [(12, False, True)], 507: [(12, False, True)], 508: [(11, False, False), (12, False, False)], 509: [(11, False, False), (12, False, False)], 930: [(11, False, False), (12, False, False)], 931: [(12, False, False)], 934: [(12, False, False)], 935: [(12, False, False)], 936: [(12, False, False)], 937: [(12, False, False)], 938: [(12, False, False)], 939: [(12, False, False)], 940: [(12, False, False)], 941: [(12, False, False)], 942: [(12, False, False)], 943: [(12, False, False)], 944: [(12, False, False)], 945: [(12, False, False)], 948: [(12, False, False)], 952: [(15, False, False)], 953: [(15, False, False)], 954: [(12, False, False), (15, False, False)], 955: [(12, False, False)], 956: [(12, False, False)], 957: [(12, False, False)], 958: [(12, False, False)], 959: [(12, False, False)], 960: [(12, False, True)], 961: [(12, False, True)], 962: [(12, False, True)], 963: [(12, False, True)], 964: [(12, False, True)], 965: [(12, False, True)], 966: [(12, False, True)], 967: [(12, False, True)], 968: [(12, False, True)], 969: [(12, False, True)], 970: [(12, False, True)], 971: [(12, False, True)], 972: [(12, False, True)], 973: [(12, False, True)], 974: [(12, False, True)], 975: [(12, False, True)], 976: [(12, False, True)], 977: [(12, False, True)], 978: [(12, False, True)], 979: [(12, False, True)], 980: [(12, False, True)], 981: [(12, False, True)], 982: [(12, False, True)], 983: [(12, False, True)], 984: [(12, False, True)], 985: [(12, False, True)], 986: [(12, False, True)], 987: [(12, False, True)], 988: [(12, False, True)], 989: [(12, False, True)], 990: [(12, False, True)], 991: [(12, False, True)], 992: [(12, False, True)], 993: [(12, False, True)], 994: [(12, False, True)], 995: [(12, False, True)], 996: [(12, False, True)], 997: [(12, False, True)], 998: [(12, False, True)], 999: [(12, False, True)], 1000: [(12, False, True)], 1001: [(12, False, True)], 1002: [(12, False, True)], 1003: [(12, False, True)], 1004: [(12, False, True)], 1005: [(12, False, True)], 1006: [(12, False, True)], 1007: [(12, False, True)], 1008: [(12, False, True)], 1009: [(12, False, True)], 1010: [(12, False, True)], 1011: [(12, False, True)], 1012: [(12, False, True)], 1013: [(12, False, True)], 1014: [(12, False, True)], 1015: [(12, False, True)], 1016: [(12, False, True)], 1017: [(12, False, True)], 1018: [(12, False, True)], 1019: [(12, False, True)], 1020: [(12, False, True)], 1021: [(12, False, True)], 1022: [(12, False, True)], 1023: [(12, False, True)], 1044: [(12, False, True)], 1046: [(19, False, False)], 1047: [(19, False, False)], 1048: [(19, False, False)], 1049: [(19, False, False)], 1050: [(19, False, False)], 1051: [(19, False, False)], 1052: [(19, False, False)], 1053: [(19, False, False)], 1054: [(19, False, False)], 1055: [(19, False, False)], 1056: [(19, False, False)], 1057: [(19, False, False)], 1058: [(19, False, False)], 1059: [(19, False, False)], 1060: [(19, False, False)], 1061: [(19, False, False)], 1062: [(19, False, False)], 1063: [(19, False, False)], 1064: [(19, False, False)], 1065: [(19, False, False)], 1066: [(19, False, False)], 1067: [(19, False, False)], 1068: [(19, False, False)], 1069: [(19, False, False)], 1070: [(19, False, False)], 1071: [(19, False, False)], 1072: [(19, False, False)], 1073: [(19, False, False)], 1074: [(19, False, False)], 1075: [(19, False, False)], 1076: [(19, False, False)], 1077: [(19, False, False)], 1078: [(19, False, False)], 1079: [(19, False, False)], 1080: [(19, False, False)], 1081: [(19, False, False)], 1084: [(19, False, False)], 1085: [(19, False, False)], 1086: [(19, False, False)], 1087: [(19, False, False)], 1088: [(19, False, False)], 1089: [(19, False, False)], 1090: [(19, False, False)], 1091: [(19, False, False)], 1092: [(19, False, False)], 1093: [(19, False, False)], 1094: [(19, False, False)], 1095: [(19, False, False)], 1096: [(19, False, False)], 1097: [(19, False, False)], 1098: [(19, False, False)], 1099: [(19, False, False)], 1100: [(19, False, False)], 1101: [(19, False, False)], 1102: [(19, False, False)], 1103: [(19, False, False)]}\n",
            "Human 2 is detected in 62 frames, we detect that he has a hat in 0 frames and vest in 62 frames.\n",
            "Human with id 2 is crossing with no hat in interval 0 min 3 sec - 0 min 8 sec.\n",
            "Human 6 is detected in 311 frames, we detect that he has a hat in 0 frames and vest in 0 frames.\n",
            "Human with id 6 is crossing with no hat, no vest in interval 0 min 8 sec - 0 min 41 sec.\n",
            "Human 12 is detected in 90 frames, we detect that he has a hat in 0 frames and vest in 67 frames.\n",
            "Human with id 12 is crossing with no hat in interval 0 min 42 sec - 1 min 26 sec.\n",
            "Human 19 is detected in 56 frames, we detect that he has a hat in 0 frames and vest in 0 frames.\n",
            "Human with id 19 is crossing with no hat, no vest in interval 1 min 26 sec - 1 min 31 sec.\n",
            "0 4 {3: [(3, 8), (42, 86)], 1: [(8, 41), (86, 91)]}\n"
          ]
        }
      ]
    },
    {
      "cell_type": "code",
      "source": [
        "came, left, violations = get_results('/content/drive/MyDrive/Hardhats_vests/tracker_results/8/tracks/8.txt')\n",
        "print(came, left, violations)"
      ],
      "metadata": {
        "colab": {
          "base_uri": "https://localhost:8080/"
        },
        "id": "VyfKFwMes6VZ",
        "outputId": "76ab8ea3-e420-45df-a47c-2361efdb311a"
      },
      "execution_count": null,
      "outputs": [
        {
          "output_type": "stream",
          "name": "stdout",
          "text": [
            "(0, 1)\n",
            "cntry_min = 301, cntry_max = 403\n",
            "cntry_start = 403, cntry_end = 301\n",
            "Human 1 moved 27% of the frame (vertically)\n",
            "Human 1 left.\n",
            "(0, 2)\n",
            "cntry_min = 369, cntry_max = 376\n",
            "cntry_start = 376, cntry_end = 369\n",
            "Human 2 moved 1% of the frame (vertically)\n",
            "(0, 3)\n",
            "cntry_min = 380, cntry_max = 405\n",
            "cntry_start = 392, cntry_end = 392\n",
            "Human 3 moved 6% of the frame (vertically)\n",
            "(0, 4)\n",
            "cntry_min = 268, cntry_max = 355\n",
            "cntry_start = 355, cntry_end = 268\n",
            "Human 4 moved 23% of the frame (vertically)\n",
            "(0, 7)\n",
            "cntry_min = 266, cntry_max = 387\n",
            "cntry_start = 381, cntry_end = 266\n",
            "Human 7 moved 33% of the frame (vertically)\n",
            "Human 7 left.\n",
            "(0, 8)\n",
            "cntry_min = 396, cntry_max = 399\n",
            "cntry_start = 398, cntry_end = 396\n",
            "Human 8 moved 0% of the frame (vertically)\n",
            "(0, 10)\n",
            "cntry_min = 275, cntry_max = 377\n",
            "cntry_start = 372, cntry_end = 276\n",
            "Human 10 moved 27% of the frame (vertically)\n",
            "Human 10 left.\n",
            "(0, 11)\n",
            "cntry_min = 417, cntry_max = 417\n",
            "cntry_start = 417, cntry_end = 417\n",
            "Human 11 moved 0% of the frame (vertically)\n",
            "(0, 12)\n",
            "cntry_min = 396, cntry_max = 404\n",
            "cntry_start = 399, cntry_end = 404\n",
            "Human 12 moved 2% of the frame (vertically)\n",
            "(0, 16)\n",
            "cntry_min = 389, cntry_max = 419\n",
            "cntry_start = 416, cntry_end = 389\n",
            "Human 16 moved 8% of the frame (vertically)\n",
            "(0, 17)\n",
            "cntry_min = 329, cntry_max = 342\n",
            "cntry_start = 342, cntry_end = 329\n",
            "Human 17 moved 3% of the frame (vertically)\n",
            "(0, 18)\n",
            "cntry_min = 269, cntry_max = 372\n",
            "cntry_start = 372, cntry_end = 269\n",
            "Human 18 moved 28% of the frame (vertically)\n",
            "Human 18 left.\n",
            "(0, 23)\n",
            "cntry_min = 393, cntry_max = 410\n",
            "cntry_start = 410, cntry_end = 399\n",
            "Human 23 moved 4% of the frame (vertically)\n",
            "[] [1, 7, 10, 18]\n",
            "0 people came in\n",
            "4 people left\n",
            "{52: [(1, False, False)], 53: [(1, False, False)], 54: [(1, False, False)], 55: [(1, False, False)], 56: [(1, False, False)], 57: [(1, False, False)], 58: [(1, False, False)], 59: [(1, False, False)], 60: [(1, False, False)], 61: [(1, False, False)], 62: [(1, False, False)], 63: [(1, False, False)], 64: [(1, False, False)], 65: [(1, False, False)], 66: [(1, False, False)], 67: [(1, False, False)], 68: [(1, False, False)], 69: [(1, False, False)], 70: [(1, False, False)], 71: [(1, False, False)], 72: [(1, False, False)], 73: [(1, False, False)], 74: [(1, False, False)], 75: [(1, False, False)], 76: [(1, False, False)], 77: [(1, False, False)], 78: [(1, False, False)], 79: [(1, False, False)], 80: [(1, False, False)], 81: [(1, False, False)], 82: [(1, False, False)], 83: [(1, False, False)], 84: [(1, False, False)], 85: [(1, False, False)], 86: [(1, False, False)], 87: [(1, False, False)], 88: [(1, False, False)], 89: [(1, False, False)], 90: [(1, False, False)], 91: [(1, False, False)], 92: [(1, False, False)], 93: [(1, False, False)], 94: [(1, False, False)], 95: [(1, False, False)], 96: [(1, False, False)], 97: [(1, False, False)], 98: [(1, False, False)], 99: [(1, False, False)], 100: [(1, False, False)], 101: [(1, False, False)], 102: [(1, False, False)], 103: [(1, False, False)], 104: [(1, False, False)], 105: [(1, False, False)], 106: [(1, False, False)], 107: [(1, False, False)], 108: [(1, False, False)], 109: [(1, False, False)], 110: [(1, False, False)], 111: [(1, False, False)], 112: [(1, False, False)], 113: [(1, False, False)], 114: [(1, False, False), (2, False, False)], 115: [(1, False, False), (2, False, False)], 116: [(1, False, False), (2, False, False)], 117: [(1, False, False), (2, False, False)], 118: [(1, False, False), (2, False, False)], 119: [(1, False, False), (2, False, False)], 120: [(1, False, False), (2, False, False)], 121: [(1, False, False), (2, False, False)], 122: [(1, False, False), (2, False, False)], 123: [(1, False, False), (2, False, False)], 124: [(1, False, False), (2, False, False)], 125: [(1, False, False)], 126: [(1, False, False), (3, False, False)], 127: [(1, False, False), (3, False, False)], 128: [(1, False, False), (3, False, True), (4, False, False)], 129: [(1, False, False), (3, False, True), (4, False, False)], 130: [(1, False, False), (3, False, True), (4, False, False)], 131: [(1, False, False), (3, False, True), (4, False, False)], 132: [(1, False, False), (3, False, True), (4, False, False)], 133: [(1, False, False), (3, False, True), (4, False, False)], 134: [(1, False, False), (3, False, True), (4, False, False)], 135: [(1, False, False), (3, False, True), (4, False, False)], 136: [(1, False, False), (3, False, True), (4, False, False)], 137: [(1, False, False), (3, False, False), (4, False, False)], 138: [(1, False, False), (3, False, False), (4, False, False)], 139: [(1, False, False), (4, False, False)], 140: [(1, False, False), (4, False, False)], 141: [(1, False, False), (4, False, False)], 142: [(1, False, False), (4, False, False)], 143: [(4, False, False)], 144: [(4, False, False)], 145: [(4, False, False)], 146: [(4, False, False)], 147: [(4, False, False)], 148: [(4, False, False)], 149: [(4, False, False)], 150: [(4, False, False)], 151: [(4, False, False)], 152: [(3, False, True), (4, False, False)], 153: [(3, False, True), (4, False, False)], 154: [(3, False, True), (4, False, False)], 155: [(3, False, True), (4, False, False)], 156: [(3, False, True), (4, False, False)], 157: [(3, False, True), (4, False, False)], 158: [(3, False, True), (4, False, False)], 159: [(3, False, True), (4, False, False)], 160: [(3, False, True), (4, False, False)], 161: [(3, False, True), (4, False, False)], 162: [(3, False, True), (4, False, False)], 163: [(3, False, True), (4, False, False)], 164: [(3, False, True), (4, False, False)], 165: [(3, False, True), (4, False, False)], 166: [(3, False, True), (4, False, False)], 167: [(3, False, True), (4, False, False)], 168: [(3, False, True), (4, False, False)], 169: [(3, False, True), (4, False, False)], 170: [(3, False, True), (4, False, False)], 171: [(3, False, True), (4, False, False)], 172: [(3, False, True), (4, False, False)], 173: [(3, False, True), (4, False, False)], 174: [(3, False, True), (4, False, False)], 175: [(3, False, True), (4, False, False)], 176: [(3, False, True), (4, False, False)], 177: [(3, False, True), (4, False, False)], 178: [(3, False, True), (4, False, False)], 179: [(3, False, True), (4, False, False)], 180: [(3, False, True), (4, False, False)], 181: [(3, False, True), (4, False, False)], 182: [(3, False, True), (4, False, False)], 183: [(3, False, True), (4, False, False)], 184: [(3, False, True), (4, False, False)], 185: [(3, False, True), (4, False, False)], 186: [(3, False, True), (4, False, False)], 187: [(3, False, True), (4, False, False)], 188: [(3, False, True), (4, False, False)], 189: [(3, False, True), (4, False, False)], 190: [(3, False, True), (4, False, False)], 191: [(3, False, True), (4, False, False)], 192: [(3, False, True), (4, False, False)], 193: [(3, False, True), (4, False, False)], 194: [(3, False, True), (4, False, False)], 195: [(3, False, True), (4, False, False)], 196: [(3, False, True), (4, False, False)], 197: [(3, False, True), (4, False, False)], 198: [(3, False, True), (4, False, False)], 199: [(3, False, True), (4, False, False)], 200: [(3, False, True), (4, False, False)], 201: [(3, False, True), (4, False, False)], 202: [(3, False, True), (4, False, False)], 203: [(3, False, True), (4, False, False)], 204: [(3, False, True), (4, False, False)], 205: [(3, False, True), (4, False, False)], 206: [(3, False, True), (4, False, False)], 207: [(3, False, True), (4, False, False)], 208: [(3, False, True), (4, False, False)], 209: [(3, False, True), (4, False, False)], 210: [(3, False, True), (4, False, False)], 211: [(3, False, True), (4, False, False)], 212: [(3, False, True), (4, False, False)], 213: [(3, False, True)], 214: [(3, False, True)], 215: [(3, False, True)], 216: [(3, False, True)], 217: [(3, False, True)], 218: [(3, False, True)], 219: [(3, False, True)], 220: [(3, False, True)], 221: [(3, False, True)], 222: [(3, False, True)], 223: [(3, False, True)], 224: [(3, False, True)], 225: [(3, False, False)], 226: [(3, False, True)], 227: [(3, False, True)], 228: [(3, False, True)], 229: [(3, False, True)], 230: [(3, False, True)], 231: [(3, False, True)], 232: [(3, False, True)], 233: [(3, False, True)], 234: [(3, False, True)], 235: [(3, False, True)], 236: [(3, False, True)], 237: [(3, False, True)], 238: [(3, False, True)], 239: [(3, False, True)], 240: [(3, False, True)], 241: [(3, False, True)], 242: [(3, False, True)], 243: [(3, False, True)], 244: [(3, False, True), (7, False, False)], 245: [(3, False, True), (7, False, False)], 246: [(3, False, True), (7, False, False)], 247: [(7, False, False)], 248: [(7, False, False)], 249: [(7, False, False)], 250: [(7, False, False)], 251: [(3, False, True), (7, False, False)], 252: [(3, False, True), (7, False, False)], 253: [(3, False, True), (7, False, False)], 254: [(3, False, True), (7, False, False)], 255: [(3, False, True), (7, False, False)], 256: [(3, False, True), (7, False, False)], 257: [(7, False, False)], 258: [(7, False, False)], 259: [(7, False, False)], 260: [(7, False, False)], 261: [(7, False, False)], 262: [(7, False, False)], 263: [(7, False, False)], 264: [(7, False, False)], 265: [(7, False, False)], 266: [(7, False, False)], 267: [(7, False, False)], 268: [(7, False, False)], 269: [(7, False, False)], 270: [(3, False, True), (7, False, False)], 271: [(3, False, True), (7, False, False)], 272: [(3, False, True), (7, False, False)], 273: [(7, False, False)], 274: [(3, False, True), (7, False, False)], 275: [(3, False, True), (7, False, False)], 276: [(3, False, True), (7, False, False)], 277: [(3, False, False)], 278: [(3, False, True)], 279: [(3, False, True)], 280: [(3, False, True), (7, False, False)], 281: [(3, False, True), (7, False, False)], 282: [(3, False, True), (7, False, False)], 283: [(3, False, True), (7, False, False)], 284: [(3, False, True), (7, False, False)], 285: [(3, False, True), (7, False, False)], 286: [(3, False, True), (7, False, False)], 287: [(3, False, False), (7, False, False)], 288: [(3, False, False), (7, False, False)], 289: [(7, False, False)], 290: [(7, False, False)], 291: [(7, False, False)], 292: [(7, False, False)], 293: [(7, False, False)], 294: [(7, False, False)], 295: [(7, False, False)], 296: [(7, False, False)], 297: [(7, False, False)], 298: [(7, False, False)], 299: [(7, False, False)], 300: [(3, False, False), (7, False, False)], 301: [(3, False, False), (7, False, False)], 302: [(3, False, False), (7, False, False)], 303: [(7, False, False)], 304: [(7, False, False)], 305: [(7, False, False)], 306: [(7, False, False)], 307: [(7, False, False)], 308: [(7, False, False)], 309: [(7, False, False)], 310: [(7, False, False)], 311: [(7, False, False)], 312: [(7, False, False)], 313: [(7, False, False)], 314: [(7, False, False)], 315: [(7, False, False)], 316: [(3, False, False), (7, False, False)], 317: [(3, False, False), (7, False, False)], 318: [(3, False, False), (7, False, False)], 319: [(3, False, False), (7, False, False)], 320: [(3, False, False), (7, False, False)], 321: [(7, False, False)], 322: [(7, False, False)], 323: [(7, False, False)], 324: [(7, False, False)], 325: [(7, False, False)], 326: [(7, False, False)], 327: [(7, False, False)], 328: [(7, False, False)], 329: [(7, False, False)], 330: [(7, False, False)], 331: [(7, False, False)], 332: [(7, False, False)], 333: [(7, False, False)], 334: [(7, False, False)], 335: [(7, False, False)], 336: [(7, False, False)], 337: [(7, False, False)], 338: [(7, False, False)], 339: [(7, False, False)], 340: [(7, False, False)], 341: [(7, False, False)], 342: [(7, False, False)], 343: [(7, False, False)], 344: [(7, False, False)], 345: [(7, False, False)], 346: [(7, False, False)], 347: [(7, False, False)], 348: [(7, False, False)], 349: [(7, False, False)], 350: [(7, False, False)], 351: [(7, False, False)], 352: [(7, False, False)], 353: [(7, False, False)], 354: [(7, False, False)], 355: [(7, False, False)], 356: [(7, False, False)], 357: [(7, False, False)], 358: [(7, False, False)], 359: [(7, False, False)], 360: [(7, False, False)], 361: [(7, False, False)], 362: [(7, False, False)], 363: [(7, False, False)], 364: [(7, False, False)], 365: [(7, False, False)], 366: [(7, False, False)], 367: [(7, False, False)], 368: [(7, False, False)], 369: [(7, False, False)], 370: [(7, False, False)], 371: [(7, False, False)], 372: [(7, False, False)], 373: [(7, False, False)], 374: [(7, False, False)], 375: [(7, False, False)], 376: [(7, False, False)], 377: [(7, False, False)], 378: [(7, False, False)], 379: [(7, False, False)], 380: [(7, False, False)], 381: [(7, False, False)], 382: [(7, False, False)], 383: [(7, False, False)], 384: [(7, False, False)], 385: [(7, False, False)], 386: [(7, False, False)], 387: [(7, False, False)], 388: [(7, False, False)], 389: [(7, False, False)], 390: [(7, False, False)], 391: [(7, False, False)], 392: [(7, False, False)], 393: [(7, False, False)], 394: [(7, False, False)], 395: [(7, False, False)], 396: [(7, False, False)], 397: [(7, False, False)], 398: [(7, False, False)], 399: [(7, False, False)], 400: [(7, False, False)], 401: [(7, False, False)], 402: [(7, False, False)], 403: [(7, False, False)], 404: [(7, False, False)], 405: [(7, False, False)], 406: [(7, False, False)], 407: [(7, False, False)], 408: [(7, False, False)], 409: [(7, False, False)], 410: [(7, False, False)], 411: [(7, False, False)], 412: [(7, False, False)], 413: [(7, False, False)], 414: [(7, False, False)], 415: [(7, False, False)], 416: [(7, False, False)], 417: [(7, False, False)], 418: [(7, False, False)], 419: [(7, False, False)], 420: [(7, False, False)], 421: [(7, False, False)], 422: [(7, False, False)], 423: [(7, False, False)], 424: [(7, False, False)], 425: [(7, False, False)], 426: [(7, False, False)], 427: [(7, False, False)], 428: [(7, False, False)], 429: [(7, False, False)], 430: [(7, False, False)], 431: [(7, False, False)], 432: [(7, False, False), (8, False, False)], 433: [(7, False, False), (8, False, False)], 434: [(7, False, False), (8, False, False)], 435: [(7, False, False)], 436: [(7, False, False), (8, False, False)], 437: [(7, False, False), (8, False, False)], 438: [(7, False, False), (8, False, True)], 439: [(7, False, False)], 440: [(7, False, False), (8, False, True), (10, False, False)], 441: [(7, False, False), (8, False, True), (10, False, False)], 442: [(7, False, False), (8, False, True), (10, False, False)], 443: [(7, False, False), (10, False, False)], 444: [(7, False, False), (10, False, False)], 445: [(7, False, False), (10, False, False)], 446: [(7, False, False), (10, False, False)], 447: [(7, False, False), (10, False, False)], 448: [(7, False, False), (10, False, False)], 449: [(7, False, False), (10, False, False)], 450: [(7, False, False), (10, False, False)], 451: [(7, False, False), (10, False, False)], 452: [(7, False, False), (10, False, False)], 453: [(7, False, False), (10, False, False)], 454: [(7, False, False), (10, False, False)], 455: [(7, False, False), (10, False, False)], 456: [(7, False, False), (10, False, False)], 457: [(7, False, False), (10, False, False)], 458: [(7, False, False), (10, False, False)], 459: [(7, False, False), (10, False, False)], 460: [(7, False, False), (10, False, False)], 461: [(7, False, False), (10, False, False)], 462: [(7, False, False), (10, False, False)], 463: [(7, False, False), (10, False, False)], 464: [(7, False, False), (10, False, False)], 465: [(10, False, False)], 466: [(10, False, False)], 467: [(10, False, False)], 468: [(10, False, False)], 469: [(10, False, False)], 470: [(10, False, False)], 471: [(10, False, False)], 472: [(10, False, False)], 473: [(10, False, False)], 474: [(10, False, False)], 475: [(10, False, False)], 476: [(10, False, False)], 477: [(10, False, False)], 478: [(10, False, False)], 479: [(10, False, False)], 480: [(10, False, False)], 481: [(10, False, False)], 482: [(10, False, False)], 483: [(10, False, False)], 484: [(10, False, False)], 485: [(10, False, False)], 486: [(10, False, False)], 487: [(10, False, False)], 488: [(10, False, False)], 489: [(10, False, False)], 490: [(10, False, False)], 491: [(10, False, False)], 492: [(10, False, False)], 493: [(10, False, False)], 494: [(10, False, False), (11, False, False)], 495: [(10, False, False), (11, False, False)], 496: [(10, False, False), (11, False, False)], 497: [(10, False, False)], 498: [(10, False, False)], 499: [(10, False, False)], 500: [(10, False, False)], 501: [(10, False, False)], 502: [(10, False, False)], 503: [(10, False, False)], 504: [(10, False, False)], 505: [(10, False, False)], 506: [(10, False, False), (12, False, False)], 507: [(10, False, False), (12, False, False)], 508: [(10, False, False), (12, False, False)], 509: [(10, False, False)], 510: [(10, False, False)], 511: [(10, False, False)], 512: [(10, False, False)], 513: [(10, False, False)], 514: [(10, False, False)], 515: [(10, False, False)], 516: [(10, False, False)], 517: [(10, False, False)], 518: [(10, False, False)], 519: [(10, False, False)], 520: [(10, False, False)], 521: [(10, False, False)], 522: [(10, False, False)], 523: [(10, False, False)], 524: [(10, False, False), (12, False, False)], 525: [(10, False, False), (12, False, False)], 526: [(10, False, False), (12, False, False)], 527: [(10, False, False), (12, False, False)], 528: [(10, False, False), (12, False, False)], 529: [(10, False, False)], 530: [(10, False, False), (12, False, False)], 531: [(10, False, False), (12, False, False)], 532: [(10, False, False), (12, False, False)], 533: [(10, False, False), (12, False, False)], 534: [(10, False, False), (12, False, False)], 535: [(10, False, False), (12, False, False)], 536: [(10, False, False), (12, False, False)], 537: [(10, False, False), (12, False, False)], 538: [(10, False, False), (12, False, False)], 539: [(10, False, False)], 540: [(10, False, False)], 541: [(10, False, False)], 542: [(10, False, False)], 543: [(10, False, False)], 544: [(10, False, False)], 545: [(10, False, False)], 546: [(10, False, False)], 547: [(10, False, False)], 548: [(10, False, False)], 549: [(10, False, False)], 550: [(10, False, False), (12, False, False)], 551: [(10, False, False), (12, False, False)], 552: [(10, False, False), (12, False, False)], 553: [(10, False, False)], 554: [(10, False, False)], 555: [(10, False, False)], 556: [(10, False, False)], 557: [(10, False, False)], 558: [(10, False, False)], 559: [(10, False, False)], 560: [(10, False, False)], 561: [(10, False, False)], 562: [(10, False, False)], 563: [(10, False, False)], 564: [(10, False, False), (12, False, False)], 565: [(10, False, False), (12, False, False)], 566: [(10, False, False), (12, False, False)], 567: [(10, False, False), (12, False, False)], 568: [(10, False, False), (12, False, False)], 569: [(10, False, False), (12, False, False)], 570: [(10, False, False), (12, False, False)], 571: [(10, False, False)], 572: [(10, False, False)], 573: [(10, False, False)], 574: [(10, False, False)], 575: [(10, False, False)], 576: [(10, False, False), (16, False, False)], 577: [(10, False, False), (16, False, False)], 578: [(10, False, False), (16, False, False)], 579: [(10, False, False), (16, False, False)], 580: [(10, False, False), (16, False, False)], 581: [(10, False, False), (16, False, False)], 582: [(10, False, False), (16, False, False)], 583: [(10, False, False), (16, False, False)], 584: [(10, False, False), (16, False, False)], 585: [(10, False, False), (16, False, False)], 586: [(10, False, False), (16, False, False)], 587: [(10, False, False), (16, False, False)], 588: [(10, False, False), (16, False, False)], 589: [(10, False, False), (16, False, False)], 590: [(10, False, False), (16, False, False)], 591: [(10, False, False), (16, False, False)], 592: [(10, False, False), (16, False, False)], 593: [(10, False, False)], 598: [(10, False, False)], 600: [(17, False, False)], 601: [(17, False, False)], 602: [(17, False, False), (18, False, False)], 603: [(18, False, False)], 604: [(18, False, False)], 605: [(18, False, False)], 606: [(18, False, False)], 607: [(18, False, False)], 608: [(18, False, False)], 609: [(18, False, False)], 610: [(18, False, False)], 611: [(18, False, False)], 612: [(18, False, False)], 613: [(18, False, False)], 614: [(18, False, False)], 615: [(18, False, False)], 616: [(18, False, False)], 617: [(18, False, False)], 618: [(18, False, False)], 619: [(18, False, False)], 620: [(18, False, False)], 621: [(18, False, False)], 622: [(18, False, False)], 623: [(18, False, False)], 624: [(18, False, False)], 625: [(18, False, False)], 626: [(18, False, False)], 627: [(18, False, False)], 628: [(18, False, False)], 629: [(18, False, False)], 630: [(18, False, False)], 631: [(18, False, False)], 632: [(18, False, False)], 633: [(18, False, False)], 634: [(18, False, False)], 635: [(18, False, False)], 636: [(18, False, False)], 637: [(18, False, False)], 638: [(18, False, False)], 639: [(18, False, False)], 640: [(18, False, False)], 641: [(18, False, False)], 642: [(18, False, False)], 643: [(18, False, False)], 644: [(18, False, False)], 645: [(18, False, False)], 646: [(18, False, False)], 647: [(18, False, False)], 648: [(18, False, False)], 649: [(18, False, False)], 650: [(18, False, False)], 651: [(18, False, False)], 652: [(18, False, False)], 653: [(18, False, False)], 654: [(18, False, False)], 655: [(18, False, False)], 656: [(18, False, False)], 657: [(18, False, False)], 658: [(18, False, False)], 659: [(18, False, False)], 660: [(18, False, False)], 661: [(18, False, False)], 662: [(18, False, False)], 663: [(18, False, False)], 664: [(18, False, False)], 665: [(18, False, False)], 666: [(18, False, False)], 667: [(18, False, False)], 668: [(18, False, False)], 669: [(18, False, False)], 670: [(18, False, False)], 671: [(18, False, False)], 672: [(18, False, False)], 673: [(18, False, False)], 674: [(18, False, False)], 675: [(18, False, False)], 676: [(18, False, False), (23, False, True)], 677: [(23, False, True)], 678: [(23, False, True)], 679: [(23, False, True)], 680: [(23, False, True)], 681: [(23, False, True)], 682: [(23, False, True)], 683: [(23, False, True)], 684: [(23, False, True)], 685: [(23, False, True)], 686: [(23, False, True)], 687: [(23, False, True)], 688: [(23, False, True)], 689: [(23, False, True)], 690: [(23, False, True)], 691: [(23, False, True)]}\n",
            "Human 1 is detected in 91 frames, we detect that he has a hat in 0 frames and vest in 0 frames.\n",
            "Human with id 1 is crossing with no hat, no vest in interval 0 min 4 sec - 0 min 11 sec.\n",
            "Human 7 is detected in 218 frames, we detect that he has a hat in 0 frames and vest in 0 frames.\n",
            "Human with id 7 is crossing with no hat, no vest in interval 0 min 20 sec - 0 min 38 sec.\n",
            "Human 10 is detected in 155 frames, we detect that he has a hat in 0 frames and vest in 0 frames.\n",
            "Human with id 10 is crossing with no hat, no vest in interval 0 min 36 sec - 0 min 49 sec.\n",
            "Human 18 is detected in 75 frames, we detect that he has a hat in 0 frames and vest in 0 frames.\n",
            "Human with id 18 is crossing with no hat, no vest in interval 0 min 50 sec - 0 min 56 sec.\n",
            "0 4 {1: [(4, 11), (20, 38), (36, 49), (50, 56)]}\n"
          ]
        }
      ]
    },
    {
      "cell_type": "code",
      "source": [
        "came, left, violations = get_results('/content/drive/MyDrive/Hardhats_vests/tracker_results/9/tracks/9.txt')\n",
        "print(came, left, violations)"
      ],
      "metadata": {
        "colab": {
          "base_uri": "https://localhost:8080/"
        },
        "id": "mS46-0SysleC",
        "outputId": "654f2618-669d-46dc-b744-0203f0fb8ce9"
      },
      "execution_count": null,
      "outputs": [
        {
          "output_type": "stream",
          "name": "stdout",
          "text": [
            "(0, 2)\n",
            "cntry_min = 271, cntry_max = 393\n",
            "cntry_start = 393, cntry_end = 279\n",
            "Human 2 moved 35% of the frame (vertically)\n",
            "Human 2 left.\n",
            "(0, 3)\n",
            "cntry_min = 340, cntry_max = 385\n",
            "cntry_start = 385, cntry_end = 377\n",
            "Human 3 moved 13% of the frame (vertically)\n",
            "(0, 11)\n",
            "cntry_min = 388, cntry_max = 417\n",
            "cntry_start = 388, cntry_end = 417\n",
            "Human 11 moved 8% of the frame (vertically)\n",
            "(0, 16)\n",
            "cntry_min = 286, cntry_max = 404\n",
            "cntry_start = 286, cntry_end = 404\n",
            "Human 16 moved 34% of the frame (vertically)\n",
            "Human 16 came in.\n",
            "(0, 21)\n",
            "cntry_min = 370, cntry_max = 376\n",
            "cntry_start = 371, cntry_end = 376\n",
            "Human 21 moved 1% of the frame (vertically)\n",
            "[16] [2]\n",
            "1 people came in\n",
            "1 people left\n",
            "{94: [], 95: [], 96: [], 97: [], 98: [], 99: [], 100: [], 101: [], 102: [(2, False, True)], 103: [(2, False, True)], 104: [(2, False, True)], 105: [(2, False, True)], 106: [(2, False, True)], 107: [(2, False, True)], 108: [(2, False, True)], 109: [(2, False, True)], 110: [(2, False, True)], 111: [(2, False, True)], 112: [(2, False, True)], 113: [(2, False, True)], 114: [(2, False, True)], 115: [(2, False, True)], 116: [(2, False, True)], 117: [(2, False, True)], 118: [(2, False, True)], 119: [(2, False, True)], 120: [(2, False, True), (3, True, False)], 121: [(2, False, True), (3, True, False)], 122: [(2, False, True), (3, True, True)], 123: [(2, False, True), (3, True, True)], 124: [(2, False, True), (3, True, True)], 125: [(2, False, True), (3, True, True)], 126: [(2, False, True), (3, True, True)], 127: [(2, False, True), (3, True, True)], 128: [(2, False, True), (3, True, True)], 129: [(2, False, True), (3, True, True)], 130: [(2, False, True), (3, True, True)], 131: [(2, False, True), (3, True, True)], 132: [(2, False, True), (3, True, True)], 133: [(2, False, True), (3, True, True)], 134: [(2, False, True), (3, True, True)], 135: [(2, False, True), (3, True, True)], 136: [(2, False, True), (3, True, True)], 137: [(2, False, True), (3, True, True)], 138: [(2, False, True), (3, True, True)], 139: [(2, False, True), (3, True, True)], 140: [(2, False, True), (3, True, True)], 141: [(2, False, True), (3, True, True)], 142: [(2, False, True), (3, True, True)], 143: [(2, False, True), (3, True, True)], 144: [(2, False, True), (3, True, True)], 145: [(2, False, True), (3, True, True)], 146: [(2, False, True), (3, True, True)], 147: [(2, False, True), (3, True, True)], 148: [(2, False, True), (3, True, True)], 149: [(2, False, True), (3, True, True)], 150: [(2, False, True), (3, True, True)], 151: [(2, False, True), (3, True, True)], 152: [(2, False, True), (3, True, True)], 153: [(2, False, True), (3, True, True)], 154: [(2, False, True), (3, True, True)], 155: [(2, False, True), (3, True, True)], 156: [(2, False, True), (3, True, True)], 157: [(2, False, True), (3, True, True)], 158: [(2, False, True), (3, True, True)], 159: [(2, False, True), (3, False, True)], 160: [(2, False, True), (3, False, True)], 161: [(2, False, True), (3, False, True)], 162: [(2, False, True), (3, False, True)], 163: [(2, False, True), (3, False, True)], 164: [(2, False, True), (3, False, True)], 165: [(2, False, True), (3, False, True)], 166: [(2, False, True), (3, True, True)], 167: [(2, False, True), (3, True, True)], 168: [(2, False, True), (3, True, True)], 169: [(2, False, True), (3, True, True)], 170: [(2, False, True), (3, True, True)], 171: [(2, False, True), (3, True, True)], 172: [(2, False, True), (3, True, True)], 173: [(2, False, True), (3, True, True)], 174: [(2, False, True), (3, True, True)], 175: [(2, False, True), (3, True, True)], 176: [(2, False, True), (3, True, True)], 177: [(2, False, True), (3, False, True)], 178: [(2, False, True), (3, True, True)], 179: [(2, False, True), (3, True, True)], 180: [(2, False, True), (3, True, True)], 181: [(3, False, True)], 182: [(3, False, True)], 183: [(3, False, True)], 184: [(3, False, True)], 185: [(3, False, True)], 186: [(3, False, True)], 187: [(3, False, True)], 188: [(3, False, True)], 189: [(3, False, True)], 190: [(3, False, True)], 191: [(3, False, True)], 192: [(3, False, True)], 193: [(3, False, True)], 194: [(3, False, True)], 195: [(3, False, True)], 196: [(3, False, True)], 197: [(3, False, True)], 198: [(3, False, True)], 199: [(3, False, True)], 200: [(3, False, True)], 201: [(3, False, True)], 202: [(3, False, True)], 203: [(3, False, True)], 204: [(3, False, True)], 205: [(3, False, True)], 206: [(3, False, True)], 207: [(3, False, True)], 208: [(3, False, True)], 209: [(3, False, True)], 210: [(3, False, True)], 211: [(3, False, True)], 212: [(3, False, True)], 213: [(3, False, True)], 214: [(3, False, True)], 215: [(3, False, True)], 216: [(3, False, True)], 217: [(3, False, True)], 218: [(3, False, True)], 219: [(3, False, True)], 220: [(3, False, True)], 221: [(3, False, True)], 222: [(3, False, True)], 223: [(3, False, True)], 224: [(3, False, True)], 225: [(3, False, True)], 226: [(3, False, True)], 227: [(3, False, True)], 228: [(3, True, True)], 229: [(3, True, True)], 230: [(3, True, True)], 231: [(3, True, True)], 232: [(3, True, True)], 233: [(3, True, True)], 234: [(3, True, True)], 235: [(3, True, True)], 236: [(3, True, True)], 237: [(3, True, True)], 238: [(3, True, True)], 239: [(3, True, True)], 240: [(3, True, True)], 241: [(3, True, True)], 242: [(3, True, True)], 243: [(3, True, True)], 244: [(3, True, True)], 245: [(3, True, True)], 246: [(3, True, True)], 247: [(3, False, True)], 248: [(3, False, True)], 249: [(3, False, True)], 250: [(3, False, True)], 251: [(3, False, True)], 252: [(3, False, True)], 253: [(3, False, True)], 254: [(3, True, True)], 255: [(3, True, True)], 256: [(3, True, True)], 257: [(3, True, True)], 258: [(3, True, True)], 259: [(3, True, True)], 260: [(3, True, True)], 261: [(3, True, True)], 262: [(3, True, True)], 263: [(3, True, True)], 264: [(3, True, True)], 265: [(3, True, True)], 266: [(3, True, True)], 267: [(3, True, True)], 268: [(3, True, True)], 269: [(3, True, True)], 270: [(3, True, True)], 271: [(3, True, True)], 272: [(3, True, True)], 273: [(3, True, True)], 274: [(3, True, True)], 275: [(3, True, True)], 276: [(3, True, True)], 277: [(3, True, True)], 278: [(3, True, True)], 279: [(3, True, True)], 280: [(3, True, True)], 281: [(3, True, True)], 282: [(3, True, True)], 283: [(3, True, True)], 284: [(3, True, True)], 285: [(3, True, True)], 286: [(3, True, True)], 287: [(3, True, True)], 288: [(3, True, True)], 289: [(3, True, True)], 290: [(3, True, True)], 291: [(3, True, True)], 292: [(3, True, True)], 293: [(3, True, True)], 294: [(3, True, True)], 295: [(3, True, True)], 296: [(3, True, True)], 297: [(3, True, True)], 298: [(3, True, True)], 299: [(3, True, True)], 300: [(3, True, True)], 301: [(3, True, True)], 302: [(3, True, True)], 303: [(3, True, True)], 304: [(3, True, True)], 305: [(3, True, True)], 306: [(3, True, True)], 307: [(3, True, True)], 308: [(3, True, True)], 309: [(3, True, True)], 310: [(3, True, True)], 311: [(3, True, True)], 312: [(3, True, True)], 313: [(3, True, True)], 314: [(3, True, True)], 315: [(3, True, True)], 316: [(3, True, True)], 317: [(3, True, True)], 318: [(3, True, True)], 319: [(3, True, True)], 320: [(3, True, True)], 321: [(3, True, True)], 322: [(3, True, True)], 323: [(3, True, True)], 324: [(3, True, True)], 325: [(3, True, True)], 326: [(3, True, True)], 327: [(3, True, True)], 328: [(3, True, True)], 329: [(3, True, True)], 330: [(3, True, True)], 331: [(3, True, True)], 332: [(3, True, True)], 333: [(3, True, True)], 334: [(3, True, True)], 335: [(3, True, True)], 336: [(3, True, True)], 337: [(3, True, True)], 338: [(3, True, True)], 339: [(3, True, True)], 340: [(3, True, True)], 341: [(3, True, True)], 342: [(3, True, True)], 343: [(3, True, True)], 344: [(3, True, True)], 345: [(3, True, True)], 346: [(3, True, True)], 347: [(3, True, True)], 348: [(3, True, True)], 349: [(3, True, True)], 350: [(3, True, True)], 351: [(3, True, True)], 352: [(3, True, True)], 353: [(3, True, True)], 354: [(3, True, True)], 355: [(3, True, True)], 356: [(3, True, True)], 357: [(3, True, True)], 358: [(3, True, True)], 359: [(3, False, True)], 360: [(3, False, True)], 361: [(3, False, True)], 362: [(3, False, True)], 363: [(3, False, True)], 364: [(3, False, True)], 365: [(3, False, True)], 366: [(3, False, True)], 367: [(3, False, True)], 368: [(3, False, True)], 369: [(3, False, True)], 370: [(3, True, True)], 371: [(3, True, True)], 372: [(3, True, True)], 373: [(3, True, True)], 374: [(3, True, True)], 375: [(3, True, True)], 376: [(3, True, True)], 377: [(3, True, True)], 378: [(3, True, True)], 379: [(3, True, True)], 380: [(3, True, True)], 381: [(3, True, True)], 382: [(3, True, True)], 383: [(3, True, True)], 384: [(3, True, True)], 385: [(3, True, True)], 386: [(3, True, True)], 387: [(3, True, True)], 388: [(3, True, True)], 389: [(3, False, True)], 390: [(3, False, True)], 391: [(3, False, True)], 392: [(3, False, True)], 393: [(3, False, True)], 394: [(3, False, True)], 395: [(3, False, True)], 396: [(3, False, True)], 397: [(3, False, True)], 398: [(3, False, True)], 399: [(3, False, True)], 400: [(3, False, True)], 401: [(3, False, True)], 402: [(3, False, True)], 403: [(3, False, True)], 404: [(3, False, True)], 405: [(3, False, True)], 406: [(3, False, True)], 407: [(3, False, True)], 408: [(3, False, True)], 409: [(3, False, True)], 410: [(3, False, True)], 411: [(3, False, True)], 412: [(3, True, True)], 413: [(3, True, True)], 414: [(3, True, True)], 415: [(3, False, True)], 416: [(3, False, True)], 417: [(3, False, True)], 418: [(3, False, True)], 419: [(3, False, True)], 420: [(3, False, True)], 421: [(3, False, True)], 422: [(3, False, True)], 423: [(3, False, True)], 424: [(3, False, True)], 425: [(3, False, True)], 426: [(3, False, True)], 427: [(3, False, True)], 428: [(3, False, True)], 429: [(3, False, True)], 430: [(3, False, True)], 431: [(3, False, True)], 432: [(3, False, True)], 433: [(3, False, True)], 434: [(3, False, True)], 435: [(3, False, True)], 436: [(3, False, True)], 437: [(3, False, True)], 438: [(3, False, True)], 439: [(3, False, True)], 440: [(3, False, True)], 441: [(3, False, True)], 442: [(3, False, True)], 443: [(3, False, True)], 444: [(3, False, True)], 445: [(3, False, True)], 446: [(3, False, True)], 447: [(3, False, True)], 448: [(3, False, True)], 449: [(3, False, True)], 450: [(3, False, True)], 451: [(3, False, True)], 452: [(3, False, True)], 453: [(3, False, True)], 454: [(3, False, True)], 455: [(3, False, True)], 456: [(3, False, True)], 457: [(3, False, True)], 458: [(3, False, True)], 459: [(3, False, True)], 460: [(3, False, True)], 461: [(3, False, True)], 462: [(3, False, True)], 463: [(3, False, True)], 464: [(3, False, True)], 465: [(3, False, True)], 466: [(3, False, True)], 467: [(3, False, True)], 468: [(3, False, True)], 469: [(3, False, True)], 470: [(3, False, True)], 471: [(3, False, True)], 472: [(3, False, True)], 473: [(3, False, True)], 474: [(3, False, True)], 475: [(3, False, True)], 476: [(3, False, True)], 477: [(3, False, True)], 478: [(3, False, True)], 479: [(3, False, True)], 480: [(3, False, True)], 481: [(3, False, True)], 482: [(3, False, True)], 483: [(3, False, True)], 484: [(3, False, True)], 485: [(3, False, True)], 486: [(3, False, True)], 487: [(3, False, True)], 488: [(3, False, True)], 489: [(3, False, True)], 490: [(3, False, True)], 491: [(3, False, True)], 492: [(3, False, True)], 493: [(3, False, True)], 494: [(3, False, True)], 495: [(3, False, True)], 496: [(3, False, True)], 497: [(3, False, True)], 498: [(3, False, True)], 499: [(3, False, True)], 500: [(3, False, True)], 501: [(3, False, True)], 502: [(3, False, True)], 503: [(3, False, True)], 504: [(3, False, True)], 505: [(3, False, True)], 506: [(3, False, True)], 507: [(3, False, True)], 508: [(3, False, True)], 509: [(3, False, True)], 510: [(3, False, True)], 511: [(3, False, True)], 512: [(3, False, True)], 513: [(3, False, True)], 514: [(3, False, True)], 515: [(3, False, True)], 516: [(3, False, True)], 517: [(3, False, True)], 518: [(3, False, True)], 519: [(3, False, True)], 520: [(3, False, True)], 521: [(3, False, True)], 522: [(3, False, True)], 523: [(3, False, True)], 524: [(3, False, True)], 525: [(3, False, True)], 526: [(3, False, True)], 527: [(3, False, True)], 528: [(3, False, True)], 529: [(3, False, True)], 530: [(3, False, True)], 531: [(3, False, True)], 532: [(3, True, True)], 533: [(3, True, True)], 534: [(3, True, True)], 535: [(3, True, True)], 536: [(3, True, True)], 537: [(3, True, True)], 538: [(3, True, True)], 539: [(3, True, True)], 540: [(3, True, True)], 541: [(3, True, True)], 542: [(3, True, True)], 543: [(3, True, True)], 544: [(3, True, True)], 545: [(3, True, False)], 546: [(3, True, False)], 547: [(3, True, False)], 548: [(3, True, False)], 549: [], 550: [], 551: [], 552: [], 553: [], 554: [], 555: [], 556: [], 557: [], 558: [], 559: [], 560: [], 561: [], 562: [], 563: [], 564: [], 565: [], 796: [(3, True, True)], 797: [(3, False, True)], 798: [(3, True, True)], 799: [(3, True, True)], 800: [(3, True, True)], 801: [(3, True, True)], 802: [(3, True, True)], 803: [(3, False, True)], 804: [(3, False, True)], 805: [(3, False, True)], 806: [(3, True, True)], 807: [(3, True, True)], 808: [(3, True, True)], 809: [(3, True, True)], 810: [(3, True, True)], 811: [(3, True, True)], 812: [(3, True, True)], 813: [(3, True, True)], 814: [(3, True, True)], 815: [(3, True, True)], 816: [(3, True, True)], 817: [(3, False, True)], 818: [(3, False, True)], 819: [(3, False, True)], 820: [(3, False, True)], 821: [(3, False, True)], 822: [(3, True, True)], 823: [(3, True, True)], 824: [(3, True, True)], 825: [(3, True, True)], 826: [(3, True, True)], 827: [(3, True, True)], 828: [(3, True, True)], 829: [(3, True, True)], 830: [(3, True, True)], 831: [(3, True, True)], 832: [(3, True, True)], 833: [(3, True, True)], 834: [(3, True, True)], 835: [(3, True, True)], 836: [(3, True, True)], 837: [(3, True, True)], 838: [(3, True, True)], 839: [(3, True, True)], 840: [(3, True, True)], 841: [(3, True, True)], 842: [(3, True, True)], 843: [(3, True, True)], 844: [(3, True, True)], 845: [(3, True, True)], 846: [(3, True, True)], 847: [(3, True, True)], 848: [(3, True, True)], 849: [(3, True, True)], 850: [(3, True, True)], 851: [(3, True, True)], 852: [(3, True, True)], 853: [(3, True, True)], 854: [(3, True, True)], 855: [(3, True, True)], 856: [(3, True, True)], 857: [(3, True, True)], 858: [(3, True, True)], 859: [(3, True, True)], 860: [(3, True, True)], 861: [(3, True, True)], 862: [(3, True, True)], 863: [(3, True, True)], 864: [(3, True, True)], 865: [(3, True, True)], 866: [(3, True, True)], 867: [(3, True, True)], 868: [(3, True, True)], 869: [(3, True, True)], 870: [(3, True, True)], 871: [(3, True, True)], 872: [(3, True, True)], 873: [(3, True, True)], 874: [(3, True, True)], 875: [(3, True, True)], 876: [(3, True, True)], 877: [(3, True, True)], 878: [(3, True, True)], 879: [(3, True, True)], 880: [(3, True, True)], 881: [(3, True, True)], 882: [(3, True, True)], 883: [(3, True, True)], 884: [(3, True, True)], 885: [(3, True, True)], 886: [(3, True, True)], 887: [(3, True, True)], 888: [(3, True, True)], 889: [(3, True, True)], 890: [(3, True, True)], 891: [(3, True, True)], 892: [(3, True, True)], 893: [(3, True, True)], 894: [(3, True, True)], 895: [(3, True, True)], 896: [(3, True, True)], 897: [(3, True, True)], 898: [(3, True, True)], 899: [(3, True, True)], 900: [(3, True, True)], 901: [(3, True, True)], 902: [(3, True, True)], 903: [(3, True, True)], 904: [(3, True, True)], 905: [(3, True, True)], 906: [(3, True, True)], 907: [(3, True, True)], 908: [(3, True, True)], 909: [(3, True, True)], 910: [(3, True, True)], 911: [(3, True, True)], 912: [(3, True, True)], 913: [(3, True, True)], 914: [(3, True, True)], 915: [(3, True, True)], 916: [(3, True, True)], 917: [(3, True, True)], 918: [(3, True, True)], 919: [(3, True, True)], 920: [(3, True, True)], 921: [(3, True, True)], 922: [(3, True, True)], 923: [(3, True, True)], 924: [(3, True, True)], 925: [(3, True, True)], 926: [(3, True, True)], 927: [(3, True, True)], 928: [(3, True, True)], 929: [(3, True, True)], 930: [(3, True, True)], 931: [(3, True, True)], 932: [(3, True, True)], 933: [(3, True, True)], 934: [(3, True, True)], 935: [(3, True, True)], 936: [(3, True, True)], 937: [(3, True, True)], 938: [(3, True, True)], 939: [(3, True, True)], 940: [(3, True, True)], 941: [(3, True, True)], 942: [(3, True, True)], 943: [(3, True, True)], 944: [(3, True, True)], 945: [(3, True, True)], 946: [(3, True, True)], 947: [(3, True, True)], 948: [(3, True, True)], 949: [(3, True, True)], 950: [(3, True, True)], 951: [(3, True, True)], 952: [(3, True, True)], 953: [(3, True, True)], 954: [(3, True, True)], 955: [(3, True, True)], 956: [(3, True, True)], 957: [(3, True, True)], 958: [(3, True, True)], 959: [(3, True, True)], 960: [(3, True, True)], 961: [(3, True, True)], 962: [(3, True, True)], 963: [(3, True, True)], 964: [(3, True, True)], 965: [(3, True, True)], 966: [(3, True, True)], 967: [(3, True, True)], 968: [(3, True, True)], 969: [(3, True, True)], 970: [(3, True, True)], 971: [(3, True, True)], 972: [(3, True, True)], 973: [(3, True, True)], 974: [(3, True, True)], 975: [(3, True, True)], 976: [(3, True, True)], 977: [(3, True, True)], 978: [(3, True, True)], 979: [(3, True, True)], 980: [(3, True, True)], 981: [(3, True, True)], 982: [(3, True, True)], 983: [(3, True, True)], 984: [(3, True, True)], 985: [(3, True, True)], 986: [(3, True, True)], 987: [(3, True, True)], 988: [(3, True, True)], 989: [(3, True, True)], 990: [(3, True, True)], 991: [(3, True, True)], 992: [(3, True, True)], 993: [(3, True, True)], 994: [(3, True, True)], 995: [(3, True, True)], 996: [(3, True, True)], 997: [(3, True, True)], 998: [(3, True, True)], 999: [(3, True, True)], 1000: [(3, True, True)], 1001: [(3, True, True)], 1002: [(3, True, True)], 1003: [(3, True, True)], 1004: [(3, True, True)], 1005: [(3, True, True)], 1006: [(3, True, True)], 1007: [(3, True, True)], 1008: [(3, True, True)], 1009: [(3, True, True)], 1010: [(3, True, True)], 1011: [(3, True, True)], 1012: [(3, True, True)], 1013: [(3, True, True)], 1014: [(3, True, True)], 1015: [(3, True, True)], 1016: [(3, True, True)], 1017: [(3, True, True)], 1018: [(3, True, True)], 1019: [(3, True, True)], 1020: [(3, True, True)], 1021: [(3, True, True)], 1022: [(3, True, True)], 1023: [(3, True, True)], 1024: [(3, True, True)], 1025: [(3, True, True)], 1026: [(3, True, True)], 1027: [(3, True, True)], 1028: [(3, True, True)], 1029: [(3, True, True)], 1030: [(3, True, True)], 1031: [(3, True, True)], 1032: [(3, True, True)], 1033: [(3, True, True)], 1034: [(3, True, True)], 1035: [(3, True, True)], 1036: [(3, True, True)], 1037: [(3, True, True)], 1038: [(3, True, True)], 1039: [(3, True, True)], 1040: [(3, True, True)], 1041: [(3, True, True)], 1042: [(3, True, True)], 1043: [(3, True, True)], 1044: [(3, True, True)], 1045: [(3, True, True)], 1046: [(3, True, True)], 1047: [(3, True, True)], 1048: [(3, True, True)], 1049: [(3, True, True)], 1050: [(3, True, True)], 1051: [(3, True, True)], 1052: [(3, True, True)], 1053: [(3, True, True)], 1054: [(3, True, True)], 1055: [(3, True, True)], 1056: [(3, True, True)], 1057: [(3, True, True)], 1058: [(3, True, True)], 1059: [(3, True, True)], 1060: [(3, True, True)], 1061: [(3, True, True)], 1062: [(3, True, True)], 1063: [(3, True, True)], 1064: [(3, True, True)], 1065: [(3, True, True)], 1066: [(3, True, True)], 1067: [(3, True, True)], 1068: [(3, True, True)], 1069: [(3, True, True)], 1070: [(3, True, True)], 1071: [(3, True, True)], 1072: [(3, True, True)], 1073: [(3, True, True)], 1074: [(3, True, True)], 1075: [(3, True, True)], 1076: [(3, True, True)], 1077: [(3, True, True)], 1078: [(3, True, True)], 1079: [(3, True, True)], 1080: [(3, True, True)], 1081: [(3, True, True)], 1082: [(3, True, True)], 1083: [(3, True, True)], 1084: [(3, True, True)], 1085: [(3, True, True)], 1086: [(3, True, True)], 1087: [(3, True, True)], 1088: [(3, True, True)], 1089: [(3, True, True)], 1090: [(3, True, True)], 1091: [(3, True, True)], 1092: [(3, True, True)], 1093: [(3, True, True)], 1094: [(3, True, True)], 1095: [(3, True, True)], 1096: [(3, True, True)], 1097: [(3, True, True)], 1098: [(3, True, True)], 1099: [(3, True, True)], 1100: [(3, True, True)], 1101: [(3, True, True)], 1102: [(3, True, True)], 1103: [(3, True, True)], 1104: [(3, True, True)], 1105: [(3, True, True)], 1106: [(3, True, True)], 1107: [(3, True, True)], 1108: [(3, True, True)], 1109: [(3, True, True)], 1110: [(3, True, True)], 1111: [(3, True, True)], 1112: [(3, True, True)], 1113: [(3, True, True)], 1114: [(3, True, True)], 1115: [(3, True, True)], 1116: [(3, True, True)], 1117: [(3, True, True)], 1118: [(3, True, True)], 1119: [(3, True, True)], 1120: [(3, True, True)], 1121: [(3, True, True)], 1122: [(3, True, True)], 1123: [(3, True, True)], 1124: [(3, True, True)], 1125: [(3, True, True)], 1126: [(3, True, True)], 1127: [(3, True, True)], 1128: [(3, True, True)], 1129: [(3, True, True)], 1130: [(3, True, True)], 1131: [(3, True, True)], 1132: [(3, True, True)], 1133: [(3, True, True)], 1134: [(3, True, True)], 1135: [(3, True, True)], 1136: [(3, True, True)], 1137: [(3, True, True)], 1138: [(3, True, True)], 1139: [(3, True, True)], 1140: [(3, True, True)], 1141: [(3, True, True)], 1142: [(3, True, True)], 1143: [(3, True, True)], 1144: [(3, True, True)], 1145: [(3, True, True)], 1146: [(3, True, True)], 1147: [(3, True, True)], 1148: [(3, True, True)], 1149: [(3, True, True)], 1150: [(3, True, True)], 1151: [(3, True, True)], 1152: [(3, True, True)], 1153: [(3, True, True)], 1154: [(3, True, True)], 1155: [(3, True, True)], 1156: [(3, True, True)], 1157: [(3, True, True)], 1158: [(3, True, True)], 1159: [(3, True, True)], 1160: [(3, True, True)], 1161: [(3, True, True)], 1162: [(3, True, True)], 1163: [(3, True, True)], 1164: [(3, True, True)], 1165: [(3, True, True)], 1166: [(3, True, True)], 1167: [(3, True, True)], 1168: [(3, True, True)], 1169: [(3, True, True)], 1170: [(3, True, True)], 1171: [(3, True, True)], 1172: [(3, True, True)], 1173: [(3, True, True)], 1174: [(3, True, True)], 1175: [(3, True, True)], 1176: [(3, True, True)], 1177: [(3, True, True)], 1178: [(3, True, True)], 1179: [(3, True, True)], 1180: [(3, True, True)], 1181: [(3, True, True)], 1182: [(3, True, True)], 1183: [(3, True, True)], 1184: [(3, True, True)], 1185: [(3, True, True)], 1186: [(3, True, True)], 1187: [(3, True, True)], 1188: [(3, True, True)], 1189: [(3, True, True)], 1190: [(3, True, True)], 1191: [(3, True, True)], 1192: [(3, True, True)], 1193: [(3, True, True)], 1194: [(3, True, True)], 1195: [(3, True, True)], 1196: [(3, True, True)], 1197: [(3, True, True)], 1198: [(3, True, True)], 1199: [(3, True, True)], 1200: [(3, True, True)], 1201: [(3, True, True)], 1202: [(3, True, True)], 1203: [(3, True, True)], 1204: [(3, True, True)], 1205: [(3, True, True)], 1206: [(3, True, True)], 1207: [(3, True, True)], 1208: [(3, True, True)], 1209: [(3, True, True)], 1210: [(3, True, True)], 1211: [(3, True, True)], 1212: [(3, True, True)], 1213: [(3, True, True)], 1214: [(3, True, True)], 1215: [(3, True, True)], 1216: [(3, True, True)], 1217: [(3, True, True)], 1218: [(3, True, True)], 1219: [(3, True, True)], 1220: [(3, True, True)], 1221: [(3, True, True)], 1222: [(3, True, True)], 1223: [(3, True, True)], 1224: [(3, True, True)], 1225: [(3, True, True)], 1226: [(3, True, True)], 1227: [(3, True, True)], 1228: [(3, True, True)], 1229: [(3, True, True)], 1230: [(3, True, True)], 1231: [(3, True, True)], 1232: [(3, True, True)], 1233: [(3, True, True)], 1234: [(3, True, True)], 1235: [(3, True, True)], 1236: [(3, True, True)], 1237: [(3, True, True)], 1238: [(3, True, True)], 1239: [(3, True, True)], 1240: [(3, True, True)], 1241: [(3, True, True)], 1242: [(3, True, True)], 1243: [(3, True, True)], 1244: [(3, True, True)], 1245: [(3, True, True)], 1246: [(3, True, True)], 1247: [(3, True, True)], 1248: [(3, True, True)], 1249: [(3, True, True)], 1250: [(3, True, True)], 1251: [(3, True, True)], 1252: [(3, True, True)], 1253: [(3, True, True)], 1254: [(3, True, True)], 1255: [(3, True, True)], 1256: [(3, True, True)], 1257: [(3, True, True)], 1258: [(3, True, True)], 1259: [(3, True, True)], 1260: [(3, True, True)], 1261: [(3, True, True)], 1262: [(3, True, True)], 1263: [(3, True, True)], 1264: [(3, True, True)], 1265: [(3, True, True)], 1266: [(3, True, True)], 1267: [(3, True, True)], 1268: [(3, True, True)], 1269: [(3, True, True)], 1270: [(3, True, True)], 1271: [(3, True, True)], 1272: [(3, True, True)], 1273: [(3, True, True)], 1274: [(3, True, True)], 1275: [(3, True, True)], 1276: [(3, True, True)], 1277: [(3, True, True)], 1278: [(3, True, True)], 1279: [(3, True, True)], 1280: [(3, True, True)], 1281: [(3, True, True)], 1282: [(3, True, True)], 1283: [(3, True, True)], 1284: [(3, True, True)], 1285: [(3, True, True)], 1286: [(3, True, True)], 1287: [(3, True, True)], 1288: [(3, True, True)], 1289: [(3, True, True)], 1290: [(3, True, True)], 1291: [(3, True, True)], 1292: [(3, True, True)], 1293: [(3, True, True)], 1294: [(3, True, True)], 1295: [(3, True, True)], 1296: [(3, True, True)], 1297: [(3, True, True)], 1298: [(3, True, True)], 1299: [(3, True, True)], 1300: [(3, True, True)], 1301: [(3, True, True)], 1302: [(3, True, True)], 1303: [(3, True, True)], 1304: [(3, True, True)], 1305: [(3, True, True)], 1306: [(3, True, True)], 1307: [(3, True, True)], 1308: [(3, True, True)], 1309: [(3, True, True)], 1310: [(3, True, True)], 1311: [(3, True, True)], 1312: [(3, True, True)], 1313: [(3, True, True)], 1314: [(3, True, True)], 1315: [(3, True, True)], 1316: [(3, True, True)], 1317: [(3, True, True)], 1318: [(3, True, True)], 1319: [(3, True, True)], 1320: [(3, True, True)], 1321: [(3, True, True)], 1322: [(3, True, True)], 1323: [(3, True, True)], 1324: [(3, True, True)], 1325: [(3, True, True)], 1326: [(3, True, True)], 1327: [(3, True, True)], 1328: [(3, True, True)], 1329: [(3, True, True)], 1330: [(3, True, True)], 1331: [(3, True, True)], 1332: [(3, True, True)], 1333: [(3, True, True)], 1334: [(3, True, True)], 1335: [(3, True, True)], 1336: [(3, True, True)], 1337: [(3, True, True)], 1338: [(3, True, True)], 1339: [(3, True, True)], 1340: [(3, True, True)], 1341: [(3, True, True)], 1342: [(3, True, True)], 1343: [(3, True, True)], 1344: [(3, True, True)], 1345: [(3, True, True)], 1346: [(3, True, True)], 1347: [(3, True, True)], 1348: [(3, True, True)], 1349: [(3, True, True)], 1350: [(3, True, True)], 1351: [(3, True, True)], 1352: [(3, True, True)], 1353: [(3, True, True)], 1354: [(3, True, True)], 1355: [(3, True, True)], 1356: [(3, True, True)], 1357: [(3, True, True)], 1358: [(3, True, True)], 1359: [(3, True, True)], 1360: [(3, True, True)], 1361: [(3, True, True)], 1362: [(3, True, True)], 1363: [(3, True, True)], 1364: [(3, True, True)], 1365: [(3, True, True)], 1366: [(3, True, True)], 1367: [(3, True, True)], 1368: [(3, True, True)], 1369: [(3, True, True)], 1370: [(3, True, True)], 1371: [(3, True, True)], 1372: [(3, True, True)], 1373: [(3, True, True)], 1374: [(3, True, True)], 1375: [(3, True, True)], 1376: [(3, True, True)], 1377: [(3, True, True)], 1378: [(3, True, True)], 1379: [(3, True, True)], 1380: [(3, True, True)], 1381: [(3, True, True)], 1382: [(3, True, True)], 1383: [(3, True, True)], 1384: [(3, True, True)], 1385: [(3, True, True)], 1386: [(3, True, True)], 1387: [(3, True, True)], 1388: [(3, True, True)], 1389: [(3, True, True)], 1390: [(3, True, True)], 1391: [(3, True, True)], 1392: [(3, True, True)], 1393: [(3, True, True)], 1394: [(3, True, True)], 1395: [(3, True, True)], 1396: [(3, True, True)], 1397: [(3, True, True)], 1398: [(3, True, True)], 1399: [(3, True, True)], 1400: [(3, True, True)], 1401: [(3, True, True)], 1402: [(3, True, True)], 1403: [(3, True, True)], 1404: [(3, True, True)], 1405: [(3, True, True)], 1406: [(3, True, True)], 1407: [(3, True, True)], 1408: [(3, True, True)], 1409: [(3, True, True)], 1410: [(3, True, True)], 1411: [(3, True, True)], 1412: [(3, True, True)], 1413: [(3, True, True)], 1414: [(3, True, True)], 1415: [(3, True, True)], 1416: [(3, True, True)], 1417: [(3, True, True)], 1418: [(3, True, True)], 1419: [(3, True, True)], 1420: [(3, True, True)], 1421: [(3, True, True)], 1422: [(3, True, True)], 1423: [(3, True, True)], 1424: [(3, True, True)], 1425: [(3, True, True)], 1426: [(3, True, True)], 1427: [(3, True, True)], 1428: [(3, True, True)], 1429: [(3, True, True)], 1430: [(3, True, True)], 1431: [(3, True, True)], 1432: [(3, True, True)], 1433: [(3, True, True)], 1434: [(3, True, True)], 1435: [(3, True, True)], 1436: [(3, True, True)], 1437: [(3, True, True)], 1438: [(3, True, True)], 1439: [(3, True, True)], 1440: [(3, True, True)], 1441: [(3, True, True)], 1442: [(3, True, True)], 1443: [(3, True, True)], 1444: [(3, True, True)], 1445: [(3, True, True)], 1446: [(3, True, True)], 1447: [(3, True, True)], 1448: [(3, True, True)], 1449: [(3, True, True)], 1450: [(3, True, True)], 1451: [(3, True, True)], 1452: [(3, True, True)], 1453: [(3, True, True)], 1454: [(3, True, True)], 1455: [(3, True, True)], 1456: [(3, True, True)], 1457: [(3, True, True)], 1458: [(3, True, True)], 1459: [(3, True, True)], 1460: [(3, True, True)], 1461: [(3, True, True)], 1462: [(3, True, True)], 1463: [(3, True, True)], 1464: [(3, True, True)], 1465: [(3, True, True)], 1466: [(3, True, True)], 1467: [(3, True, True)], 1468: [(3, True, True)], 1469: [(3, True, True)], 1470: [(3, True, True)], 1471: [(3, True, True)], 1472: [(3, True, True)], 1473: [(3, True, True)], 1474: [(3, True, True)], 1475: [(3, True, True)], 1476: [(3, True, True)], 1477: [(3, True, True)], 1478: [(3, True, True)], 1479: [(3, True, True)], 1480: [(3, True, True)], 1481: [(3, True, True)], 1482: [(3, True, True)], 1483: [(3, True, True)], 1484: [(3, True, True)], 1485: [(3, True, True)], 1486: [(3, True, True)], 1487: [(3, True, True)], 1488: [(3, True, True)], 1489: [(3, True, True)], 1490: [(3, True, True)], 1491: [(3, True, True)], 1492: [(3, True, True)], 1493: [(3, True, True)], 1494: [(3, True, True)], 1495: [(3, True, True)], 1496: [(3, True, True)], 1497: [(3, True, True)], 1498: [(3, True, True)], 1499: [(3, True, True)], 1500: [(3, True, True)], 1501: [(3, True, True)], 1502: [(3, True, True)], 1503: [(3, True, True)], 1504: [(3, True, True)], 1505: [(3, True, True)], 1506: [(3, True, True)], 1507: [(3, True, True)], 1508: [(3, True, True)], 1509: [(3, True, True)], 1510: [(3, True, True)], 1511: [(3, True, True)], 1512: [(3, True, True)], 1513: [(3, True, True)], 1514: [(3, True, True)], 1515: [(3, True, True)], 1516: [(3, True, True)], 1517: [(3, True, True)], 1518: [(3, True, True)], 1519: [(3, True, True)], 1520: [(3, True, True)], 1521: [(3, True, True)], 1522: [(3, True, True)], 1523: [(3, True, True)], 1524: [(3, True, True)], 1525: [(3, True, True)], 1526: [(3, True, True)], 1527: [(3, True, True)], 1528: [(3, True, True)], 1529: [(3, True, True)], 1530: [(3, True, True)], 1531: [(3, True, True)], 1532: [(3, True, True)], 1533: [(3, True, True)], 1534: [(3, True, True)], 1535: [(3, True, True)], 1536: [(3, True, True)], 1537: [(3, True, True)], 1538: [(3, True, True)], 1539: [(3, True, True)], 1540: [(3, True, True)], 1541: [(3, True, True)], 1542: [(3, True, True)], 1543: [(3, True, True)], 1544: [(3, True, True)], 1545: [(3, True, True)], 1546: [(3, True, True)], 1547: [(3, True, True)], 1548: [(3, True, True)], 1549: [(3, True, True)], 1550: [(3, True, True)], 1551: [(3, True, True)], 1552: [(3, True, True)], 1553: [(3, True, True)], 1554: [(3, True, True)], 1555: [(3, True, True)], 1556: [(3, True, True)], 1557: [(3, True, True)], 1558: [(3, True, True)], 1559: [(3, True, True)], 1560: [(3, True, True)], 1561: [(3, True, True)], 1562: [(3, True, True)], 1563: [(3, True, True)], 1564: [(3, True, True)], 1565: [(3, True, True)], 1566: [(3, True, True)], 1567: [(3, True, True)], 1568: [(3, True, True)], 1569: [(3, True, True)], 1570: [(3, True, True)], 1571: [(3, True, True)], 1572: [(3, True, True)], 1573: [(3, True, True)], 1574: [(3, True, True)], 1575: [(3, True, True)], 1576: [(3, True, True)], 1577: [(3, True, True)], 1578: [(3, True, True)], 1579: [(3, True, True)], 1580: [(3, True, True)], 1581: [(3, True, True)], 1582: [(3, True, True)], 1583: [(3, True, True)], 1584: [(3, True, True)], 1585: [(3, True, True)], 1586: [(3, True, True)], 1587: [(3, True, True)], 1588: [(3, True, True)], 1589: [(3, True, True)], 1590: [(3, True, True)], 1591: [(3, True, True)], 1592: [(3, True, True)], 1593: [(3, True, True)], 1594: [(3, True, True)], 1595: [(3, True, True)], 1596: [(3, True, True)], 1597: [(3, True, True)], 1598: [(3, True, True)], 1599: [(3, True, True)], 1600: [(3, True, True)], 1601: [(3, True, True)], 1602: [(3, True, True)], 1603: [(3, True, True)], 1604: [(3, True, True)], 1605: [(3, True, True)], 1606: [(3, True, True)], 1607: [(3, True, True)], 1608: [(3, True, True)], 1609: [(3, True, True)], 1610: [(3, True, True)], 1611: [(3, True, True)], 1612: [(3, True, True)], 1613: [(3, True, True)], 1614: [(3, True, True)], 1615: [(3, True, True)], 1616: [(3, True, True)], 1617: [(3, True, True)], 1618: [(3, True, True)], 1619: [(3, True, True)], 1620: [(3, True, True)], 1621: [(3, True, True)], 1622: [(3, True, True)], 1623: [(3, True, True)], 1624: [(3, True, True)], 1625: [(3, True, True)], 1626: [(3, True, True)], 1627: [(3, True, True)], 1628: [(3, True, True)], 1629: [(3, True, True)], 1630: [(3, True, True)], 1631: [(3, True, True)], 1632: [(3, True, True)], 1633: [(3, True, True)], 1634: [(3, True, True)], 1635: [(3, True, True)], 1636: [(3, True, True)], 1637: [(3, True, True)], 1638: [(3, True, True)], 1639: [(3, True, True)], 1640: [(3, True, True)], 1641: [(3, True, True)], 1642: [(3, True, True)], 1643: [(3, True, True)], 1644: [(3, True, True)], 1645: [(3, True, True)], 1646: [(3, True, True)], 1647: [(3, True, True)], 1648: [(3, True, True)], 1649: [(3, True, True)], 1650: [(3, True, True)], 1651: [(3, True, True)], 1652: [(3, True, True)], 1653: [(3, True, True)], 1654: [(3, True, True)], 1655: [(3, True, True)], 1656: [(3, True, True)], 1657: [(3, True, True)], 1658: [(3, True, True)], 1659: [(3, True, True)], 1660: [(3, True, True)], 1661: [(3, True, True)], 1662: [(3, True, True)], 1663: [(3, True, True)], 1664: [(3, True, True)], 1665: [(3, True, True)], 1666: [(3, True, True)], 1667: [(3, True, True)], 1668: [(3, True, True)], 1669: [(3, True, True)], 1670: [(3, True, True)], 1671: [(3, True, True)], 1672: [(3, True, True)], 1673: [(3, True, True)], 1674: [(3, True, True)], 1675: [(3, True, True)], 1676: [(3, True, True)], 1677: [(3, True, True)], 1678: [(3, True, True)], 1679: [(3, True, True)], 1680: [(3, True, True)], 1681: [(3, True, True)], 1682: [(3, True, True)], 1683: [(3, True, True)], 1684: [(3, True, True)], 1685: [(3, True, True)], 1686: [(3, True, True)], 1687: [(3, True, True)], 1688: [(3, True, True)], 1689: [(3, True, True)], 1690: [(3, True, True)], 1691: [(3, True, True)], 1692: [(3, True, True)], 1693: [(3, True, True)], 1694: [(3, True, True)], 1695: [(3, True, True)], 1696: [(3, True, True)], 1697: [(3, True, True)], 1698: [(3, True, True)], 1699: [(3, True, True)], 1700: [(3, True, True)], 1701: [(3, True, True)], 1702: [(3, True, True)], 1703: [(3, True, True)], 1704: [(3, True, True)], 1705: [(3, True, True)], 1706: [(3, True, True)], 1707: [(3, True, True)], 1708: [(3, True, True)], 1709: [(3, True, True)], 1710: [(3, True, True)], 1711: [(3, True, True)], 1712: [(3, True, True)], 1713: [(3, True, True)], 1714: [(3, True, True)], 1715: [(3, True, True)], 1716: [(3, True, True)], 1717: [(3, True, True)], 1718: [(3, True, True)], 1719: [(3, True, True)], 1720: [(3, True, True)], 1721: [(3, True, True)], 1722: [(3, True, True)], 1723: [(3, True, True)], 1724: [(3, True, True)], 1725: [(3, True, True)], 1726: [(3, True, True)], 1727: [(3, True, True)], 1728: [(3, True, True)], 1729: [(3, True, True)], 1730: [(3, True, True)], 1731: [(3, True, True)], 1732: [(3, True, True)], 1733: [(3, True, True)], 1734: [(3, True, True)], 1735: [(3, True, True)], 1736: [(3, True, True)], 1737: [(3, True, True)], 1738: [(3, True, True)], 1739: [(3, True, True)], 1740: [(3, True, True)], 1741: [(3, True, True)], 1742: [(3, True, True)], 1743: [(3, True, True)], 1744: [(3, True, True)], 1745: [(3, True, True)], 1746: [(3, True, True)], 1747: [(3, True, True)], 1748: [(3, True, True)], 1749: [(3, True, True)], 1750: [(3, True, True)], 1751: [(3, True, True)], 1752: [(3, True, True)], 1753: [(3, True, True)], 1754: [(3, True, True)], 1755: [(3, True, True)], 1756: [(3, True, True)], 1757: [(3, True, True)], 1758: [(3, True, True)], 1759: [(3, True, True)], 1760: [(3, True, True)], 1761: [(3, True, True)], 1762: [(3, True, True)], 1763: [(3, True, True)], 1764: [(3, True, True)], 1765: [(3, True, True)], 1766: [(3, True, True)], 1767: [(3, True, True)], 1768: [(3, True, True)], 1769: [(3, True, True)], 1770: [(3, True, True)], 1771: [(3, True, True)], 1772: [(3, True, True)], 1773: [(3, True, True)], 1774: [(3, True, True)], 1775: [(3, True, True)], 1776: [(3, True, True)], 1777: [(3, True, True)], 1778: [(3, True, True)], 1779: [(3, True, True)], 1780: [(3, True, True)], 1781: [(3, True, True)], 1782: [(3, True, True)], 1783: [(3, True, True)], 1784: [(3, True, True)], 1785: [(3, True, True)], 1786: [(3, True, True)], 1787: [(3, True, True)], 1788: [(3, True, True)], 1789: [(3, True, True)], 1790: [(3, True, True)], 1791: [(3, True, True)], 1792: [(3, True, True)], 1793: [(3, True, True)], 1794: [(3, True, True)], 1795: [(3, True, True)], 1796: [(3, True, True)], 1797: [(3, True, True)], 1798: [(3, True, True)], 1799: [(3, True, True)], 1800: [(3, True, True)], 1801: [(3, True, True)], 1802: [(3, True, True)], 1803: [(3, True, True)], 1804: [(3, True, True)], 1805: [(3, True, True)], 1806: [(3, True, True)], 1807: [(3, True, True)], 1808: [(3, True, True)], 1809: [(3, True, True)], 1810: [(3, True, True)], 1811: [(3, True, True)], 1812: [(3, True, True)], 1813: [(3, True, True)], 1814: [(3, True, True)], 1815: [(3, True, True)], 1816: [(3, True, True)], 1817: [(3, True, True)], 1818: [(3, True, True)], 1819: [(3, True, True)], 1820: [(3, True, True)], 1821: [(3, True, True)], 1822: [(3, True, True)], 1823: [(3, True, True)], 1824: [(3, True, True)], 1825: [(3, True, True)], 1826: [(3, True, True)], 1827: [(3, True, True)], 1828: [(3, True, True)], 1829: [(3, True, True)], 1830: [(3, True, True)], 1831: [(3, True, True)], 1832: [(3, True, True)], 1833: [(3, True, True)], 1834: [(3, True, True)], 1835: [(3, True, True)], 1836: [(3, True, True), (11, True, True)], 1837: [(3, True, True), (11, True, True)], 1838: [(3, True, True), (11, True, True)], 1839: [(3, True, True), (11, True, True)], 1840: [(3, True, True), (11, True, True)], 1841: [(3, True, True), (11, True, True)], 1842: [(3, True, True), (11, True, True)], 1843: [(3, True, True), (11, True, False)], 1844: [(3, True, True), (11, True, False)], 1845: [(3, True, True)], 1846: [(3, True, True)], 1847: [(3, True, True)], 1848: [(3, True, True)], 1849: [(3, True, True)], 1850: [(3, True, True)], 1851: [(3, True, True)], 1852: [(3, True, True), (11, True, False)], 1853: [(3, True, True), (11, True, False)], 1854: [(3, True, True), (11, True, False)], 1855: [(3, True, True), (11, True, False)], 1856: [(3, True, True), (11, True, False)], 1857: [(3, True, True)], 1858: [(3, True, True)], 1859: [(3, True, True)], 1860: [(3, True, True)], 1861: [(3, True, True)], 1862: [(3, True, True)], 1863: [(3, True, True)], 1864: [(3, True, True)], 1865: [(3, True, True)], 1866: [(3, True, True)], 1867: [(3, True, True)], 1868: [(3, True, True)], 1869: [(3, True, True)], 1870: [(3, True, True)], 1871: [(3, True, True)], 1872: [(3, True, True)], 1873: [(3, True, True)], 1874: [(3, True, True)], 1875: [(3, True, True)], 1876: [(3, True, True)], 1877: [(3, True, True)], 1878: [(3, True, True)], 1879: [(3, True, True)], 1880: [(3, True, True)], 1881: [(3, True, True)], 1882: [(3, True, True)], 1883: [(3, True, True)], 1884: [(3, True, True)], 1885: [(3, True, True)], 1886: [(3, True, True)], 1887: [(3, True, True)], 1888: [(3, True, True)], 1889: [(3, True, True)], 1890: [(3, True, True)], 1891: [(3, True, True)], 1892: [(3, True, True)], 1893: [(3, True, True)], 1894: [(3, True, True)], 1895: [(3, True, False)], 1896: [(3, True, False)], 1897: [(3, True, False)], 1898: [(3, True, False)], 1899: [(3, True, False)], 1900: [(3, True, False)], 1901: [(3, True, False)], 1902: [(3, True, False)], 1903: [(3, True, False)], 1904: [(3, True, False)], 1905: [(3, True, False)], 1906: [(3, True, False)], 1907: [(3, True, False)], 1908: [(3, True, False)], 1909: [(3, True, False)], 1910: [(3, True, False)], 1911: [(3, True, False)], 1912: [(3, True, False)], 1913: [(3, True, False)], 1914: [(3, True, False)], 1915: [(3, True, False)], 1916: [(3, True, False)], 1917: [(3, True, False)], 1918: [(3, True, False)], 1919: [(3, True, False)], 1920: [(3, True, False)], 1921: [(3, True, False)], 1922: [(3, True, False)], 1923: [(3, True, False)], 1924: [(3, True, False), (16, False, True)], 1925: [(3, True, False), (16, False, False)], 1926: [(3, False, False), (16, True, True)], 1927: [(3, False, False), (16, True, True)], 1928: [(3, True, False), (16, True, True)], 1929: [(3, False, False), (16, True, True)], 1930: [(3, False, False), (16, True, True)], 1931: [(3, False, False), (16, True, True)], 1932: [(3, False, False), (16, True, True)], 1933: [(3, False, False), (16, True, True)], 1934: [(3, False, False), (16, True, True)], 1935: [(16, True, True)], 1936: [(16, True, True)], 1937: [(16, True, True)], 1938: [(16, True, True)], 1939: [(16, True, True)], 1940: [(16, True, True)], 1941: [(16, True, True)], 1942: [(16, True, True)], 1943: [(16, True, True)], 1944: [(16, True, True)], 1945: [(16, True, True)], 1946: [(16, True, True)], 1947: [(16, True, True)], 1948: [(16, True, True)], 1949: [(16, True, True)], 1950: [(16, True, True)], 1951: [(16, True, True)], 1952: [(16, True, True)], 1953: [(16, True, True)], 1954: [(16, True, True)], 1955: [(16, True, False)], 1956: [(16, True, False)], 1957: [(16, True, False)], 1958: [(16, True, False)], 1959: [(16, True, False)], 1960: [(16, True, False)], 1961: [(16, True, False)], 1962: [(16, True, True)], 1963: [(16, True, True)], 1964: [(16, True, True)], 1965: [(16, True, True)], 1966: [(16, True, True), (21, True, True)], 1967: [(16, True, False), (21, True, True)], 1968: [(16, True, False), (21, True, True)], 1969: [(21, True, True)], 1970: [(21, True, True)], 1971: [(21, True, False)], 1972: [(21, True, False)], 1973: [], 1974: [], 1975: [], 1976: [], 1977: [], 1978: [], 1979: [], 1980: [], 1981: []}\n",
            "Human 16 is detected in 45 frames, we detect that he has a hat in 43 frames and vest in 35 frames.\n",
            "Human 16 is a good human. :-)\n",
            "Human 2 is detected in 79 frames, we detect that he has a hat in 0 frames and vest in 79 frames.\n",
            "Human with id 2 is crossing with no hat in interval 0 min 8 sec - 0 min 14 sec.\n",
            "1 1 {3: [(8, 14)]}\n"
          ]
        }
      ]
    },
    {
      "cell_type": "code",
      "source": [
        "came, left, violations = get_results('/content/drive/MyDrive/Hardhats_vests/tracker_results/10/tracks/10.txt')\n",
        "print(came, left, violations)"
      ],
      "metadata": {
        "colab": {
          "base_uri": "https://localhost:8080/"
        },
        "id": "y1Xxw8W1yBMi",
        "outputId": "52680bef-dc3b-41fb-fbab-2ac836dbf2a9"
      },
      "execution_count": null,
      "outputs": [
        {
          "output_type": "stream",
          "name": "stdout",
          "text": [
            "(0, 2)\n",
            "cntry_min = 271, cntry_max = 384\n",
            "cntry_start = 367, cntry_end = 279\n",
            "Human 2 moved 31% of the frame (vertically)\n",
            "Human 2 left.\n",
            "(0, 6)\n",
            "cntry_min = 400, cntry_max = 411\n",
            "cntry_start = 409, cntry_end = 400\n",
            "Human 6 moved 3% of the frame (vertically)\n",
            "(0, 8)\n",
            "cntry_min = 346, cntry_max = 396\n",
            "cntry_start = 396, cntry_end = 346\n",
            "Human 8 moved 14% of the frame (vertically)\n",
            "[] [2]\n",
            "0 people came in\n",
            "1 people left\n",
            "{49: [(2, False, True)], 50: [(2, False, True)], 51: [(2, False, True)], 52: [(2, False, True)], 53: [(2, False, True)], 54: [(2, False, True)], 55: [(2, False, True)], 56: [(2, False, True)], 57: [(2, False, True)], 58: [(2, False, True)], 59: [(2, False, True)], 60: [(2, False, True)], 61: [(2, False, True)], 62: [(2, False, True)], 63: [(2, False, True)], 64: [(2, False, True)], 65: [(2, False, True)], 66: [(2, False, True)], 67: [(2, False, True)], 68: [(2, False, True)], 69: [(2, False, True)], 70: [], 71: [], 72: [], 73: [], 74: [], 75: [], 76: [], 77: [(2, False, True)], 78: [(2, False, True)], 79: [(2, False, True)], 80: [(2, False, True)], 81: [(2, False, True)], 82: [(2, False, True)], 83: [(2, False, True)], 84: [(2, False, True)], 85: [(2, False, True)], 86: [(2, False, True)], 87: [(2, False, True)], 88: [(2, False, True)], 89: [(2, False, True)], 90: [(2, False, True)], 91: [(2, False, True)], 92: [(2, False, True)], 93: [(2, False, True)], 94: [], 95: [], 96: [], 101: [], 102: [], 103: [], 104: [], 105: [], 106: [], 107: [(2, False, True)], 108: [(2, False, True)], 109: [(2, False, True)], 110: [(2, False, True)], 111: [(2, False, True)], 112: [(2, False, True)], 113: [(2, False, True)], 114: [(2, False, True)], 115: [(2, False, True)], 116: [(2, False, True)], 117: [(2, False, True)], 118: [(2, False, True)], 119: [(2, False, True)], 120: [(2, False, True)], 121: [(2, False, True)], 122: [(2, False, True)], 123: [(2, False, True)], 124: [(2, False, True)], 125: [(2, False, True)], 126: [(2, False, True)], 127: [(2, False, True)], 128: [(2, False, True)], 129: [(2, False, True)], 130: [(2, False, True)], 131: [(2, False, True)], 132: [(2, False, True)], 133: [(2, False, True)], 134: [(2, False, True)], 135: [(2, False, True)], 136: [(2, False, True)], 137: [(2, False, True)], 138: [(2, False, True)], 139: [(2, False, True)], 140: [(2, False, True)], 141: [(2, False, True), (6, False, True)], 142: [(2, False, True), (6, False, True)], 143: [(2, False, True), (6, False, True)], 144: [(2, False, True)], 145: [(2, False, True)], 146: [(2, False, True)], 147: [(2, False, True)], 148: [(2, False, True)], 149: [(2, False, True)], 150: [(2, False, True)], 151: [(2, False, True)], 152: [(2, False, True)], 153: [(2, False, True)], 154: [(2, False, True)], 155: [(2, False, True)], 156: [(2, False, True)], 157: [(2, False, True)], 158: [(2, False, True)], 159: [(2, False, True)], 160: [(2, False, True)], 161: [(2, False, True), (6, False, True)], 162: [(2, False, True), (6, False, True)], 163: [(2, False, True), (6, False, True)], 164: [(2, False, True), (6, False, True)], 165: [(2, False, True), (6, False, True)], 166: [(2, False, True), (6, False, True)], 167: [(2, False, True), (6, False, True)], 168: [(2, False, True)], 169: [(2, False, True)], 170: [(2, False, True)], 171: [(2, False, True)], 172: [(2, False, True)], 173: [(2, False, True)], 174: [(2, False, True)], 175: [(2, False, True)], 176: [(2, False, True)], 177: [(2, False, True)], 178: [(2, False, True)], 179: [(2, False, True)], 180: [(2, False, True)], 181: [(2, False, True)], 182: [(2, False, True)], 183: [(2, False, True)], 184: [(2, False, True)], 185: [(2, False, True)], 186: [(2, False, True)], 187: [(2, False, True)], 188: [(2, False, True)], 189: [(2, False, True)], 190: [(2, False, True)], 191: [(2, False, True)], 192: [(2, False, True)], 193: [(2, False, True)], 194: [(2, False, True)], 195: [(2, False, True)], 196: [(2, False, True)], 197: [(2, False, True)], 198: [(2, False, True)], 199: [(2, False, True)], 200: [(2, False, True)], 201: [(2, False, True)], 202: [(2, False, True)], 203: [(2, False, True)], 204: [(2, False, True)], 205: [(2, False, True)], 206: [(2, False, True)], 207: [(2, False, True), (8, False, True)], 208: [(2, False, True), (8, False, True)], 209: [(2, False, True), (8, False, True)], 210: [(2, False, True), (8, False, True)], 211: [(2, False, True), (8, False, True)], 212: [(2, False, True), (8, False, True)], 213: [(2, False, True), (8, False, True)], 214: [(2, False, True), (8, False, True)], 215: [(2, False, True), (8, False, True)], 216: [(2, False, True), (8, False, True)], 217: [(2, False, True), (8, False, True)], 218: [(2, False, True), (8, False, True)], 219: [(2, False, True), (8, False, True)], 220: [(2, False, True), (8, False, True)], 221: [(2, False, True), (8, False, True)], 222: [(2, False, True), (8, False, True)], 223: [(2, False, True), (8, False, True)], 224: [(2, False, True), (8, False, True)], 225: [(2, False, True), (8, False, True)], 226: [(2, False, True), (8, False, True)], 227: [(2, False, True), (8, False, True)], 228: [(2, False, True), (8, False, True)], 229: [(2, False, True), (8, False, True)], 230: [(2, False, True), (8, False, True)], 231: [(2, False, True), (8, False, True)], 232: [(2, False, True), (8, False, True)], 233: [(2, False, True), (8, False, True)], 234: [(2, False, True), (8, False, True)], 235: [(2, False, True), (8, False, True)], 236: [(2, False, True), (8, False, True)], 237: [(2, False, True), (8, False, True)], 238: [(2, False, True), (8, False, True)], 239: [(2, False, True), (8, False, True)], 240: [(2, False, True), (8, False, True)], 241: [(2, False, True), (8, False, True)], 242: [(2, False, True), (8, False, True)], 243: [(2, False, True), (8, False, True)], 244: [(2, False, True), (8, False, True)], 245: [(2, False, True), (8, False, True)], 246: [(2, False, True), (8, False, True)], 247: [(2, False, True), (8, False, True)], 248: [(2, False, True), (8, False, True)], 249: [(2, False, True), (8, False, True)], 250: [(2, False, True), (8, False, True)], 251: [(2, False, True), (8, False, True)], 252: [(2, False, True), (8, False, True)], 253: [(2, False, True), (8, False, True)], 254: [(2, False, True)], 255: [(2, False, True), (8, False, True)], 256: [(2, False, True), (8, False, True)], 257: [(2, False, True), (8, False, True)], 258: [(2, False, True), (8, False, True)], 259: [(2, False, True), (8, False, True)], 260: [(2, False, True), (8, False, True)], 261: [(2, False, True), (8, False, True)], 262: [(2, False, True), (8, False, True)], 263: [(2, False, True), (8, False, True)], 264: [(8, False, True)], 265: [(8, False, True)], 266: [(8, False, True)], 267: [(8, False, True)], 268: [(8, False, True)], 269: [(8, False, True)], 270: [(8, False, True)], 271: [(8, False, True)], 272: [(8, False, True)], 273: [(8, False, True)], 274: [(8, False, True)], 275: [(8, False, True)], 276: [(8, False, True)], 277: [(8, False, True)], 278: [(8, False, True)], 279: [(8, False, True)], 280: [(8, False, True)], 281: [(8, False, True)], 282: [(8, False, True)], 283: [(8, False, True)], 284: [(8, False, True)], 285: [(8, False, True)], 286: [(8, False, True)], 287: [(8, False, True)], 288: [(8, False, True)], 289: [(2, False, True), (8, False, True)], 290: [(2, False, True)], 291: [(2, False, True)], 292: [(2, False, True)], 293: [(2, False, True)], 294: [(2, False, True)], 295: [(2, False, True)], 296: [(2, False, True)], 297: [(2, False, True)], 298: [(2, False, True)], 299: [(2, False, True)], 300: [(2, False, True)], 301: [(2, False, True)], 302: [(2, False, True)], 303: [(2, False, True)], 304: [(2, False, True)], 305: [(2, False, True)], 306: [(2, False, True)], 307: [(2, False, True)], 308: [(2, False, True)], 309: [(2, False, True)], 310: [(2, False, True)], 311: [(2, False, True)], 312: [(2, False, True)], 313: [(2, False, True)], 314: [(2, False, True)], 315: [(2, False, True)], 316: [(2, False, True)], 317: [(2, False, True)], 318: [(2, False, True)]}\n",
            "Human 2 is detected in 225 frames, we detect that he has a hat in 0 frames and vest in 225 frames.\n",
            "Human with id 2 is crossing with no hat in interval 0 min 4 sec - 0 min 26 sec.\n",
            "0 1 {3: [(4, 26)]}\n"
          ]
        }
      ]
    },
    {
      "cell_type": "code",
      "source": [
        "came, left, violations = get_results('/content/drive/MyDrive/Hardhats_vests/tracker_results/11/tracks/11.txt')\n",
        "print(came, left, violations)"
      ],
      "metadata": {
        "colab": {
          "base_uri": "https://localhost:8080/"
        },
        "id": "t1y7Vvh22Ora",
        "outputId": "d39b66e3-793b-483f-e54d-eadf1d1341d2"
      },
      "execution_count": null,
      "outputs": [
        {
          "output_type": "stream",
          "name": "stdout",
          "text": [
            "(0, 1)\n",
            "cntry_min = 271, cntry_max = 395\n",
            "cntry_start = 395, cntry_end = 271\n",
            "Human 1 moved 35% of the frame (vertically)\n",
            "Human 1 left.\n",
            "(0, 2)\n",
            "cntry_min = 378, cntry_max = 407\n",
            "cntry_start = 407, cntry_end = 392\n",
            "Human 2 moved 8% of the frame (vertically)\n",
            "(0, 3)\n",
            "cntry_min = 372, cntry_max = 382\n",
            "cntry_start = 380, cntry_end = 374\n",
            "Human 3 moved 2% of the frame (vertically)\n",
            "(0, 4)\n",
            "cntry_min = 417, cntry_max = 418\n",
            "cntry_start = 418, cntry_end = 417\n",
            "Human 4 moved 0% of the frame (vertically)\n",
            "(0, 5)\n",
            "cntry_min = 413, cntry_max = 417\n",
            "cntry_start = 416, cntry_end = 413\n",
            "Human 5 moved 1% of the frame (vertically)\n",
            "(0, 7)\n",
            "cntry_min = 270, cntry_max = 394\n",
            "cntry_start = 394, cntry_end = 270\n",
            "Human 7 moved 35% of the frame (vertically)\n",
            "Human 7 left.\n",
            "(0, 9)\n",
            "cntry_min = 282, cntry_max = 390\n",
            "cntry_start = 390, cntry_end = 282\n",
            "Human 9 moved 30% of the frame (vertically)\n",
            "Human 9 left.\n",
            "[] [1, 7, 9]\n",
            "0 people came in\n",
            "3 people left\n",
            "{26: [(1, False, False)], 27: [(1, False, False)], 28: [(1, False, False)], 29: [(1, False, False)], 30: [(1, False, False)], 31: [(1, False, False)], 32: [(1, False, False)], 33: [(1, False, False)], 34: [(1, False, False)], 35: [(1, False, False)], 36: [(1, False, False)], 37: [(1, False, False)], 38: [(1, False, False)], 39: [(1, False, False)], 40: [(1, False, False)], 41: [(1, False, False)], 42: [(1, False, False)], 43: [(1, False, False)], 44: [(1, False, False)], 45: [(1, False, False)], 46: [(1, False, False), (2, False, False)], 47: [(1, False, False), (2, False, False)], 48: [(1, False, False), (2, False, False)], 49: [(1, False, False), (2, False, False)], 50: [(1, False, False), (2, False, False)], 51: [(1, False, False), (2, False, False)], 52: [(1, False, False), (2, False, False)], 53: [(1, False, False), (2, False, False)], 54: [(1, False, False), (2, False, False)], 55: [(1, False, False), (2, False, False)], 56: [(1, False, False), (2, False, False)], 57: [(1, False, False), (2, False, False)], 58: [(1, False, False), (2, False, False)], 59: [(1, False, False), (2, False, False)], 60: [(1, False, False), (2, False, False)], 61: [(1, False, False), (2, False, False)], 62: [(1, False, False), (2, False, False)], 63: [(1, False, False), (2, False, False)], 64: [(1, False, False), (2, False, False)], 65: [(1, False, False)], 66: [(1, False, False), (2, False, False)], 67: [(1, False, False), (2, False, False)], 68: [(1, False, False), (2, False, False)], 69: [(1, False, False), (2, False, False)], 70: [(1, False, False), (2, False, False)], 71: [(1, False, False), (2, False, False)], 72: [(1, False, False), (2, False, False)], 73: [(1, False, False), (2, False, False)], 74: [(1, False, False), (2, False, False)], 75: [(1, False, False), (2, False, False)], 76: [(1, False, False), (2, False, False)], 77: [(1, False, False), (2, False, False)], 78: [(1, False, False), (2, False, False)], 79: [(1, False, False), (2, False, False)], 80: [(1, False, False), (2, False, False)], 81: [(1, False, False), (2, False, False)], 82: [(1, False, False), (2, False, False)], 83: [(1, False, False), (2, False, False)], 84: [(1, False, False), (2, False, False)], 85: [(1, False, False), (2, False, False)], 86: [(1, False, False), (2, False, False)], 87: [(1, False, False), (2, False, False)], 88: [(1, False, False), (2, False, False)], 89: [(1, False, False), (2, False, False)], 90: [(1, False, False), (2, False, False)], 91: [(1, False, False), (2, False, False)], 92: [(1, False, False), (2, False, False)], 93: [(1, False, False)], 94: [(1, False, False)], 95: [(1, False, False)], 96: [(1, False, False)], 97: [(1, False, False)], 98: [(1, False, False)], 99: [(1, False, False)], 100: [(1, False, False)], 101: [(1, False, False)], 102: [(1, False, False)], 103: [(1, False, False)], 104: [(1, False, False)], 105: [(1, False, False)], 106: [(1, False, False)], 107: [(1, False, False)], 108: [(1, False, False)], 109: [(1, False, False)], 110: [(1, False, False)], 111: [(1, False, False)], 112: [(1, False, False)], 113: [(1, False, False)], 114: [(1, False, False), (3, False, False)], 115: [(1, False, False), (3, False, False)], 116: [(1, False, False), (3, False, False)], 117: [(1, False, False), (3, False, False)], 118: [(1, False, False), (3, False, False)], 119: [(1, False, False), (3, False, False)], 120: [(1, False, False), (3, False, False)], 121: [(1, False, False), (3, False, False)], 122: [(1, False, False), (3, False, False)], 123: [(1, False, False), (3, False, False)], 124: [(1, False, False), (3, False, False)], 125: [(1, False, False), (3, False, False)], 126: [(1, False, False), (3, False, False)], 127: [(1, False, False), (3, False, False)], 128: [(1, False, False), (3, False, False)], 129: [(1, False, False)], 130: [(1, False, False)], 131: [(1, False, False)], 132: [(1, False, False)], 133: [(1, False, False)], 134: [(1, False, False)], 135: [(1, False, False)], 136: [(1, False, False)], 137: [(1, False, False)], 138: [(1, False, False)], 139: [(1, False, False)], 140: [(1, False, False)], 141: [(1, False, False)], 142: [(1, False, False)], 143: [(1, False, False)], 144: [(1, False, False)], 145: [(1, False, False)], 146: [(1, False, False)], 147: [(1, False, False)], 148: [(1, False, False)], 149: [(1, False, False)], 150: [(1, False, False)], 151: [(1, False, False)], 152: [(1, False, False)], 153: [(1, False, False)], 154: [(1, False, False)], 155: [(1, False, False)], 156: [(1, False, False)], 157: [(1, False, False)], 158: [(1, False, False)], 159: [(1, False, False)], 160: [(1, False, False)], 161: [(1, False, False)], 162: [(1, False, False)], 163: [(1, False, False)], 164: [(1, False, False)], 165: [(1, False, False)], 166: [(1, False, False)], 167: [(1, False, False)], 168: [(1, False, False)], 169: [(1, False, False)], 170: [(1, False, False)], 171: [(1, False, False)], 172: [(1, False, False)], 173: [(1, False, False)], 174: [(1, False, False)], 175: [(1, False, False)], 176: [(1, False, False)], 177: [(1, False, False)], 178: [(1, False, False)], 179: [(1, False, False)], 180: [(1, False, False)], 181: [(1, False, False)], 182: [(1, False, False)], 183: [(1, False, False)], 184: [(1, False, False)], 185: [(1, False, False)], 186: [(1, False, False)], 187: [(1, False, False)], 188: [(1, False, False)], 189: [(1, False, False)], 190: [(1, False, False)], 191: [(1, False, False)], 192: [(1, False, False)], 193: [(1, False, False)], 194: [(1, False, False)], 195: [(1, False, False)], 196: [(1, False, False)], 197: [(1, False, False)], 198: [(1, False, False)], 199: [(1, False, False)], 200: [(1, False, False)], 201: [(1, False, False)], 202: [(1, False, False)], 203: [(1, False, False)], 204: [(1, False, False)], 205: [(1, False, False)], 206: [(1, False, False)], 207: [(1, False, False)], 208: [(1, False, False), (4, False, False)], 209: [(1, False, False), (4, False, False)], 210: [(1, False, False), (4, False, False)], 211: [(1, False, False), (4, False, False)], 212: [(1, False, False), (4, False, False)], 213: [(1, False, False)], 214: [(1, False, False)], 215: [(1, False, False)], 216: [(1, False, False)], 217: [(1, False, False)], 218: [(1, False, False), (5, False, False)], 219: [(1, False, False), (5, False, False)], 220: [(1, False, False), (5, False, False)], 221: [(1, False, False), (5, False, False)], 222: [(1, False, False), (5, False, False)], 223: [(1, False, False), (5, False, False)], 224: [(1, False, False), (5, False, False)], 225: [(1, False, False), (5, False, False)], 226: [(1, False, False), (5, False, False)], 227: [(1, False, False), (5, False, False)], 228: [(1, False, False), (5, False, False)], 229: [(1, False, False), (5, False, False)], 230: [(1, False, False), (5, False, False)], 231: [(1, False, False)], 232: [(1, False, False)], 233: [(1, False, False)], 234: [(1, False, False)], 235: [(1, False, False)], 236: [(1, False, False)], 237: [(1, False, False)], 238: [(1, False, False)], 239: [(1, False, False)], 240: [(1, False, False)], 241: [(1, False, False)], 242: [(1, False, False)], 243: [(1, False, False)], 244: [(1, False, False)], 245: [(1, False, False)], 246: [(1, False, False), (7, False, False)], 247: [(1, False, False), (7, False, False)], 248: [(1, False, False), (7, False, False)], 249: [(1, False, False), (7, False, False)], 250: [(1, False, False), (7, False, False)], 251: [(1, False, False), (7, False, False)], 252: [(1, False, False), (7, False, False)], 253: [(1, False, False), (7, False, False)], 254: [(1, False, False), (7, False, False)], 255: [(1, False, False), (7, False, False)], 256: [(1, False, False), (7, False, False)], 257: [(1, False, False), (7, False, False)], 258: [(1, False, False), (7, False, False)], 259: [(1, False, False), (7, False, False)], 260: [(1, False, False), (7, False, False)], 261: [(7, False, False)], 262: [(7, False, False)], 263: [(7, False, False)], 264: [(7, False, False)], 265: [(7, False, False)], 266: [(7, False, False)], 267: [(7, False, False)], 268: [(7, False, False)], 269: [(7, False, False)], 270: [(7, False, False)], 271: [(7, False, False)], 272: [(7, False, False)], 273: [(7, False, False)], 274: [(7, False, False)], 275: [(7, False, False)], 276: [(7, False, False)], 277: [(7, False, False)], 278: [(7, False, False)], 279: [(7, False, False)], 280: [(7, False, False)], 281: [(7, False, False)], 282: [(7, False, False)], 283: [(7, False, False)], 284: [(7, False, False)], 285: [(7, False, False)], 286: [(7, False, False)], 287: [(7, False, False)], 288: [(7, False, False)], 289: [(7, False, False)], 290: [(7, False, False)], 291: [(7, False, False)], 292: [(7, False, False)], 293: [(7, False, False)], 294: [(7, False, False)], 295: [(7, False, False)], 296: [(7, False, False)], 297: [(7, False, False)], 298: [(7, False, False)], 299: [(7, False, False)], 300: [(7, False, False)], 301: [(7, False, False)], 302: [(7, False, False)], 303: [(7, False, False)], 304: [(7, False, False)], 305: [(7, False, False)], 306: [(7, False, False)], 307: [(7, False, False)], 308: [(7, False, False)], 309: [(7, False, False)], 310: [(7, False, False)], 311: [(7, False, False)], 312: [(7, False, False)], 313: [(7, False, False)], 314: [(7, False, False)], 315: [(7, False, False)], 316: [(7, False, False)], 317: [(7, False, False)], 318: [(7, False, False)], 319: [(7, False, False)], 320: [(7, False, False)], 321: [(7, False, False)], 322: [(7, False, False)], 323: [(7, False, False)], 324: [(7, False, False)], 325: [(7, False, False)], 326: [(7, False, False)], 327: [(7, False, False)], 328: [(7, False, False)], 329: [(7, False, False)], 330: [(7, False, False)], 331: [(7, False, False)], 332: [(7, False, False)], 333: [(7, False, False)], 334: [(7, False, False)], 335: [(7, False, False)], 336: [(7, False, False)], 337: [(7, False, False)], 338: [(7, False, False)], 339: [(7, False, False)], 340: [(7, False, False)], 341: [(7, False, False)], 342: [(7, False, False)], 343: [(7, False, False)], 344: [(7, False, False)], 345: [(7, False, False)], 346: [(7, False, False)], 347: [(7, False, False)], 348: [(7, False, False)], 349: [(7, False, False)], 350: [(7, False, False)], 351: [(7, False, False)], 352: [(7, False, False)], 353: [(7, False, False)], 354: [(7, False, False)], 355: [(7, False, False)], 356: [(7, False, False)], 357: [(7, False, False)], 358: [(7, False, False)], 359: [(7, False, False)], 448: [(7, False, False)], 450: [], 451: [], 452: [(9, False, True)], 453: [(9, False, True)], 454: [(9, False, True)], 455: [(9, False, True)], 456: [(9, False, True)], 457: [(9, False, True)], 458: [(9, False, True)], 459: [(9, False, True)], 460: [(9, False, True)], 461: [(9, False, True)], 462: [(9, False, True)], 463: [(9, False, True)], 464: [(9, False, True)], 465: [(9, False, True)], 466: [(9, False, True)], 467: [(9, False, True)], 468: [(9, False, True)], 469: [(9, False, True)], 470: [(9, False, True)], 471: [(9, False, True)], 472: [(9, False, True)], 473: [(9, False, True)], 474: [(9, False, True)], 475: [(9, False, True)], 476: [(9, False, True)], 477: [(9, False, True)], 478: [(9, False, True)], 479: [(9, False, True)], 480: [(9, False, True)], 481: [(9, False, True)], 482: [(9, False, True)], 483: [(9, False, True)], 484: [(9, False, True)], 485: [(9, False, True)], 486: [(9, False, True)], 487: [(9, False, True)], 488: [(9, False, True)], 489: [(9, False, True)], 490: [(9, False, True)], 491: [(9, False, True)], 492: [(9, False, True)], 493: [(9, False, True)], 494: [(9, False, True)], 495: [(9, False, True)], 496: [(9, False, True)], 497: [(9, False, True)], 498: [(9, False, True)], 499: [(9, False, True)], 500: [(9, False, True)], 501: [(9, False, True)], 502: [(9, False, True)], 503: [(9, False, True)], 504: [(9, False, True)], 505: [(9, False, True)], 506: [(9, False, True)], 507: [(9, False, True)], 508: [(9, False, True)], 509: [(9, False, True)], 510: [(9, False, True)], 511: [(9, False, True)], 512: [(9, False, True)], 513: [(9, False, True)], 514: [(9, False, True)], 515: [(9, False, True)], 516: [(9, False, True)], 517: [(9, False, True)], 518: [(9, False, True)], 519: [(9, False, True)], 520: [(9, False, True)], 521: [(9, False, True)], 522: [(9, False, True)], 523: [(9, False, True)], 524: [(9, False, True)], 525: [(9, False, True)], 526: [(9, False, True)], 527: [(9, False, True)], 528: [(9, False, True)], 529: [(9, False, True)], 530: [(9, False, True)], 531: [(9, False, True)], 532: [(9, False, True)], 533: [(9, False, True)], 534: [(9, False, True)], 535: [(9, False, True)], 536: [(9, False, True)], 537: [(9, False, True)], 538: [(9, False, True)], 539: [(9, False, True)], 540: [(9, False, True)], 541: [(9, False, True)], 542: [(9, False, True)], 543: [(9, False, True)], 544: [(9, False, True)], 545: [], 546: [], 547: []}\n",
            "Human 1 is detected in 235 frames, we detect that he has a hat in 0 frames and vest in 0 frames.\n",
            "Human with id 1 is crossing with no hat, no vest in interval 0 min 2 sec - 0 min 21 sec.\n",
            "Human 7 is detected in 115 frames, we detect that he has a hat in 0 frames and vest in 0 frames.\n",
            "Human with id 7 is crossing with no hat, no vest in interval 0 min 20 sec - 0 min 37 sec.\n",
            "Human 9 is detected in 93 frames, we detect that he has a hat in 0 frames and vest in 93 frames.\n",
            "Human with id 9 is crossing with no hat in interval 0 min 37 sec - 0 min 45 sec.\n",
            "0 3 {1: [(2, 21), (20, 37)], 3: [(37, 45)]}\n"
          ]
        }
      ]
    },
    {
      "cell_type": "code",
      "source": [
        "came, left, violations = get_results('/content/drive/MyDrive/Hardhats_vests/tracker_results/12/tracks/12.txt')\n",
        "print(came, left, violations)"
      ],
      "metadata": {
        "colab": {
          "base_uri": "https://localhost:8080/"
        },
        "id": "saw8NRXx2_Pk",
        "outputId": "abddc85e-01b5-4cc8-9172-3995f510895b"
      },
      "execution_count": null,
      "outputs": [
        {
          "output_type": "stream",
          "name": "stdout",
          "text": [
            "(0, 2)\n",
            "cntry_min = 378, cntry_max = 409\n",
            "cntry_start = 379, cntry_end = 409\n",
            "Human 2 moved 8% of the frame (vertically)\n",
            "(0, 3)\n",
            "cntry_min = 268, cntry_max = 382\n",
            "cntry_start = 377, cntry_end = 268\n",
            "Human 3 moved 31% of the frame (vertically)\n",
            "Human 3 left.\n",
            "(0, 4)\n",
            "cntry_min = 391, cntry_max = 399\n",
            "cntry_start = 399, cntry_end = 391\n",
            "Human 4 moved 2% of the frame (vertically)\n",
            "(0, 5)\n",
            "cntry_min = 269, cntry_max = 381\n",
            "cntry_start = 381, cntry_end = 269\n",
            "Human 5 moved 30% of the frame (vertically)\n",
            "Human 5 left.\n",
            "(0, 6)\n",
            "cntry_min = 274, cntry_max = 390\n",
            "cntry_start = 376, cntry_end = 274\n",
            "Human 6 moved 31% of the frame (vertically)\n",
            "Human 6 left.\n",
            "(0, 7)\n",
            "cntry_min = 270, cntry_max = 362\n",
            "cntry_start = 362, cntry_end = 270\n",
            "Human 7 moved 25% of the frame (vertically)\n",
            "Human 7 left.\n",
            "[] [3, 5, 6, 7]\n",
            "0 people came in\n",
            "4 people left\n",
            "{64: [], 65: [], 66: [(2, False, True)], 67: [(2, False, True)], 68: [(2, False, True)], 69: [(2, False, True)], 70: [(2, False, True)], 71: [(2, False, True)], 72: [(2, False, True)], 73: [(2, False, True)], 74: [(2, False, True)], 75: [(2, False, True)], 82: [(2, False, True)], 83: [], 85: [], 90: [], 92: [(3, False, False)], 93: [(3, False, False)], 94: [(3, False, False)], 95: [(3, False, False)], 96: [(3, False, False)], 97: [(3, False, False)], 98: [(3, False, False)], 99: [(3, False, False)], 100: [(3, False, False)], 101: [(3, False, False)], 102: [(3, False, False)], 103: [(3, False, False)], 104: [(3, False, False)], 105: [(3, False, False)], 106: [(3, False, False)], 107: [(3, False, False)], 108: [(3, False, False)], 109: [(3, False, False)], 110: [(3, False, False)], 111: [(3, False, False)], 112: [(3, False, False)], 113: [(3, False, False)], 114: [(3, False, False)], 115: [(3, False, False)], 116: [(3, False, False)], 117: [(3, False, False)], 118: [(3, False, False)], 119: [(3, False, False)], 120: [(3, False, False)], 121: [(3, False, False)], 122: [(3, False, False)], 123: [(3, False, False)], 124: [(3, False, False)], 125: [(3, False, False)], 126: [(3, False, False)], 127: [(3, False, False)], 128: [(3, False, False)], 129: [(3, False, False)], 130: [(3, False, False)], 131: [(3, False, False)], 132: [(3, False, False), (4, False, False)], 133: [(3, False, False), (4, False, False)], 134: [(3, False, False), (4, False, False)], 135: [(3, False, False), (4, False, False)], 136: [(3, False, False), (4, False, False)], 137: [(3, False, False)], 138: [(3, False, False)], 139: [(3, False, False)], 140: [(3, False, False), (5, False, False)], 141: [(3, False, False), (5, False, False)], 142: [(3, False, False), (5, False, False)], 143: [(3, False, False), (5, False, False)], 144: [(3, False, False), (5, False, False)], 145: [(3, False, False), (5, False, False)], 146: [(3, False, False), (5, False, False)], 147: [(3, False, False), (5, False, False)], 148: [(3, False, False), (5, False, False)], 149: [(3, False, False), (5, False, False)], 150: [(3, False, False), (5, False, False)], 151: [(3, False, False), (5, False, False)], 152: [(3, False, False), (5, False, False)], 153: [(3, False, False), (5, False, False)], 154: [(3, False, False), (5, False, False)], 155: [(3, False, False), (5, False, False)], 156: [(3, False, False), (5, False, False)], 157: [(3, False, False), (5, False, False)], 158: [(3, False, False), (5, False, False)], 159: [(5, False, False)], 160: [(5, False, False)], 161: [(5, False, False)], 162: [(5, False, False)], 163: [(5, False, False)], 164: [(5, False, False)], 165: [(5, False, False)], 166: [(5, False, False)], 167: [(5, False, False)], 168: [(5, False, False)], 169: [(5, False, False)], 170: [(5, False, False)], 171: [(5, False, False)], 172: [(5, False, False)], 173: [(5, False, False)], 174: [(5, False, False)], 175: [(5, False, False)], 176: [(5, False, False)], 177: [(5, False, False)], 178: [(5, False, False)], 179: [(5, False, False)], 180: [(5, False, False)], 181: [(5, False, False)], 182: [(5, False, False)], 183: [(5, False, False)], 184: [(5, False, False)], 185: [(5, False, False)], 186: [(5, False, False)], 187: [(5, False, False)], 188: [(5, False, False)], 189: [(5, False, False)], 190: [(5, False, False)], 191: [(5, False, False)], 192: [(5, False, False)], 193: [(5, False, False)], 194: [(5, False, False)], 195: [(5, False, False)], 196: [(5, False, False)], 197: [(5, False, False)], 256: [(5, False, False)], 258: [(6, False, False)], 259: [(6, False, False)], 260: [(6, False, False)], 261: [(6, False, False)], 262: [(6, False, False)], 263: [(6, False, False)], 264: [(6, False, False)], 265: [(6, False, False)], 266: [(6, False, False)], 267: [(6, False, False)], 268: [(6, False, False)], 269: [(6, False, False)], 270: [(6, False, False)], 271: [(6, False, False)], 272: [(6, False, False)], 273: [(6, False, False)], 274: [(6, False, False)], 275: [(6, False, False)], 276: [(6, False, False)], 277: [(6, False, False)], 278: [(6, False, False)], 279: [(6, False, False)], 280: [(6, False, False)], 281: [(6, False, False)], 282: [(6, False, False)], 283: [(6, False, False)], 284: [(6, False, False)], 285: [(6, False, False)], 286: [(6, False, False)], 287: [(6, False, False)], 288: [(6, False, False)], 289: [(6, False, False)], 290: [(6, False, False)], 291: [(6, False, False)], 292: [(6, False, False)], 293: [(6, False, False)], 294: [(6, False, False)], 295: [(6, False, False)], 296: [(6, False, False)], 297: [(6, False, False)], 298: [(6, False, False)], 299: [(6, False, False)], 300: [(6, False, False)], 301: [(6, False, False)], 302: [(6, False, False)], 303: [(6, False, False)], 304: [(6, False, False)], 305: [(6, False, False)], 306: [(6, False, False)], 307: [(6, False, False)], 308: [(6, False, False)], 309: [(6, False, False)], 310: [(6, False, False)], 311: [(6, False, False)], 312: [(6, False, False)], 313: [(6, False, False)], 314: [(6, False, False)], 315: [(6, False, False)], 316: [(6, False, False)], 317: [(6, False, False)], 318: [(6, False, False)], 319: [(6, False, False)], 320: [(6, False, False)], 321: [(6, False, False)], 322: [(6, False, False)], 323: [(6, False, False)], 324: [(6, False, False)], 325: [(6, False, False)], 326: [(6, False, False)], 327: [(6, False, False)], 328: [(6, False, False)], 329: [(6, False, False)], 330: [(6, False, False)], 331: [(6, False, False)], 332: [(6, False, False)], 333: [(6, False, False)], 334: [(6, False, False)], 335: [(6, False, False)], 336: [(6, False, False)], 337: [(6, False, False)], 338: [(6, False, False)], 339: [(6, False, False)], 340: [(6, False, False)], 341: [(6, False, False)], 342: [(6, False, False)], 343: [(6, False, False)], 344: [(6, False, False)], 345: [(6, False, False)], 346: [(6, False, False)], 347: [(6, False, False)], 348: [(6, False, False)], 349: [(6, False, False)], 350: [(6, False, False)], 351: [(6, False, False)], 352: [(6, False, False)], 353: [(6, False, False)], 354: [(6, False, False)], 355: [(6, False, False)], 356: [(6, False, False)], 357: [(6, False, False)], 358: [(6, False, False)], 359: [(6, False, False)], 360: [(6, False, False)], 361: [(6, False, False)], 362: [(6, False, False)], 363: [(6, False, False)], 364: [(6, False, False)], 365: [(6, False, False)], 374: [(6, False, False)], 376: [(7, False, True)], 377: [(7, False, True)], 378: [(7, False, True)], 379: [(7, False, True)], 380: [(7, True, True)], 381: [(7, True, True)], 382: [(7, True, True)], 383: [(7, True, True)], 384: [(7, True, True)], 385: [(7, True, True)], 386: [(7, True, True)], 387: [(7, True, True)], 388: [(7, True, True)], 389: [(7, True, True)], 390: [(7, True, True)], 391: [(7, True, True)], 392: [(7, True, True)], 393: [(7, True, True)], 394: [(7, True, True)], 395: [(7, True, True)], 396: [(7, True, True)], 397: [(7, True, True)], 398: [(7, True, True)], 399: [(7, True, True)], 400: [(7, True, True)], 401: [(7, True, True)], 402: [(7, True, True)], 403: [(7, True, True)], 404: [(7, True, True)], 405: [(7, True, True)], 406: [(7, True, True)], 407: [(7, True, True)], 408: [(7, True, True)], 409: [(7, True, True)], 410: [(7, True, True)], 411: [(7, True, True)], 412: [(7, True, True)], 413: [(7, True, True)], 414: [(7, True, True)], 415: [(7, True, True)], 416: [(7, True, True)], 417: [(7, True, True)], 418: [(7, True, True)], 419: [(7, True, True)], 420: [(7, True, True)], 421: [(7, True, True)], 422: [(7, True, True)], 423: [(7, True, True)], 424: [(7, True, True)], 425: [(7, True, True)], 426: [(7, True, True)], 427: [(7, True, True)], 428: [(7, True, True)], 429: [(7, True, True)], 430: [(7, True, True)], 431: [(7, True, True)], 432: [(7, True, True)], 433: [(7, True, True)], 434: [(7, True, True)], 435: [(7, True, True)], 436: [(7, True, True)], 437: [(7, True, True)], 438: [(7, True, True)], 439: [(7, True, True)], 440: [(7, True, True)], 441: [(7, True, True)], 442: [(7, True, True)], 443: [(7, True, True)], 444: [(7, True, True)], 445: [(7, True, True)], 446: [(7, True, True)], 447: [(7, True, True)], 448: [(7, True, True)], 449: [(7, True, True)], 450: [(7, True, True)], 451: [(7, True, True)], 452: [(7, True, True)], 453: [(7, True, True)], 454: [(7, True, True)], 455: [(7, True, True)], 456: [(7, True, True)], 457: [(7, True, True)], 458: [(7, True, True)], 459: [(7, True, True)], 460: [(7, True, True)], 461: [(7, True, True)], 462: [(7, True, True)], 463: [(7, True, True)], 464: [(7, True, True)], 465: [(7, True, True)]}\n",
            "Human 3 is detected in 67 frames, we detect that he has a hat in 0 frames and vest in 0 frames.\n",
            "Human with id 3 is crossing with no hat, no vest in interval 0 min 7 sec - 0 min 13 sec.\n",
            "Human 5 is detected in 59 frames, we detect that he has a hat in 0 frames and vest in 0 frames.\n",
            "Human with id 5 is crossing with no hat, no vest in interval 0 min 11 sec - 0 min 21 sec.\n",
            "Human 6 is detected in 109 frames, we detect that he has a hat in 0 frames and vest in 0 frames.\n",
            "Human with id 6 is crossing with no hat, no vest in interval 0 min 21 sec - 0 min 31 sec.\n",
            "Human 7 is detected in 90 frames, we detect that he has a hat in 86 frames and vest in 90 frames.\n",
            "Human 7 is a good human. :-)\n",
            "0 4 {1: [(7, 13), (11, 21), (21, 31)]}\n"
          ]
        }
      ]
    },
    {
      "cell_type": "code",
      "source": [
        "came, left, violations = get_results('/content/drive/MyDrive/Hardhats_vests/tracker_results/13/tracks/13.txt')\n",
        "print(came, left, violations)"
      ],
      "metadata": {
        "colab": {
          "base_uri": "https://localhost:8080/"
        },
        "id": "ASo5kynv3w8z",
        "outputId": "970d162c-a8db-4809-d222-b8279c11d37f"
      },
      "execution_count": null,
      "outputs": [
        {
          "output_type": "stream",
          "name": "stdout",
          "text": [
            "(0, 2)\n",
            "cntry_min = 265, cntry_max = 369\n",
            "cntry_start = 369, cntry_end = 265\n",
            "Human 2 moved 28% of the frame (vertically)\n",
            "Human 2 left.\n",
            "(0, 6)\n",
            "cntry_min = 243, cntry_max = 399\n",
            "cntry_start = 385, cntry_end = 256\n",
            "Human 6 moved 42% of the frame (vertically)\n",
            "Human 6 left.\n",
            "(0, 9)\n",
            "cntry_min = 227, cntry_max = 240\n",
            "cntry_start = 227, cntry_end = 240\n",
            "Human 9 moved 3% of the frame (vertically)\n",
            "(0, 12)\n",
            "cntry_min = 287, cntry_max = 386\n",
            "cntry_start = 386, cntry_end = 311\n",
            "Human 12 moved 27% of the frame (vertically)\n",
            "Human 12 left.\n",
            "(0, 16)\n",
            "cntry_min = 266, cntry_max = 394\n",
            "cntry_start = 379, cntry_end = 394\n",
            "Human 16 moved 35% of the frame (vertically)\n",
            "Human 16 left and came back.\n",
            "(0, 18)\n",
            "cntry_min = 365, cntry_max = 367\n",
            "cntry_start = 367, cntry_end = 365\n",
            "Human 18 moved 0% of the frame (vertically)\n",
            "(0, 21)\n",
            "cntry_min = 277, cntry_max = 407\n",
            "cntry_start = 277, cntry_end = 407\n",
            "Human 21 moved 35% of the frame (vertically)\n",
            "Human 21 came in.\n",
            "[16, 21] [2, 6, 12, 16]\n",
            "2 people came in\n",
            "4 people left\n",
            "{49: [], 50: [], 51: [(2, True, False)], 52: [(2, True, False)], 53: [(2, True, True)], 54: [(2, True, True)], 55: [(2, True, True)], 56: [(2, True, True)], 57: [(2, True, True)], 58: [(2, True, True)], 59: [(2, True, True)], 60: [(2, False, True)], 61: [(2, True, True)], 62: [(2, True, True)], 63: [(2, True, True)], 64: [(2, True, True)], 65: [(2, True, True)], 66: [(2, True, True)], 67: [(2, True, True)], 68: [(2, True, True)], 69: [(2, True, True)], 70: [(2, True, True)], 71: [(2, True, True)], 72: [(2, True, True)], 73: [(2, True, True), (6, False, True)], 74: [(2, True, True), (6, False, True)], 75: [(2, True, True), (6, False, True)], 76: [(2, True, True)], 77: [(2, True, True), (6, False, True)], 78: [(2, True, True), (6, False, True)], 79: [(2, True, True), (6, False, True)], 80: [(2, True, True), (6, False, True)], 81: [(2, True, True), (6, False, True)], 82: [(2, True, True), (6, False, True)], 83: [(2, True, True), (6, False, True)], 84: [(2, True, True), (6, False, True)], 85: [(2, True, True), (6, False, True)], 86: [(2, True, True), (6, False, True)], 87: [(2, True, True), (6, False, True)], 88: [(2, True, True), (6, False, True)], 89: [(2, True, True), (6, False, True)], 90: [(2, True, True), (6, False, True)], 91: [(2, True, True), (6, False, True)], 92: [(6, False, True)], 93: [(6, False, True)], 94: [(6, False, True)], 95: [(6, False, True)], 96: [(6, False, True)], 97: [(6, False, True)], 98: [(6, False, True)], 99: [(6, False, True)], 100: [(6, False, True)], 101: [(6, False, True)], 102: [(6, False, True)], 103: [(6, False, True)], 104: [(6, False, True)], 105: [(6, False, True)], 106: [(6, False, True)], 107: [(6, False, True)], 108: [(6, False, True)], 109: [(6, False, True)], 110: [(6, False, True)], 111: [(6, False, True)], 112: [(6, False, True)], 113: [(6, False, True)], 114: [(6, False, True)], 115: [(6, False, True)], 116: [(6, False, True)], 117: [(6, False, True)], 118: [(6, False, True)], 119: [(6, False, True)], 120: [(6, False, True)], 121: [(6, False, True)], 122: [(6, False, True)], 123: [(6, False, True)], 124: [(6, False, True)], 125: [(6, False, True)], 126: [(6, False, True)], 127: [(6, False, True)], 128: [(6, False, True)], 129: [(6, False, True)], 130: [(6, False, True)], 131: [(6, False, True)], 132: [(6, False, True)], 133: [(6, False, True)], 134: [(6, False, True)], 135: [(6, False, True)], 136: [(6, False, True)], 137: [(6, False, True)], 138: [(6, False, True)], 139: [(6, False, True)], 140: [(6, False, True)], 141: [(6, False, True)], 142: [(6, False, True)], 143: [(6, False, True)], 144: [(6, False, True)], 145: [(6, False, True)], 146: [(6, False, True)], 147: [(6, False, True)], 148: [(6, False, True)], 149: [(6, False, True)], 150: [(6, False, True)], 151: [(6, False, True)], 152: [(6, False, True)], 153: [(6, False, True)], 154: [(6, False, True)], 155: [(6, False, True)], 156: [(6, False, True)], 157: [(6, False, True)], 158: [(6, False, True)], 159: [(6, False, True)], 160: [(6, False, True)], 161: [(6, False, True)], 162: [(6, False, True)], 163: [(6, False, True)], 164: [(6, False, True)], 165: [(6, False, True)], 166: [(6, False, True)], 167: [(6, False, True)], 168: [(6, False, True)], 169: [(6, False, True)], 170: [(6, False, True)], 171: [(6, False, True)], 172: [(6, False, True)], 173: [(6, False, True)], 174: [(6, False, True)], 175: [(6, False, True)], 176: [(6, False, True)], 177: [(6, False, True)], 178: [(6, False, True)], 179: [(6, False, True)], 180: [(6, False, True)], 181: [(6, False, True), (9, False, True)], 182: [(6, False, True), (9, False, True)], 183: [(6, False, True), (9, False, True)], 184: [(6, False, True), (9, False, True)], 185: [(6, False, True), (9, False, True)], 186: [(6, False, True)], 187: [(6, False, True)], 188: [(6, False, True)], 189: [(6, True, True)], 190: [(6, True, True)], 191: [(6, True, True)], 192: [(6, True, True)], 193: [(6, True, True)], 194: [(6, False, True)], 195: [(6, False, True)], 196: [(6, False, True)], 197: [(6, False, True)], 198: [], 199: [], 200: [], 201: [], 202: [], 203: [], 204: [], 367: [], 369: [(12, False, False)], 370: [(12, False, False)], 371: [(12, False, False)], 372: [(12, False, False)], 373: [(12, False, False)], 374: [(12, False, False)], 375: [(12, False, False)], 376: [(12, False, False)], 377: [(12, False, False)], 378: [(12, False, False)], 379: [(12, False, False)], 380: [(12, False, False)], 381: [(12, False, False)], 382: [(12, False, False)], 383: [(12, False, False)], 384: [(12, False, False)], 385: [(12, False, False)], 386: [(12, False, False)], 387: [(12, False, False)], 388: [(12, False, False)], 389: [(12, False, False)], 390: [(12, False, False)], 391: [(12, False, False)], 392: [(12, False, False)], 393: [(12, False, False)], 394: [(12, False, False)], 395: [(12, False, False)], 396: [(12, False, False)], 397: [(12, False, False)], 398: [(12, False, False)], 399: [(12, False, False)], 400: [(12, False, False)], 401: [(12, False, False)], 402: [(12, False, False)], 403: [(12, False, False)], 404: [(12, False, False)], 405: [(12, False, False)], 406: [(12, False, False)], 407: [(12, False, False)], 408: [(12, False, False)], 409: [(12, False, False)], 410: [(12, False, False)], 411: [(12, False, False)], 412: [(12, False, False)], 413: [(12, False, False)], 414: [(12, False, False)], 415: [(12, False, False)], 416: [(12, False, False)], 417: [(12, False, False)], 418: [(12, False, False)], 419: [(12, False, False)], 420: [(12, False, False)], 421: [(12, False, False)], 422: [(12, False, False)], 423: [(12, False, False)], 424: [(12, False, False)], 425: [(12, False, False)], 426: [(12, False, False)], 427: [(12, False, False)], 428: [(12, False, False)], 429: [(12, False, False)], 430: [(12, False, False)], 431: [(12, False, False)], 432: [(12, False, False)], 433: [(12, False, False)], 434: [(12, False, False)], 435: [(12, False, True)], 436: [(12, False, True)], 437: [(12, False, True)], 438: [(12, False, False)], 439: [(12, False, False)], 440: [(12, False, False)], 441: [(12, False, True)], 442: [(12, False, True)], 443: [(12, False, True)], 444: [(12, False, True)], 445: [(12, False, True)], 446: [(12, False, True)], 447: [(12, False, True), (16, False, False)], 448: [(12, False, True), (16, False, False)], 449: [(12, False, True), (16, False, True)], 450: [(12, False, False), (16, False, False)], 451: [(12, False, False), (16, False, False)], 452: [(12, False, False), (16, False, False)], 453: [(12, False, True), (16, False, True)], 454: [(12, False, True), (16, False, True)], 455: [(12, False, True), (16, False, True)], 456: [(12, False, True), (16, False, True)], 457: [(12, False, True), (16, False, True)], 458: [(12, False, False), (16, False, False)], 459: [(12, False, True), (16, False, True)], 460: [(12, False, True), (16, False, True)], 461: [(12, False, True), (16, False, True)], 462: [(12, False, True), (16, False, True)], 463: [(12, False, True), (16, False, True)], 464: [(12, False, False), (16, False, False)], 465: [(12, False, False), (16, False, False)], 466: [(12, False, False), (16, False, False)], 467: [(12, False, False), (16, False, False)], 468: [(16, False, False)], 469: [(16, False, False)], 470: [(16, False, False)], 471: [(16, False, False)], 472: [(16, False, False)], 473: [(16, False, False)], 474: [(16, False, False)], 475: [(16, False, False)], 476: [(16, False, False)], 477: [(16, False, False)], 478: [(16, False, False)], 479: [(16, False, False)], 480: [(16, False, False)], 481: [(16, False, False)], 482: [(16, False, False)], 483: [(16, False, False), (18, False, True)], 484: [(16, False, False), (18, False, True)], 485: [(16, False, False), (18, False, True)], 486: [(16, False, False)], 487: [(16, False, False)], 488: [(16, False, False)], 489: [(16, False, False)], 490: [(16, False, False)], 491: [(16, False, False)], 492: [(16, False, False)], 493: [(16, False, False)], 494: [(16, False, False)], 495: [(16, False, False)], 496: [(16, False, False)], 497: [(16, False, False)], 498: [(16, False, False)], 499: [(16, False, False)], 500: [(16, False, False)], 501: [(16, False, False)], 502: [(16, False, False)], 503: [(16, False, False)], 504: [(16, False, False)], 505: [(16, False, False)], 506: [(16, False, False)], 507: [(16, False, False)], 508: [(16, False, False)], 509: [(16, False, False)], 510: [(16, False, False)], 511: [(16, False, False)], 512: [(16, False, False)], 513: [(16, False, False)], 514: [(16, False, False)], 515: [(16, False, False)], 516: [(16, False, False)], 517: [(16, False, False)], 518: [(16, False, False)], 519: [(16, False, False)], 520: [(16, False, False)], 521: [(16, False, False)], 522: [(16, False, False)], 523: [(16, False, False)], 524: [(16, False, False)], 525: [(16, False, False)], 526: [(16, False, False)], 527: [(16, False, False)], 528: [(16, False, False)], 529: [(16, False, False)], 530: [(16, False, False)], 531: [(16, False, False)], 532: [(16, False, False)], 533: [(16, False, False)], 534: [(16, False, False)], 535: [(16, False, False)], 536: [(16, False, False)], 537: [(16, False, False)], 538: [(16, False, False)], 539: [(16, False, False)], 540: [(16, False, False)], 541: [(16, False, False)], 542: [(16, False, False)], 543: [(16, False, False)], 544: [(16, False, False)], 545: [(16, False, False)], 546: [(16, False, False)], 547: [(16, False, False)], 548: [(16, False, False)], 549: [(16, False, False)], 550: [(16, False, False)], 551: [(16, False, False)], 552: [(16, False, False)], 553: [(16, False, False)], 554: [(16, False, False)], 555: [(16, False, False)], 556: [(16, False, False)], 557: [(16, False, False)], 558: [(16, False, False)], 559: [(16, False, False)], 560: [(16, False, False)], 561: [(16, False, False)], 562: [(16, False, False)], 563: [(16, False, False)], 564: [(16, False, False)], 565: [(16, False, False)], 566: [(16, False, False)], 567: [(16, False, False)], 568: [(16, False, False)], 569: [(16, False, False)], 570: [(16, False, False)], 571: [(16, False, False)], 572: [(16, False, False)], 573: [(16, False, False)], 574: [(16, False, False)], 575: [(16, False, False)], 576: [(16, False, False)], 577: [(16, False, False)], 578: [(16, False, False)], 685: [(16, False, False)], 686: [(16, False, False)], 687: [(16, False, True)], 688: [(16, False, True)], 689: [(16, False, True)], 690: [(16, False, True)], 691: [(16, False, True)], 692: [(16, False, True)], 693: [(16, False, True)], 694: [(16, False, True)], 695: [(16, False, True)], 696: [(16, False, True)], 697: [(16, False, True)], 698: [(16, False, True)], 699: [(16, False, True)], 700: [(16, False, True)], 701: [(16, False, True)], 702: [(16, False, True)], 703: [(16, False, True)], 704: [(16, False, True)], 705: [(16, False, True)], 706: [(16, False, True)], 707: [(16, False, True)], 708: [(16, False, True)], 709: [(16, False, True)], 710: [(16, False, True)], 711: [(16, False, True)], 712: [(16, False, True)], 713: [(16, False, True)], 714: [(16, False, True)], 715: [(16, False, True)], 716: [(16, False, True)], 717: [(16, False, True)], 718: [(16, False, True)], 719: [(16, False, True)], 720: [(16, False, True)], 721: [(16, False, True)], 722: [(16, False, True)], 723: [(16, False, True)], 724: [(16, False, True)], 725: [(16, False, True)], 726: [(16, False, True)], 727: [(16, False, True)], 728: [(16, False, True)], 729: [(16, False, True), (21, False, True)], 730: [(16, False, True), (21, False, True)], 731: [(16, False, True), (21, False, True)], 732: [(16, False, True), (21, False, False)], 733: [(16, False, True), (21, False, True)], 734: [(16, False, True), (21, False, True)], 735: [(16, False, True), (21, False, True)], 736: [(16, False, True), (21, False, True)], 737: [(16, False, True), (21, False, True)], 738: [(16, False, True), (21, False, True)], 739: [(16, False, True), (21, False, True)], 740: [(16, False, True), (21, False, True)], 741: [(16, False, True), (21, False, True)], 742: [(16, False, True), (21, False, True)], 743: [(16, False, True), (21, False, True)], 744: [(16, False, True), (21, False, True)], 745: [(16, False, True), (21, False, True)], 746: [(16, False, True), (21, False, True)], 747: [(16, False, True), (21, False, True)], 748: [(16, False, True), (21, False, True)], 749: [(16, False, True), (21, False, True)], 750: [(16, False, True), (21, False, True)], 751: [(16, False, True), (21, False, True)], 752: [(16, False, True), (21, False, True)], 753: [(16, False, True), (21, False, True)], 754: [(16, False, True), (21, False, True)], 755: [(16, False, True), (21, False, True)], 756: [(16, False, False), (21, False, True)], 757: [(16, False, False), (21, False, True)], 758: [(16, False, False), (21, False, True)], 759: [(16, False, True), (21, False, True)], 760: [(16, False, True), (21, False, True)], 761: [(16, False, True), (21, False, True)], 762: [(16, False, False), (21, False, True)], 763: [(16, False, False), (21, False, True)], 764: [(21, False, True)], 765: [(21, False, True)], 766: [(21, False, True)], 767: [(21, False, True)], 768: [(21, False, True)], 769: [(21, False, True)], 770: [(21, False, True)], 771: [(21, False, True)], 772: [(21, False, True)], 773: [(21, False, True)], 774: [(21, False, True)], 775: [(21, False, True)], 776: [(21, False, True)], 777: [(21, False, True)], 778: [(21, False, True)], 779: [(21, False, True)], 780: [(21, False, True)], 781: [(21, False, True)], 782: [(21, False, True)], 783: [(21, False, True)], 784: [(21, False, True)], 785: [(21, False, True)], 786: [(21, False, True)], 787: [(21, False, True)], 788: [(21, False, True)], 789: [(21, False, True)], 790: [(21, False, True)], 791: [(21, False, True)], 792: [(21, False, True)], 793: [(21, False, True)], 794: [(21, False, True)], 795: [(21, False, True)], 796: [(21, False, True)], 797: [(21, False, True)], 798: [(21, False, True)], 799: [(21, False, True)], 800: [(21, False, True)], 801: [(21, False, True)], 802: [(21, False, True)], 803: [(21, False, True)], 804: [(21, False, True)], 805: [(21, False, True)], 806: [(21, False, True)], 807: [(21, False, True)], 808: [(21, False, True)], 809: [(21, False, True)], 810: [(21, False, True)], 811: [(21, False, True)], 812: [(21, False, True)], 813: [(21, False, True)], 814: [(21, False, True)], 815: [(21, False, True)], 816: [(21, False, True)], 817: [(21, False, True)], 818: [(21, False, True)], 819: [(21, False, True)], 820: [(21, False, True)], 821: [(21, False, True)], 822: [(21, False, False)], 823: [(21, False, False)], 824: [(21, False, False)], 825: [(21, False, False)], 826: [(21, False, False)], 827: [(21, False, False)], 828: [(21, False, False)]}\n",
            "Human 16 is detected in 211 frames, we detect that he has a hat in 0 frames and vest in 83 frames.\n",
            "Human with id 16 is crossing with no hat, no vest in interval 0 min 37 sec - 1 min 3 sec.\n",
            "Human 21 is detected in 100 frames, we detect that he has a hat in 0 frames and vest in 92 frames.\n",
            "Human with id 21 is crossing with no hat in interval 1 min 0 sec - 1 min 8 sec.\n",
            "Human 2 is detected in 41 frames, we detect that he has a hat in 40 frames and vest in 39 frames.\n",
            "Human 2 is a good human. :-)\n",
            "Human 6 is detected in 124 frames, we detect that he has a hat in 5 frames and vest in 124 frames.\n",
            "Human with id 6 is crossing with no hat in interval 0 min 6 sec - 0 min 16 sec.\n",
            "Human 12 is detected in 99 frames, we detect that he has a hat in 0 frames and vest in 22 frames.\n",
            "Human with id 12 is crossing with no hat, no vest in interval 0 min 30 sec - 0 min 38 sec.\n",
            "Human 16 is detected in 211 frames, we detect that he has a hat in 0 frames and vest in 83 frames.\n",
            "Human with id 16 is crossing with no hat, no vest in interval 0 min 37 sec - 1 min 3 sec.\n",
            "2 4 {1: [(37, 63), (30, 38), (37, 63)], 3: [(60, 68), (6, 16)]}\n"
          ]
        }
      ]
    },
    {
      "cell_type": "code",
      "source": [
        "came, left, violations = get_results('/content/drive/MyDrive/Hardhats_vests/tracker_results/14/tracks/14.txt')\n",
        "print(came, left, violations)"
      ],
      "metadata": {
        "colab": {
          "base_uri": "https://localhost:8080/"
        },
        "id": "3EOwzud48IPL",
        "outputId": "d39ef7fa-249c-4f5d-9efa-c7f5ac004dec"
      },
      "execution_count": null,
      "outputs": [
        {
          "output_type": "stream",
          "name": "stdout",
          "text": [
            "(0, 2)\n",
            "cntry_min = 427, cntry_max = 572\n",
            "cntry_start = 463, cntry_end = 572\n",
            "Human 2 moved 23% of the frame (vertically)\n",
            "(0, 8)\n",
            "cntry_min = 218, cntry_max = 421\n",
            "cntry_start = 404, cntry_end = 218\n",
            "Human 8 moved 33% of the frame (vertically)\n",
            "Human 8 left.\n",
            "(0, 21)\n",
            "cntry_min = 426, cntry_max = 430\n",
            "cntry_start = 430, cntry_end = 426\n",
            "Human 21 moved 0% of the frame (vertically)\n",
            "(0, 29)\n",
            "cntry_min = 169, cntry_max = 441\n",
            "cntry_start = 426, cntry_end = 169\n",
            "Human 29 moved 44% of the frame (vertically)\n",
            "Human 29 left.\n",
            "(0, 31)\n",
            "cntry_min = 490, cntry_max = 500\n",
            "cntry_start = 500, cntry_end = 490\n",
            "Human 31 moved 1% of the frame (vertically)\n",
            "(0, 36)\n",
            "cntry_min = 376, cntry_max = 430\n",
            "cntry_start = 430, cntry_end = 376\n",
            "Human 36 moved 8% of the frame (vertically)\n",
            "(0, 38)\n",
            "cntry_min = 258, cntry_max = 505\n",
            "cntry_start = 505, cntry_end = 260\n",
            "Human 38 moved 40% of the frame (vertically)\n",
            "Human 38 left.\n",
            "(0, 41)\n",
            "cntry_min = 234, cntry_max = 240\n",
            "cntry_start = 238, cntry_end = 234\n",
            "Human 41 moved 0% of the frame (vertically)\n",
            "(0, 42)\n",
            "cntry_min = 326, cntry_max = 328\n",
            "cntry_start = 328, cntry_end = 326\n",
            "Human 42 moved 0% of the frame (vertically)\n",
            "(0, 43)\n",
            "cntry_min = 269, cntry_max = 298\n",
            "cntry_start = 269, cntry_end = 298\n",
            "Human 43 moved 4% of the frame (vertically)\n",
            "[] [8, 29, 38]\n",
            "0 people came in\n",
            "3 people left\n",
            "{111: [(2, False, False)], 112: [(2, False, False)], 113: [(2, False, True)], 114: [(2, False, True)], 115: [(2, True, True)], 116: [(2, True, True)], 117: [(2, True, True)], 118: [(2, True, True)], 119: [(2, True, True)], 120: [(2, True, True)], 121: [(2, True, True)], 122: [(2, True, True)], 123: [(2, False, True)], 124: [(2, False, True)], 125: [(2, False, True)], 126: [(2, False, True)], 127: [], 128: [], 129: [(8, True, True)], 130: [(8, True, True)], 131: [(8, True, True)], 132: [(8, True, True)], 133: [(8, True, True)], 134: [(8, True, True)], 135: [(2, False, False), (8, True, True)], 136: [(2, False, False), (8, True, True)], 137: [(2, False, False), (8, True, True)], 138: [(2, False, False), (8, True, False)], 139: [(2, False, False), (8, True, False)], 140: [(8, True, False)], 141: [(8, True, False)], 142: [(8, True, False)], 143: [(8, True, True)], 144: [(8, True, True)], 145: [(8, True, True)], 146: [(8, True, True)], 147: [(8, True, True)], 148: [(8, True, True)], 149: [(8, True, True)], 150: [(8, True, True)], 151: [(8, True, True)], 152: [(8, True, True)], 153: [(8, True, True)], 154: [(8, True, True)], 155: [(8, True, True)], 156: [(8, True, True)], 157: [(8, True, True)], 158: [(8, True, True)], 159: [(8, True, True)], 160: [(8, True, True)], 161: [(8, True, True)], 162: [(8, True, True)], 163: [(8, True, True)], 164: [(8, True, True)], 165: [(8, True, True)], 166: [(8, True, True)], 167: [(8, True, True)], 168: [(8, True, True)], 169: [(8, True, True)], 170: [(8, True, True)], 171: [(8, True, True)], 172: [(8, True, True)], 173: [(8, True, True)], 174: [(8, True, True)], 175: [(8, True, True)], 176: [(8, True, True)], 177: [(8, True, True)], 178: [(8, True, True)], 179: [(8, True, True)], 180: [(8, True, True)], 181: [(8, True, True)], 182: [(8, True, True)], 183: [(8, True, True)], 184: [(8, True, True)], 185: [(8, True, True)], 186: [(8, True, True)], 187: [(8, True, True)], 188: [(8, True, True)], 189: [(8, True, True)], 190: [(8, True, True)], 191: [(8, True, True)], 192: [(8, True, True)], 193: [(8, True, True)], 194: [(8, True, True)], 195: [(8, True, True)], 196: [(8, True, True)], 197: [(8, True, True)], 198: [(8, True, True)], 199: [(8, True, True)], 200: [(8, True, True)], 201: [(8, True, True)], 202: [(8, True, True)], 203: [(8, True, True)], 204: [(8, True, False)], 205: [(8, True, True)], 206: [(8, True, True)], 207: [(8, True, True)], 208: [(8, True, True)], 209: [(8, True, True)], 210: [(8, True, False)], 211: [(8, True, True)], 212: [(8, True, True)], 213: [(8, True, True)], 214: [(8, True, True)], 215: [(8, True, True)], 216: [(8, True, True)], 217: [(8, True, True)], 218: [(8, True, True)], 219: [(8, True, True)], 220: [(8, True, True)], 221: [(8, True, True)], 222: [(8, True, True)], 223: [(8, True, True)], 224: [(8, True, True)], 225: [(8, True, True)], 226: [(8, True, True)], 227: [(8, True, True)], 228: [(8, True, True)], 229: [(8, True, True)], 230: [(8, True, True)], 231: [(8, True, True)], 232: [(8, True, True)], 233: [(8, True, True)], 234: [(8, True, True)], 235: [(8, True, True)], 236: [(8, True, True)], 237: [(8, True, True)], 238: [(8, True, True)], 239: [(8, True, True)], 240: [(8, True, True)], 241: [(8, True, True)], 242: [(8, True, True)], 243: [(8, True, True)], 244: [(8, True, True)], 245: [(8, True, True)], 246: [(8, True, True)], 247: [(8, True, True)], 248: [(8, True, True)], 249: [(8, True, True)], 250: [(8, True, True)], 251: [(8, True, True)], 252: [(8, True, True)], 253: [(8, True, True)], 254: [(8, True, False)], 255: [(8, True, False)], 256: [(8, True, False)], 257: [(8, True, False)], 258: [(8, True, False)], 259: [(8, True, False)], 260: [(8, True, False)], 261: [(8, True, False)], 262: [(8, True, False)], 263: [(8, True, False)], 264: [(8, True, False)], 265: [(8, True, True)], 266: [(8, True, True)], 267: [(8, True, True)], 268: [(8, True, True)], 269: [(8, True, True)], 270: [(8, True, True)], 271: [(8, True, True)], 272: [(8, True, True)], 273: [(8, True, True)], 274: [(8, True, True)], 275: [(8, True, True)], 276: [(8, True, True)], 277: [(8, True, True)], 278: [(8, True, True)], 279: [(8, True, True)], 280: [(8, True, False)], 281: [(8, True, True)], 282: [(8, True, True)], 283: [(8, True, True)], 284: [(8, True, True)], 285: [(8, True, True)], 286: [(8, True, True)], 287: [(8, True, True)], 288: [(8, True, True)], 289: [(8, True, True)], 290: [(8, True, True)], 291: [(8, True, True)], 292: [(8, True, True)], 293: [(8, True, True)], 294: [(8, True, True)], 295: [(8, True, True)], 296: [(8, True, True)], 297: [(8, True, True)], 298: [(8, True, True)], 299: [(8, True, True)], 300: [(8, True, True)], 301: [(8, True, True)], 302: [(8, True, True)], 303: [(8, True, True)], 304: [(8, True, True)], 305: [(8, True, True)], 306: [(8, True, True)], 307: [(8, True, True)], 308: [(8, True, True)], 309: [(8, True, True)], 310: [(8, True, True)], 311: [(8, True, True)], 312: [(8, True, True)], 313: [(8, True, True)], 314: [(8, True, True)], 315: [(8, True, True), (21, False, True)], 316: [(21, False, True)], 317: [(8, True, True), (21, False, True)], 318: [(8, True, True)], 319: [(8, True, True)], 320: [(8, True, True)], 321: [(8, True, True)], 322: [(8, True, True)], 323: [(8, True, True)], 324: [(8, True, True)], 325: [(8, True, True)], 326: [(8, True, True)], 327: [(8, True, True)], 328: [(8, True, True)], 329: [(8, True, True)], 330: [(8, True, True)], 331: [(8, True, True)], 332: [(8, True, True)], 333: [(8, True, True)], 334: [(8, True, True)], 335: [(8, True, True)], 336: [(8, True, True)], 337: [(8, True, True)], 338: [(8, True, True)], 339: [(8, True, True)], 340: [(8, True, True)], 341: [(8, True, True)], 342: [(8, True, True)], 343: [(8, True, True)], 344: [(8, True, True)], 345: [(8, True, True)], 346: [(8, True, True)], 347: [(8, True, True)], 348: [(8, True, True)], 349: [(8, True, True)], 350: [(8, True, True)], 351: [(8, True, True)], 352: [(8, True, True)], 353: [(8, True, True)], 354: [(8, True, True)], 355: [(8, True, True)], 356: [(8, True, True)], 357: [(8, True, True)], 358: [(8, True, True)], 359: [(8, True, True)], 360: [(8, True, True)], 361: [(8, True, True)], 362: [(8, True, True)], 363: [(8, True, True)], 364: [(8, True, True)], 365: [(8, True, True)], 366: [(8, True, True)], 367: [(8, True, True)], 368: [(8, True, True)], 369: [(8, True, True)], 370: [(8, True, True)], 371: [(8, True, True)], 372: [(8, True, True)], 373: [(8, True, True)], 374: [(8, True, True)], 375: [(8, True, True)], 376: [(8, False, True)], 377: [(8, True, True)], 378: [(8, True, True)], 379: [(8, True, True)], 380: [(8, True, True)], 381: [(8, True, True)], 382: [(8, True, True)], 383: [(8, True, True)], 384: [(8, True, True)], 385: [(8, True, True), (29, True, True)], 386: [(8, True, True), (29, True, True)], 387: [(8, True, True), (29, True, True)], 388: [(8, True, True), (29, True, True)], 389: [(8, True, True), (29, True, True)], 390: [(8, True, True), (29, True, True)], 391: [(8, True, True), (29, True, True)], 392: [(8, True, True), (29, True, True)], 393: [(8, True, True), (29, True, True)], 394: [(8, True, True), (29, True, True)], 395: [(8, True, True), (29, True, True)], 396: [(8, True, True), (29, True, True)], 397: [(8, True, True), (29, True, True)], 398: [(8, True, True), (29, True, True)], 399: [(8, True, True), (29, True, True)], 400: [(8, True, True), (29, True, True)], 401: [(8, True, True), (29, True, True)], 402: [(8, True, True), (29, True, True)], 403: [(8, True, True), (29, True, True)], 404: [(8, True, True), (29, True, True)], 405: [(8, True, True), (29, True, True)], 406: [(8, True, True), (29, True, True)], 407: [(8, True, True), (29, True, True)], 408: [(8, True, False), (29, True, True)], 409: [(8, True, False), (29, True, True)], 410: [(8, True, False), (29, True, True)], 411: [(8, True, True), (29, True, True)], 412: [(8, True, True), (29, False, True)], 413: [(8, True, True), (29, False, True)], 414: [(8, True, True), (29, False, True)], 415: [(8, True, True), (29, True, True)], 416: [(8, True, True), (29, True, True)], 417: [(8, True, True), (29, True, True)], 418: [(8, True, True), (29, True, True)], 419: [(8, True, True), (29, True, True)], 420: [(8, True, False), (29, True, True)], 421: [(8, True, True), (29, True, True)], 422: [(8, True, True), (29, True, True)], 423: [(8, True, True), (29, True, True)], 424: [(8, True, True), (29, True, True)], 425: [(8, True, True), (29, True, True)], 426: [(8, True, True), (29, True, True)], 427: [(8, True, True), (29, False, True)], 428: [(8, True, True), (29, False, True)], 429: [(8, True, True), (29, False, True)], 430: [(8, True, True), (29, False, True)], 431: [(8, True, True), (29, False, True)], 432: [(8, False, True), (29, False, True)], 433: [(8, True, True), (29, False, True)], 434: [(29, False, True)], 435: [(29, True, True)], 436: [(29, True, True)], 437: [(29, True, True)], 438: [(29, True, True)], 439: [(8, True, True), (29, True, True)], 440: [(8, True, True), (29, True, True)], 441: [(8, True, True), (29, True, True)], 442: [(8, True, False), (29, True, True)], 443: [(8, True, False), (29, True, True)], 444: [(8, True, False), (29, True, True)], 445: [(8, True, False), (29, True, True)], 446: [(8, True, False), (29, True, True)], 447: [(8, True, False), (29, True, True)], 448: [(8, True, False), (29, True, True)], 449: [(8, True, False), (29, True, True)], 450: [(8, True, False), (29, True, True)], 451: [(8, True, False), (29, True, True)], 452: [(8, True, False), (29, True, True)], 453: [(8, True, False), (29, True, True)], 454: [(8, True, False), (29, True, True)], 455: [(8, True, False), (29, True, True)], 456: [(8, True, False), (29, True, True)], 457: [(8, True, False), (29, True, True)], 458: [(8, True, False), (29, True, True)], 459: [(8, True, False), (29, True, True), (31, False, False)], 460: [(8, True, False), (29, True, True), (31, False, False)], 461: [(8, True, False), (29, True, True), (31, False, False)], 462: [(8, True, False), (29, True, True), (31, False, False)], 463: [(8, True, False), (29, True, True), (31, False, False)], 464: [(8, True, False), (29, True, True), (31, False, False)], 465: [(8, True, False), (29, True, True), (31, False, False)], 466: [(8, True, False), (29, True, True), (31, False, False)], 467: [(8, True, False), (29, True, True), (31, False, False)], 468: [(8, True, False), (29, True, True)], 469: [(8, True, False), (29, True, True)], 470: [(8, True, False), (29, True, True)], 471: [(8, True, False), (29, True, True)], 472: [(8, True, False), (29, True, True)], 473: [(8, True, False), (29, True, True), (36, False, True)], 474: [(8, True, False), (29, True, True), (36, False, True)], 475: [(8, True, False), (29, True, True), (36, True, True)], 476: [(29, True, True), (36, True, True)], 477: [(8, True, False), (29, True, True), (36, True, True)], 478: [(8, True, False), (29, True, False), (36, True, True)], 479: [(8, True, False), (29, True, False), (36, True, True)], 480: [(8, True, False), (29, True, False), (36, True, True)], 481: [(8, True, False), (29, True, False), (36, True, True), (38, False, True)], 482: [(8, True, False), (29, True, False), (38, False, True)], 483: [(8, True, False), (29, True, False), (38, False, True)], 484: [(8, True, False), (29, True, False), (38, False, True)], 485: [(8, True, False), (29, True, False), (38, False, True)], 486: [(8, True, False), (29, True, False), (38, False, True)], 487: [(8, True, False), (29, True, False), (38, False, True)], 488: [(8, True, False), (29, True, False), (38, False, True)], 489: [(8, True, False), (29, True, False), (38, False, True)], 490: [(8, True, False), (38, False, True)], 491: [(8, True, False), (38, False, True)], 492: [(8, True, False), (38, False, True)], 493: [(8, True, False), (38, False, True)], 494: [(8, True, False), (38, False, True)], 495: [(8, True, False), (38, False, True)], 496: [(8, True, False), (38, False, True)], 497: [(8, True, False), (29, True, True), (38, False, True)], 498: [(8, True, False), (29, True, True)], 499: [(8, True, False), (29, True, True)], 500: [(8, True, False), (29, True, True)], 501: [(8, True, True), (29, True, True), (38, False, True)], 502: [(8, True, True), (38, False, True)], 503: [(8, True, True), (38, False, True)], 504: [(8, True, False), (38, False, True)], 505: [(8, True, False), (29, True, True), (38, False, True)], 506: [(8, True, False), (29, True, True), (38, False, True)], 507: [(8, True, True), (29, True, True), (38, False, True)], 508: [(8, True, True), (29, True, True)], 509: [(8, True, True), (29, True, True)], 510: [(8, True, True), (29, True, True)], 511: [(8, True, True), (29, True, True)], 512: [(8, True, False), (29, True, True)], 513: [(8, True, True), (29, True, True), (38, False, True)], 514: [(8, True, True), (38, False, True)], 515: [(8, True, True), (38, False, True)], 516: [(8, True, True), (38, False, True)], 517: [(8, True, True), (29, True, True), (38, False, True)], 518: [(8, True, True), (29, True, True), (38, False, True)], 519: [(8, True, True), (29, True, False), (38, False, True)], 520: [(8, True, False), (29, True, False), (38, False, True)], 521: [(8, True, False), (29, True, True), (38, False, True)], 522: [(8, True, False), (29, True, True), (38, False, True)], 523: [(8, True, False), (29, True, False), (38, False, True)], 524: [(8, True, False), (29, True, False), (38, False, True)], 525: [(8, True, True), (29, True, False), (38, False, True)], 526: [(8, True, True), (38, False, True)], 527: [(8, True, True), (38, False, True)], 528: [(8, True, False), (38, False, True)], 529: [(8, True, False), (38, True, True)], 530: [(8, True, False), (38, True, True)], 531: [(8, True, True), (38, True, True)], 532: [(8, False, True), (38, True, True)], 533: [(8, True, True), (38, False, True)], 534: [(8, True, True), (38, False, True)], 535: [(8, True, True), (38, False, True)], 536: [(8, True, True), (38, False, True)], 537: [(8, True, True), (38, False, True)], 538: [(8, False, True), (38, False, True)], 539: [(8, False, True), (29, True, True), (38, False, True)], 540: [(8, False, True), (29, True, True)], 541: [(8, False, True), (29, True, True)], 542: [(8, False, True), (29, True, True)], 543: [(8, False, True), (29, True, True), (38, False, True), (41, True, False)], 544: [(38, False, True), (41, True, False)], 545: [(29, True, True), (38, False, True), (41, True, False)], 546: [(29, True, True), (41, True, False)], 547: [(29, True, True), (41, True, False)], 548: [(29, True, True), (41, True, False)], 549: [(29, True, True), (41, True, False)], 550: [(29, True, True)], 551: [(29, True, True)], 552: [(29, True, True)], 553: [(29, True, True), (38, False, True)], 554: [(29, True, True), (38, False, True)], 555: [(29, True, True), (38, False, True)], 556: [(38, False, True)], 557: [(8, True, True), (38, False, True)], 558: [(8, True, True), (38, False, True)], 559: [(8, True, True), (38, False, True)], 560: [(8, True, True), (38, False, True)], 561: [(8, True, True), (38, False, True)], 562: [(8, False, True), (38, False, True)], 563: [(8, False, True), (38, False, True), (42, True, True)], 564: [(8, False, True), (38, False, True), (42, True, True)], 565: [(8, False, True), (38, False, True), (42, True, True)], 566: [(8, False, True), (38, False, True), (42, True, True)], 567: [(8, False, True), (38, False, True), (42, True, True)], 568: [(38, False, True)], 569: [(38, False, True)], 570: [(38, False, True)], 571: [(38, False, True)], 572: [(38, False, True)], 573: [(29, True, True), (38, False, True)], 574: [(29, True, True)], 575: [(29, True, True)], 576: [(29, True, True)], 577: [(29, True, True), (38, True, True)], 578: [(38, True, True)], 579: [(29, True, True), (38, False, True)], 580: [(29, True, True), (38, False, True)], 581: [(29, True, True), (38, False, True)], 582: [(38, False, True)], 583: [(38, False, True)], 584: [(38, False, True)], 585: [(38, False, True)], 586: [(38, False, True)], 587: [(38, False, True), (43, True, True)], 588: [(38, False, True), (43, True, True)], 589: [(38, False, True), (43, True, True)], 590: [(38, False, True)], 591: [(38, False, True)], 592: [(38, False, True)], 593: [(29, True, True), (38, False, True)], 594: [(29, True, True), (38, False, True)], 595: [(29, True, True), (38, False, True)], 596: [(29, True, True), (38, False, True)], 597: [(29, True, True), (38, False, True)], 598: [(29, True, True), (38, False, True)], 599: [(29, True, True), (38, False, True)], 600: [(29, True, True), (38, False, True)], 601: [(29, True, True), (38, True, True)], 602: [(38, True, True)], 603: [(38, False, True)], 604: [(38, False, True)], 605: [(38, False, True)], 606: [(38, False, True)], 607: [(38, False, True)], 608: [(38, False, True)], 609: [(38, False, True)], 610: [(38, False, True)], 611: [(38, False, True)], 612: [(38, False, True)], 613: [(38, False, True)], 614: [(38, False, True)], 615: [(38, False, True)], 616: [(38, False, True)], 617: [(38, False, True)], 618: [(38, False, True)]}\n",
            "Human 8 is detected in 419 frames, we detect that he has a hat in 404 frames and vest in 326 frames.\n",
            "Human 8 is a good human. :-)\n",
            "Human 29 is detected in 161 frames, we detect that he has a hat in 150 frames and vest in 144 frames.\n",
            "Human 29 is a good human. :-)\n",
            "Human 38 is detected in 117 frames, we detect that he has a hat in 8 frames and vest in 117 frames.\n",
            "Human with id 38 is crossing with no hat in interval 0 min 39 sec - 0 min 51 sec.\n",
            "0 3 {3: [(39, 51)]}\n"
          ]
        }
      ]
    },
    {
      "cell_type": "code",
      "source": [
        "came, left, violations = get_results('/content/drive/MyDrive/Hardhats_vests/tracker_results/15/tracks/15.txt')\n",
        "print(came, left, violations)"
      ],
      "metadata": {
        "colab": {
          "base_uri": "https://localhost:8080/"
        },
        "id": "hMgD3ct9-Lf4",
        "outputId": "3815809f-12d1-489e-9b4e-04b53aad1830"
      },
      "execution_count": null,
      "outputs": [
        {
          "output_type": "stream",
          "name": "stdout",
          "text": [
            "(0, 1)\n",
            "cntry_min = 294, cntry_max = 422\n",
            "cntry_start = 294, cntry_end = 416\n",
            "Human 1 moved 37% of the frame (vertically)\n",
            "Human 1 came in.\n",
            "(0, 2)\n",
            "cntry_min = 281, cntry_max = 288\n",
            "cntry_start = 284, cntry_end = 288\n",
            "Human 2 moved 2% of the frame (vertically)\n",
            "(0, 3)\n",
            "cntry_min = 297, cntry_max = 302\n",
            "cntry_start = 297, cntry_end = 298\n",
            "Human 3 moved 1% of the frame (vertically)\n",
            "(0, 4)\n",
            "cntry_min = 296, cntry_max = 411\n",
            "cntry_start = 296, cntry_end = 411\n",
            "Human 4 moved 33% of the frame (vertically)\n",
            "Human 4 came in.\n",
            "[1, 4] []\n",
            "2 people came in\n",
            "0 people left\n",
            "{3: [(1, False, False)], 4: [(1, False, False)], 5: [(1, False, False)], 6: [(1, False, False)], 7: [(1, False, False)], 8: [(1, False, False)], 9: [(1, False, False)], 10: [(1, False, False)], 11: [(1, False, False)], 12: [(1, False, False)], 13: [(1, False, False)], 14: [(1, False, False)], 15: [(1, False, False)], 16: [(1, False, False)], 17: [(1, False, False)], 18: [(1, False, False)], 19: [(1, False, False)], 20: [(1, False, False)], 21: [(1, False, False)], 22: [(1, False, False)], 23: [(1, False, False)], 24: [(1, False, False)], 25: [(1, False, False)], 26: [(1, False, False)], 27: [(1, False, False)], 28: [(1, False, False)], 29: [(1, False, False)], 30: [(1, False, False)], 31: [(1, False, False)], 32: [(1, False, False)], 33: [(1, False, False)], 34: [(1, False, False)], 35: [(1, False, False)], 36: [(1, False, False)], 37: [(1, False, False)], 38: [(1, False, False)], 39: [(1, False, False)], 40: [(1, False, False)], 41: [(1, False, False)], 42: [(1, False, False)], 43: [(1, False, False)], 44: [(1, False, False)], 45: [(1, False, False)], 46: [(1, False, False)], 47: [(1, False, False)], 48: [(1, False, False)], 49: [(1, False, False)], 50: [(1, False, False)], 51: [(1, False, False)], 52: [(1, False, False)], 53: [(1, False, False)], 54: [(1, False, False)], 55: [(1, False, False)], 56: [(1, False, False)], 57: [(1, False, False)], 58: [(1, False, False)], 59: [(1, False, False)], 60: [(1, False, False)], 61: [(1, False, False)], 62: [(1, False, False)], 63: [(1, False, False)], 64: [(1, False, False)], 65: [(1, False, False)], 66: [(1, False, False)], 67: [(1, False, False)], 68: [(1, False, False)], 69: [(1, False, False)], 70: [(1, False, False)], 71: [(1, False, False)], 72: [(1, False, False)], 73: [(1, False, False)], 74: [(1, False, False)], 75: [(1, False, False)], 76: [(1, False, False)], 77: [(1, False, False)], 78: [(1, False, False)], 79: [(1, False, False)], 80: [(1, False, False)], 81: [(1, False, False)], 82: [(1, False, False)], 83: [(1, False, False)], 84: [(1, False, False)], 85: [(1, False, False)], 86: [(1, False, False)], 87: [(1, False, False)], 88: [(1, False, False)], 89: [(1, False, False)], 90: [(1, False, False)], 91: [(1, False, False)], 92: [(1, False, False)], 93: [(1, False, False)], 94: [(1, False, False)], 95: [(1, False, False)], 96: [(1, False, False)], 97: [(1, False, False)], 98: [(1, False, False)], 99: [(1, False, False)], 100: [(1, False, False)], 101: [(1, False, False)], 102: [(1, False, False)], 103: [(1, False, False)], 104: [(1, False, False)], 105: [(1, False, False)], 106: [(1, False, False)], 107: [(1, False, False)], 108: [(1, False, False)], 109: [(1, False, False)], 110: [(1, False, False)], 111: [(1, False, False)], 112: [(1, False, False)], 113: [(1, False, False)], 114: [(1, False, False)], 115: [(1, False, False)], 116: [(1, False, False)], 117: [(1, False, False)], 118: [(1, False, False)], 119: [(1, False, False)], 120: [(1, False, False)], 121: [(1, False, False)], 122: [(1, False, False)], 123: [(1, False, False)], 124: [(1, False, False)], 125: [(1, False, False)], 126: [(1, False, False)], 127: [(1, False, False)], 128: [(1, False, False)], 129: [(1, False, False)], 130: [(1, False, False)], 131: [(1, False, False)], 132: [(1, False, False)], 133: [(1, False, False)], 134: [(1, False, False)], 135: [(1, False, False)], 136: [(1, False, False)], 137: [(1, False, False)], 138: [(1, False, False)], 139: [(1, False, False)], 140: [(1, False, False)], 141: [(1, False, False)], 142: [(1, False, False)], 143: [(1, False, False)], 144: [(1, False, False)], 145: [(1, False, False)], 146: [(1, False, False)], 147: [(1, False, False)], 148: [(1, False, False)], 149: [(1, False, False)], 150: [(1, False, False)], 151: [(1, False, False)], 152: [(1, False, False)], 153: [(1, False, False)], 154: [(1, False, False)], 155: [(1, False, False)], 156: [(1, False, False)], 157: [(1, False, False)], 158: [(1, False, False)], 159: [(1, False, False)], 160: [(1, False, False)], 161: [(1, False, False)], 162: [(1, False, False)], 163: [(1, False, False)], 164: [(1, False, False)], 165: [(1, False, False)], 166: [(1, False, False)], 167: [(1, False, False)], 168: [(1, False, False)], 169: [(1, False, False)], 170: [(1, False, False)], 171: [(1, False, False)], 172: [(1, False, False)], 173: [(1, False, False)], 174: [(1, False, False)], 175: [(1, False, False)], 176: [(1, False, False)], 177: [(1, False, False)], 178: [(1, False, False)], 179: [(1, False, False)], 180: [(1, False, False)], 181: [(1, False, False)], 182: [(1, False, False)], 183: [(1, False, False)], 184: [(1, False, False)], 185: [(1, False, False)], 186: [(1, False, False)], 187: [(1, False, False)], 188: [(1, False, False)], 189: [(1, False, False)], 190: [(1, False, False)], 191: [(1, False, False)], 192: [(1, False, False)], 193: [(1, False, False)], 194: [(1, False, False), (2, False, False)], 195: [(1, False, False), (2, False, False)], 196: [(1, False, False), (2, False, False)], 197: [(1, False, False), (2, False, False)], 198: [(1, False, False), (2, False, False)], 199: [(1, False, False), (2, False, False)], 200: [(1, False, False), (2, False, False)], 201: [(1, False, False), (2, False, False)], 202: [(1, False, False), (2, False, False)], 203: [(1, False, False)], 204: [(1, False, False)], 205: [(1, False, False)], 206: [(1, False, False)], 207: [(1, False, False)], 208: [(1, False, False), (3, False, False)], 209: [(1, False, False), (3, False, False)], 210: [(1, False, False), (3, False, False)], 211: [(1, False, False), (3, False, False)], 212: [(1, False, False), (3, False, False)], 213: [(1, False, False), (3, False, False)], 214: [(1, False, False)], 215: [(1, False, False)], 216: [(1, False, False)], 217: [(1, False, False)], 218: [(1, False, False)], 219: [(1, False, False)], 220: [(1, False, False)], 221: [(1, False, False)], 222: [(1, False, False)], 223: [(1, False, False)], 224: [(1, False, False)], 225: [(1, False, False)], 226: [(1, False, False)], 227: [(1, False, False)], 228: [(1, False, False)], 229: [(1, False, False)], 230: [(1, False, False), (4, False, False)], 231: [(1, False, False), (4, False, False)], 232: [(1, False, False), (4, False, False)], 233: [(1, False, False), (4, False, False)], 234: [(1, False, False), (4, False, False)], 235: [(1, False, False), (4, False, False)], 236: [(1, False, False), (4, False, False)], 237: [(1, False, False), (4, False, False)], 238: [(1, False, False), (4, False, False)], 239: [(1, False, False), (4, False, False)], 240: [(1, False, False), (4, False, False)], 241: [(1, False, False), (4, False, False)], 242: [(1, False, False), (4, False, False)], 243: [(1, False, False), (4, False, False)], 244: [(1, False, False), (4, False, False)], 245: [(1, False, False), (4, False, False)], 246: [(1, False, False), (4, False, False)], 247: [(1, False, False), (4, False, False)], 248: [(1, False, False), (4, False, False)], 249: [(1, False, False), (4, False, False)], 250: [(1, False, False), (4, False, False)], 251: [(1, False, False), (4, False, False)], 252: [(1, False, False), (4, False, False)], 253: [(4, False, False)], 254: [(1, False, False), (4, False, False)], 255: [(1, False, False), (4, False, False)], 256: [(1, False, False), (4, False, False)], 257: [(4, False, False)], 258: [(1, False, False), (4, False, False)], 259: [(1, False, False), (4, False, False)], 260: [(1, False, False), (4, False, False)], 261: [(1, False, False), (4, False, False)], 262: [(1, False, False), (4, False, False)], 263: [(1, False, False), (4, False, False)], 264: [(1, False, False), (4, False, False)], 265: [(1, False, False), (4, False, False)], 266: [(1, False, False), (4, False, False)], 267: [(1, False, False), (4, False, False)], 268: [(1, False, False), (4, False, False)], 269: [(4, False, False)], 270: [(4, False, False)], 271: [(4, False, False)], 272: [(4, False, False)], 273: [(4, False, False)], 274: [(4, False, False)], 275: [(4, False, False)], 276: [(4, False, False)], 277: [(4, False, False)], 278: [(4, False, False)], 279: [(4, False, False)], 280: [(4, False, False)], 281: [(4, False, False)], 282: [(4, False, False)], 283: [(4, False, False)], 284: [(4, False, False)], 285: [(4, False, False)], 286: [(4, False, False)], 287: [(4, False, False)], 288: [(4, False, False)], 289: [(4, False, False)], 290: [(4, False, False)], 291: [(4, False, False)], 292: [(4, False, False)], 293: [(4, False, False)], 294: [(4, False, False)], 295: [(4, False, False)], 296: [(4, False, False)], 297: [(4, False, False)], 298: [(4, False, False)], 299: [(4, False, False)], 300: [(4, False, False)], 301: [(4, False, False)], 302: [(4, False, False)], 303: [(4, False, False)], 308: [(4, False, False)], 309: [(4, False, False)], 310: [(4, False, False)], 311: [(4, False, False)], 312: [(4, False, False)], 313: [(4, False, False)], 314: [(4, False, False)], 315: [(4, False, False)], 316: [(4, False, False)], 317: [(4, False, False)], 318: [(4, False, False)], 319: [(4, False, False)], 320: [(4, False, False)], 321: [(4, False, False)], 322: [(4, False, False)], 323: [(4, False, False)], 324: [(4, False, False)], 325: [(4, False, False)], 326: [(4, False, False)], 327: [(4, False, False)], 328: [(4, False, False)], 329: [(4, False, False)], 330: [(4, False, False)], 331: [(4, False, False)], 332: [(4, False, False)], 333: [(4, False, False)], 334: [(4, False, False)], 335: [(4, False, False)], 336: [(4, False, False)], 337: [(4, False, False)], 338: [(4, False, False)], 339: [(4, False, False)], 340: [(4, False, False)], 341: [(4, False, False)], 342: [(4, False, False)], 343: [(4, False, False)], 344: [(4, False, False)], 345: [(4, False, False)], 348: [(4, False, False)], 349: [(4, False, False)]}\n",
            "Human 1 is detected in 264 frames, we detect that he has a hat in 0 frames and vest in 0 frames.\n",
            "Human with id 1 is crossing with no hat, no vest in interval 0 min 0 sec - 0 min 22 sec.\n",
            "Human 4 is detected in 114 frames, we detect that he has a hat in 0 frames and vest in 0 frames.\n",
            "Human with id 4 is crossing with no hat, no vest in interval 0 min 19 sec - 0 min 29 sec.\n",
            "2 0 {1: [(0, 22), (19, 29)]}\n"
          ]
        }
      ]
    },
    {
      "cell_type": "code",
      "source": [
        "came, left, violations = get_results('/content/drive/MyDrive/Hardhats_vests/tracker_results/16/tracks/16.txt')\n",
        "print(came, left, violations)"
      ],
      "metadata": {
        "colab": {
          "base_uri": "https://localhost:8080/"
        },
        "id": "1MK1omVO-3Ei",
        "outputId": "1b02addd-c5c6-44c1-e178-7efd782dc892"
      },
      "execution_count": null,
      "outputs": [
        {
          "output_type": "stream",
          "name": "stdout",
          "text": [
            "(0, 2)\n",
            "cntry_min = 257, cntry_max = 352\n",
            "cntry_start = 330, cntry_end = 259\n",
            "Human 2 moved 25% of the frame (vertically)\n",
            "Human 2 left.\n",
            "(0, 5)\n",
            "cntry_min = 389, cntry_max = 395\n",
            "cntry_start = 395, cntry_end = 389\n",
            "Human 5 moved 1% of the frame (vertically)\n",
            "(0, 7)\n",
            "cntry_min = 379, cntry_max = 381\n",
            "cntry_start = 379, cntry_end = 381\n",
            "Human 7 moved 0% of the frame (vertically)\n",
            "(0, 8)\n",
            "cntry_min = 375, cntry_max = 377\n",
            "cntry_start = 377, cntry_end = 375\n",
            "Human 8 moved 0% of the frame (vertically)\n",
            "(0, 11)\n",
            "cntry_min = 269, cntry_max = 385\n",
            "cntry_start = 385, cntry_end = 283\n",
            "Human 11 moved 30% of the frame (vertically)\n",
            "Human 11 left.\n",
            "(0, 14)\n",
            "cntry_min = 257, cntry_max = 393\n",
            "cntry_start = 393, cntry_end = 273\n",
            "Human 14 moved 35% of the frame (vertically)\n",
            "Human 14 left.\n",
            "(0, 16)\n",
            "cntry_min = 408, cntry_max = 408\n",
            "cntry_start = 408, cntry_end = 408\n",
            "Human 16 moved 0% of the frame (vertically)\n",
            "(0, 22)\n",
            "cntry_min = 383, cntry_max = 385\n",
            "cntry_start = 385, cntry_end = 383\n",
            "Human 22 moved 0% of the frame (vertically)\n",
            "(0, 23)\n",
            "cntry_min = 277, cntry_max = 397\n",
            "cntry_start = 397, cntry_end = 277\n",
            "Human 23 moved 31% of the frame (vertically)\n",
            "Human 23 left.\n",
            "[] [2, 11, 14, 23]\n",
            "0 people came in\n",
            "4 people left\n",
            "{59: [(2, False, False)], 60: [(2, False, False)], 61: [(2, False, False)], 62: [(2, False, False)], 63: [(2, False, False)], 64: [(2, False, False)], 65: [(2, False, False)], 66: [(2, False, False)], 67: [(2, False, False)], 68: [(2, False, False)], 69: [(2, True, False)], 70: [(2, True, False)], 71: [(2, False, True)], 72: [(2, False, True)], 73: [(2, False, True)], 74: [(2, False, True)], 75: [(2, False, True)], 76: [(2, False, True)], 77: [(2, False, True)], 78: [(2, False, True)], 79: [(2, False, True)], 80: [(2, False, True)], 81: [(2, False, True)], 82: [(2, False, True)], 83: [(2, False, True)], 84: [(2, False, True)], 85: [(2, False, True)], 86: [(2, False, True)], 87: [(2, False, True), (5, False, False)], 88: [(2, False, True), (5, False, False)], 89: [(2, False, True), (5, False, False)], 90: [(2, False, True), (5, False, False)], 91: [(2, False, True), (5, False, False)], 92: [(2, False, True)], 93: [(2, False, True), (5, False, False)], 94: [(2, False, True), (5, False, False)], 95: [(2, False, True), (5, False, False)], 96: [(2, False, True), (5, False, False)], 97: [(2, False, True), (5, False, False)], 98: [], 99: [(2, False, True)], 100: [(2, False, True)], 101: [(2, False, True)], 102: [(2, False, True)], 103: [(2, False, True)], 104: [(2, False, True)], 105: [(2, False, True)], 106: [(2, False, True)], 107: [(2, False, True)], 108: [(2, False, True)], 109: [(2, False, True)], 110: [(2, False, True)], 111: [(2, False, True)], 112: [(2, False, True)], 113: [(2, False, True)], 114: [(2, False, True)], 115: [(2, False, True)], 116: [(2, False, True)], 117: [(2, False, True)], 118: [(2, False, True)], 119: [(2, False, True)], 120: [(2, False, True)], 121: [(2, False, True)], 122: [(2, False, True)], 123: [(2, False, True), (7, False, False)], 124: [(2, False, True), (7, False, False)], 125: [(2, False, True), (7, False, False)], 126: [(2, False, True)], 127: [(2, False, True)], 128: [(2, False, True)], 129: [(2, False, True), (8, False, False)], 130: [(2, False, True), (8, False, False)], 131: [(2, False, True), (8, False, False)], 132: [(2, False, True), (8, False, False)], 133: [(2, False, True), (8, False, False)], 134: [(2, False, True), (8, False, False)], 135: [(2, False, True), (8, False, False)], 136: [(2, False, True)], 137: [(2, False, True)], 138: [(2, False, True)], 139: [(2, False, True)], 140: [(2, False, True)], 141: [(2, False, True)], 142: [(2, False, True)], 143: [(2, False, True)], 144: [(2, False, True)], 145: [(2, False, True)], 146: [(2, False, True)], 147: [(2, False, True)], 148: [(2, False, True)], 149: [(2, False, True), (7, False, False)], 150: [(2, False, True), (7, False, False)], 151: [(2, False, True), (7, False, False)], 152: [(2, False, True), (7, False, False)], 153: [(2, False, True), (7, False, False)], 154: [(2, False, True)], 155: [(2, False, True)], 156: [(2, False, True)], 157: [(2, False, True)], 158: [(2, False, True)], 159: [(2, False, True)], 160: [(2, False, True)], 161: [(2, False, True)], 162: [(2, False, True)], 163: [(2, False, True)], 164: [(2, False, True)], 165: [(2, False, True)], 166: [(2, False, True)], 167: [(2, False, True)], 168: [(2, False, True)], 169: [(2, False, True)], 170: [(2, False, True)], 171: [(2, False, True)], 172: [(2, False, True)], 173: [(2, False, True)], 174: [(2, False, True)], 175: [(2, False, True)], 176: [(2, False, True)], 177: [(2, False, True)], 178: [(2, False, True)], 179: [(2, False, True)], 180: [(2, False, True)], 181: [(2, False, True)], 182: [(2, False, True)], 183: [(2, False, True)], 184: [(2, False, True)], 185: [(2, False, True)], 186: [(2, False, True)], 187: [(2, False, True)], 188: [(2, False, True)], 189: [(2, False, True)], 190: [(2, False, True)], 191: [(2, False, True)], 192: [(2, False, True)], 193: [(2, False, True)], 194: [(2, False, True)], 195: [(2, False, True)], 196: [(2, False, True)], 197: [(2, False, True)], 198: [(2, False, True)], 199: [(2, False, True)], 200: [(2, False, True)], 201: [(2, False, True), (11, False, True)], 202: [(2, False, True), (11, False, True)], 203: [(2, False, True), (11, False, True)], 204: [(2, False, True), (11, False, True)], 205: [(2, False, True), (11, False, True)], 206: [(2, False, True)], 207: [(2, False, True)], 208: [(2, False, True)], 209: [(2, False, True)], 210: [(2, False, True)], 211: [(2, False, True)], 212: [(2, False, True)], 213: [(2, False, True)], 214: [(2, False, True)], 215: [(2, False, True)], 216: [(2, False, True)], 217: [(2, False, True), (11, False, False)], 218: [(2, False, True), (11, False, False)], 219: [(2, False, True), (11, False, False)], 220: [(2, False, True), (11, False, False)], 221: [(2, False, True), (11, False, True)], 222: [(2, False, True), (11, False, True)], 223: [(2, False, True), (11, False, True)], 224: [(2, False, True), (11, False, True)], 225: [(2, False, True), (11, False, True)], 226: [(2, False, True), (11, False, True)], 227: [(2, False, True), (11, False, True)], 228: [(2, False, True), (11, False, True)], 229: [(2, False, True), (11, False, True)], 230: [(2, False, True), (11, False, True)], 231: [(2, False, True), (11, False, True)], 232: [(2, False, True), (11, False, True)], 233: [(2, False, True), (11, False, True)], 234: [(2, False, True), (11, False, True)], 235: [(2, False, True), (11, False, True)], 236: [(2, False, True), (11, False, True)], 237: [(2, False, True), (11, False, True)], 238: [(2, False, True), (11, False, True)], 239: [(2, False, True), (11, False, True)], 240: [(2, False, True), (11, False, True)], 241: [(2, False, True), (11, False, True)], 242: [(2, False, True), (11, False, True)], 243: [(2, False, True), (11, False, True)], 244: [(2, False, True), (11, False, True)], 245: [(2, False, True), (11, False, True)], 246: [(2, False, True), (11, False, True)], 247: [(2, False, True), (11, False, True)], 248: [(2, False, True), (11, False, True)], 249: [(2, False, True), (11, False, True)], 250: [(2, False, True), (11, False, True)], 251: [(2, False, True), (11, False, True)], 252: [(2, False, True), (11, False, True)], 253: [(2, False, True), (11, False, True)], 254: [(11, False, True)], 255: [(11, False, True)], 256: [(11, False, True)], 257: [(11, False, True)], 258: [(11, False, True)], 259: [(11, False, True)], 260: [(11, False, True)], 261: [(11, False, True)], 262: [(11, False, True)], 263: [(11, False, True)], 264: [(11, False, True)], 265: [(11, False, True)], 266: [(11, False, True)], 267: [(11, False, True)], 268: [(11, False, True)], 269: [(11, False, True)], 270: [(11, False, True)], 271: [(11, False, True)], 272: [(11, False, True)], 273: [(2, False, True), (11, False, True)], 274: [(2, False, True)], 275: [(2, False, True)], 276: [(2, False, True)], 277: [(2, False, True)], 278: [(2, False, True)], 279: [(2, False, True)], 280: [(2, False, True)], 281: [(2, False, True)], 282: [(2, False, True)], 283: [(2, False, True)], 284: [(2, False, True)], 285: [(2, False, True)], 286: [(2, False, True)], 287: [(2, False, True)], 288: [(2, False, True)], 289: [(2, False, True)], 290: [(2, False, True)], 291: [(2, False, True)], 292: [(2, False, True)], 293: [(2, False, True)], 294: [(2, False, True)], 295: [(2, False, True)], 296: [(2, False, True)], 297: [(2, False, True)], 298: [(2, False, True)], 299: [(2, False, True)], 300: [(2, False, True)], 301: [(2, False, True), (14, True, False)], 302: [(2, False, True), (14, True, False)], 303: [(2, False, True), (11, False, True), (14, True, True)], 304: [(11, False, True), (14, True, True)], 305: [(11, False, True), (14, True, True), (16, False, False)], 306: [(11, False, True), (14, True, True), (16, False, False)], 307: [(11, False, True), (14, True, True), (16, False, False)], 308: [(11, False, True), (14, True, True)], 309: [(11, False, True), (14, True, True)], 310: [(11, False, True), (14, True, True)], 311: [(11, False, True), (14, True, True)], 312: [(11, False, True), (14, True, True)], 313: [(2, False, True), (11, False, True), (14, True, True)], 314: [(2, False, True), (14, True, True)], 315: [(2, False, True), (14, True, True)], 316: [(2, False, True), (14, True, True)], 317: [(2, False, True), (14, True, True)], 318: [(2, False, True), (14, True, True)], 319: [(2, False, True), (14, True, True)], 320: [(2, False, True), (14, True, True)], 321: [(2, False, True), (14, True, True)], 322: [(2, False, True), (14, True, True)], 323: [(2, False, True), (14, True, True)], 324: [(2, False, True), (14, True, True)], 325: [(2, False, True), (14, True, True)], 326: [(2, False, True), (14, True, True)], 327: [(2, False, True), (14, True, True)], 328: [(2, False, True), (14, True, True)], 329: [(2, False, True), (14, True, True)], 330: [(2, False, True), (14, True, True)], 331: [(2, False, True), (14, True, True)], 332: [(14, True, True)], 333: [(14, True, True)], 334: [(14, True, True)], 335: [(14, True, True)], 336: [(14, True, True)], 337: [(14, True, True)], 338: [(14, True, True)], 339: [(14, True, True)], 340: [(14, True, True)], 341: [(14, True, True)], 342: [(14, True, True)], 343: [(14, True, True)], 344: [(14, True, True)], 345: [(14, True, True)], 346: [(14, True, True)], 347: [(14, True, True)], 348: [(14, True, True)], 349: [(14, True, True)], 350: [(14, True, True)], 351: [(14, True, True)], 352: [(14, True, True)], 353: [(14, True, True)], 354: [(14, True, True)], 355: [(14, True, True)], 356: [(14, True, True)], 357: [(14, True, True)], 358: [(14, True, True)], 359: [(14, True, True)], 360: [(14, True, True)], 361: [(14, True, True)], 362: [(14, True, True)], 363: [(14, True, True)], 364: [(14, True, True)], 365: [(14, True, True)], 366: [(14, True, True)], 367: [(14, True, True)], 368: [(14, False, True)], 369: [(14, False, True)], 370: [(14, False, True)], 371: [(14, True, True)], 372: [(14, True, True)], 373: [(14, True, True)], 374: [(14, True, True)], 375: [(14, True, True)], 376: [(14, True, True)], 377: [(14, True, True)], 378: [(14, True, True)], 379: [(14, True, True)], 380: [(14, False, True)], 427: [(14, False, True)], 431: [(22, False, False)], 432: [(22, False, False)], 471: [(22, False, False)], 477: [(23, False, False)], 478: [(23, False, False)], 479: [(23, False, False)], 480: [(23, False, False)], 481: [(23, False, False)], 482: [(23, False, False)], 483: [(23, False, False)], 484: [(23, False, False)], 485: [(23, False, False)], 486: [(23, False, False)], 487: [(23, False, False)], 488: [(23, False, False)], 489: [(23, False, False)], 490: [(23, False, False)], 491: [(23, False, False)], 492: [(23, False, False)], 493: [(23, False, False)], 494: [(23, False, False)], 495: [(23, False, False)], 496: [(23, False, False)], 497: [(23, False, False)], 498: [(23, False, False)], 499: [(23, False, False)], 500: [(23, False, False)], 501: [(23, False, False)], 502: [(23, False, False)], 503: [(23, False, False)], 504: [(23, False, False)], 505: [(23, False, False)], 506: [(23, False, False)], 507: [(23, False, False)], 508: [(23, False, False)], 509: [(23, False, False)], 510: [(23, False, False)], 511: [(23, False, False)], 512: [(23, False, False)], 513: [(23, False, False)], 514: [(23, False, False)], 515: [(23, False, False)], 516: [(23, False, False)], 517: [(23, False, False)], 518: [(23, False, False)], 519: [(23, False, False)], 520: [(23, False, False)], 521: [(23, False, False)], 522: [(23, False, False)], 523: [(23, False, False)], 524: [(23, False, False)], 525: [(23, False, False)], 526: [(23, False, False)], 527: [(23, False, False)], 528: [(23, False, False)], 529: [(23, False, False)], 530: [(23, False, False)], 531: [(23, False, False)], 532: [(23, False, False)], 533: [(23, False, False)], 534: [(23, False, False)], 535: [(23, False, False)], 536: [(23, False, False)], 537: [(23, False, False)], 538: [(23, False, False)], 539: [(23, False, False)], 540: [(23, False, False)], 541: [(23, False, False)], 542: [(23, False, False)], 543: [(23, False, False)], 544: [(23, False, False)], 545: [(23, False, False)], 546: [(23, False, False)], 547: [(23, False, False)], 548: [(23, False, False)], 549: [(23, False, False)], 550: [(23, False, False)], 551: [(23, False, False)], 552: [(23, False, False)], 553: [(23, False, False)], 554: [(23, False, False)], 555: [(23, False, False)], 556: [(23, False, False)], 557: [(23, False, False)], 558: [(23, False, False)], 559: [(23, False, False)], 560: [(23, False, False)], 561: [(23, False, False)], 562: [(23, False, False)], 563: [(23, False, False)], 564: [(23, False, False)], 565: [(23, False, False)], 566: [(23, False, False)], 567: [(23, False, False)], 568: [(23, False, False)], 569: [(23, False, False)], 570: [(23, False, False)], 571: [(23, False, False)], 572: [(23, False, False)], 573: [(23, False, False)], 574: [(23, False, False)], 575: [(23, False, False)], 576: [(23, False, False)], 577: [(23, False, False)], 578: [(23, False, False)]}\n",
            "Human 2 is detected in 244 frames, we detect that he has a hat in 2 frames and vest in 232 frames.\n",
            "Human with id 2 is crossing with no hat in interval 0 min 4 sec - 0 min 27 sec.\n",
            "Human 11 is detected in 73 frames, we detect that he has a hat in 0 frames and vest in 69 frames.\n",
            "Human with id 11 is crossing with no hat in interval 0 min 16 sec - 0 min 26 sec.\n",
            "Human 14 is detected in 81 frames, we detect that he has a hat in 76 frames and vest in 79 frames.\n",
            "Human 14 is a good human. :-)\n",
            "Human 23 is detected in 102 frames, we detect that he has a hat in 0 frames and vest in 0 frames.\n",
            "Human with id 23 is crossing with no hat, no vest in interval 0 min 39 sec - 0 min 48 sec.\n",
            "0 4 {3: [(4, 27), (16, 26)], 1: [(39, 48)]}\n"
          ]
        }
      ]
    },
    {
      "cell_type": "code",
      "source": [
        "came, left, violations = get_results('/content/drive/MyDrive/Hardhats_vests/tracker_results/17/tracks/17.txt')\n",
        "print(came, left, violations)"
      ],
      "metadata": {
        "colab": {
          "base_uri": "https://localhost:8080/"
        },
        "id": "MGUx-paI_5SA",
        "outputId": "135f362b-919c-46ac-8583-47eed68ec1e7"
      },
      "execution_count": null,
      "outputs": [
        {
          "output_type": "stream",
          "name": "stdout",
          "text": [
            "(0, 1)\n",
            "cntry_min = 269, cntry_max = 369\n",
            "cntry_start = 369, cntry_end = 280\n",
            "Human 1 moved 27% of the frame (vertically)\n",
            "Human 1 left.\n",
            "(0, 2)\n",
            "cntry_min = 241, cntry_max = 391\n",
            "cntry_start = 391, cntry_end = 267\n",
            "Human 2 moved 41% of the frame (vertically)\n",
            "Human 2 left.\n",
            "(0, 4)\n",
            "cntry_min = 362, cntry_max = 387\n",
            "cntry_start = 387, cntry_end = 362\n",
            "Human 4 moved 6% of the frame (vertically)\n",
            "(0, 5)\n",
            "cntry_min = 274, cntry_max = 372\n",
            "cntry_start = 372, cntry_end = 289\n",
            "Human 5 moved 26% of the frame (vertically)\n",
            "Human 5 left.\n",
            "(0, 10)\n",
            "cntry_min = 396, cntry_max = 398\n",
            "cntry_start = 398, cntry_end = 396\n",
            "Human 10 moved 0% of the frame (vertically)\n",
            "(0, 11)\n",
            "cntry_min = 378, cntry_max = 398\n",
            "cntry_start = 384, cntry_end = 395\n",
            "Human 11 moved 5% of the frame (vertically)\n",
            "(0, 12)\n",
            "cntry_min = 246, cntry_max = 391\n",
            "cntry_start = 391, cntry_end = 270\n",
            "Human 12 moved 39% of the frame (vertically)\n",
            "Human 12 left.\n",
            "(0, 15)\n",
            "cntry_min = 245, cntry_max = 378\n",
            "cntry_start = 378, cntry_end = 245\n",
            "Human 15 moved 36% of the frame (vertically)\n",
            "Human 15 left.\n",
            "[] [1, 2, 5, 12, 15]\n",
            "0 people came in\n",
            "5 people left\n",
            "{14: [(1, False, False)], 15: [(1, False, False)], 16: [(1, False, False)], 17: [(1, False, False)], 18: [(1, False, False)], 19: [(1, False, False)], 20: [(1, False, False)], 21: [(1, False, False)], 22: [(1, False, False)], 23: [(1, False, False)], 24: [(1, False, False)], 25: [(1, False, False)], 26: [(1, False, False)], 27: [(1, False, False)], 28: [(1, False, False)], 29: [(1, False, False)], 30: [(1, False, False)], 31: [(1, False, False)], 32: [(1, False, False)], 33: [(1, False, False)], 34: [(1, False, False), (2, False, False)], 35: [(1, False, False), (2, False, False)], 36: [(1, False, False), (2, False, True)], 37: [(1, False, False), (2, False, True)], 38: [(1, False, False), (2, False, True)], 39: [(1, False, False), (2, False, True)], 40: [(1, False, False), (2, False, True)], 41: [(1, False, False), (2, False, True)], 42: [(1, False, False), (2, False, True)], 43: [(1, False, False), (2, False, True)], 44: [(1, False, False), (2, False, True)], 45: [(1, False, False), (2, False, True)], 46: [(1, False, False), (2, False, True)], 47: [(1, False, False), (2, False, True)], 48: [(1, False, False), (2, False, True)], 49: [(1, False, False), (2, False, True)], 50: [(1, False, False), (2, False, True)], 51: [(1, False, False), (2, False, True)], 52: [(1, False, False), (2, False, True)], 53: [(1, False, False), (2, False, True)], 54: [(1, False, False), (2, False, True)], 55: [(1, False, False), (2, False, True)], 56: [(1, False, False), (2, False, True)], 57: [(1, False, False), (2, False, True)], 58: [(1, False, False), (2, False, True)], 59: [(1, False, False), (2, False, True)], 60: [(1, False, False), (2, False, True)], 61: [(1, False, False), (2, False, True)], 62: [(1, False, False), (2, False, True)], 63: [(1, False, False), (2, False, True)], 64: [(1, False, False), (2, False, True)], 65: [(2, False, True)], 66: [(2, False, True)], 67: [(2, False, True)], 68: [(2, False, True)], 69: [(2, False, True)], 70: [(2, False, True)], 71: [(2, False, True)], 72: [(2, False, True)], 73: [(2, False, True)], 74: [(2, False, True)], 75: [(2, False, True)], 76: [(2, False, True)], 77: [(2, False, True)], 78: [(2, False, True), (4, False, False)], 79: [(2, False, True), (4, False, False)], 80: [(2, False, True), (4, False, False)], 81: [(2, False, True), (4, False, False)], 82: [(2, False, True), (4, False, False)], 83: [(2, False, True), (4, False, False)], 84: [(2, False, True), (4, False, False)], 85: [(2, False, True), (4, False, False)], 86: [(2, False, True), (4, False, False)], 87: [(2, False, True), (4, False, False)], 88: [(1, False, False), (2, False, True), (4, False, False)], 89: [(1, False, False), (2, False, True)], 90: [(1, False, False), (2, False, True)], 91: [(1, False, False)], 92: [(1, False, False)], 93: [(1, False, False)], 94: [(1, False, False)], 95: [(1, False, False)], 96: [(1, False, False)], 97: [(1, False, False)], 98: [(1, False, False)], 99: [(1, False, False)], 100: [(1, False, False)], 101: [(1, False, False)], 102: [(1, False, False)], 103: [(1, False, False)], 104: [(1, False, False)], 105: [(1, False, False)], 106: [(1, False, False)], 107: [(1, False, False)], 108: [(1, False, False)], 109: [(1, False, False)], 110: [(1, False, False)], 111: [(1, False, False)], 112: [(1, False, False)], 113: [(1, False, False)], 114: [(1, False, False)], 115: [(1, False, False)], 116: [(1, False, False), (5, False, False)], 117: [(1, False, False), (5, False, False)], 118: [(1, False, False), (5, False, False)], 119: [(5, False, False)], 120: [(5, False, False)], 121: [(5, False, False)], 122: [(5, False, False)], 123: [(5, False, False)], 124: [(5, False, False)], 125: [(5, False, False)], 126: [(5, False, False)], 127: [(5, False, False)], 128: [(5, False, False)], 129: [(5, False, False)], 130: [(5, False, False)], 131: [(5, False, False)], 132: [(5, False, False)], 133: [(5, False, False)], 134: [(5, False, False)], 135: [(5, False, False)], 136: [(5, False, False)], 137: [(5, False, False)], 138: [(5, False, False)], 139: [(5, False, False)], 140: [(5, False, False)], 141: [(5, False, False)], 142: [(5, False, False)], 143: [(5, False, False)], 144: [(5, True, False)], 145: [(5, True, False)], 146: [(5, True, False)], 147: [(5, True, False)], 148: [(5, True, False)], 149: [(5, True, False)], 150: [(5, True, False)], 151: [(5, False, False)], 152: [(5, False, False)], 153: [(5, False, False)], 154: [(5, False, False)], 155: [(5, False, False)], 156: [(5, False, False), (11, False, True)], 157: [(5, False, False), (11, False, True)], 158: [(5, False, False), (11, False, True)], 159: [(5, False, False), (11, False, True)], 160: [(5, False, False), (11, False, True)], 161: [(5, False, False), (11, False, True)], 162: [(5, False, False), (11, False, True)], 163: [(5, False, False), (11, False, True)], 164: [(5, False, False), (11, False, True)], 165: [(5, False, False), (11, False, True)], 166: [(5, False, False), (11, False, True)], 167: [(5, False, False), (11, False, True)], 168: [(5, False, False), (11, False, True)], 169: [], 170: [], 171: [], 172: [], 173: [], 174: [], 175: [], 178: [], 179: [], 180: [(11, False, True)], 181: [(11, False, True)], 182: [(11, False, True)], 183: [(11, False, True)], 184: [(11, False, True)], 185: [(11, False, True)], 186: [(11, False, True), (12, False, True)], 187: [(11, False, True), (12, False, True)], 188: [(11, False, True), (12, False, True)], 189: [(12, False, True)], 190: [(11, False, True), (12, False, True)], 191: [(11, False, True), (12, False, True)], 192: [(11, False, True), (12, False, True)], 193: [(11, False, True), (12, False, True)], 194: [(11, False, True), (12, False, True)], 195: [(11, False, True), (12, False, True)], 196: [(11, False, True), (12, False, True)], 197: [(11, False, True), (12, False, True)], 198: [(11, False, True), (12, False, True)], 199: [(11, False, True), (12, False, True)], 200: [(11, False, True), (12, False, True)], 201: [(11, False, True), (12, False, True)], 202: [(11, False, True), (12, False, True)], 203: [(11, False, True), (12, False, True)], 204: [(11, False, True), (12, False, True)], 205: [(11, False, True), (12, False, True)], 206: [(11, False, True), (12, False, True)], 207: [(11, False, True), (12, False, True)], 208: [(11, False, True), (12, False, True)], 209: [(11, False, True), (12, False, True)], 210: [(11, False, True), (12, False, True)], 211: [(11, False, True), (12, False, True)], 212: [(11, False, True), (12, False, True)], 213: [(11, False, True), (12, False, True)], 214: [(11, False, True), (12, False, True)], 215: [(11, False, True), (12, False, True)], 216: [(11, False, True), (12, False, True)], 217: [(11, False, True), (12, False, True)], 218: [(11, False, True), (12, False, True)], 219: [(12, False, True)], 220: [(12, False, True)], 221: [(12, False, True)], 222: [(12, False, True)], 223: [(12, False, True)], 224: [(12, False, True)], 225: [(12, False, True)], 226: [(12, False, True)], 227: [(12, False, True)], 228: [(12, False, True)], 229: [(12, False, True)], 230: [(12, False, True)], 231: [(12, False, True)], 232: [(12, False, True)], 233: [(12, False, True)], 234: [(12, False, True)], 235: [(12, False, True)], 236: [(12, False, True)], 237: [(12, False, True)], 238: [(12, False, True)], 239: [(12, False, True)], 240: [(12, False, True)], 241: [(12, False, True)], 242: [(12, False, True)], 243: [(12, False, True)], 244: [(12, False, True)], 245: [(12, False, True)], 246: [(12, False, True)], 247: [(12, False, True)], 248: [(12, False, True)], 249: [(12, False, True)], 250: [(12, False, True)], 251: [(12, False, True)], 252: [(12, False, True)], 253: [(12, False, True)], 254: [(12, False, True)], 255: [(12, False, True)], 256: [(12, False, True)], 257: [(12, False, True)], 258: [(12, False, True)], 259: [(12, False, True)], 260: [(12, False, True)], 261: [(12, False, True)], 262: [(12, False, True)], 263: [(12, False, True)], 264: [(12, False, True)], 265: [(12, False, True)], 266: [(12, False, True)], 267: [(12, False, True)], 268: [(12, False, True)], 269: [(12, False, True)], 270: [(12, False, True)], 271: [(12, False, True)], 272: [(12, False, True)], 273: [(12, False, True)], 274: [(12, False, True)], 275: [(12, False, True)], 276: [(12, False, True)], 277: [(12, False, True)], 278: [(12, False, True)], 279: [(12, False, True)], 280: [(12, False, True)], 281: [(12, False, True)], 282: [(12, False, True)], 283: [(12, False, True)], 284: [(12, False, True)], 285: [(12, False, True)], 286: [(12, False, True)], 287: [(12, False, True)], 288: [(12, False, True)], 289: [(12, False, True)], 290: [(12, False, True)], 291: [(12, False, True)], 292: [(12, False, True)], 293: [(12, False, True)], 294: [(12, False, True)], 295: [(12, False, True)], 296: [(12, False, True)], 297: [(12, False, True)], 298: [(10, False, False), (12, False, True)], 299: [(10, False, False), (12, False, True)], 300: [(10, False, False), (12, False, True)], 301: [(12, False, True)], 302: [(12, False, True)], 303: [(12, False, True)], 304: [(12, False, True)], 305: [(12, False, True)], 306: [(12, False, True)], 307: [(12, False, True)], 308: [(12, False, True)], 309: [(12, False, True)], 310: [(12, False, True)], 311: [(12, False, True)], 312: [(12, False, True)], 313: [(12, False, True)], 314: [(12, False, True), (15, False, True)], 315: [(12, False, True), (15, False, True)], 316: [(12, False, True), (15, False, True)], 317: [(12, False, True), (15, False, True)], 318: [(12, False, True), (15, False, True)], 319: [(12, False, True), (15, False, True)], 320: [(12, False, True), (15, False, True)], 321: [(12, False, True), (15, False, True)], 322: [(12, False, True), (15, False, True)], 323: [(12, False, True), (15, False, True)], 324: [(12, False, True), (15, False, True)], 325: [(12, False, True), (15, False, True)], 326: [(12, False, True), (15, False, True)], 327: [(12, False, True), (15, False, True)], 328: [(12, False, True), (15, False, True)], 329: [(12, False, True), (15, False, True)], 330: [(12, False, True), (15, False, True)], 331: [(12, False, True), (15, False, True)], 332: [(12, False, True), (15, False, True)], 333: [(12, False, True), (15, False, True)], 334: [(12, False, True), (15, False, True)], 335: [(12, False, True), (15, False, True)], 336: [(12, False, True), (15, False, True)], 337: [(12, False, True), (15, False, True)], 338: [(12, False, True), (15, False, True)], 339: [(12, False, True), (15, False, True)], 340: [(12, False, True), (15, False, True)], 341: [(12, False, True), (15, False, True)], 342: [(12, False, True), (15, False, True)], 343: [(12, False, True), (15, False, True)], 344: [(12, False, True), (15, False, True)], 345: [(15, False, True)], 346: [(15, False, True)], 347: [(15, False, True)], 348: [(15, False, True)], 349: [(15, False, True)], 350: [(15, False, True)], 351: [(15, False, True)], 352: [(15, False, True)], 353: [(15, False, True)], 354: [(15, False, True)], 355: [(15, False, True)], 356: [(15, False, True)], 357: [(15, False, True)], 358: [(15, False, True)], 359: [(15, False, True)], 360: [(15, False, True)], 361: [(15, False, True)], 362: [(15, False, True)], 363: [(15, False, True)], 364: [(15, False, True)], 365: [(15, False, True)], 366: [(15, False, True)], 367: [(15, False, True)], 368: [(15, False, True)], 369: [(15, False, True)], 370: [(15, False, True)], 371: [(15, False, True)], 372: [(15, False, True)], 373: [(15, False, True)], 374: [(15, False, True)], 375: [(15, False, True)], 376: [(15, False, True)], 377: [(15, False, True)], 378: [(15, False, True)], 379: [(15, False, True)], 380: [(15, False, True)], 381: [], 382: [], 383: []}\n",
            "Human 1 is detected in 82 frames, we detect that he has a hat in 0 frames and vest in 0 frames.\n",
            "Human with id 1 is crossing with no hat, no vest in interval 0 min 1 sec - 0 min 9 sec.\n",
            "Human 2 is detected in 57 frames, we detect that he has a hat in 0 frames and vest in 55 frames.\n",
            "Human with id 2 is crossing with no hat in interval 0 min 2 sec - 0 min 7 sec.\n",
            "Human 5 is detected in 53 frames, we detect that he has a hat in 7 frames and vest in 0 frames.\n",
            "Human with id 5 is crossing with no hat, no vest in interval 0 min 9 sec - 0 min 13 sec.\n",
            "Human 12 is detected in 159 frames, we detect that he has a hat in 0 frames and vest in 159 frames.\n",
            "Human with id 12 is crossing with no hat in interval 0 min 15 sec - 0 min 28 sec.\n",
            "Human 15 is detected in 67 frames, we detect that he has a hat in 0 frames and vest in 67 frames.\n",
            "Human with id 15 is crossing with no hat in interval 0 min 26 sec - 0 min 31 sec.\n",
            "0 5 {1: [(1, 9), (9, 13)], 3: [(2, 7), (15, 28), (26, 31)]}\n"
          ]
        }
      ]
    },
    {
      "cell_type": "code",
      "source": [
        "came, left, violations = get_results('/content/drive/MyDrive/Hardhats_vests/tracker_results/18/tracks/18.txt')\n",
        "print(came, left, violations)"
      ],
      "metadata": {
        "colab": {
          "base_uri": "https://localhost:8080/"
        },
        "id": "DIA-6Tv2HSvh",
        "outputId": "794269b9-1ae5-40ed-f274-9f806d8875b1"
      },
      "execution_count": null,
      "outputs": [
        {
          "output_type": "stream",
          "name": "stdout",
          "text": [
            "(0, 2)\n",
            "cntry_min = 282, cntry_max = 403\n",
            "cntry_start = 282, cntry_end = 403\n",
            "Human 2 moved 33% of the frame (vertically)\n",
            "Human 2 came in.\n",
            "(0, 6)\n",
            "cntry_min = 262, cntry_max = 407\n",
            "cntry_start = 263, cntry_end = 407\n",
            "Human 6 moved 40% of the frame (vertically)\n",
            "Human 6 came in.\n",
            "(0, 13)\n",
            "cntry_min = 290, cntry_max = 405\n",
            "cntry_start = 290, cntry_end = 405\n",
            "Human 13 moved 31% of the frame (vertically)\n",
            "Human 13 came in.\n",
            "(0, 14)\n",
            "cntry_min = 267, cntry_max = 398\n",
            "cntry_start = 275, cntry_end = 398\n",
            "Human 14 moved 36% of the frame (vertically)\n",
            "Human 14 came in.\n",
            "[2, 6, 13, 14] []\n",
            "4 people came in\n",
            "0 people left\n",
            "{24: [], 25: [], 26: [], 27: [], 28: [(2, True, True)], 29: [(2, True, True)], 30: [(2, True, True)], 31: [(2, True, True)], 32: [(2, True, True)], 33: [(2, True, True)], 34: [(2, True, True)], 35: [(2, True, True)], 36: [(2, True, True)], 37: [(2, True, True)], 38: [(2, True, True)], 39: [(2, True, True)], 40: [(2, True, True)], 41: [(2, True, True)], 42: [(2, True, True)], 43: [(2, True, True)], 44: [(2, True, True), (6, True, True)], 45: [(2, True, True), (6, True, True)], 46: [(2, True, True), (6, True, True)], 47: [(2, True, True), (6, True, True)], 48: [(2, True, True), (6, True, True)], 49: [(2, True, True), (6, True, True)], 50: [(2, True, True), (6, True, True)], 51: [(2, True, True), (6, True, True)], 52: [(2, True, True), (6, True, True)], 53: [(2, True, True), (6, True, False)], 54: [(2, True, True), (6, True, False)], 55: [(2, False, True), (6, True, False)], 56: [(2, True, True), (6, True, True)], 57: [(2, True, True), (6, True, True)], 58: [(2, True, True), (6, True, True)], 59: [(2, True, True), (6, True, True)], 60: [(2, True, True), (6, True, True)], 61: [(2, True, True), (6, True, True)], 62: [(2, True, True), (6, True, True)], 63: [(2, True, True), (6, True, True)], 64: [(2, True, True), (6, True, True)], 65: [(2, True, True), (6, True, True)], 66: [(2, True, True), (6, True, True)], 67: [(2, True, True), (6, True, True)], 68: [(2, True, True), (6, True, True)], 69: [(2, True, True), (6, True, True)], 70: [(2, True, True), (6, True, True)], 71: [(2, True, True), (6, True, True)], 72: [(2, True, True), (6, True, True)], 73: [(2, True, True), (6, True, True)], 74: [(2, True, True), (6, True, True)], 75: [(2, True, True), (6, True, True)], 76: [(2, True, True), (6, True, True)], 77: [(2, True, True), (6, True, True)], 78: [(2, True, True), (6, True, True)], 79: [(2, True, True), (6, True, True)], 80: [(2, True, True), (6, True, True)], 81: [(2, True, True), (6, True, True)], 82: [(2, True, True), (6, True, True)], 83: [(2, True, True), (6, True, True)], 84: [(2, True, True), (6, True, True)], 85: [(2, True, True), (6, True, True)], 86: [(2, True, True), (6, True, True)], 87: [(2, True, True), (6, True, True)], 88: [(2, True, True), (6, True, True)], 89: [(2, True, True), (6, True, True)], 90: [(2, True, True), (6, True, True)], 91: [(2, True, True), (6, True, True)], 92: [(2, True, True), (6, True, True)], 93: [(2, True, True), (6, True, True)], 94: [(2, True, True), (6, True, True)], 95: [(2, True, True), (6, True, True)], 96: [(2, True, True), (6, True, True)], 97: [(2, True, True), (6, True, True)], 98: [(2, True, True), (6, True, True)], 99: [(2, True, True), (6, True, True)], 100: [(2, True, True), (6, True, True)], 101: [(2, True, True), (6, True, True)], 102: [(2, True, True), (6, True, True)], 103: [(2, True, True), (6, True, True)], 104: [(2, True, True), (6, True, True)], 105: [(2, True, True), (6, True, True)], 106: [(2, True, True), (6, True, True)], 107: [(2, True, True), (6, True, True)], 108: [(2, True, True), (6, True, True)], 109: [(2, True, True), (6, True, True)], 110: [(2, True, True), (6, True, True)], 111: [(6, True, True)], 112: [(6, True, True)], 113: [(6, True, True)], 114: [(6, True, True), (13, True, True), (14, True, False)], 115: [(6, True, True), (13, True, True), (14, True, False)], 116: [(6, True, True), (13, True, True), (14, True, False)], 117: [(6, True, True), (13, True, True), (14, True, False)], 118: [(6, True, True), (13, True, True), (14, True, False)], 119: [(6, True, True), (13, True, True), (14, True, False)], 120: [(6, True, True), (13, True, True), (14, True, False)], 121: [(6, True, True), (13, True, True), (14, True, False)], 122: [(6, True, True), (13, True, True), (14, True, False)], 123: [(6, True, True), (13, True, False), (14, True, False)], 124: [(6, True, True), (13, True, False), (14, True, False)], 125: [(6, True, True), (13, True, False), (14, True, False)], 126: [(6, True, True), (13, True, False), (14, True, False)], 127: [(6, False, True), (13, True, False), (14, True, False)], 128: [(6, True, True), (13, True, False), (14, True, False)], 129: [(6, True, True), (13, True, False), (14, True, False)], 130: [(6, True, True), (13, True, False), (14, True, False)], 131: [(6, False, False), (13, True, False), (14, True, False)], 132: [(6, False, False), (13, True, False), (14, True, False)], 133: [(13, True, False), (14, True, False)], 134: [(13, True, False), (14, True, False)], 135: [(13, True, False), (14, True, False)], 136: [(13, True, False), (14, True, False)], 137: [(13, True, False), (14, True, False)], 138: [(13, True, False), (14, True, False)], 139: [(13, True, False), (14, True, False)], 140: [(13, True, False), (14, True, False)], 141: [(13, True, False), (14, True, False)], 142: [(13, True, False), (14, True, False)], 143: [(13, True, False), (14, True, False)], 144: [(13, True, False), (14, True, False)], 145: [(13, True, False), (14, True, False)], 146: [(13, True, True), (14, True, False)], 147: [(13, True, True), (14, True, False)], 148: [(13, True, True), (14, True, False)], 149: [(13, True, False), (14, True, False)], 150: [(13, True, False), (14, True, False)], 151: [(14, True, False)], 152: [(14, True, False)], 153: [(14, True, False)], 154: [(14, True, False)], 155: [(14, True, False)], 156: [(14, True, False)], 157: [(14, True, False)], 158: [(14, True, False)], 159: [(14, True, False)], 160: [(14, True, False)], 161: [(14, True, False)], 162: [(14, True, False)], 163: [(14, True, False)], 164: [(14, True, False)], 165: [(14, True, False)], 166: [(14, True, False)], 167: [(14, True, False)], 168: [(14, True, False)], 169: [(14, True, False)], 170: [(14, True, False)], 171: [(14, True, False)], 172: [(14, True, False)], 173: [(14, True, False)], 174: [(14, True, False)], 175: [(14, True, False)], 176: [(14, True, False)], 177: [(14, True, False)], 178: [(14, True, False)], 179: [(14, True, False)], 180: [(14, True, False)], 181: [(14, True, False)], 182: [(14, True, False)], 183: [(14, True, False)], 184: [(14, True, False)], 185: [(14, True, False)], 186: [(14, True, False)]}\n",
            "Human 2 is detected in 83 frames, we detect that he has a hat in 82 frames and vest in 83 frames.\n",
            "Human 2 is a good human. :-)\n",
            "Human 6 is detected in 89 frames, we detect that he has a hat in 86 frames and vest in 84 frames.\n",
            "Human 6 is a good human. :-)\n",
            "Human 13 is detected in 37 frames, we detect that he has a hat in 37 frames and vest in 12 frames.\n",
            "Human with id 13 is crossing with no vest in interval 0 min 9 sec - 0 min 12 sec.\n",
            "Human 14 is detected in 73 frames, we detect that he has a hat in 73 frames and vest in 0 frames.\n",
            "Human with id 14 is crossing with no vest in interval 0 min 9 sec - 0 min 15 sec.\n",
            "4 0 {2: [(9, 12), (9, 15)]}\n"
          ]
        }
      ]
    },
    {
      "cell_type": "code",
      "source": [
        "came, left, violations = get_results('/content/drive/MyDrive/Hardhats_vests/tracker_results/19/tracks/19.txt')\n",
        "print(came, left, violations)"
      ],
      "metadata": {
        "colab": {
          "base_uri": "https://localhost:8080/"
        },
        "id": "I1swg6o7IbZ_",
        "outputId": "9e38c185-fb30-42c0-e8e3-9a2164f19678"
      },
      "execution_count": null,
      "outputs": [
        {
          "output_type": "stream",
          "name": "stdout",
          "text": [
            "(0, 1)\n",
            "cntry_min = 273, cntry_max = 387\n",
            "cntry_start = 274, cntry_end = 387\n",
            "Human 1 moved 33% of the frame (vertically)\n",
            "Human 1 came in.\n",
            "[1] []\n",
            "1 people came in\n",
            "0 people left\n",
            "{24: [(1, False, True)], 25: [(1, False, True)], 26: [(1, False, True)], 27: [(1, False, True)], 28: [(1, False, True)], 29: [(1, False, True)], 30: [(1, False, True)], 31: [(1, False, True)], 32: [(1, False, True)], 33: [(1, False, True)], 34: [(1, False, True)], 35: [(1, False, True)], 36: [(1, False, True)], 37: [(1, False, True)], 38: [(1, False, True)], 39: [(1, False, True)], 40: [(1, False, True)], 41: [(1, False, True)], 42: [(1, False, True)], 43: [(1, False, True)], 44: [(1, False, True)], 45: [(1, False, True)], 46: [(1, False, True)], 47: [(1, False, True)], 48: [(1, False, True)], 49: [(1, False, True)], 50: [(1, False, True)], 51: [(1, False, True)], 52: [(1, False, True)], 53: [(1, False, True)], 54: [(1, False, True)], 55: [(1, False, True)], 56: [(1, False, True)], 57: [(1, False, True)], 58: [(1, False, True)], 59: [(1, False, True)], 60: [(1, False, True)], 61: [(1, False, True)], 62: [(1, False, True)], 63: [(1, False, True)], 64: [(1, False, True)], 65: [(1, False, True)], 66: [(1, False, True)], 67: [(1, False, True)], 68: [(1, False, True)], 69: [(1, False, True)], 70: [(1, False, True)], 71: [(1, False, True)], 72: [(1, False, True)], 73: [(1, False, True)], 74: [(1, False, True)], 75: [(1, False, True)], 76: [(1, False, True)], 77: [(1, False, True)], 78: [(1, False, True)], 79: [(1, False, True)], 80: [(1, False, True)], 81: [(1, False, True)], 82: [(1, False, True)], 83: [(1, False, True)], 84: [(1, False, True)], 85: [(1, False, True)], 86: [(1, False, True)], 87: [(1, False, True)], 88: [(1, False, True)], 89: [(1, False, True)], 90: [(1, False, True)], 91: [(1, False, False)], 92: [(1, False, False)]}\n",
            "Human 1 is detected in 69 frames, we detect that he has a hat in 0 frames and vest in 67 frames.\n",
            "Human with id 1 is crossing with no hat in interval 0 min 1 sec - 0 min 7 sec.\n",
            "1 0 {3: [(1, 7)]}\n"
          ]
        }
      ]
    },
    {
      "cell_type": "code",
      "source": [
        "came, left, violations = get_results('/content/drive/MyDrive/Hardhats_vests/tracker_results/20/tracks/20.txt')\n",
        "print(came, left, violations)"
      ],
      "metadata": {
        "colab": {
          "base_uri": "https://localhost:8080/"
        },
        "id": "eU1pY0NgI-4G",
        "outputId": "e74f0769-0168-4bfa-b2a6-accf70906b46"
      },
      "execution_count": null,
      "outputs": [
        {
          "output_type": "stream",
          "name": "stdout",
          "text": [
            "(0, 1)\n",
            "cntry_min = 470, cntry_max = 732\n",
            "cntry_start = 493, cntry_end = 732\n",
            "Human 1 moved 28% of the frame (vertically)\n",
            "Human 1 came in.\n",
            "[1] []\n",
            "1 people came in\n",
            "0 people left\n",
            "{61: [(1, False, False)], 62: [(1, False, False)], 63: [(1, False, False)], 64: [(1, False, False)], 65: [(1, False, False)], 66: [(1, False, False)], 67: [(1, False, False)], 68: [(1, False, False)], 69: [(1, False, False)], 70: [(1, False, False)], 71: [(1, False, False)], 72: [(1, False, False)], 73: [(1, False, False)], 74: [(1, False, False)], 75: [(1, False, False)], 76: [(1, False, False)], 77: [(1, False, False)], 78: [(1, False, False)], 79: [(1, False, False)], 80: [(1, False, False)], 81: [(1, False, False)], 82: [(1, False, False)], 83: [(1, False, False)], 84: [(1, False, False)], 85: [(1, False, False)], 86: [(1, False, False)], 87: [(1, False, False)], 88: [(1, False, False)], 89: [(1, False, False)], 90: [(1, False, False)], 91: [(1, False, False)], 92: [(1, False, False)]}\n",
            "Human 1 is detected in 32 frames, we detect that he has a hat in 0 frames and vest in 0 frames.\n",
            "Human with id 1 is crossing with no hat, no vest in interval 0 min 5 sec - 0 min 7 sec.\n",
            "1 0 {1: [(5, 7)]}\n"
          ]
        }
      ]
    },
    {
      "cell_type": "code",
      "source": [
        "came, left, violations = get_results('/content/drive/MyDrive/Hardhats_vests/tracker_results/21/tracks/21.txt')\n",
        "print(came, left, violations)"
      ],
      "metadata": {
        "colab": {
          "base_uri": "https://localhost:8080/"
        },
        "id": "u74BSo-MJS-E",
        "outputId": "847d1e21-2b9a-40ac-a066-c2e3ca0215b1"
      },
      "execution_count": null,
      "outputs": [
        {
          "output_type": "stream",
          "name": "stdout",
          "text": [
            "(0, 1)\n",
            "cntry_min = 288, cntry_max = 372\n",
            "cntry_start = 290, cntry_end = 349\n",
            "Human 1 moved 24% of the frame (vertically)\n",
            "(0, 5)\n",
            "cntry_min = 379, cntry_max = 396\n",
            "cntry_start = 390, cntry_end = 394\n",
            "Human 5 moved 5% of the frame (vertically)\n",
            "(0, 10)\n",
            "cntry_min = 380, cntry_max = 398\n",
            "cntry_start = 383, cntry_end = 397\n",
            "Human 10 moved 5% of the frame (vertically)\n",
            "(0, 20)\n",
            "cntry_min = 291, cntry_max = 417\n",
            "cntry_start = 417, cntry_end = 291\n",
            "Human 20 moved 37% of the frame (vertically)\n",
            "Human 20 left.\n",
            "[] [20]\n",
            "0 people came in\n",
            "1 people left\n",
            "{44: [(1, False, False)], 45: [(1, False, False)], 46: [(1, False, False)], 47: [(1, False, False)], 48: [(1, False, False)], 49: [(1, False, False)], 50: [(1, False, False)], 51: [(1, False, False)], 52: [(1, False, False)], 53: [(1, False, False)], 54: [(1, False, False)], 55: [(1, False, False)], 56: [(1, False, False)], 57: [(1, False, False)], 58: [(1, False, False)], 59: [(1, False, False)], 60: [(1, False, False)], 61: [(1, False, False)], 62: [(1, False, False)], 63: [(1, False, False)], 64: [(1, False, False)], 65: [(1, False, False)], 66: [(1, False, False)], 67: [(1, False, False)], 68: [(1, False, False)], 69: [(1, False, False)], 70: [(1, False, False)], 71: [(1, False, False)], 72: [(1, False, False)], 73: [(1, False, False)], 74: [(1, False, False)], 75: [(1, False, False)], 76: [(1, False, False)], 77: [(1, False, False)], 78: [(1, False, False)], 79: [(1, False, False)], 80: [(1, False, False)], 81: [(1, False, False)], 82: [(1, False, False)], 83: [(1, False, False)], 87: [(1, False, False)], 88: [(1, False, False)], 89: [(1, False, False)], 90: [(1, False, False)], 91: [(1, False, False)], 92: [(1, False, False)], 93: [(1, False, False)], 94: [(1, False, False)], 95: [(1, False, False)], 96: [(1, False, False)], 97: [(1, False, False)], 98: [(1, False, False)], 99: [(1, False, False)], 100: [(1, False, False)], 101: [(1, False, False)], 102: [(1, False, False)], 103: [(1, False, False)], 104: [(1, False, False)], 105: [(1, False, False)], 106: [(1, False, False)], 107: [(1, False, False)], 108: [(1, False, False)], 109: [(1, False, False)], 110: [(1, False, False)], 111: [(1, False, False)], 112: [(1, False, False)], 113: [(1, False, False)], 114: [(1, False, False)], 115: [(1, False, False)], 116: [(1, False, False)], 117: [(1, False, False)], 118: [(1, False, False)], 119: [(1, False, False)], 120: [(1, False, False)], 121: [(1, False, False)], 122: [(1, False, False)], 123: [(1, False, False)], 124: [(1, False, False)], 125: [(1, False, False)], 126: [(1, False, False)], 127: [(1, False, False)], 128: [(1, False, False)], 129: [(1, False, False)], 130: [(1, False, False)], 131: [(1, False, False)], 132: [(1, False, False)], 133: [(1, False, False)], 134: [(1, False, False)], 135: [(1, False, False)], 136: [(1, False, False)], 137: [(1, False, False)], 138: [(1, False, False)], 139: [(1, False, False)], 140: [(1, False, False)], 141: [(1, False, False)], 142: [(1, False, False)], 143: [(1, False, False)], 144: [(1, False, False)], 145: [(1, False, False)], 146: [(1, False, False)], 147: [(1, False, False)], 148: [(1, False, False)], 149: [(1, False, False)], 150: [(1, False, False)], 151: [(1, False, False)], 152: [(1, False, False)], 153: [(1, False, False)], 154: [(1, False, False)], 155: [(1, False, False)], 156: [(1, False, False)], 157: [(1, False, False)], 158: [(1, False, False)], 159: [(1, False, False)], 160: [(1, False, False)], 161: [(1, False, False)], 162: [(1, False, False)], 163: [(1, False, False)], 164: [(1, False, False)], 165: [(1, False, False)], 166: [(1, False, False)], 167: [(1, False, False)], 168: [(1, False, False)], 169: [(1, False, False)], 170: [(1, False, False)], 171: [(1, False, False)], 172: [(1, False, False)], 173: [(1, False, False)], 174: [(1, False, False)], 175: [(1, False, False)], 176: [(1, False, False)], 177: [(1, False, False)], 178: [(1, False, False)], 179: [(1, False, False)], 180: [(1, False, False)], 181: [(1, False, False)], 182: [(1, False, False)], 183: [(1, False, False)], 184: [(1, False, False)], 185: [(1, False, False)], 186: [(1, False, False)], 187: [(1, False, False)], 188: [(1, False, False)], 189: [(1, False, False)], 190: [(1, False, False)], 191: [(1, False, False)], 192: [(1, False, False)], 193: [(1, False, False)], 194: [(1, False, False)], 195: [(1, False, False)], 196: [(1, False, False)], 197: [(1, False, False)], 198: [(1, False, False)], 199: [(1, False, False)], 200: [(1, False, False)], 201: [(1, False, False)], 202: [(1, False, False)], 203: [(1, False, False)], 204: [(1, False, False)], 205: [(1, False, False)], 206: [(1, False, False)], 207: [(1, False, False)], 208: [(1, False, False)], 209: [(1, False, False)], 210: [(1, False, False)], 211: [(1, False, False)], 212: [(1, False, False)], 213: [(1, False, False)], 216: [(1, False, False)], 217: [(1, False, False)], 218: [(1, False, False)], 219: [(1, False, False)], 220: [(1, False, False)], 221: [(1, False, False)], 222: [(1, False, False)], 223: [(1, False, False)], 224: [(1, False, False)], 225: [(1, False, False)], 226: [(1, False, False)], 227: [(1, False, False)], 228: [(1, False, False)], 229: [(1, False, False)], 230: [(1, False, False)], 231: [(1, False, False)], 232: [(1, False, False)], 233: [(1, False, False)], 234: [(1, False, False)], 235: [(1, False, False)], 236: [(1, False, False)], 237: [(1, False, False)], 238: [(1, False, False)], 239: [(1, False, False)], 240: [(1, False, False)], 241: [(1, False, False)], 242: [(1, False, False)], 243: [(1, False, False)], 244: [(1, False, False)], 245: [(1, False, False)], 246: [(1, False, False)], 247: [(1, False, False)], 248: [(1, False, False)], 249: [(1, False, False)], 250: [(1, False, False)], 251: [(1, False, False)], 252: [(1, False, False)], 253: [(1, False, False)], 254: [(1, False, False)], 255: [(1, False, False)], 256: [(1, False, False)], 257: [(1, False, False)], 258: [(1, False, False)], 259: [(1, False, False)], 260: [(1, False, False)], 261: [(1, False, False)], 262: [(1, False, False)], 263: [(1, False, False)], 264: [(1, False, False)], 265: [(1, False, False)], 266: [(1, False, False)], 267: [(1, False, False)], 268: [(1, False, False)], 269: [(1, False, False)], 270: [(1, False, False)], 271: [(1, False, False)], 272: [(1, False, False)], 273: [(1, False, False)], 274: [(1, False, False)], 275: [(1, False, False)], 276: [(1, False, False)], 277: [(1, False, False)], 278: [(1, False, False)], 279: [(1, False, False)], 280: [(1, False, False)], 281: [(1, False, False)], 282: [(1, False, False)], 283: [(1, False, False)], 284: [(1, False, False)], 285: [(1, False, False)], 286: [(1, False, False)], 287: [(1, False, False)], 288: [(1, False, False)], 289: [(1, False, False)], 290: [(1, False, True)], 291: [(1, False, False)], 292: [(1, False, False)], 293: [(1, False, False)], 294: [(1, False, False)], 295: [(1, False, False)], 296: [(1, False, False)], 297: [(1, False, False)], 298: [(1, False, False)], 299: [(1, False, False)], 300: [(1, False, False)], 301: [(1, False, False)], 302: [(1, False, False)], 303: [(1, False, False)], 304: [(1, False, False)], 305: [(1, False, False)], 306: [(1, False, False)], 307: [(1, False, False)], 308: [(1, False, False)], 309: [(1, False, False)], 310: [(1, False, False)], 311: [(1, False, False)], 312: [(1, False, False)], 313: [(1, False, False)], 314: [(1, False, False)], 315: [(1, False, False)], 316: [(1, False, False)], 317: [(1, False, False)], 318: [(1, False, False)], 319: [(1, False, False)], 320: [(1, False, False)], 321: [(1, False, False)], 322: [(1, False, False)], 323: [(1, False, False)], 324: [(1, False, False)], 325: [(1, False, False)], 326: [(1, False, False)], 327: [(1, False, False)], 328: [(1, False, False)], 329: [(1, False, False)], 330: [(1, False, False)], 331: [(1, False, False)], 332: [(1, False, False)], 333: [(1, False, False)], 334: [(1, False, False), (5, False, False)], 335: [(1, False, False), (5, False, False)], 336: [(1, False, False), (5, False, False)], 337: [(1, False, False), (5, False, False)], 338: [(1, False, False), (5, False, False)], 339: [(1, False, False), (5, False, False)], 340: [(1, False, False), (5, False, False)], 341: [(1, False, False), (5, False, False)], 342: [(1, False, False), (5, False, False)], 343: [(1, False, False), (5, False, False)], 344: [(1, False, False), (5, False, False)], 345: [(1, False, False), (5, False, False)], 346: [(1, False, False), (5, False, False)], 347: [(1, False, False), (5, False, False)], 348: [(1, False, False), (5, False, False)], 349: [(1, False, False), (5, False, False)], 350: [(1, False, False), (5, False, False)], 351: [(1, False, False), (5, False, False)], 352: [(1, False, False), (5, False, False)], 353: [(1, False, False), (5, False, False)], 354: [(1, False, False), (5, False, False)], 355: [(1, False, False), (5, False, False)], 356: [(1, False, False), (5, False, False)], 357: [(1, False, False), (5, False, False)], 358: [(1, False, False), (5, False, False)], 359: [(1, False, False), (5, False, False)], 360: [(1, False, False), (5, False, False)], 361: [(1, False, False), (5, False, False)], 362: [(1, False, False), (5, False, False)], 363: [(1, False, False), (5, False, False)], 364: [(1, False, False), (5, False, False)], 365: [(1, False, False), (5, False, False)], 366: [(1, False, False), (5, False, False)], 367: [(1, False, False), (5, False, False)], 368: [(1, False, False), (5, False, False)], 369: [(1, False, False), (5, False, False)], 370: [(1, False, False)], 371: [(1, False, False)], 372: [(1, False, False)], 373: [(1, False, False)], 374: [(1, False, False)], 375: [(1, False, False)], 376: [(1, False, False)], 377: [(1, False, False)], 378: [(1, False, False)], 379: [(1, False, False)], 380: [(1, False, False)], 381: [(1, False, False)], 382: [(1, False, False)], 383: [(1, False, False)], 384: [(1, False, False)], 385: [(1, False, False)], 386: [(1, False, False)], 387: [(1, False, False)], 388: [(1, False, False)], 389: [(1, False, False)], 390: [(1, False, False)], 391: [(1, False, False)], 392: [(1, False, False)], 393: [(1, False, False)], 394: [(1, False, False)], 395: [(1, False, False)], 396: [(1, False, False)], 397: [(1, False, False)], 398: [(1, False, False)], 399: [(1, False, False)], 400: [(1, False, False)], 401: [(1, False, False)], 402: [(1, False, False)], 403: [(1, False, False)], 404: [(1, False, False)], 405: [(1, False, False)], 406: [(1, False, False)], 407: [(1, False, False)], 408: [(1, False, False)], 409: [(1, False, False)], 410: [(1, False, False)], 411: [(1, False, False)], 412: [(1, False, False)], 413: [(1, False, False)], 414: [(1, False, False)], 415: [(1, False, False)], 416: [(1, False, False)], 417: [(1, False, False)], 418: [(1, False, False)], 419: [(1, False, False)], 420: [(1, False, False)], 421: [(1, False, False)], 422: [(1, False, False)], 423: [(1, False, False)], 424: [(1, False, False)], 425: [(1, False, False)], 426: [(1, False, False)], 427: [(1, False, False)], 428: [(1, False, False)], 429: [(1, False, False)], 430: [(1, False, False)], 431: [(1, False, False)], 432: [(1, False, False)], 433: [(1, False, False)], 434: [(1, False, False)], 435: [(1, False, False)], 436: [(1, False, False)], 437: [(1, False, False)], 438: [(1, False, False)], 439: [(1, False, False)], 440: [(1, False, False)], 441: [(1, False, False)], 442: [(1, False, False)], 443: [(1, False, False)], 444: [(1, False, False)], 445: [(1, False, False)], 446: [(1, False, False)], 447: [(1, False, False)], 448: [(1, False, False)], 449: [(1, False, False)], 450: [(1, False, False)], 451: [(1, False, False)], 452: [(1, False, False)], 453: [(1, False, False)], 454: [(1, False, False)], 455: [(1, False, False)], 456: [(1, False, False)], 457: [(1, False, False)], 458: [(1, False, False)], 459: [(1, False, False)], 460: [(1, False, False)], 461: [(1, False, False)], 462: [(1, False, False)], 463: [(1, False, False)], 464: [(1, False, False)], 465: [(1, False, False)], 466: [(1, False, False)], 467: [(1, False, False)], 468: [(1, False, False)], 469: [(1, False, False)], 470: [(1, False, False)], 471: [(1, False, False)], 472: [(1, False, False)], 473: [(1, False, False)], 474: [(1, False, False)], 475: [(1, False, False)], 476: [(1, False, False)], 477: [(1, False, False)], 478: [(1, False, False)], 479: [(1, False, False)], 480: [(1, False, False)], 481: [(1, False, False)], 482: [(1, False, False)], 483: [(1, False, False)], 484: [(1, False, False)], 485: [(1, False, False)], 486: [(1, False, False)], 487: [(1, False, False)], 488: [(1, False, False)], 489: [(1, False, False)], 490: [(1, False, False)], 491: [(1, False, False)], 492: [(1, False, False)], 493: [(1, False, False)], 494: [(1, False, False)], 495: [(1, False, False)], 496: [(1, False, False)], 497: [(1, False, False)], 498: [(1, False, False)], 499: [(1, False, False)], 500: [(1, False, False)], 501: [(1, False, False)], 502: [(1, False, False)], 503: [(1, False, False)], 504: [(1, False, False)], 505: [(1, False, False)], 506: [(1, False, False)], 507: [(1, False, False)], 508: [(1, False, False)], 509: [(1, False, False)], 510: [(1, False, False)], 511: [(1, False, False)], 512: [(1, False, False)], 513: [(1, False, False)], 514: [(1, False, False)], 515: [(1, False, False)], 516: [(1, False, False)], 517: [(1, False, False)], 518: [(1, False, False)], 519: [(1, False, False)], 520: [(1, False, False)], 521: [(1, False, False)], 522: [(1, False, False)], 523: [(1, False, False)], 524: [(1, False, False)], 525: [(1, False, False)], 526: [(1, False, False)], 527: [(1, False, False)], 528: [(1, False, False)], 529: [(1, False, False)], 530: [(1, False, False)], 531: [(1, False, False)], 532: [(1, False, False)], 533: [(1, False, False)], 534: [(1, False, False)], 535: [(1, False, False)], 536: [(1, False, False)], 537: [(1, False, False)], 538: [(1, False, False)], 539: [(1, False, False)], 540: [(1, False, False)], 541: [(1, False, False)], 542: [(1, False, False)], 543: [(1, False, False)], 544: [(1, False, False)], 545: [(1, False, False)], 546: [(1, False, False)], 547: [(1, False, False)], 548: [(1, False, False)], 549: [(1, False, False)], 550: [(1, False, False)], 551: [(1, False, False)], 552: [(1, False, False)], 553: [(1, False, False)], 554: [(1, False, False)], 555: [(1, False, False), (10, False, False)], 556: [(1, False, False), (10, False, False)], 557: [(1, False, False), (10, False, False)], 558: [(1, False, False), (10, False, False)], 559: [(1, False, False), (10, False, False)], 560: [(1, False, False), (10, False, False)], 561: [(1, False, False), (10, False, False)], 562: [(1, False, False), (10, False, False)], 563: [(1, False, False), (10, False, False)], 564: [(1, False, False), (10, False, False)], 565: [(1, False, False), (10, False, False)], 566: [(1, False, False), (10, False, False)], 567: [(1, False, False)], 568: [(1, False, False)], 569: [(1, False, False)], 570: [(1, False, False), (10, False, False)], 571: [(1, False, False), (10, False, False)], 572: [(1, False, False), (10, False, False)], 573: [(1, False, False), (10, False, False)], 574: [(1, False, False), (10, False, False)], 575: [(1, False, False)], 576: [(1, False, False)], 577: [(1, False, False)], 578: [(1, False, False)], 579: [(1, False, False)], 580: [(1, False, False)], 581: [(1, False, False)], 582: [(1, False, False)], 583: [(1, False, False)], 584: [(1, False, False)], 585: [(1, False, False)], 586: [(1, False, False)], 587: [(1, False, False)], 588: [(1, False, False)], 589: [(1, False, False)], 590: [(1, False, False)], 591: [(1, False, False)], 592: [(1, False, False)], 593: [(1, False, False)], 594: [(1, False, False)], 595: [(1, False, False)], 596: [(1, False, False)], 597: [(1, False, False)], 598: [(1, False, False)], 599: [(1, False, False)], 600: [(1, False, False)], 601: [(1, False, False)], 602: [(1, False, False)], 603: [(1, False, False)], 604: [(1, False, False)], 605: [(1, False, False)], 606: [(1, False, False)], 607: [(1, False, False)], 608: [(1, False, False)], 609: [(1, False, False)], 610: [(1, False, False)], 611: [(1, False, False)], 612: [(1, False, False)], 613: [(1, False, False)], 614: [(1, False, False)], 615: [(1, False, False)], 616: [(1, False, False)], 617: [(1, False, False)], 618: [(1, False, False)], 619: [(1, False, False)], 620: [(1, False, False)], 621: [(1, False, False)], 622: [(1, False, False)], 623: [(1, False, False)], 624: [(1, False, False)], 625: [(1, False, False)], 626: [(1, False, False)], 627: [(1, False, False)], 628: [(1, False, False)], 629: [(1, False, False)], 630: [(1, False, False)], 631: [(1, False, False)], 632: [(1, False, False)], 633: [(1, False, False)], 634: [(1, False, False)], 635: [(1, False, False)], 636: [(1, False, False)], 637: [(1, False, False)], 638: [(1, False, False)], 639: [(1, False, False)], 640: [(1, False, False)], 641: [(1, False, False)], 642: [(1, False, False)], 643: [(1, False, False)], 644: [(1, False, False)], 645: [(1, False, False)], 646: [(1, False, False)], 647: [(1, False, False)], 648: [(1, False, False)], 649: [(1, False, False)], 650: [(1, False, False)], 651: [(1, False, False)], 652: [(1, False, False)], 653: [(1, False, False)], 654: [(1, False, False)], 655: [(1, False, False)], 656: [(1, False, False)], 657: [(1, False, False)], 658: [(1, False, False)], 659: [(1, False, False)], 660: [(1, False, False)], 661: [(1, False, False)], 662: [(1, False, False)], 663: [(1, False, False)], 664: [(1, False, False)], 665: [(1, False, False)], 666: [(1, False, False)], 667: [(1, False, False)], 668: [(1, False, False)], 669: [(1, False, False)], 670: [(1, False, False)], 671: [(1, False, False)], 672: [(1, False, False)], 673: [(1, False, False)], 674: [(1, False, False)], 675: [(1, False, False)], 676: [(1, False, False)], 677: [(1, False, False)], 678: [(1, False, False)], 679: [(1, False, False)], 680: [(1, False, False)], 681: [(1, False, False)], 682: [(1, False, False)], 683: [(1, False, False)], 684: [(1, False, False)], 685: [(1, False, False)], 686: [(1, False, False)], 687: [(1, False, False)], 688: [(1, False, False)], 689: [(1, False, False)], 690: [(1, False, False)], 691: [(1, False, False)], 692: [(1, False, False)], 693: [(1, False, False)], 694: [(1, False, False)], 695: [(1, False, False)], 696: [(1, False, False)], 697: [(1, False, False)], 698: [(1, False, False)], 699: [(1, False, False)], 700: [(1, False, False)], 701: [(1, False, False)], 702: [(1, False, False)], 703: [(1, False, False)], 704: [(1, False, False)], 705: [(1, False, False)], 706: [(1, False, False)], 707: [(1, False, False)], 708: [(1, False, False)], 709: [(1, False, False)], 710: [(1, False, False)], 711: [(1, False, False)], 712: [(1, False, False)], 713: [(1, False, False)], 714: [(1, False, False)], 715: [(1, False, False)], 716: [(1, False, False)], 717: [(1, False, False)], 718: [(1, False, False)], 719: [(1, False, False)], 720: [(1, False, False)], 721: [(1, False, False)], 722: [(1, False, False)], 723: [(1, False, False)], 724: [(1, False, False)], 725: [(1, False, False)], 726: [(1, False, False)], 727: [(1, False, False)], 728: [(1, False, False)], 729: [(1, False, False)], 730: [(1, False, False)], 731: [(1, False, False)], 732: [(1, False, False)], 733: [(1, False, False)], 734: [(1, False, False)], 735: [(1, False, False)], 736: [(1, False, False)], 737: [(1, False, False)], 738: [(1, False, False)], 739: [(1, False, False)], 740: [(1, False, False)], 741: [(1, False, False)], 742: [(1, False, False)], 743: [(1, False, False)], 744: [(1, False, False)], 745: [(1, False, False)], 746: [(1, False, False)], 747: [(1, False, False)], 748: [(1, False, False)], 749: [(1, False, False)], 750: [(1, False, False)], 751: [(1, False, False)], 752: [(1, False, False)], 753: [(1, False, False)], 754: [(1, False, False)], 755: [(1, False, False)], 756: [(1, False, False)], 757: [(1, False, False)], 758: [(1, False, False)], 759: [(1, False, False)], 760: [(1, False, False)], 761: [(1, False, False)], 762: [(1, False, False)], 763: [(1, False, False)], 764: [(1, False, False)], 765: [(1, False, False)], 766: [(1, False, False)], 767: [(1, False, False)], 768: [(1, False, False)], 769: [(1, False, False)], 770: [(1, False, False)], 771: [(1, False, False)], 772: [(1, False, False)], 773: [(1, False, False)], 774: [(1, False, False)], 775: [(1, False, False)], 776: [(1, False, False)], 777: [(1, False, False)], 778: [(1, False, False)], 779: [(1, False, False)], 780: [(1, False, False)], 781: [(1, False, False)], 782: [(1, False, False)], 783: [(1, False, False)], 784: [(1, False, False)], 785: [(1, False, False)], 786: [(1, False, False)], 787: [(1, False, False)], 788: [(1, False, False)], 789: [(1, False, False)], 790: [(1, False, False)], 791: [(1, False, False)], 792: [(1, False, False)], 793: [(1, False, False)], 794: [(1, False, False)], 795: [(1, False, False)], 796: [(1, False, False)], 797: [(1, False, False)], 798: [(1, False, False)], 799: [(1, False, False)], 800: [(1, False, False)], 801: [(1, False, False)], 802: [(1, False, False)], 803: [(1, False, False)], 804: [(1, False, False)], 805: [(1, False, False)], 806: [(1, False, False)], 807: [(1, False, False)], 808: [(1, False, False)], 809: [(1, False, False)], 810: [(1, False, False)], 811: [(1, False, False)], 812: [(1, False, False)], 813: [(1, False, False)], 814: [(1, False, False)], 815: [(1, False, False)], 816: [(1, False, False)], 817: [(1, False, False)], 818: [(1, False, False)], 819: [(1, False, False)], 820: [(1, False, False)], 821: [(1, False, False)], 822: [(1, False, False)], 823: [(1, False, False)], 824: [(1, False, False)], 825: [(1, False, False)], 826: [(1, False, False)], 827: [(1, False, False)], 828: [(1, False, False)], 829: [(1, False, False)], 830: [(1, False, False)], 831: [(1, False, False)], 832: [(1, True, False), (20, True, False)], 833: [(1, True, False), (20, True, False)], 834: [(20, True, False)], 835: [(20, True, False)], 836: [(20, True, False)], 837: [(20, True, False)], 838: [(20, True, False)], 839: [(20, True, False)], 840: [(20, True, False)], 841: [(20, False, False)], 842: [(20, False, False)], 843: [(20, False, False)], 844: [(20, False, False)], 845: [(20, False, False)], 846: [(20, False, False)], 847: [(20, False, False)], 848: [(20, False, False)], 849: [(20, False, False)], 850: [(20, False, False)], 851: [(20, False, False)], 852: [(20, False, False)], 853: [(20, False, False)], 854: [(20, False, False)], 855: [(20, False, False)], 858: [(20, False, False)], 859: [(20, False, False)], 860: [(20, False, False)], 861: [(20, False, False)], 862: [(20, False, False)], 863: [(20, False, False)], 864: [(20, False, False)], 865: [(20, False, False)], 866: [(20, False, False)], 867: [(20, False, False)], 868: [(20, False, False)], 869: [(20, False, False)], 870: [(20, False, False)], 871: [(20, False, False)], 872: [(20, False, False)], 873: [(20, False, False)], 874: [(20, False, False)], 875: [(20, False, False)], 876: [(20, False, False)], 877: [(20, False, False)], 878: [(20, False, False)], 879: [(20, False, False)]}\n",
            "Human 20 is detected in 46 frames, we detect that he has a hat in 9 frames and vest in 0 frames.\n",
            "Human with id 20 is crossing with no hat, no vest in interval 1 min 9 sec - 1 min 13 sec.\n",
            "0 1 {1: [(69, 73)]}\n"
          ]
        }
      ]
    },
    {
      "cell_type": "code",
      "source": [
        "came, left, violations = get_results('/content/drive/MyDrive/Hardhats_vests/tracker_results/22/tracks/22.txt')\n",
        "print(came, left, violations)"
      ],
      "metadata": {
        "colab": {
          "base_uri": "https://localhost:8080/"
        },
        "id": "Ue9FpzerLgtZ",
        "outputId": "54694d43-3925-4950-ea25-b381ba09ae08"
      },
      "execution_count": null,
      "outputs": [
        {
          "output_type": "stream",
          "name": "stdout",
          "text": [
            "(0, 1)\n",
            "cntry_min = 285, cntry_max = 396\n",
            "cntry_start = 396, cntry_end = 296\n",
            "Human 1 moved 32% of the frame (vertically)\n",
            "Human 1 left.\n",
            "(0, 4)\n",
            "cntry_min = 277, cntry_max = 415\n",
            "cntry_start = 415, cntry_end = 280\n",
            "Human 4 moved 40% of the frame (vertically)\n",
            "Human 4 left.\n",
            "(0, 10)\n",
            "cntry_min = 286, cntry_max = 404\n",
            "cntry_start = 402, cntry_end = 288\n",
            "Human 10 moved 34% of the frame (vertically)\n",
            "Human 10 left.\n",
            "[] [1, 4, 10]\n",
            "0 people came in\n",
            "3 people left\n",
            "{51: [(1, False, False)], 52: [(1, False, False)], 53: [(1, False, False)], 54: [(1, False, False)], 55: [(1, False, False)], 56: [(1, False, False)], 57: [(1, False, False)], 58: [(1, False, False)], 59: [(1, False, False)], 60: [(1, False, False)], 61: [(1, False, False)], 62: [(1, False, False)], 63: [(1, False, False)], 64: [(1, False, False)], 65: [(1, False, False)], 66: [(1, False, False)], 67: [(1, False, False)], 68: [(1, False, False)], 69: [(1, False, False)], 70: [(1, False, False)], 71: [(1, False, False)], 72: [(1, False, False)], 73: [(1, False, False)], 74: [(1, False, False)], 75: [(1, False, False)], 76: [(1, False, False)], 77: [(1, False, False)], 78: [(1, False, False)], 79: [(1, False, False)], 80: [(1, False, False)], 81: [(1, False, False)], 82: [(1, False, False)], 83: [(1, False, False)], 84: [(1, False, False)], 85: [(1, False, False)], 86: [(1, False, False)], 87: [(1, False, False)], 88: [(1, False, False)], 89: [(1, False, False), (4, True, False)], 90: [(1, False, True), (4, True, True)], 91: [(1, False, False), (4, True, True)], 92: [(1, False, False), (4, True, True)], 93: [(1, False, False), (4, True, True)], 94: [(1, False, True), (4, True, True)], 95: [(1, False, True), (4, True, True)], 96: [(1, False, True), (4, True, True)], 97: [(1, False, True), (4, True, True)], 98: [(1, False, False), (4, True, True)], 99: [(1, False, False), (4, True, True)], 100: [(1, False, False), (4, True, True)], 101: [(1, False, False), (4, True, True)], 102: [(1, False, False), (4, True, True)], 103: [(1, False, False), (4, True, True)], 104: [(1, False, False), (4, True, True)], 105: [(1, False, False), (4, True, True)], 106: [(1, False, False), (4, True, True)], 107: [(1, False, False), (4, True, True)], 108: [(1, False, False), (4, True, True)], 109: [(1, False, False), (4, True, True)], 110: [(1, False, False), (4, True, True)], 111: [(1, False, False), (4, True, True)], 112: [(1, False, False), (4, True, True)], 113: [(1, False, False), (4, False, True)], 114: [(1, False, False), (4, True, True)], 115: [(4, True, True)], 116: [(4, True, True)], 117: [(4, True, True)], 118: [(4, True, True)], 119: [(4, True, True)], 120: [(4, True, True)], 121: [(4, True, True)], 122: [(4, True, True)], 123: [(4, False, True)], 124: [(4, True, True)], 125: [(4, True, True)], 126: [(4, True, True)], 127: [(4, True, True)], 128: [(4, True, True)], 129: [(4, True, True)], 130: [(4, True, True)], 131: [(4, True, True)], 132: [(4, False, True)], 133: [(4, False, True)], 134: [(4, False, True)], 135: [(4, False, True)], 136: [(4, False, True)], 137: [(4, False, True)], 138: [(4, False, True)], 139: [(4, False, True)], 140: [(4, False, True)], 141: [(4, False, True)], 142: [(4, False, True)], 143: [(4, False, True)], 144: [(4, True, True)], 145: [(4, True, True)], 146: [(4, True, True)], 148: [(4, True, True)], 149: [(4, True, True)], 291: [(4, True, True)], 293: [(10, False, False)], 294: [(10, False, False)], 295: [(10, False, False)], 296: [(10, False, False)], 297: [(10, False, False)], 298: [(10, False, False)], 299: [(10, False, False)], 300: [(10, False, False)], 301: [(10, False, False)], 302: [(10, False, False)], 303: [(10, False, False)], 304: [(10, False, False)], 305: [(10, False, False)], 306: [(10, False, False)], 307: [(10, False, False)], 308: [(10, False, False)], 309: [(10, False, False)], 310: [(10, False, False)], 311: [(10, False, False)], 312: [(10, False, False)], 313: [(10, False, False)], 314: [(10, False, False)], 315: [(10, False, False)], 316: [(10, False, False)], 317: [(10, False, False)], 318: [(10, False, False)], 319: [(10, False, False)], 320: [(10, False, False)], 321: [(10, False, False)], 322: [(10, False, False)], 323: [(10, False, False)], 324: [(10, False, False)], 325: [(10, False, False)], 326: [(10, False, False)], 327: [(10, False, False)], 328: [(10, False, False)], 329: [(10, False, False)], 330: [(10, False, False)], 331: [(10, False, False)], 332: [(10, False, False)], 333: [(10, False, False)], 334: [(10, False, False)], 335: [(10, False, False)], 336: [(10, False, False)], 337: [(10, False, False)], 338: [(10, False, False)], 339: [(10, False, False)], 340: [(10, False, False)], 341: [(10, False, False)], 342: [(10, False, False)], 343: [(10, False, False)], 344: [(10, False, False)], 345: [(10, False, False)], 346: [(10, False, False)], 347: [(10, False, False)]}\n",
            "Human 1 is detected in 64 frames, we detect that he has a hat in 0 frames and vest in 5 frames.\n",
            "Human with id 1 is crossing with no hat, no vest in interval 0 min 4 sec - 0 min 9 sec.\n",
            "Human 4 is detected in 61 frames, we detect that he has a hat in 47 frames and vest in 60 frames.\n",
            "Human 4 is a good human. :-)\n",
            "Human 10 is detected in 55 frames, we detect that he has a hat in 0 frames and vest in 0 frames.\n",
            "Human with id 10 is crossing with no hat, no vest in interval 0 min 24 sec - 0 min 28 sec.\n",
            "0 3 {1: [(4, 9), (24, 28)]}\n"
          ]
        }
      ]
    },
    {
      "cell_type": "code",
      "source": [
        "came, left, violations = get_results('/content/drive/MyDrive/Hardhats_vests/tracker_results/23/tracks/23.txt')\n",
        "print(came, left, violations)"
      ],
      "metadata": {
        "colab": {
          "base_uri": "https://localhost:8080/"
        },
        "id": "B-tZLHPRMAgA",
        "outputId": "61f063b3-0f7f-4439-a96b-9ba378c8a30f"
      },
      "execution_count": null,
      "outputs": [
        {
          "output_type": "stream",
          "name": "stdout",
          "text": [
            "(0, 1)\n",
            "cntry_min = 291, cntry_max = 411\n",
            "cntry_start = 411, cntry_end = 295\n",
            "Human 1 moved 37% of the frame (vertically)\n",
            "Human 1 left.\n",
            "[] [1]\n",
            "0 people came in\n",
            "1 people left\n",
            "{57: [(1, False, False)], 58: [(1, False, False)], 59: [(1, False, False)], 60: [(1, False, False)], 61: [(1, False, False)], 62: [(1, False, False)], 63: [(1, False, False)], 64: [(1, False, False)], 65: [(1, False, False)], 66: [(1, False, False)], 67: [(1, False, False)], 68: [(1, False, False)], 69: [(1, False, False)], 70: [(1, False, False)], 71: [(1, False, False)], 72: [(1, False, False)], 73: [(1, False, False)], 74: [(1, False, False)], 75: [(1, False, False)], 76: [(1, False, False)], 77: [(1, False, False)], 78: [(1, False, False)], 79: [(1, False, False)], 80: [(1, False, False)], 81: [(1, False, False)], 82: [(1, False, False)], 83: [(1, False, False)], 84: [(1, False, False)], 85: [(1, False, False)], 86: [(1, False, False)], 87: [(1, False, False)], 88: [(1, False, False)], 89: [(1, False, False)], 90: [(1, False, False)], 91: [(1, False, False)], 92: [(1, False, False)], 93: [(1, False, False)], 94: [(1, False, False)], 95: [(1, False, False)], 96: [(1, False, False)], 97: [(1, False, False)], 98: [(1, False, False)], 99: [(1, False, False)]}\n",
            "Human 1 is detected in 43 frames, we detect that he has a hat in 0 frames and vest in 0 frames.\n",
            "Human with id 1 is crossing with no hat, no vest in interval 0 min 4 sec - 0 min 8 sec.\n",
            "0 1 {1: [(4, 8)]}\n"
          ]
        }
      ]
    },
    {
      "cell_type": "code",
      "source": [
        "came, left, violations = get_results('/content/drive/MyDrive/Hardhats_vests/tracker_results/24/tracks/24.txt')\n",
        "print(came, left, violations)"
      ],
      "metadata": {
        "colab": {
          "base_uri": "https://localhost:8080/"
        },
        "id": "W5irT-LWMj49",
        "outputId": "a30587b5-db36-4069-c75b-5c939f633104"
      },
      "execution_count": null,
      "outputs": [
        {
          "output_type": "stream",
          "name": "stdout",
          "text": [
            "(0, 1)\n",
            "cntry_min = 292, cntry_max = 445\n",
            "cntry_start = 292, cntry_end = 444\n",
            "Human 1 moved 47% of the frame (vertically)\n",
            "Human 1 came in.\n",
            "[1] []\n",
            "1 people came in\n",
            "0 people left\n",
            "{38: [(1, False, True)], 39: [(1, False, True)], 40: [(1, False, True)], 41: [(1, False, True)], 42: [(1, True, True)], 43: [(1, True, True)], 44: [(1, True, True)], 45: [(1, True, True)], 46: [(1, True, True)], 47: [(1, True, True)], 48: [(1, True, True)], 49: [(1, True, True)], 50: [(1, True, True)], 51: [(1, True, True)], 52: [(1, True, True)], 53: [(1, True, True)], 54: [(1, True, True)], 55: [(1, True, True)], 56: [(1, True, True)], 57: [(1, True, True)], 58: [(1, True, True)], 59: [(1, True, True)], 60: [(1, True, True)], 61: [(1, True, True)], 62: [(1, True, True)], 63: [(1, True, True)], 64: [(1, True, True)], 65: [(1, True, True)], 66: [(1, True, True)], 67: [(1, True, True)], 68: [(1, True, True)], 69: [(1, True, True)], 70: [(1, True, True)], 71: [(1, True, True)], 72: [(1, True, True)], 73: [(1, True, True)], 74: [(1, True, True)], 75: [(1, True, True)], 76: [(1, True, True)], 77: [(1, True, True)], 78: [(1, True, True)], 79: [(1, True, True)], 80: [(1, True, True)], 81: [(1, True, True)], 82: [(1, True, True)], 83: [(1, True, True)], 84: [(1, True, True)], 85: [(1, True, True)], 86: [(1, True, True)], 87: [(1, True, True)], 88: [(1, True, True)], 89: [(1, True, True)], 90: [(1, True, True)], 91: [(1, True, True)], 92: [(1, True, True)], 93: [(1, True, True)], 94: [(1, True, True)], 95: [(1, True, True)], 96: [(1, True, True)], 97: [(1, True, True)], 98: [(1, True, True)], 99: [(1, True, True)], 100: [(1, True, True)], 101: [(1, True, True)], 102: [(1, True, True)], 103: [(1, True, True)], 104: [(1, True, True)], 105: [(1, True, True)], 106: [(1, True, True)], 107: [(1, True, True)], 108: [(1, True, True)], 109: [(1, True, True)], 110: [(1, True, True)], 111: [(1, True, True)], 112: [(1, True, True)], 113: [(1, True, True)], 114: [(1, True, True)], 115: [(1, True, True)], 116: [(1, True, True)], 117: [(1, True, True)], 118: [(1, True, True)], 119: [(1, True, True)], 120: [(1, True, True)], 121: [(1, True, True)], 122: [(1, True, True)], 123: [(1, True, True)], 124: [(1, True, True)], 125: [(1, True, True)], 126: [(1, True, True)], 127: [(1, True, True)], 128: [(1, True, True)], 129: [(1, True, True)], 130: [(1, True, False)], 131: [(1, True, False)], 132: [(1, True, False)], 133: [(1, True, False)], 134: [(1, True, False)], 135: [(1, True, True)], 136: [(1, True, True)], 137: [(1, True, True)], 138: [(1, True, True)], 139: [(1, True, True)], 140: [(1, True, True)], 141: [(1, True, True)], 142: [(1, True, False)], 143: [(1, True, False)], 144: [(1, False, False)], 145: [(1, False, False)], 146: [(1, False, False)], 147: [(1, False, False)], 148: [(1, False, False)], 149: [(1, False, False)], 150: [(1, False, False)], 151: [(1, False, False)], 152: [(1, False, False)], 153: [(1, False, False)], 154: [(1, False, False)], 155: [(1, False, False)], 156: [(1, False, False)]}\n",
            "Human 1 is detected in 119 frames, we detect that he has a hat in 102 frames and vest in 99 frames.\n",
            "Human 1 is a good human. :-)\n",
            "1 0 {}\n"
          ]
        }
      ]
    },
    {
      "cell_type": "code",
      "source": [
        "came, left, violations = get_results('/content/drive/MyDrive/Hardhats_vests/tracker_results/25/tracks/25.txt')\n",
        "print(came, left, violations)"
      ],
      "metadata": {
        "colab": {
          "base_uri": "https://localhost:8080/"
        },
        "id": "nq9rwQaENNuT",
        "outputId": "09d3d336-842d-4188-aeaa-93f1ab11f3ae"
      },
      "execution_count": null,
      "outputs": [
        {
          "output_type": "stream",
          "name": "stdout",
          "text": [
            "(0, 1)\n",
            "cntry_min = 263, cntry_max = 498\n",
            "cntry_start = 263, cntry_end = 498\n",
            "Human 1 moved 39% of the frame (vertically)\n",
            "Human 1 came in.\n",
            "(0, 2)\n",
            "cntry_min = 239, cntry_max = 476\n",
            "cntry_start = 258, cntry_end = 472\n",
            "Human 2 moved 39% of the frame (vertically)\n",
            "Human 2 came in.\n",
            "[1, 2] []\n",
            "2 people came in\n",
            "0 people left\n",
            "{21: [(1, False, False)], 22: [(1, False, False)], 23: [(1, False, False)], 24: [(1, False, False)], 25: [(1, False, False)], 26: [(1, False, False)], 27: [(1, False, False)], 28: [(1, False, False)], 29: [(1, False, False)], 30: [(1, False, False)], 31: [(1, False, False)], 32: [(1, False, False)], 33: [(1, False, False)], 34: [(1, False, False)], 35: [(1, False, False)], 36: [(1, False, False)], 37: [(1, False, False)], 38: [(1, False, False)], 39: [(1, False, False)], 40: [(1, False, False)], 41: [(1, False, False)], 42: [(1, False, False)], 43: [(1, False, False)], 44: [(1, False, False)], 45: [(1, False, False)], 46: [(1, False, False)], 47: [(1, False, False)], 48: [(1, False, False)], 49: [(1, False, False)], 50: [(1, False, False)], 51: [(1, False, False)], 52: [(1, False, False)], 53: [(1, False, False)], 54: [(1, False, False)], 55: [(1, False, False)], 56: [(1, False, False)], 57: [(1, False, False)], 58: [(1, False, False)], 59: [(1, False, False)], 60: [(1, False, False)], 61: [(1, False, False)], 62: [(1, False, False)], 63: [(1, False, False)], 64: [(1, False, False)], 65: [(1, False, False)], 66: [(1, False, False)], 67: [(1, False, False)], 68: [(1, False, False)], 69: [(1, False, False)], 70: [(1, False, False)], 71: [(1, False, False)], 72: [(1, False, False)], 73: [(1, False, False)], 74: [(1, False, False), (2, False, False)], 75: [(1, False, False), (2, False, False)], 76: [(1, False, False), (2, False, False)], 77: [(2, False, False)], 78: [(2, False, False)], 79: [(2, False, False)], 80: [(2, False, False)], 81: [(2, False, False)], 82: [(2, False, False)], 83: [(2, False, False)], 84: [(2, False, False)], 85: [(2, False, False)], 86: [(2, False, False)], 87: [(2, False, False)], 88: [(2, False, False)], 89: [(2, False, False)], 90: [(2, False, False)], 91: [(2, False, False)], 92: [(2, False, False)], 93: [(2, False, False)], 94: [(2, False, False)], 95: [(2, False, False)], 96: [(2, False, False)], 97: [(2, False, False)], 98: [(2, False, False)], 99: [(2, False, False)], 100: [(2, False, False)], 101: [(2, False, False)], 102: [(2, False, False)], 103: [(2, False, False)], 104: [(2, False, False)], 105: [(2, False, False)], 106: [(2, False, False)], 107: [(2, False, False)], 108: [(2, False, False)], 109: [(2, False, False)], 110: [(2, False, False)], 111: [(2, False, False)], 112: [(2, False, False)], 113: [(2, False, False)], 114: [(2, False, False)], 115: [(2, False, False)], 116: [(2, False, False)], 117: [(2, False, False)], 118: [(2, False, False)], 119: [(2, False, False)], 120: [(2, False, False)], 121: [(2, False, False)], 122: [(2, False, False)], 123: [(2, False, False)], 124: [(2, False, False)], 125: [(2, False, False)], 126: [(2, False, False)], 127: [(2, False, False)], 128: [(2, False, False)], 129: [(2, False, False)], 130: [(2, False, False)], 131: [(2, False, False)], 132: [(2, False, False)], 133: [(2, False, False)], 134: [(2, False, False)], 135: [(2, False, False)], 136: [(2, False, False)], 137: [(2, False, False)], 138: [(2, False, False)], 139: [(2, False, False)], 140: [(2, False, False)], 141: [(2, False, False)], 142: [(2, False, False)], 143: [(2, False, False)], 144: [(2, False, False)], 145: [(2, False, False)], 146: [(2, False, False)], 147: [(2, False, False)], 148: [(2, False, False)], 149: [(2, False, False)], 150: [(2, False, False)], 151: [(2, False, False)], 152: [(2, False, False)], 153: [(2, False, False)], 154: [(2, False, False)], 155: [(2, False, False)], 156: [(2, False, False)], 157: [(2, False, False)], 158: [(2, False, False)], 159: [(2, False, False)], 160: [(2, False, False)], 161: [(2, False, False)], 162: [(2, False, False)], 163: [(2, False, False)], 164: [(2, False, False)], 165: [(2, False, False)], 166: [(2, False, False)], 167: [(2, False, False)], 168: [(2, False, False)], 169: [(2, False, False)], 170: [(2, False, False)], 171: [(2, False, False)], 172: [(2, False, False)], 173: [(2, False, False)], 174: [(2, False, False)], 175: [(2, False, False)], 176: [(2, False, False)], 177: [(2, False, False)], 178: [(2, False, False)], 179: [(2, False, False)], 180: [(2, False, False)], 181: [(2, False, False)], 182: [(2, False, False)], 183: [(2, False, False)], 184: [(2, False, False)], 185: [(2, False, False)], 186: [(2, False, False)], 187: [(2, False, False)], 188: [(2, False, False)], 189: [(2, False, False)], 190: [(2, False, False)], 191: [(2, False, False)], 192: [(2, False, False)], 193: [(2, False, False)], 194: [(2, False, False)], 195: [(2, False, False)], 196: [(2, False, False)], 197: [(2, False, False)], 198: [(2, False, False)], 199: [(2, False, False)], 200: [(2, False, False)], 201: [(2, False, False)], 202: [(2, False, False)], 203: [(2, False, False)], 204: [(2, False, False)], 205: [(2, False, False)], 206: [(2, False, False)], 207: [(2, False, False)], 208: [(2, False, False)], 209: [(2, False, False)], 210: [(2, False, False)], 211: [(2, False, False)], 212: [(2, False, False)], 213: [(2, False, False)], 214: [(2, False, False)], 215: [(2, False, False)], 216: [(2, False, False)], 217: [(2, False, False)], 218: [(2, False, False)], 219: [(2, False, False)], 220: [(2, False, False)], 221: [(2, False, False)], 222: [(2, False, False)], 223: [(2, False, False)], 224: [(2, False, False)], 225: [(2, False, False)], 226: [(2, False, False)], 227: [(2, False, False)], 228: [(2, False, False)], 229: [(2, False, False)], 230: [(2, False, False)], 231: [(2, False, False)], 232: [(2, False, False)], 233: [(2, False, False)], 234: [(2, False, False)], 235: [(2, False, False)], 236: [(2, False, False)], 237: [(2, False, False)], 238: [(2, False, False)], 239: [(2, False, False)], 240: [(2, False, False)], 241: [(2, False, False)], 242: [(2, False, False)], 243: [(2, False, False)], 244: [(2, False, False)], 248: [(2, False, False)], 249: [(2, False, False)], 250: [(2, False, False)], 251: [(2, False, False)], 252: [(2, False, False)]}\n",
            "Human 1 is detected in 56 frames, we detect that he has a hat in 0 frames and vest in 0 frames.\n",
            "Human with id 1 is crossing with no hat, no vest in interval 0 min 1 sec - 0 min 6 sec.\n",
            "Human 2 is detected in 176 frames, we detect that he has a hat in 0 frames and vest in 0 frames.\n",
            "Human with id 2 is crossing with no hat, no vest in interval 0 min 6 sec - 0 min 20 sec.\n",
            "2 0 {1: [(1, 6), (6, 20)]}\n"
          ]
        }
      ]
    },
    {
      "cell_type": "code",
      "source": [
        "came, left, violations = get_results('/content/drive/MyDrive/Hardhats_vests/tracker_results/26/tracks/26.txt')\n",
        "print(came, left, violations)"
      ],
      "metadata": {
        "colab": {
          "base_uri": "https://localhost:8080/"
        },
        "id": "eo5oe2BqNkp_",
        "outputId": "fc8f47bd-330d-4890-f548-b135cc2b8daf"
      },
      "execution_count": null,
      "outputs": [
        {
          "output_type": "stream",
          "name": "stdout",
          "text": [
            "(0, 1)\n",
            "cntry_min = 233, cntry_max = 454\n",
            "cntry_start = 454, cntry_end = 233\n",
            "Human 1 moved 36% of the frame (vertically)\n",
            "Human 1 left.\n",
            "[] [1]\n",
            "0 people came in\n",
            "1 people left\n",
            "{75: [(1, False, False)], 76: [(1, False, False)], 77: [(1, False, False)], 78: [(1, False, False)], 79: [(1, False, False)], 80: [(1, False, False)], 81: [(1, False, False)], 82: [(1, False, False)], 83: [(1, False, False)], 84: [(1, False, False)], 85: [(1, False, False)], 86: [(1, False, False)], 87: [(1, False, False)], 88: [(1, False, False)], 89: [(1, False, False)], 90: [(1, False, False)], 91: [(1, False, False)], 92: [(1, False, False)], 93: [(1, False, False)], 94: [(1, False, False)], 95: [(1, False, False)], 96: [(1, False, False)], 97: [(1, False, False)], 98: [(1, False, False)], 99: [(1, False, False)], 100: [(1, False, False)], 101: [(1, False, False)], 102: [(1, False, False)], 103: [(1, False, False)], 104: [(1, False, False)], 105: [(1, False, False)], 106: [(1, False, False)], 107: [(1, False, False)], 108: [(1, False, False)], 109: [(1, False, False)], 110: [(1, False, False)], 111: [(1, False, False)], 112: [(1, False, False)], 113: [(1, False, False)], 114: [(1, False, False)], 115: [(1, False, False)], 116: [(1, False, False)], 117: [(1, False, False)], 118: [(1, False, False)]}\n",
            "Human 1 is detected in 44 frames, we detect that he has a hat in 0 frames and vest in 0 frames.\n",
            "Human with id 1 is crossing with no hat, no vest in interval 0 min 6 sec - 0 min 9 sec.\n",
            "0 1 {1: [(6, 9)]}\n"
          ]
        }
      ]
    },
    {
      "cell_type": "code",
      "source": [
        "came, left, violations = get_results('/content/drive/MyDrive/Hardhats_vests/tracker_results/27/tracks/27.txt')\n",
        "print(came, left, violations)"
      ],
      "metadata": {
        "colab": {
          "base_uri": "https://localhost:8080/"
        },
        "id": "O_KBgoA-N3xW",
        "outputId": "dbe94e94-2fd2-4f89-d7dd-635fa85f80df"
      },
      "execution_count": null,
      "outputs": [
        {
          "output_type": "stream",
          "name": "stdout",
          "text": [
            "(0, 1)\n",
            "cntry_min = 284, cntry_max = 517\n",
            "cntry_start = 284, cntry_end = 517\n",
            "Human 1 moved 39% of the frame (vertically)\n",
            "Human 1 came in.\n",
            "(0, 5)\n",
            "cntry_min = 245, cntry_max = 454\n",
            "cntry_start = 454, cntry_end = 256\n",
            "Human 5 moved 35% of the frame (vertically)\n",
            "Human 5 left.\n",
            "[1] [5]\n",
            "1 people came in\n",
            "1 people left\n",
            "{29: [(1, False, False)], 30: [(1, False, False)], 31: [(1, False, False)], 32: [(1, False, False)], 33: [(1, False, False)], 34: [(1, False, False)], 35: [(1, False, False)], 36: [(1, False, False)], 37: [(1, False, False)], 38: [(1, False, False)], 39: [(1, False, False)], 40: [(1, False, False)], 41: [(1, False, False)], 42: [(1, False, False)], 43: [(1, False, False)], 44: [(1, False, False)], 45: [(1, False, False)], 46: [(1, False, False)], 47: [(1, False, False)], 48: [(1, False, False)], 49: [(1, False, False)], 50: [(1, False, False)], 51: [(1, False, False)], 52: [(1, False, False)], 53: [(1, False, False)], 54: [(1, False, False)], 55: [(1, False, False)], 56: [(1, False, False)], 57: [(1, False, False)], 58: [(1, False, False)], 59: [(1, False, False)], 60: [(1, False, False)], 61: [(1, False, False)], 62: [(1, False, False)], 63: [(1, False, False)], 64: [(1, False, False)], 65: [(1, False, False)], 66: [(1, False, False)], 67: [(1, False, False)], 68: [(1, False, False)], 69: [(1, False, False)], 70: [(1, False, False)], 71: [(1, False, False)], 72: [(1, False, False)], 73: [(1, False, False)], 74: [(1, False, False)], 75: [(1, False, False)], 76: [(1, False, False)], 77: [(1, False, False)], 78: [(1, False, False)], 79: [(1, False, False)], 80: [(1, False, False)], 81: [(1, False, False)], 82: [(1, False, False)], 83: [(1, False, False)], 84: [(1, False, False)], 85: [(1, False, False)], 146: [(1, False, False)], 149: [(5, True, True)], 150: [(5, True, True)], 151: [(5, True, True)], 152: [(5, True, True)], 153: [(5, True, True)], 154: [(5, True, True)], 155: [(5, True, True)], 156: [(5, False, True)], 157: [(5, False, True)], 158: [(5, False, True)], 159: [(5, False, True)], 160: [(5, False, True)], 161: [(5, False, True)], 162: [(5, False, True)], 163: [(5, False, True)], 164: [(5, False, True)], 165: [(5, False, True)], 166: [(5, False, True)], 167: [(5, False, True)], 168: [(5, False, True)], 169: [(5, False, True)], 170: [(5, True, True)], 171: [(5, True, True)], 172: [(5, True, True)], 173: [(5, True, True)], 174: [(5, True, True)], 175: [(5, True, True)], 176: [(5, True, True)], 177: [(5, True, True)], 178: [(5, True, True)], 179: [(5, True, True)], 180: [(5, True, True)], 181: [(5, True, True)], 182: [(5, True, True)], 183: [(5, True, True)], 184: [(5, True, True)], 185: [(5, True, True)], 186: [(5, True, True)], 187: [(5, True, True)], 188: [(5, True, True)], 189: [(5, True, True)], 190: [(5, True, True)], 191: [(5, True, True)], 192: [(5, True, True)], 193: [(5, True, True)], 194: [(5, True, True)], 195: [(5, True, True)], 196: [(5, True, True)], 197: [(5, False, True)], 198: [(5, False, True)], 199: [(5, False, True)], 200: [(5, False, True)], 201: [(5, False, True)], 202: [(5, False, True)], 203: [(5, False, True)], 204: [(5, False, True)], 205: [(5, False, True)], 206: [(5, False, True)], 207: [(5, False, True)], 208: [(5, False, True)], 209: []}\n",
            "Human 1 is detected in 58 frames, we detect that he has a hat in 0 frames and vest in 0 frames.\n",
            "Human with id 1 is crossing with no hat, no vest in interval 0 min 2 sec - 0 min 12 sec.\n",
            "Human 5 is detected in 60 frames, we detect that he has a hat in 34 frames and vest in 60 frames.\n",
            "Human with id 5 is crossing with no hat in interval 0 min 12 sec - 0 min 17 sec.\n",
            "1 1 {1: [(2, 12)], 3: [(12, 17)]}\n"
          ]
        }
      ]
    },
    {
      "cell_type": "code",
      "source": [
        "came, left, violations = get_results('/content/drive/MyDrive/Hardhats_vests/tracker_results/28/tracks/28.txt')\n",
        "print(came, left, violations)"
      ],
      "metadata": {
        "colab": {
          "base_uri": "https://localhost:8080/"
        },
        "id": "m16BNQMQP4iN",
        "outputId": "6b8d5073-1824-4949-dd37-74b6175b6fdc"
      },
      "execution_count": null,
      "outputs": [
        {
          "output_type": "stream",
          "name": "stdout",
          "text": [
            "(0, 1)\n",
            "cntry_min = 284, cntry_max = 517\n",
            "cntry_start = 284, cntry_end = 517\n",
            "Human 1 moved 39% of the frame (vertically)\n",
            "Human 1 came in.\n",
            "(0, 5)\n",
            "cntry_min = 245, cntry_max = 454\n",
            "cntry_start = 454, cntry_end = 256\n",
            "Human 5 moved 35% of the frame (vertically)\n",
            "Human 5 left.\n",
            "[1] [5]\n",
            "1 people came in\n",
            "1 people left\n",
            "{29: [(1, False, False)], 30: [(1, False, False)], 31: [(1, False, False)], 32: [(1, False, False)], 33: [(1, False, False)], 34: [(1, False, False)], 35: [(1, False, False)], 36: [(1, False, False)], 37: [(1, False, False)], 38: [(1, False, False)], 39: [(1, False, False)], 40: [(1, False, False)], 41: [(1, False, False)], 42: [(1, False, False)], 43: [(1, False, False)], 44: [(1, False, False)], 45: [(1, False, False)], 46: [(1, False, False)], 47: [(1, False, False)], 48: [(1, False, False)], 49: [(1, False, False)], 50: [(1, False, False)], 51: [(1, False, False)], 52: [(1, False, False)], 53: [(1, False, False)], 54: [(1, False, False)], 55: [(1, False, False)], 56: [(1, False, False)], 57: [(1, False, False)], 58: [(1, False, False)], 59: [(1, False, False)], 60: [(1, False, False)], 61: [(1, False, False)], 62: [(1, False, False)], 63: [(1, False, False)], 64: [(1, False, False)], 65: [(1, False, False)], 66: [(1, False, False)], 67: [(1, False, False)], 68: [(1, False, False)], 69: [(1, False, False)], 70: [(1, False, False)], 71: [(1, False, False)], 72: [(1, False, False)], 73: [(1, False, False)], 74: [(1, False, False)], 75: [(1, False, False)], 76: [(1, False, False)], 77: [(1, False, False)], 78: [(1, False, False)], 79: [(1, False, False)], 80: [(1, False, False)], 81: [(1, False, False)], 82: [(1, False, False)], 83: [(1, False, False)], 84: [(1, False, False)], 85: [(1, False, False)], 146: [(1, False, False)], 149: [(5, True, True)], 150: [(5, True, True)], 151: [(5, True, True)], 152: [(5, True, True)], 153: [(5, True, True)], 154: [(5, True, True)], 155: [(5, True, True)], 156: [(5, False, True)], 157: [(5, False, True)], 158: [(5, False, True)], 159: [(5, False, True)], 160: [(5, False, True)], 161: [(5, False, True)], 162: [(5, False, True)], 163: [(5, False, True)], 164: [(5, False, True)], 165: [(5, False, True)], 166: [(5, False, True)], 167: [(5, False, True)], 168: [(5, False, True)], 169: [(5, False, True)], 170: [(5, True, True)], 171: [(5, True, True)], 172: [(5, True, True)], 173: [(5, True, True)], 174: [(5, True, True)], 175: [(5, True, True)], 176: [(5, True, True)], 177: [(5, True, True)], 178: [(5, True, True)], 179: [(5, True, True)], 180: [(5, True, True)], 181: [(5, True, True)], 182: [(5, True, True)], 183: [(5, True, True)], 184: [(5, True, True)], 185: [(5, True, True)], 186: [(5, True, True)], 187: [(5, True, True)], 188: [(5, True, True)], 189: [(5, True, True)], 190: [(5, True, True)], 191: [(5, True, True)], 192: [(5, True, True)], 193: [(5, True, True)], 194: [(5, True, True)], 195: [(5, True, True)], 196: [(5, True, True)], 197: [(5, False, True)], 198: [(5, False, True)], 199: [(5, False, True)], 200: [(5, False, True)], 201: [(5, False, True)], 202: [(5, False, True)], 203: [(5, False, True)], 204: [(5, False, True)], 205: [(5, False, True)], 206: [(5, False, True)], 207: [(5, False, True)], 208: [(5, False, True)], 209: []}\n",
            "Human 1 is detected in 58 frames, we detect that he has a hat in 0 frames and vest in 0 frames.\n",
            "Human with id 1 is crossing with no hat, no vest in interval 0 min 2 sec - 0 min 12 sec.\n",
            "Human 5 is detected in 60 frames, we detect that he has a hat in 34 frames and vest in 60 frames.\n",
            "Human with id 5 is crossing with no hat in interval 0 min 12 sec - 0 min 17 sec.\n",
            "1 1 {1: [(2, 12)], 3: [(12, 17)]}\n"
          ]
        }
      ]
    },
    {
      "cell_type": "code",
      "source": [
        "came, left, violations = get_results('/content/drive/MyDrive/Hardhats_vests/tracker_results/29/tracks/29.txt')\n",
        "print(came, left, violations)"
      ],
      "metadata": {
        "colab": {
          "base_uri": "https://localhost:8080/"
        },
        "id": "fDKR7iQJQq76",
        "outputId": "577d919c-5598-4701-ee90-36ebe4db17d2"
      },
      "execution_count": null,
      "outputs": [
        {
          "output_type": "stream",
          "name": "stdout",
          "text": [
            "(0, 2)\n",
            "cntry_min = 261, cntry_max = 569\n",
            "cntry_start = 474, cntry_end = 569\n",
            "Human 2 moved 54% of the frame (vertically)\n",
            "Human 2 left and came back.\n",
            "[2] [2]\n",
            "1 people came in\n",
            "1 people left\n",
            "{33: [(2, False, False)], 34: [(2, False, False)], 35: [(2, False, False)], 36: [(2, False, False)], 37: [(2, False, False)], 38: [(2, False, False)], 39: [(2, False, False)], 40: [(2, False, False)], 41: [(2, False, False)], 42: [(2, False, False)], 43: [(2, False, False)], 44: [(2, False, False)], 45: [(2, False, False)], 46: [(2, False, False)], 47: [(2, False, False)], 48: [(2, False, False)], 49: [(2, False, False)], 50: [(2, False, False)], 51: [(2, False, False)], 52: [(2, False, False)], 53: [(2, False, False)], 54: [(2, False, False)], 55: [(2, False, False)], 56: [(2, False, False)], 57: [(2, False, False)], 58: [(2, False, False)], 59: [(2, False, False)], 60: [(2, False, False)], 66: [(2, False, False)], 67: [(2, False, False)], 68: [(2, False, False)], 69: [(2, False, False)], 70: [(2, False, False)], 71: [(2, False, False)], 72: [(2, False, False)], 73: [(2, False, False)], 74: [(2, False, False)], 75: [(2, False, False)], 76: [(2, False, False)], 77: [(2, False, False)], 80: [(2, False, False)], 81: [(2, False, False)], 82: [(2, False, False)], 83: [(2, False, False)], 84: [(2, False, False)], 85: [(2, False, False)], 86: [(2, False, False)], 87: [(2, False, False)], 96: [(2, False, False)], 97: [(2, False, False)], 104: [(2, False, False)], 105: [(2, False, False)], 106: [(2, False, False)], 107: [(2, False, False)], 108: [(2, False, False)], 109: [(2, False, False)], 110: [(2, False, False)], 111: [(2, False, False)], 112: [(2, False, False)], 113: [(2, False, False)], 114: [(2, False, False)], 115: [(2, False, False)], 116: [(2, False, False)], 117: [(2, False, False)], 118: [(2, False, False)], 119: [(2, False, False)], 120: [(2, False, False)], 121: [(2, False, False)], 122: [(2, False, False)], 123: [(2, False, False)], 124: [(2, False, False)], 125: [(2, False, False)], 126: [(2, False, False)], 127: [(2, False, False)], 150: [(2, False, False)], 151: [(2, False, False)], 152: [(2, False, False)], 153: [(2, False, False)], 154: [(2, False, False)], 155: [(2, False, False)], 156: [(2, False, False)], 157: [(2, False, False)], 158: [(2, False, False)], 159: [(2, False, False)], 160: [(2, False, False)], 161: [(2, False, False)], 162: [(2, False, False)], 163: [(2, False, False)], 164: [(2, False, False)], 165: [(2, False, False)], 166: [(2, False, False)], 167: [(2, False, False)], 168: [(2, False, False)], 169: [(2, False, False)], 170: [(2, False, False)], 171: [(2, False, False)], 172: [(2, False, False)], 173: [(2, False, False)], 174: [(2, False, False)], 175: [(2, False, False)], 176: [(2, False, False)], 177: [(2, False, False)], 178: [(2, False, False)], 179: [(2, False, False)], 180: [(2, False, False)], 181: [(2, False, False)], 182: [(2, False, False)], 183: [(2, False, False)], 186: [(2, False, False)], 187: [(2, False, False)], 188: [(2, False, False)], 189: [(2, False, False)], 190: [(2, False, False)], 191: [(2, False, False)], 192: [(2, False, False)], 193: [(2, False, False)], 202: [(2, False, False)], 203: [(2, False, False)], 204: [(2, False, False)], 205: [(2, False, False)], 209: [(2, False, False)], 210: [(2, False, False)], 211: [(2, False, False)], 212: [(2, False, False)]}\n",
            "Human 2 is detected in 124 frames, we detect that he has a hat in 0 frames and vest in 0 frames.\n",
            "Human with id 2 is crossing with no hat, no vest in interval 0 min 2 sec - 0 min 17 sec.\n",
            "Human 2 is detected in 124 frames, we detect that he has a hat in 0 frames and vest in 0 frames.\n",
            "Human with id 2 is crossing with no hat, no vest in interval 0 min 2 sec - 0 min 17 sec.\n",
            "1 1 {1: [(2, 17), (2, 17)]}\n"
          ]
        }
      ]
    },
    {
      "cell_type": "code",
      "source": [
        "came, left, violations = get_results('/content/drive/MyDrive/Hardhats_vests/tracker_results/30/tracks/30.txt')\n",
        "print(came, left, violations)"
      ],
      "metadata": {
        "colab": {
          "base_uri": "https://localhost:8080/"
        },
        "id": "5hCMl2VLRTBh",
        "outputId": "3986ec29-c242-401f-b1c1-7beb93eee3bc"
      },
      "execution_count": null,
      "outputs": [
        {
          "output_type": "stream",
          "name": "stdout",
          "text": [
            "(0, 1)\n",
            "cntry_min = 262, cntry_max = 486\n",
            "cntry_start = 272, cntry_end = 486\n",
            "Human 1 moved 38% of the frame (vertically)\n",
            "Human 1 came in.\n",
            "(0, 4)\n",
            "cntry_min = 241, cntry_max = 304\n",
            "cntry_start = 278, cntry_end = 259\n",
            "Human 4 moved 10% of the frame (vertically)\n",
            "(0, 6)\n",
            "cntry_min = 518, cntry_max = 520\n",
            "cntry_start = 520, cntry_end = 518\n",
            "Human 6 moved 0% of the frame (vertically)\n",
            "(0, 7)\n",
            "cntry_min = 541, cntry_max = 542\n",
            "cntry_start = 541, cntry_end = 542\n",
            "Human 7 moved 0% of the frame (vertically)\n",
            "(0, 8)\n",
            "cntry_min = 496, cntry_max = 517\n",
            "cntry_start = 501, cntry_end = 517\n",
            "Human 8 moved 3% of the frame (vertically)\n",
            "(0, 9)\n",
            "cntry_min = 463, cntry_max = 520\n",
            "cntry_start = 505, cntry_end = 520\n",
            "Human 9 moved 9% of the frame (vertically)\n",
            "(0, 11)\n",
            "cntry_min = 406, cntry_max = 454\n",
            "cntry_start = 454, cntry_end = 406\n",
            "Human 11 moved 8% of the frame (vertically)\n",
            "(0, 14)\n",
            "cntry_min = 296, cntry_max = 468\n",
            "cntry_start = 468, cntry_end = 296\n",
            "Human 14 moved 29% of the frame (vertically)\n",
            "Human 14 left.\n",
            "(0, 17)\n",
            "cntry_min = 250, cntry_max = 437\n",
            "cntry_start = 437, cntry_end = 250\n",
            "Human 17 moved 32% of the frame (vertically)\n",
            "Human 17 left.\n",
            "(0, 18)\n",
            "cntry_min = 271, cntry_max = 315\n",
            "cntry_start = 282, cntry_end = 279\n",
            "Human 18 moved 7% of the frame (vertically)\n",
            "[1] [14, 17]\n",
            "1 people came in\n",
            "2 people left\n",
            "{3: [(1, False, False)], 4: [(1, False, False)], 5: [(1, False, False)], 6: [(1, False, False)], 7: [(1, False, False)], 8: [(1, False, False)], 9: [(1, False, False)], 10: [(1, False, False)], 11: [(1, False, False)], 12: [(1, False, False)], 13: [(1, False, False)], 14: [(1, False, False)], 15: [(1, False, False)], 16: [(1, False, False)], 17: [(1, False, False)], 18: [(1, False, False)], 19: [(1, False, False)], 20: [(1, False, False)], 21: [(1, False, False)], 22: [(1, False, False)], 23: [(1, False, False)], 24: [(1, False, False)], 25: [(1, False, False)], 26: [(1, False, False)], 27: [(1, False, False)], 28: [(1, False, False)], 29: [(1, False, False)], 30: [(1, False, False)], 31: [(1, False, False)], 32: [(1, False, False)], 33: [(1, False, False)], 34: [(1, False, False)], 35: [(1, False, False)], 36: [(1, False, False)], 37: [(1, False, False)], 38: [(1, False, False)], 39: [(1, False, False)], 40: [(1, False, False)], 41: [(1, False, False)], 42: [(1, False, False)], 43: [(1, False, False)], 44: [(1, False, False)], 45: [(1, False, False)], 46: [(1, False, False)], 47: [(1, False, False)], 48: [(1, False, False)], 49: [(1, False, False)], 50: [(1, False, False)], 51: [(1, False, False)], 52: [(1, False, False)], 53: [(1, False, False)], 54: [(1, False, False)], 55: [(1, False, False)], 56: [(1, False, False)], 57: [(1, False, False)], 58: [(1, False, False)], 59: [(1, False, False)], 60: [(1, False, False)], 61: [(1, False, False)], 62: [(1, False, False)], 63: [(1, False, False)], 64: [(1, False, False)], 65: [(1, False, False)], 66: [(1, False, False)], 67: [(1, False, False)], 68: [(1, False, False)], 69: [(1, False, False)], 70: [(1, False, False)], 71: [(1, False, False)], 72: [(1, False, False)], 73: [(1, False, False)], 74: [(1, False, False)], 75: [(1, False, False)], 76: [(1, False, False)], 77: [(1, False, False)], 78: [(1, False, False)], 79: [(1, False, False)], 80: [(1, False, False)], 81: [(1, False, False)], 82: [(1, False, False)], 83: [(1, False, False)], 84: [(1, False, False)], 85: [(1, False, False)], 86: [(1, False, False)], 87: [(1, False, False)], 88: [(1, False, False)], 89: [(1, False, False)], 90: [(1, False, False)], 91: [(1, False, False)], 92: [(1, False, False)], 93: [(1, False, False)], 94: [(1, False, False)], 95: [(1, False, False)], 96: [(1, False, False)], 97: [(1, False, False)], 98: [(1, False, False)], 99: [(1, False, False)], 100: [(1, False, False)], 101: [(1, False, False)], 102: [(1, False, False)], 103: [(1, False, False)], 104: [(1, False, False)], 105: [(1, False, False)], 106: [(1, False, False)], 107: [(1, False, False)], 108: [(1, False, False)], 109: [(1, False, False)], 110: [(1, False, False)], 111: [(1, False, False)], 112: [(1, False, False)], 113: [(1, False, False)], 114: [(1, False, False)], 115: [(1, False, False)], 116: [(1, False, False)], 117: [(1, False, False)], 118: [(1, False, False)], 119: [(1, False, False)], 120: [(1, False, False)], 121: [(1, False, False)], 122: [(1, False, False)], 123: [(1, False, False)], 124: [(1, False, False)], 125: [(1, False, False)], 126: [(1, False, False)], 127: [(1, False, False)], 128: [(1, False, False)], 129: [(1, False, False)], 130: [(1, False, False)], 131: [(1, False, False)], 132: [(1, False, False)], 133: [(1, False, False)], 134: [(1, False, False)], 135: [(1, False, False)], 136: [(1, False, False)], 137: [(1, False, False)], 138: [(1, False, False)], 139: [(1, False, False)], 140: [(1, False, False)], 141: [(1, False, False)], 142: [(1, False, False)], 143: [(1, False, False)], 144: [(1, False, False)], 145: [(1, False, False)], 146: [(1, False, False)], 147: [(1, False, False)], 148: [(1, False, False)], 149: [(1, False, False)], 150: [(1, False, False)], 151: [(1, False, False)], 152: [(1, False, False)], 153: [(1, False, False)], 154: [(1, False, False)], 155: [(1, False, False)], 156: [(1, False, False)], 157: [(1, False, False)], 158: [(1, False, False)], 159: [(1, False, False)], 160: [(1, False, False)], 161: [(1, False, False)], 162: [(1, False, False)], 163: [(1, False, False)], 164: [(1, False, False)], 165: [(1, False, False)], 166: [(1, False, False)], 167: [(1, False, False)], 168: [(1, False, False)], 169: [(1, False, False)], 170: [(1, False, False)], 171: [(1, False, False)], 172: [(1, False, False)], 173: [(1, False, False)], 174: [(1, False, False)], 175: [(1, False, False)], 176: [(1, False, False)], 177: [(1, False, False)], 178: [(1, False, False)], 179: [(1, False, False)], 180: [(1, False, False)], 181: [(1, False, False)], 182: [(1, False, False)], 183: [(1, False, False)], 184: [(1, False, False)], 185: [(1, False, False)], 186: [(1, False, False)], 187: [(1, False, False)], 188: [(1, False, False)], 189: [(1, False, False)], 190: [(1, False, False)], 191: [(1, False, False)], 192: [(1, False, False)], 193: [(1, False, False)], 194: [(1, False, False)], 195: [(1, False, False)], 196: [(1, False, False)], 197: [(1, False, False)], 198: [(1, False, False)], 199: [(1, False, False)], 200: [(1, False, False)], 201: [(1, False, False)], 202: [(1, False, False)], 203: [(1, False, False)], 204: [(1, False, False)], 205: [(1, False, False)], 206: [(1, False, False)], 207: [(1, False, False)], 208: [(1, False, False)], 209: [(1, False, False)], 210: [(1, False, False)], 211: [(1, False, False)], 212: [(1, False, False)], 213: [(1, False, False)], 214: [(1, False, False)], 215: [(1, False, False)], 216: [(1, False, False)], 217: [(1, False, False)], 218: [(1, False, False)], 219: [(1, False, False)], 220: [(1, False, False)], 221: [(1, False, False)], 222: [(1, False, False)], 223: [(1, False, False)], 224: [(1, False, False)], 225: [(1, False, False)], 226: [(1, False, False)], 227: [(1, False, False)], 228: [(1, False, False)], 229: [(1, False, False)], 230: [(1, False, False)], 231: [(1, False, False)], 232: [(1, False, False)], 233: [(1, False, False)], 234: [(1, False, False)], 235: [(1, False, False)], 236: [(1, False, False)], 237: [(1, False, False)], 238: [(1, False, False)], 239: [(1, False, False)], 240: [(1, False, False)], 241: [(1, False, False)], 242: [(1, False, False)], 243: [(1, False, False)], 244: [(1, False, False)], 245: [(1, False, False)], 246: [(1, False, False)], 247: [(1, False, False)], 248: [(1, False, False)], 249: [(1, False, False)], 250: [(1, False, False)], 251: [(1, False, False)], 252: [(1, False, False)], 253: [(1, False, False)], 254: [(1, False, False)], 255: [(1, False, False)], 256: [(1, False, False)], 257: [(1, False, False)], 258: [(1, False, False)], 259: [(1, False, False)], 260: [(1, False, False)], 261: [(1, False, False)], 262: [(1, False, False)], 263: [(1, False, False)], 264: [(1, False, False)], 265: [(1, False, False)], 266: [(1, False, False)], 267: [(1, False, False)], 268: [(1, False, False)], 269: [(1, False, False)], 270: [(1, False, False)], 271: [(1, False, False)], 272: [(1, False, False)], 273: [(1, False, False)], 274: [(1, False, False)], 275: [(1, False, False)], 276: [(1, False, False)], 277: [(1, False, False)], 278: [(1, False, False)], 279: [(1, False, False)], 280: [(1, False, False)], 281: [(1, False, False)], 282: [(1, False, False)], 283: [(1, False, False)], 284: [(1, False, False)], 285: [(1, False, False)], 286: [(1, False, False)], 287: [(1, False, False)], 288: [(1, False, False)], 289: [(1, False, False)], 290: [(1, False, False)], 291: [(1, False, False)], 292: [(1, False, False)], 293: [(1, False, False)], 294: [(1, False, False)], 295: [(1, False, False)], 296: [(1, False, False)], 297: [(1, False, False)], 298: [(1, False, False)], 299: [(1, False, False)], 300: [(1, False, False)], 301: [(1, False, False)], 302: [(1, False, False)], 303: [(1, False, False)], 304: [(1, False, False)], 305: [(1, False, False)], 306: [(1, False, False)], 307: [(1, False, False)], 308: [(1, False, False)], 309: [(1, False, False)], 310: [(1, False, False)], 311: [(1, False, False)], 312: [(1, False, False)], 313: [(1, False, False)], 314: [(1, False, False)], 315: [(1, False, False)], 316: [(1, False, False)], 317: [(1, False, False)], 318: [(1, False, False)], 319: [(1, False, False)], 320: [(1, False, False)], 321: [(1, False, False)], 322: [(1, False, False)], 323: [(1, False, False)], 324: [(1, False, False)], 325: [(1, False, False)], 326: [(1, False, False)], 327: [(1, False, False)], 328: [(1, False, False)], 329: [(1, False, False)], 330: [(1, False, False)], 331: [(1, False, False)], 332: [(1, False, False)], 333: [(1, False, False)], 334: [(1, False, False)], 335: [(1, False, False)], 336: [(1, False, False)], 337: [(1, False, False)], 338: [(1, False, False)], 339: [(1, False, False)], 340: [(1, False, False)], 341: [(1, False, False)], 342: [(1, False, False)], 343: [(1, False, False)], 344: [(1, False, False)], 345: [(1, False, False)], 346: [(1, False, False)], 347: [(1, False, False)], 348: [(1, False, False)], 349: [(1, False, False)], 350: [(1, False, False)], 351: [(1, False, False)], 352: [(1, False, False)], 353: [(1, False, False)], 354: [(1, False, False)], 355: [(1, False, False)], 356: [(1, False, False)], 357: [(1, False, False)], 358: [(1, False, False)], 359: [(1, False, False)], 360: [(1, False, False)], 361: [(1, False, False)], 362: [(1, False, False)], 363: [(1, False, False)], 364: [(1, False, False)], 365: [(1, False, False)], 366: [(1, False, False)], 367: [(1, False, False)], 368: [(1, False, False)], 369: [(1, False, False)], 370: [(1, False, False)], 371: [(1, False, False)], 372: [(1, False, False)], 373: [(1, False, False)], 374: [(1, False, False)], 375: [(1, False, False)], 376: [(1, False, False)], 377: [(1, False, False)], 378: [(1, False, False)], 379: [(1, False, False)], 380: [(1, False, False)], 381: [(1, False, False)], 382: [(1, False, False)], 383: [(1, False, False)], 384: [(1, False, False)], 385: [(1, False, False)], 386: [(1, False, False)], 387: [(1, False, False)], 388: [(1, False, False)], 389: [(1, False, False)], 390: [(1, False, False)], 391: [(1, False, False)], 392: [(1, False, False)], 393: [(1, False, False)], 394: [(1, False, False)], 395: [(1, False, False)], 396: [(1, False, False)], 397: [(1, False, False)], 398: [(1, False, False)], 399: [(1, False, False)], 400: [(1, False, False)], 401: [(1, False, False)], 402: [(1, False, False)], 403: [(1, False, False)], 404: [(1, False, False)], 405: [(1, False, False)], 406: [(1, False, False)], 407: [(1, False, False)], 408: [(1, False, False)], 409: [(1, False, False)], 410: [(1, False, False)], 411: [(1, False, False)], 412: [(1, False, False)], 413: [(1, False, False)], 414: [(1, False, False)], 415: [(1, False, False)], 416: [(1, False, False)], 417: [(1, False, False)], 418: [(1, False, False)], 419: [(1, False, False)], 420: [(1, False, False)], 421: [(1, False, False)], 422: [(1, False, False)], 423: [(1, False, False)], 424: [(1, False, False)], 425: [(1, False, False)], 426: [(1, False, False)], 427: [(1, False, False)], 428: [(1, False, False)], 429: [(1, False, False)], 430: [(1, False, False)], 431: [(1, False, False)], 432: [(1, False, False)], 433: [(1, False, False)], 434: [(1, False, False)], 435: [(1, False, False)], 436: [(1, False, False)], 437: [(1, False, False)], 438: [(1, False, False)], 439: [(1, False, False)], 440: [(1, False, False)], 441: [(1, False, False)], 442: [(1, False, False)], 443: [(1, False, False)], 444: [(1, False, False)], 445: [(1, False, False)], 446: [(1, False, False)], 447: [(1, False, False)], 448: [(1, False, False)], 449: [(1, False, False)], 450: [(1, False, False)], 451: [(1, False, False)], 452: [(1, False, False)], 453: [(1, False, False)], 454: [(1, False, False)], 455: [(1, False, False)], 456: [(1, False, False)], 457: [(1, False, False)], 458: [(1, False, False)], 459: [(1, False, False)], 460: [(1, False, False)], 461: [(1, False, False)], 462: [(1, False, False)], 463: [(1, False, False)], 464: [(1, False, False)], 465: [(1, False, False)], 466: [(1, False, False)], 467: [(1, False, False)], 468: [(1, False, False)], 469: [(1, False, False)], 470: [(1, False, False)], 471: [(1, False, False)], 472: [(1, False, False)], 473: [(1, False, False)], 474: [(1, False, False)], 475: [(1, False, False)], 476: [(1, False, False)], 477: [(1, False, False)], 478: [(1, False, False)], 479: [(1, False, False)], 480: [(1, False, False)], 481: [(1, False, False)], 482: [(1, False, False)], 483: [(1, False, False)], 484: [(1, False, False)], 485: [(1, False, False)], 486: [(1, False, False)], 487: [(1, False, False)], 488: [(1, False, False)], 489: [(1, False, False)], 490: [(1, False, False)], 491: [(1, False, False)], 492: [(1, False, False)], 493: [(1, False, False)], 494: [(1, False, False)], 495: [(1, False, False)], 496: [(1, False, False)], 497: [(1, False, False)], 498: [(1, False, False)], 499: [(1, False, False)], 500: [(1, False, False)], 501: [(1, False, False)], 502: [(1, False, False)], 503: [(1, False, False)], 504: [(1, False, False)], 505: [(1, False, False)], 506: [(1, False, False)], 507: [(1, False, False)], 508: [(1, False, False)], 509: [(1, False, False)], 510: [(1, False, False)], 511: [(1, False, False)], 512: [(1, False, False)], 513: [(1, False, False)], 514: [(1, False, False)], 516: [(1, False, False)], 517: [(1, False, False)], 518: [(1, False, False)], 520: [(1, False, False)], 521: [(1, False, False)], 522: [(1, False, False)], 523: [(1, False, False)], 524: [(1, False, False)], 525: [(1, False, False)], 526: [(1, False, False)], 527: [(1, False, False)], 528: [(1, False, False)], 529: [(1, False, False)], 530: [(1, False, False)], 531: [(1, False, False)], 532: [(1, False, False)], 533: [(1, False, False)], 534: [(1, False, False)], 535: [(1, False, False)], 536: [(1, False, False)], 537: [(1, False, False)], 538: [(1, False, False)], 539: [(1, False, False)], 540: [(1, False, False)], 541: [(1, False, False)], 542: [(1, False, False)], 543: [(1, False, False)], 544: [(1, False, False)], 545: [(1, False, False)], 546: [(1, False, False)], 547: [(1, False, False)], 548: [(1, False, False)], 549: [(1, False, False)], 550: [(1, False, False)], 551: [(1, False, False)], 552: [(1, False, False)], 553: [(1, False, False)], 554: [(1, False, False)], 555: [(1, False, False)], 556: [(1, False, False)], 557: [(1, False, False)], 558: [(1, False, False)], 559: [(1, False, False)], 560: [(1, False, False)], 561: [(1, False, False)], 562: [(1, False, False)], 563: [(1, False, False)], 564: [(1, False, False)], 565: [(1, False, False)], 566: [(1, False, False)], 567: [(1, False, False)], 568: [(1, False, False)], 569: [(1, False, False)], 570: [(1, False, False)], 571: [(1, False, False)], 572: [(1, False, False)], 573: [(1, False, False)], 574: [(1, False, False)], 575: [(1, False, False)], 576: [(1, False, False)], 577: [(1, False, False)], 578: [(1, False, False)], 579: [(1, False, False)], 580: [(1, False, False)], 581: [(1, False, False)], 582: [(1, False, False)], 583: [(1, False, False)], 584: [(1, False, False)], 585: [(1, False, False)], 586: [(1, False, False)], 587: [(1, False, False)], 588: [(1, False, False)], 589: [(1, False, False)], 590: [(1, False, False)], 591: [(1, False, False)], 592: [(1, False, False)], 593: [(1, False, False)], 594: [(1, False, False)], 595: [(1, False, False)], 596: [(1, False, False)], 597: [(1, False, False)], 598: [(1, False, False)], 599: [(1, False, False)], 600: [(1, False, False)], 601: [(1, False, False)], 602: [(1, False, False)], 603: [(1, False, False)], 604: [(1, False, False)], 605: [(1, False, False)], 606: [(1, False, False)], 607: [(1, False, False)], 608: [(1, False, False)], 609: [(1, False, False)], 610: [(1, False, False)], 611: [(1, False, False)], 612: [(1, False, False)], 613: [(1, False, False)], 614: [(1, False, False)], 615: [(1, False, False)], 616: [(1, False, False)], 617: [(1, False, False)], 618: [(1, False, False)], 619: [(1, False, False)], 620: [(1, False, False)], 621: [(1, False, False)], 622: [(1, False, False)], 623: [(1, False, False)], 624: [(1, False, False)], 625: [(1, False, False)], 626: [(1, False, False)], 627: [(1, False, False)], 628: [(1, False, False)], 629: [(1, False, False)], 630: [(1, False, False)], 631: [(1, False, False)], 632: [(1, False, False)], 633: [(1, False, False)], 634: [(1, False, False)], 635: [(1, False, False)], 636: [(1, False, False)], 637: [(1, False, False)], 638: [(1, False, False)], 639: [(1, False, False)], 640: [(1, False, False)], 641: [(1, False, False)], 642: [(1, False, False)], 643: [(1, False, False)], 644: [(1, False, False)], 645: [(1, False, False)], 646: [(1, False, False)], 647: [(1, False, False)], 648: [(1, False, False)], 649: [(1, False, False)], 650: [(1, False, False)], 651: [(1, False, False)], 652: [(1, False, False)], 653: [(1, False, False)], 654: [(1, False, False)], 655: [(1, False, False)], 656: [(1, False, False)], 657: [(1, False, False)], 658: [(1, False, False)], 659: [(1, False, False)], 660: [(1, False, False)], 661: [(1, False, False)], 662: [(1, False, False)], 663: [(1, False, False)], 664: [(1, False, False)], 665: [(1, False, False)], 666: [(1, False, False)], 667: [(1, False, False)], 668: [(1, False, False)], 669: [(1, False, False)], 670: [(1, False, False)], 671: [(1, False, False)], 672: [(1, False, False)], 673: [(1, False, False)], 674: [(1, False, False)], 675: [(1, False, False)], 676: [(1, False, False)], 677: [(1, False, False)], 678: [(1, False, False)], 679: [(1, False, False)], 680: [(1, False, False)], 681: [(1, False, False)], 682: [(1, False, False)], 683: [(1, False, False)], 684: [(1, False, False)], 685: [(1, False, False)], 686: [(1, False, False)], 687: [(1, False, False)], 688: [(1, False, False)], 689: [(1, False, False)], 690: [(1, False, False)], 691: [(1, False, False)], 692: [(1, False, False)], 693: [(1, False, False)], 694: [(1, False, False)], 695: [(1, False, False)], 696: [(1, False, False)], 697: [(1, False, False)], 698: [(1, False, False)], 699: [(1, False, False)], 700: [(1, False, False)], 701: [(1, False, False)], 702: [(1, False, False)], 703: [(1, False, False)], 704: [(1, False, False)], 705: [(1, False, False)], 706: [(1, False, False)], 707: [(1, False, False)], 708: [(1, False, False)], 709: [(1, False, False)], 710: [(1, False, False)], 711: [(1, False, False)], 712: [(1, False, False)], 713: [(1, False, False)], 714: [(1, False, False)], 715: [(1, False, False)], 716: [(1, False, False)], 717: [(1, False, False)], 718: [(1, False, False)], 719: [(1, False, False)], 720: [(1, False, False)], 721: [(1, False, False)], 722: [(1, False, False)], 723: [(1, False, False)], 724: [(1, False, False)], 725: [(1, False, False)], 726: [(1, False, False)], 727: [(1, False, False)], 728: [(1, False, False)], 729: [(1, False, False)], 730: [(1, False, False)], 731: [(1, False, False)], 732: [(1, False, False)], 733: [(1, False, False)], 734: [(1, False, False)], 735: [(1, False, False)], 736: [(1, False, False)], 737: [(1, False, False)], 738: [(1, False, False)], 739: [(1, False, False)], 740: [(1, False, False)], 741: [(1, False, False)], 742: [(1, False, False)], 743: [(1, False, False)], 744: [(1, False, False)], 745: [(1, False, False)], 746: [(1, False, False)], 747: [(1, False, False)], 748: [(1, False, False)], 749: [(1, False, False)], 750: [(1, False, False)], 751: [(1, False, False)], 752: [(1, False, False)], 753: [(1, False, False)], 754: [(1, False, False)], 755: [(1, False, False)], 756: [(1, False, False)], 757: [(1, False, False)], 758: [(1, False, False)], 759: [(1, False, False)], 760: [(1, False, False)], 761: [(1, False, False)], 762: [(1, False, False)], 763: [(1, False, False)], 764: [(1, False, False)], 765: [(1, False, False)], 766: [(1, False, False)], 767: [(1, False, False)], 768: [(1, False, False)], 769: [(1, False, False)], 770: [(1, False, False)], 771: [(1, False, False)], 772: [(1, False, False)], 773: [(1, False, False)], 774: [(1, False, False)], 775: [(1, False, False)], 776: [(1, False, False)], 777: [(1, False, False)], 778: [(1, False, False)], 779: [(1, False, False)], 780: [(1, False, False)], 781: [(1, False, False)], 782: [(1, False, False)], 783: [(1, False, False)], 784: [(1, False, False)], 785: [(1, False, False)], 786: [(1, False, False)], 787: [(1, False, False)], 788: [(1, False, False)], 789: [(1, False, False)], 790: [(1, False, False)], 791: [(1, False, False)], 792: [(1, False, False)], 793: [(1, False, False)], 794: [(1, False, False)], 795: [(1, False, False)], 796: [(1, False, False)], 797: [(1, False, False)], 798: [(1, False, False)], 799: [(1, False, False)], 800: [(1, False, False)], 801: [(1, False, False)], 802: [(1, False, False)], 803: [(1, False, False)], 804: [(1, False, False)], 805: [(1, False, False)], 806: [(1, False, False)], 807: [(1, False, False)], 808: [(1, False, False)], 809: [(1, False, False)], 810: [(1, False, False)], 811: [(1, False, False)], 812: [(1, False, False)], 813: [(1, False, False)], 815: [(4, False, False)], 816: [(4, False, False)], 817: [(4, False, False)], 818: [(4, False, False)], 819: [(4, False, False)], 820: [(4, False, False)], 821: [(4, False, False)], 822: [(4, False, False)], 823: [(4, False, False)], 824: [(4, False, False)], 825: [(4, False, False)], 826: [(4, False, False)], 827: [(4, False, False)], 828: [(4, False, False)], 829: [(4, False, False)], 830: [(4, False, False)], 831: [(4, False, False)], 832: [(4, False, False)], 833: [(4, False, False)], 834: [(4, False, False), (6, False, False)], 835: [(4, False, False), (6, False, False)], 836: [(4, False, False), (6, False, False)], 837: [(4, False, False)], 838: [(4, False, False), (6, False, False)], 839: [(4, False, False), (6, False, False)], 840: [(4, False, False), (6, False, False)], 841: [(4, False, False)], 842: [(4, False, False)], 843: [(4, False, False)], 844: [(4, False, False)], 845: [(4, False, False)], 846: [(4, False, False)], 847: [(4, False, False)], 848: [(4, False, False)], 849: [(4, False, False)], 850: [(4, False, False)], 851: [(4, False, False)], 852: [(4, False, False)], 853: [(4, False, False)], 854: [(4, False, False)], 855: [(4, False, False)], 856: [(4, False, False)], 857: [(4, False, False)], 870: [(4, False, False)], 871: [(4, False, False)], 872: [(4, False, False)], 873: [(4, False, False)], 874: [(4, False, False)], 875: [(4, False, False)], 876: [(4, False, False)], 877: [(4, False, False)], 878: [(4, False, False)], 879: [(4, False, False)], 880: [(4, False, False)], 881: [(4, False, False)], 882: [(4, False, False)], 883: [(4, False, False)], 884: [(4, False, False)], 885: [(4, False, False)], 886: [(4, False, False)], 887: [(4, False, False)], 888: [(4, False, False)], 889: [(4, False, False)], 890: [(4, False, False)], 891: [(4, False, False)], 892: [(4, False, False)], 893: [(4, False, False)], 894: [(4, False, False)], 895: [(4, False, False)], 896: [(4, False, False)], 897: [(4, False, False)], 898: [(4, False, False)], 899: [(4, False, False)], 900: [(4, False, False)], 901: [(4, False, False)], 902: [(4, False, False)], 903: [(4, False, False)], 904: [(4, False, False)], 905: [(4, False, False)], 906: [(4, False, False)], 907: [(4, False, False)], 908: [(4, False, False)], 909: [(4, False, False)], 910: [(4, False, False)], 911: [(4, False, False)], 912: [(4, False, False)], 913: [(4, False, False)], 914: [(4, False, False)], 915: [(4, False, False)], 916: [(4, False, False)], 917: [(4, False, False)], 918: [(4, False, False)], 919: [(4, False, False)], 920: [(4, False, False), (7, False, False)], 921: [(4, False, False), (7, False, False)], 922: [(4, False, False), (7, False, False)], 923: [(4, False, False)], 924: [(4, False, False)], 925: [(4, False, False), (7, False, False)], 926: [(4, False, False), (7, False, False)], 927: [(4, False, False)], 928: [(4, False, False)], 929: [(4, False, False)], 930: [(4, False, False)], 931: [(4, False, False)], 932: [(4, False, False)], 933: [(4, False, False)], 934: [(4, False, False)], 935: [(4, False, False)], 936: [(4, False, False), (8, False, False)], 937: [(4, False, False), (8, False, False)], 938: [(4, False, False)], 939: [(4, False, False)], 940: [(4, False, False)], 941: [(4, False, False)], 942: [(4, False, False)], 943: [(4, False, False)], 944: [(4, False, False)], 945: [(4, False, False)], 946: [(4, False, False)], 947: [(4, False, False)], 948: [(4, False, False)], 949: [(4, False, False)], 950: [(4, False, False)], 951: [(4, False, False)], 952: [(4, False, False)], 953: [(4, False, False), (8, False, False)], 954: [(4, False, False), (8, False, False)], 955: [(4, False, False), (8, False, False)], 956: [(4, False, False), (8, False, False)], 957: [(4, False, False), (8, False, False)], 958: [(4, False, False), (8, False, False)], 959: [(4, False, False), (8, False, False)], 960: [(4, False, False), (8, False, False)], 961: [(4, False, False), (8, False, False)], 962: [(4, False, False), (8, False, False)], 963: [(4, False, False), (8, False, False)], 964: [(4, False, False), (8, False, False)], 965: [(4, False, False), (8, False, False)], 966: [(4, False, False), (8, False, False)], 967: [(4, False, False), (8, False, False)], 968: [(4, False, False), (8, False, False)], 969: [(4, False, False), (8, False, False)], 970: [(4, False, False), (8, False, False)], 971: [(4, False, False), (8, False, False)], 972: [(4, False, False), (8, False, False)], 973: [(4, False, False), (8, False, False)], 974: [(4, False, False), (8, False, False)], 975: [(4, False, False), (8, False, False)], 976: [(4, False, False), (8, False, False)], 977: [(4, False, False), (8, False, False)], 978: [(4, False, False), (8, False, False)], 979: [(4, False, False), (8, False, False)], 980: [(4, False, False), (8, False, False)], 981: [(4, False, False), (8, False, False)], 982: [(4, False, False), (8, False, False)], 983: [(4, False, False), (8, False, False)], 984: [(4, False, False), (8, False, False)], 985: [(4, False, False), (8, False, False)], 986: [(4, False, False), (8, False, False)], 987: [(4, False, False), (8, False, False)], 988: [(4, False, False), (8, False, False)], 989: [(4, False, False), (8, False, False)], 990: [(4, False, False), (8, False, False)], 991: [(4, False, False), (8, False, False)], 992: [(4, False, False), (8, False, False)], 993: [(4, False, False), (8, False, False)], 994: [(4, False, False), (8, False, False)], 995: [(4, False, False), (8, False, False)], 996: [(4, False, False), (8, False, False)], 997: [(4, False, False), (8, False, False)], 998: [(4, False, False), (8, False, False)], 999: [(4, False, False), (8, False, False)], 1000: [(4, False, False), (8, False, False)], 1001: [(4, False, False), (8, False, False)], 1002: [(4, False, False), (8, False, False)], 1003: [(4, False, False), (8, False, False)], 1004: [(4, False, False), (8, False, False)], 1005: [(4, False, False), (8, False, False)], 1006: [(4, False, False), (8, False, False)], 1007: [(4, False, False), (8, False, False)], 1008: [(4, False, False), (8, False, False)], 1009: [(4, False, False), (8, False, False)], 1010: [(4, False, False), (8, False, False)], 1011: [(4, False, False), (8, False, False)], 1012: [(4, False, False), (8, False, False)], 1013: [(4, False, False), (8, False, False)], 1014: [(4, False, False), (8, False, False)], 1015: [(4, False, False), (8, False, False)], 1016: [(4, False, False), (8, False, False)], 1017: [(4, False, False), (8, False, False)], 1018: [(4, False, False), (8, False, False)], 1019: [(4, False, False), (8, False, False)], 1020: [(4, False, False), (8, False, False)], 1021: [(4, False, False), (8, False, False)], 1022: [(4, False, False), (8, False, False)], 1023: [(4, False, False), (8, False, False)], 1024: [(4, False, False), (8, False, False)], 1025: [(4, False, False), (8, False, False)], 1026: [(4, False, False), (8, False, False)], 1027: [(4, False, False), (8, False, False)], 1028: [(4, False, False), (8, False, False)], 1029: [(4, False, False), (8, False, False)], 1030: [(4, False, False), (8, False, False)], 1031: [(4, False, False), (8, False, False)], 1032: [(4, False, False), (8, False, False)], 1033: [(4, False, False), (8, False, False)], 1034: [(4, False, False), (8, False, False)], 1035: [(4, False, False), (8, False, False)], 1036: [(4, False, False), (8, False, False)], 1037: [(4, False, False), (8, False, False)], 1038: [(4, False, False), (8, False, False)], 1039: [(4, False, False), (8, False, False)], 1040: [(4, False, False), (8, False, False)], 1041: [(4, False, False), (8, False, False)], 1042: [(4, False, False), (8, False, False)], 1043: [(4, False, False), (8, False, False)], 1044: [(4, False, False), (8, False, False)], 1045: [(4, False, False), (8, False, False)], 1046: [(4, False, False), (8, False, False)], 1047: [(4, False, False), (8, False, False)], 1048: [(4, False, False), (8, False, False)], 1049: [(4, False, False), (8, False, False)], 1050: [(4, False, False), (8, False, False)], 1051: [(4, False, False), (8, False, False)], 1052: [(4, False, False), (8, False, False)], 1053: [(4, False, False), (8, False, False)], 1054: [(4, False, False), (8, False, False)], 1055: [(4, False, False), (8, False, False)], 1056: [(4, False, False), (8, False, False)], 1057: [(4, False, False), (8, False, False)], 1058: [(4, False, False), (8, False, False)], 1059: [(4, False, False), (8, False, False)], 1060: [(4, False, False), (8, False, False)], 1061: [(4, False, False), (8, False, False)], 1062: [(4, False, False), (8, False, False)], 1063: [(4, False, False), (8, False, False)], 1064: [(4, False, False), (8, False, False)], 1065: [(4, False, False), (8, False, False)], 1066: [(4, False, False), (8, False, False)], 1067: [(4, False, False), (8, False, False)], 1068: [(4, False, False), (8, False, False)], 1069: [(4, False, False), (8, False, False)], 1070: [(4, False, False), (8, False, False)], 1071: [(4, False, False), (8, False, False)], 1072: [(4, False, False), (8, False, False)], 1073: [(4, False, False), (8, False, False)], 1074: [(4, False, False), (8, False, False)], 1075: [(4, False, False), (8, False, False)], 1076: [(4, False, False), (8, False, False)], 1077: [(4, False, False), (8, False, False)], 1078: [(4, False, False), (8, False, False)], 1079: [(4, False, False), (8, False, False)], 1080: [(4, False, False), (8, False, False)], 1081: [(4, False, False), (8, False, False)], 1082: [(4, False, False), (8, False, False)], 1083: [(4, False, False), (8, False, False)], 1084: [(4, False, False), (8, False, False)], 1085: [(4, False, False), (8, False, False)], 1086: [(4, False, False), (8, False, False)], 1087: [(4, False, False), (8, False, False)], 1088: [(4, False, False), (8, False, False)], 1089: [(4, False, False), (8, False, False)], 1090: [(4, False, False), (8, False, False)], 1091: [(4, False, False), (8, False, False)], 1092: [(4, False, False), (8, False, False)], 1093: [(4, False, False)], 1094: [(4, False, False)], 1095: [(4, False, False)], 1096: [(4, False, False)], 1097: [(4, False, False), (9, False, False)], 1098: [(4, False, False), (9, False, False)], 1099: [(4, False, False), (9, False, False)], 1100: [(4, False, False), (9, False, False)], 1101: [(4, False, False), (9, False, False)], 1102: [(4, False, False), (9, False, False)], 1103: [(4, False, False), (9, False, False)], 1104: [(4, False, False), (9, False, False)], 1105: [(4, False, False), (9, False, False)], 1106: [(4, False, False), (9, False, False)], 1107: [(4, False, False), (9, False, False)], 1108: [(4, False, False), (9, False, False)], 1109: [(4, False, False), (9, False, False)], 1110: [(4, False, False), (9, False, False)], 1111: [(4, False, False), (9, False, False)], 1112: [(4, False, False), (9, False, False)], 1113: [(4, False, False), (9, False, False)], 1114: [(4, False, False), (9, False, False)], 1115: [(4, False, False), (9, False, False)], 1116: [(4, False, False), (9, False, False)], 1117: [(4, False, False), (9, False, False)], 1118: [(4, False, False), (9, False, False)], 1126: [(4, False, False), (9, False, False)], 1127: [(4, False, False)], 1138: [(4, False, False)], 1139: [(4, False, False)], 1140: [(4, False, False)], 1141: [(4, False, False)], 1146: [(4, False, False)], 1147: [(4, False, False)], 1148: [(4, False, False)], 1149: [(4, False, False)], 1150: [(4, False, False)], 1151: [(4, False, False)], 1152: [(4, False, False)], 1153: [(4, False, False)], 1154: [(4, False, False)], 1155: [(4, False, False)], 1156: [(4, False, False)], 1157: [(4, False, False)], 1158: [(4, False, False)], 1159: [(4, False, False)], 1160: [(4, False, False)], 1161: [(4, False, False)], 1162: [(4, False, False)], 1163: [(4, False, False)], 1164: [(4, False, False)], 1165: [(4, False, False)], 1166: [(4, False, False)], 1167: [(4, False, False)], 1168: [(4, False, False)], 1169: [(4, False, False)], 1170: [(4, False, False)], 1171: [(4, False, False), (11, False, False)], 1191: [(11, False, False)], 1197: [(11, False, False)], 1198: [(11, False, False)], 1199: [], 1200: [], 1201: [], 1202: [], 1203: [], 1204: [], 1205: [], 1206: [], 1207: [], 1208: [], 1209: [], 1210: [], 1211: [], 1212: [], 1213: [], 1214: [], 1215: [], 1222: [(14, False, False)], 1223: [(14, False, False)], 1224: [(14, False, False)], 1225: [(14, False, False)], 1226: [(14, False, True)], 1227: [(14, False, True)], 1228: [(14, False, True)], 1229: [(14, False, True)], 1230: [(14, False, True)], 1231: [(14, False, True)], 1232: [(14, False, True)], 1233: [(14, False, True)], 1234: [(14, False, True)], 1235: [(14, False, True)], 1236: [(14, False, True)], 1237: [], 1238: [(14, False, True)], 1239: [(14, False, True)], 1240: [(14, False, True)], 1241: [(14, False, True)], 1242: [(14, False, True)], 1243: [(14, False, True)], 1244: [(14, False, True)], 1245: [], 1246: [], 1247: [(14, False, True)], 1248: [(14, False, True)], 1249: [(14, False, True)], 1250: [(14, False, True)], 1251: [(14, False, True)], 1252: [(14, False, True)], 1253: [], 1254: [], 1255: [], 1256: [], 1257: [], 1258: [], 1259: [], 1260: [], 1261: [], 1262: [(17, False, True)], 1263: [(17, False, True)], 1264: [(17, False, False)], 1269: [(17, False, False)], 1270: [(17, False, False)], 1271: [(17, False, True)], 1272: [(17, False, True)], 1273: [(17, False, True)], 1274: [(17, False, False)], 1275: [(17, False, True)], 1276: [(17, False, True)], 1277: [(17, False, True)], 1278: [(17, False, True)], 1279: [(17, False, True)], 1280: [(17, False, True)], 1281: [(17, False, True)], 1282: [(17, False, True)], 1283: [(17, False, True)], 1284: [(17, False, True)], 1285: [(17, False, True)], 1286: [(17, False, True)], 1287: [(17, False, True)], 1288: [(17, False, True)], 1289: [(17, False, True)], 1290: [(17, False, True)], 1291: [(17, False, True)], 1292: [(17, False, True)], 1293: [(17, False, True)], 1294: [(17, False, True)], 1295: [(17, False, True)], 1296: [(17, False, True)], 1297: [(17, False, True)], 1298: [(17, False, True)], 1299: [(17, False, True)], 1300: [(17, False, True)], 1301: [(17, False, True)], 1302: [], 1303: [], 1305: [(17, False, True)], 1306: [(17, False, True)], 1307: [(17, False, True)], 1331: [], 1333: [(18, False, False)], 1334: [(18, False, False)], 1335: [(18, False, False)], 1336: [(18, False, False)], 1337: [(18, False, False)], 1338: [(18, False, False)], 1375: [(18, False, False)], 1376: [(18, False, False)], 1379: [(18, False, False)], 1380: [(18, False, False)], 1381: [(18, False, False)], 1382: [(18, False, False)], 1383: [(18, False, False)], 1384: [(18, False, False)], 1385: [(18, False, False)], 1386: [(18, False, False)], 1387: [(18, False, False)], 1388: [(18, False, False)], 1389: [(18, False, False)], 1390: [(18, False, False)], 1391: [(18, False, False)], 1392: [(18, False, False)], 1393: [(18, False, False)], 1394: [(18, False, False)], 1395: [(18, False, False)], 1396: [(18, False, False)], 1397: [(18, False, False)], 1398: [(18, False, False)], 1399: [(18, False, False)], 1400: [(18, False, False)], 1401: [(18, False, False)], 1402: [(18, False, False)], 1403: [(18, False, False)], 1404: [(18, False, False)], 1405: [(18, False, False)], 1406: [(18, False, False)], 1407: [(18, False, False)], 1408: [(18, False, False)], 1409: [(18, False, False)], 1410: [(18, False, False)], 1411: [(18, False, False)], 1412: [(18, False, False)], 1413: [(18, False, False)], 1414: [(18, False, False)], 1415: [(18, False, False)], 1416: [(18, False, False)], 1417: [(18, False, False)], 1418: [(18, False, False)], 1419: [(18, False, False)], 1420: [(18, False, False)], 1421: [(18, False, False)], 1422: [(18, False, False)], 1423: [(18, False, False)], 1424: [(18, False, False)], 1425: [(18, False, False)], 1426: [(18, False, False)], 1427: [(18, False, False)], 1428: [(18, False, False)], 1429: [(18, False, False)], 1430: [(18, False, False)], 1431: [(18, False, False)], 1432: [(18, False, False)], 1433: [(18, False, False)], 1434: [(18, False, False)], 1435: [(18, False, False)], 1436: [(18, False, False)], 1437: [(18, False, False)], 1438: [(18, False, False)], 1439: [(18, False, False)], 1440: [(18, False, False)], 1441: [(18, False, False)], 1442: [(18, False, False)], 1443: [(18, False, False)], 1444: [(18, False, False)], 1445: [(18, False, False)], 1447: [(18, False, False)], 1454: [(18, False, False)], 1455: [(18, False, False)], 1456: [(18, False, False)], 1457: [(18, False, False)], 1458: [(18, False, False)], 1459: [(18, False, False)], 1460: [(18, False, False)], 1461: [(18, False, False)], 1462: [(18, False, False)], 1463: [(18, False, False)], 1464: [(18, False, False)], 1465: [(18, False, False)], 1466: [(18, False, False)], 1467: [(18, False, False)], 1468: [(18, False, False)], 1469: [(18, False, False)], 1470: [(18, False, False)], 1471: [(18, False, False)], 1472: [(18, False, False)], 1473: [(18, False, False)], 1474: [(18, False, False)], 1475: [(18, False, False)], 1476: [(18, False, False)], 1477: [(18, False, False)], 1478: [(18, False, False)], 1479: [(18, False, False)], 1480: [(18, False, False)], 1481: [(18, False, False)], 1482: [(18, False, False)], 1483: [(18, False, False)], 1484: [(18, False, False)], 1485: [(18, False, False)], 1486: [(18, False, False)], 1487: [(18, False, False)], 1488: [(18, False, False)], 1489: [(18, False, False)], 1490: [(18, False, False)], 1491: [(18, False, False)], 1492: [(18, False, False)], 1493: [(18, False, False)], 1494: [(18, False, False)], 1495: [(18, False, False)], 1496: [(18, False, False)], 1497: [(18, False, False)], 1498: [(18, False, False)], 1499: [(18, False, False)], 1500: [(18, False, False)], 1501: [(18, False, False)], 1502: [(18, False, False)], 1503: [(18, False, False)], 1504: [(18, False, False)], 1505: [(18, False, False)], 1506: [(18, False, False)], 1507: [(18, False, False)], 1508: [(18, False, False)], 1509: [(18, False, False)], 1510: [(18, False, False)], 1511: [(18, False, False)], 1512: [(18, False, False)], 1513: [(18, False, False)], 1514: [(18, False, False)], 1515: [(18, False, False)], 1516: [(18, False, False)], 1517: [(18, False, False)], 1518: [(18, False, False)], 1519: [(18, False, False)], 1520: [(18, False, False)], 1521: [(18, False, False)], 1522: [(18, False, False)], 1523: [(18, False, False)], 1524: [(18, False, False)], 1525: [(18, False, False)], 1526: [(18, False, False)], 1527: [(18, False, False)], 1528: [(18, False, False)], 1529: [(18, False, False)], 1530: [(18, False, False)], 1531: [(18, False, False)], 1532: [(18, False, False)], 1533: [(18, False, False)], 1534: [(18, False, False)], 1535: [(18, False, False)], 1536: [(18, False, False)], 1537: [(18, False, False)], 1538: [(18, False, False)], 1539: [(18, False, False)], 1540: [(18, False, False)], 1541: [(18, False, False)], 1542: [(18, False, False)], 1543: [(18, False, False)], 1544: [(18, False, False)], 1545: [(18, False, False)], 1546: [(18, False, False)], 1547: [(18, False, False)], 1548: [(18, False, False)], 1549: [(18, False, False)], 1550: [(18, False, False)], 1551: [(18, False, False)], 1552: [(18, False, False)], 1553: [(18, False, False)], 1554: [(18, False, False)], 1555: [(18, False, False)], 1560: [(18, False, False)], 1561: [(18, False, False)], 1562: [(18, False, False)], 1563: [(18, False, False)], 1564: [(18, False, False)], 1565: [(18, False, False)], 1566: [(18, False, False)], 1567: [(18, False, False)], 1568: [(18, False, False)], 1569: [(18, False, False)], 1570: [(18, False, False)], 1571: [(18, False, False)], 1572: [(18, False, False)], 1573: [(18, False, False)], 1574: [(18, False, False)], 1575: [(18, False, False)], 1576: [(18, False, False)], 1577: [(18, False, False)], 1578: [(18, False, False)], 1579: [(18, False, False)], 1580: [(18, False, False)], 1588: [(18, False, False)], 1589: [(18, False, False)], 1590: [(18, False, False)], 1591: [(18, False, False)], 1596: [(18, False, False)], 1597: [(18, False, False)], 1613: [(18, False, False)], 1614: [(18, False, False)], 1615: [(18, False, False)], 1616: [(18, False, False)]}\n",
            "Human 1 is detected in 809 frames, we detect that he has a hat in 0 frames and vest in 0 frames.\n",
            "Human with id 1 is crossing with no hat, no vest in interval 0 min 0 sec - 1 min 7 sec.\n",
            "Human 14 is detected in 28 frames, we detect that he has a hat in 0 frames and vest in 24 frames.\n",
            "Human with id 14 is crossing with no hat in interval 1 min 41 sec - 1 min 44 sec.\n",
            "Human 17 is detected in 39 frames, we detect that he has a hat in 0 frames and vest in 35 frames.\n",
            "Human with id 17 is crossing with no hat in interval 1 min 44 sec - 1 min 48 sec.\n",
            "1 2 {1: [(0, 67)], 3: [(101, 104), (104, 108)]}\n"
          ]
        }
      ]
    },
    {
      "cell_type": "code",
      "source": [
        "came, left, violations = get_results('/content/drive/MyDrive/Hardhats_vests/tracker_results/31/tracks/31.txt')\n",
        "print(came, left, violations)"
      ],
      "metadata": {
        "colab": {
          "base_uri": "https://localhost:8080/"
        },
        "id": "pd-XAYPnUyhN",
        "outputId": "73ae31b2-e744-4e75-9e7a-ce0991e48988"
      },
      "execution_count": null,
      "outputs": [
        {
          "output_type": "stream",
          "name": "stdout",
          "text": [
            "(0, 2)\n",
            "cntry_min = 276, cntry_max = 380\n",
            "cntry_start = 380, cntry_end = 281\n",
            "Human 2 moved 30% of the frame (vertically)\n",
            "Human 2 left.\n",
            "(0, 6)\n",
            "cntry_min = 266, cntry_max = 412\n",
            "cntry_start = 412, cntry_end = 266\n",
            "Human 6 moved 42% of the frame (vertically)\n",
            "Human 6 left.\n",
            "[] [2, 6]\n",
            "0 people came in\n",
            "2 people left\n",
            "{18: [(2, True, True)], 19: [(2, True, True)], 20: [(2, True, True)], 21: [(2, True, True)], 22: [(2, True, True)], 23: [(2, True, True)], 24: [(2, True, True)], 25: [(2, True, True)], 26: [(2, True, True)], 27: [(2, True, True)], 28: [(2, True, True)], 29: [(2, True, True)], 30: [(2, True, True)], 31: [(2, True, True)], 32: [(2, True, True)], 33: [(2, True, True)], 34: [(2, True, True)], 35: [(2, True, True)], 36: [(2, True, True)], 37: [(2, True, True)], 38: [(2, True, True)], 39: [(2, True, True)], 40: [(2, True, True)], 41: [(2, True, True)], 42: [(2, True, True)], 43: [(2, True, True)], 44: [(2, True, True)], 45: [(2, True, True)], 46: [(2, True, True)], 47: [(2, True, True)], 48: [(2, True, True)], 49: [(2, True, True)], 50: [(2, True, True)], 51: [(2, True, True)], 52: [(2, True, True)], 53: [(2, True, True)], 54: [(2, True, True)], 55: [(2, True, True), (6, True, True)], 56: [(2, True, True), (6, True, True)], 57: [(2, True, True), (6, True, True)], 58: [(2, True, True), (6, True, True)], 59: [(2, True, True), (6, True, True)], 60: [(2, True, True), (6, True, True)], 61: [(2, True, True), (6, True, True)], 62: [(2, True, True), (6, True, False)], 63: [(2, True, True), (6, True, False)], 64: [(2, True, True), (6, True, False)], 65: [(2, True, True), (6, True, False)], 66: [(2, True, True), (6, True, True)], 67: [(2, True, True), (6, True, True)], 68: [(2, True, True), (6, True, True)], 69: [(2, True, True), (6, True, True)], 70: [(2, True, True), (6, True, False)], 71: [(2, True, True), (6, True, False)], 72: [(2, True, True), (6, True, False)], 73: [(2, True, True), (6, True, False)], 74: [(2, True, True), (6, True, False)], 75: [(2, True, True), (6, True, False)], 76: [(2, True, True), (6, True, False)], 77: [(2, True, True), (6, True, False)], 78: [(2, True, True), (6, True, False)], 79: [(2, True, True), (6, True, False)], 80: [(2, True, True), (6, True, False)], 81: [(2, True, True), (6, True, False)], 82: [(2, True, True), (6, True, False)], 83: [(2, True, True), (6, True, False)], 84: [(2, True, True), (6, True, False)], 85: [(2, True, True), (6, True, False)], 86: [(2, True, True), (6, True, False)], 87: [(2, True, True), (6, True, False)], 88: [(2, True, True), (6, True, False)], 89: [(2, True, True), (6, True, False)], 90: [(2, True, True), (6, True, False)], 91: [(2, True, True), (6, True, False)], 92: [(2, True, True), (6, True, False)], 93: [(2, True, True), (6, True, False)], 94: [(2, False, True), (6, True, False)], 95: [(2, False, True), (6, True, False)], 96: [(2, False, True), (6, True, False)], 97: [(2, False, True), (6, True, False)], 98: [(2, False, True), (6, True, False)], 99: [(6, True, False)], 100: [(6, True, False)], 101: [(6, True, False)], 102: [(6, False, True)], 103: [(6, True, True)], 104: [(6, True, True)], 105: [(6, True, True)], 106: [(6, True, True)], 107: [(6, True, True)], 108: [(6, True, True)], 109: [(6, True, True)], 110: [(6, True, True)], 111: [(6, True, True)], 112: [(6, True, True)], 113: [(6, True, True)], 114: [(6, True, True)], 115: [(6, True, True)], 116: [(6, True, True)], 117: [(6, True, True)], 118: [(6, True, True)], 119: [(6, True, True)], 120: [(6, True, True)], 121: [(6, True, True)], 122: [(6, True, True)], 123: [(6, True, True)], 124: [(6, True, True)], 125: [(6, True, True)], 126: [(6, True, True)], 127: [(6, True, True)], 128: [(6, True, True)], 129: [(6, False, True)], 130: [(6, False, True)], 131: [(6, False, True)], 132: [(6, False, True)], 133: [(6, False, True)], 134: [(6, False, True)], 135: [(6, False, True)], 136: [(6, True, True)]}\n",
            "Human 2 is detected in 81 frames, we detect that he has a hat in 76 frames and vest in 81 frames.\n",
            "Human 2 is a good human. :-)\n",
            "Human 6 is detected in 82 frames, we detect that he has a hat in 74 frames and vest in 46 frames.\n",
            "Human with id 6 is crossing with no vest in interval 0 min 4 sec - 0 min 11 sec.\n",
            "0 2 {2: [(4, 11)]}\n"
          ]
        }
      ]
    },
    {
      "cell_type": "markdown",
      "source": [
        "Файлы 32.txt, 33.txt, 34.txt, 35.txt, 37.txt, 41.txt, 43.txt не существуют, так как на видео никто не проходит и ничего не детектится.\n",
        "\n",
        "Необходимо либо дописать перехват эксепшена, чибо, что возможно лучше, попробовать вписать весь код в файл track.py из репозитория, тем более что он и так уже модифицирован, дальнейшая интеграция также уберет необходимость отдельного запуска трекера и отдельного запуска функции постобработчика."
      ],
      "metadata": {
        "id": "8maAFW3TW0Rf"
      }
    },
    {
      "cell_type": "code",
      "source": [
        "came, left, violations = get_results('/content/drive/MyDrive/Hardhats_vests/tracker_results/36/tracks/36.txt')\n",
        "print(came, left, violations)"
      ],
      "metadata": {
        "colab": {
          "base_uri": "https://localhost:8080/"
        },
        "id": "r0qoxKLxV9QP",
        "outputId": "92843030-17e7-4025-9e6e-74b1e67bf8fc"
      },
      "execution_count": null,
      "outputs": [
        {
          "output_type": "stream",
          "name": "stdout",
          "text": [
            "(0, 1)\n",
            "cntry_min = 312, cntry_max = 324\n",
            "cntry_start = 324, cntry_end = 313\n",
            "Human 1 moved 4% of the frame (vertically)\n",
            "[] []\n",
            "0 people came in\n",
            "0 people left\n",
            "{3: [(1, False, False)], 4: [(1, False, False)], 5: [(1, False, False)], 6: [(1, False, False)], 7: [(1, False, False)], 8: [(1, False, False)], 9: [(1, False, False)], 10: [(1, False, False)], 11: [(1, False, False)], 12: [(1, False, False)], 13: [(1, False, False)], 14: [(1, False, False)], 15: [(1, False, False)], 16: [(1, False, False)], 17: [(1, False, False)], 18: [(1, False, False)], 19: [(1, False, False)], 20: [(1, False, False)], 21: [(1, False, False)], 22: [(1, False, False)], 23: [(1, False, False)], 24: [(1, False, False)], 25: [(1, False, False)], 26: [(1, False, False)], 27: [(1, False, False)], 28: [(1, False, False)], 29: [(1, False, False)], 30: [(1, False, False)], 31: [(1, False, False)], 32: [(1, False, False)], 33: [(1, False, False)], 34: [(1, False, False)], 35: [(1, False, False)], 36: [(1, False, False)], 37: [(1, False, False)], 38: [(1, False, False)], 39: [(1, False, False)], 40: [(1, False, False)], 41: [(1, False, False)], 42: [(1, False, False)], 43: [(1, False, False)], 44: [(1, False, False)], 45: [(1, False, False)], 46: [(1, False, False)], 47: [(1, False, False)], 48: [(1, False, False)], 49: [(1, False, False)], 50: [(1, False, False)], 51: [(1, False, False)], 52: [(1, False, False)], 53: [(1, False, False)], 54: [(1, False, False)], 55: [(1, False, False)], 56: [(1, False, False)], 57: [(1, False, False)], 58: [(1, False, False)], 59: [(1, False, False)], 60: [(1, False, False)], 61: [(1, False, False)], 62: [(1, False, False)], 63: [(1, False, False)], 64: [(1, False, False)], 65: [(1, False, False)], 66: [(1, False, False)], 67: [(1, False, False)], 68: [(1, False, False)], 69: [(1, False, False)], 70: [(1, False, False)], 71: [(1, False, False)], 72: [(1, False, False)], 73: [(1, False, False)], 74: [(1, False, False)], 75: [(1, False, False)], 76: [(1, False, False)], 77: [(1, False, False)], 78: [(1, False, False)], 79: [(1, False, False)], 80: [(1, False, False)], 81: [(1, False, False)], 82: [(1, False, False)], 83: [(1, False, False)], 84: [(1, False, False)], 85: [(1, False, False)], 86: [(1, False, False)], 87: [(1, False, False)], 88: [(1, False, False)], 89: [(1, False, False)], 90: [(1, False, False)], 91: [(1, False, False)], 92: [(1, False, False)], 93: [(1, False, False)], 94: [(1, False, False)], 95: [(1, False, False)], 96: [(1, False, False)], 97: [(1, False, False)], 98: [(1, False, False)], 99: [(1, False, False)], 100: [(1, False, False)], 101: [(1, False, False)], 102: [(1, False, False)], 103: [(1, False, False)], 104: [(1, False, False)], 105: [(1, False, False)], 106: [(1, False, False)], 107: [(1, False, False)], 108: [(1, False, False)], 109: [(1, False, False)], 110: [(1, False, False)], 111: [(1, False, False)], 112: [(1, False, False)], 113: [(1, False, False)], 114: [(1, False, False)], 115: [(1, False, False)], 116: [(1, False, False)], 117: [(1, False, False)], 118: [(1, False, False)], 119: [(1, False, False)], 120: [(1, False, False)], 121: [(1, False, False)], 122: [(1, False, False)], 123: [(1, False, False)], 124: [(1, False, False)], 125: [(1, False, False)], 126: [(1, False, False)], 127: [(1, False, False)], 128: [(1, False, False)], 129: [(1, False, False)], 130: [(1, False, False)], 131: [(1, False, False)], 132: [(1, False, False)], 133: [(1, False, False)], 134: [(1, False, False)], 135: [(1, False, False)], 136: [(1, False, False)], 137: [(1, False, False)], 138: [(1, False, False)], 139: [(1, False, False)], 140: [(1, False, False)], 141: [(1, False, False)], 142: [(1, False, False)], 143: [(1, False, False)], 144: [(1, False, False)], 145: [(1, False, False)], 146: [(1, False, False)], 147: [(1, False, False)], 148: [(1, False, False)], 149: [(1, False, False)]}\n",
            "0 0 {}\n"
          ]
        }
      ]
    },
    {
      "cell_type": "code",
      "source": [
        "came, left, violations = get_results('/content/drive/MyDrive/Hardhats_vests/tracker_results/38/tracks/38.txt')\n",
        "print(came, left, violations)"
      ],
      "metadata": {
        "colab": {
          "base_uri": "https://localhost:8080/"
        },
        "id": "QHDbElI_ZO00",
        "outputId": "d441b866-31ca-4afa-b061-cc9840d5c00b"
      },
      "execution_count": null,
      "outputs": [
        {
          "output_type": "stream",
          "name": "stdout",
          "text": [
            "(0, 1)\n",
            "cntry_min = 295, cntry_max = 390\n",
            "cntry_start = 299, cntry_end = 390\n",
            "Human 1 moved 26% of the frame (vertically)\n",
            "Human 1 came in.\n",
            "(0, 2)\n",
            "cntry_min = 289, cntry_max = 372\n",
            "cntry_start = 291, cntry_end = 349\n",
            "Human 2 moved 23% of the frame (vertically)\n",
            "(0, 4)\n",
            "cntry_min = 379, cntry_max = 396\n",
            "cntry_start = 390, cntry_end = 394\n",
            "Human 4 moved 4% of the frame (vertically)\n",
            "(0, 7)\n",
            "cntry_min = 379, cntry_max = 399\n",
            "cntry_start = 394, cntry_end = 397\n",
            "Human 7 moved 5% of the frame (vertically)\n",
            "(0, 16)\n",
            "cntry_min = 287, cntry_max = 419\n",
            "cntry_start = 419, cntry_end = 287\n",
            "Human 16 moved 37% of the frame (vertically)\n",
            "Human 16 left.\n",
            "(0, 18)\n",
            "cntry_min = 286, cntry_max = 396\n",
            "cntry_start = 396, cntry_end = 296\n",
            "Human 18 moved 31% of the frame (vertically)\n",
            "Human 18 left.\n",
            "(0, 21)\n",
            "cntry_min = 277, cntry_max = 415\n",
            "cntry_start = 415, cntry_end = 281\n",
            "Human 21 moved 39% of the frame (vertically)\n",
            "Human 21 left.\n",
            "(0, 26)\n",
            "cntry_min = 285, cntry_max = 404\n",
            "cntry_start = 402, cntry_end = 285\n",
            "Human 26 moved 33% of the frame (vertically)\n",
            "Human 26 left.\n",
            "(0, 27)\n",
            "cntry_min = 290, cntry_max = 451\n",
            "cntry_start = 411, cntry_end = 451\n",
            "Human 27 moved 45% of the frame (vertically)\n",
            "Human 27 left and came back.\n",
            "(0, 34)\n",
            "cntry_min = 290, cntry_max = 421\n",
            "cntry_start = 290, cntry_end = 421\n",
            "Human 34 moved 37% of the frame (vertically)\n",
            "Human 34 came in.\n",
            "(0, 36)\n",
            "cntry_min = 283, cntry_max = 427\n",
            "cntry_start = 283, cntry_end = 427\n",
            "Human 36 moved 40% of the frame (vertically)\n",
            "Human 36 came in.\n",
            "(0, 37)\n",
            "cntry_min = 390, cntry_max = 390\n",
            "cntry_start = 390, cntry_end = 390\n",
            "Human 37 moved 0% of the frame (vertically)\n",
            "(0, 41)\n",
            "cntry_min = 276, cntry_max = 419\n",
            "cntry_start = 385, cntry_end = 419\n",
            "Human 41 moved 40% of the frame (vertically)\n",
            "Human 41 left and came back.\n",
            "(0, 42)\n",
            "cntry_min = 278, cntry_max = 436\n",
            "cntry_start = 302, cntry_end = 436\n",
            "Human 42 moved 44% of the frame (vertically)\n",
            "Human 42 came in.\n",
            "[1, 27, 34, 36, 41, 42] [16, 18, 21, 26, 27, 41]\n",
            "6 people came in\n",
            "6 people left\n",
            "{74: [(1, False, False)], 75: [(1, False, False)], 76: [(1, False, False)], 77: [(1, False, False)], 78: [(1, False, False)], 79: [(1, False, False)], 80: [(1, False, False)], 81: [(1, False, False)], 82: [(1, False, False)], 83: [(1, False, False)], 84: [(1, False, False)], 85: [(1, False, False)], 86: [(1, False, False)], 87: [(1, False, False)], 88: [(1, False, False)], 89: [(1, False, False)], 90: [(1, False, False)], 91: [(1, False, False)], 92: [(1, False, False)], 93: [(1, False, False)], 94: [(1, False, False)], 95: [(1, False, False)], 96: [(1, False, False)], 97: [(1, False, False)], 98: [(1, False, False)], 99: [(1, False, False)], 100: [(1, False, False)], 101: [(1, False, False)], 102: [(1, False, False)], 103: [(1, False, False)], 104: [(1, False, False)], 105: [(1, False, False)], 106: [(1, False, False)], 107: [(1, False, False)], 108: [(1, False, False)], 109: [(1, False, False)], 110: [(1, False, False)], 111: [(1, False, False)], 112: [(1, False, False)], 113: [(1, False, False)], 114: [(1, False, False)], 115: [(1, False, False)], 116: [(1, False, False)], 223: [(1, False, False)], 225: [(2, False, False)], 226: [(2, False, False)], 227: [(2, False, False)], 228: [(2, False, False)], 229: [(2, False, False)], 230: [(2, False, False)], 231: [(2, False, False)], 232: [(2, False, False)], 233: [(2, False, False)], 234: [(2, False, False)], 235: [(2, False, False)], 236: [(2, False, False)], 237: [(2, False, False)], 238: [(2, False, False)], 239: [(2, False, False)], 240: [(2, False, False)], 241: [(2, False, False)], 242: [(2, False, False)], 243: [(2, False, False)], 244: [(2, False, False)], 245: [(2, False, False)], 246: [(2, False, False)], 247: [(2, False, False)], 248: [(2, False, False)], 249: [(2, False, False)], 250: [(2, False, False)], 251: [(2, False, False)], 252: [(2, False, False)], 253: [(2, False, False)], 254: [(2, False, False)], 255: [(2, False, False)], 256: [(2, False, False)], 257: [(2, False, False)], 258: [(2, False, False)], 259: [(2, False, False)], 260: [(2, False, False)], 261: [(2, False, False)], 262: [(2, False, False)], 263: [(2, False, False)], 268: [(2, False, False)], 269: [(2, False, False)], 270: [(2, False, False)], 271: [(2, False, False)], 272: [(2, False, False)], 273: [(2, False, False)], 274: [(2, False, False)], 275: [(2, False, False)], 276: [(2, False, False)], 277: [(2, False, False)], 278: [(2, False, False)], 279: [(2, False, False)], 280: [(2, False, False)], 281: [(2, False, False)], 282: [(2, False, False)], 283: [(2, False, False)], 284: [(2, False, False)], 285: [(2, False, False)], 286: [(2, False, False)], 287: [(2, False, False)], 288: [(2, False, False)], 289: [(2, False, False)], 290: [(2, False, False)], 291: [(2, False, False)], 292: [(2, False, False)], 293: [(2, False, False)], 294: [(2, False, False)], 295: [(2, False, False)], 296: [(2, False, False)], 297: [(2, False, False)], 298: [(2, False, False)], 299: [(2, False, False)], 300: [(2, False, False)], 301: [(2, False, False)], 302: [(2, False, False)], 303: [(2, False, False)], 304: [(2, False, False)], 305: [(2, False, False)], 306: [(2, False, False)], 307: [(2, False, False)], 308: [(2, False, False)], 309: [(2, False, False)], 310: [(2, False, False)], 311: [(2, False, False)], 312: [(2, False, False)], 313: [(2, False, False)], 314: [(2, False, False)], 315: [(2, False, False)], 316: [(2, False, False)], 317: [(2, False, False)], 318: [(2, False, False)], 319: [(2, False, False)], 320: [(2, False, False)], 321: [(2, False, False)], 322: [(2, False, False)], 323: [(2, False, False)], 324: [(2, False, False)], 325: [(2, False, False)], 326: [(2, False, False)], 327: [(2, False, False)], 328: [(2, False, False)], 329: [(2, False, False)], 330: [(2, False, False)], 331: [(2, False, False)], 332: [(2, False, False)], 333: [(2, False, False)], 334: [(2, False, False)], 335: [(2, False, False)], 336: [(2, False, False)], 337: [(2, False, False)], 338: [(2, False, False)], 339: [(2, False, False)], 340: [(2, False, False)], 341: [(2, False, False)], 342: [(2, False, False)], 343: [(2, False, False)], 344: [(2, False, False)], 345: [(2, False, False)], 346: [(2, False, False)], 347: [(2, False, False)], 348: [(2, False, False)], 349: [(2, False, False)], 350: [(2, False, False)], 351: [(2, False, False)], 352: [(2, False, False)], 353: [(2, False, False)], 354: [(2, False, False)], 355: [(2, False, False)], 356: [(2, False, False)], 357: [(2, False, False)], 358: [(2, False, False)], 359: [(2, False, False)], 360: [(2, False, False)], 361: [(2, False, False)], 362: [(2, False, False)], 363: [(2, False, False)], 364: [(2, False, False)], 365: [(2, False, False)], 366: [(2, False, False)], 367: [(2, False, False)], 368: [(2, False, False)], 369: [(2, False, False)], 370: [(2, False, False)], 371: [(2, False, False)], 372: [(2, False, False)], 373: [(2, False, False)], 374: [(2, False, False)], 375: [(2, False, False)], 376: [(2, False, False)], 377: [(2, False, False)], 378: [(2, False, False)], 379: [(2, False, False)], 380: [(2, False, False)], 381: [(2, False, False)], 382: [(2, False, False)], 383: [(2, False, False)], 384: [(2, False, False)], 385: [(2, False, False)], 386: [(2, False, False)], 387: [(2, False, False)], 388: [(2, False, False)], 389: [(2, False, False)], 390: [(2, False, False)], 391: [(2, False, False)], 392: [(2, False, False)], 393: [(2, False, False)], 394: [(2, False, False)], 397: [(2, False, False)], 398: [(2, False, False)], 399: [(2, False, False)], 400: [(2, False, False)], 401: [(2, False, False)], 402: [(2, False, False)], 403: [(2, False, False)], 404: [(2, False, False)], 405: [(2, False, False)], 406: [(2, False, False)], 407: [(2, False, False)], 408: [(2, False, False)], 409: [(2, False, False)], 410: [(2, False, False)], 411: [(2, False, False)], 412: [(2, False, False)], 413: [(2, False, False)], 414: [(2, False, False)], 415: [(2, False, False)], 416: [(2, False, False)], 417: [(2, False, False)], 418: [(2, False, False)], 419: [(2, False, False)], 420: [(2, False, False)], 421: [(2, False, False)], 422: [(2, False, False)], 423: [(2, False, False)], 424: [(2, False, False)], 425: [(2, False, False)], 426: [(2, False, False)], 427: [(2, False, False)], 428: [(2, False, False)], 429: [(2, False, False)], 430: [(2, False, False)], 431: [(2, False, False)], 432: [(2, False, False)], 433: [(2, False, False)], 434: [(2, False, False)], 435: [(2, False, False)], 436: [(2, False, False)], 437: [(2, False, False)], 438: [(2, False, False)], 439: [(2, False, False)], 440: [(2, False, False)], 441: [(2, False, False)], 442: [(2, False, False)], 443: [(2, False, False)], 444: [(2, False, False)], 445: [(2, False, False)], 446: [(2, False, False)], 447: [(2, False, False)], 448: [(2, False, False)], 449: [(2, False, False)], 450: [(2, False, False)], 451: [(2, False, False)], 452: [(2, False, False)], 453: [(2, False, False)], 454: [(2, False, False)], 455: [(2, False, False)], 456: [(2, False, False)], 457: [(2, False, False)], 458: [(2, False, False)], 459: [(2, False, False)], 460: [(2, False, False)], 461: [(2, False, False)], 462: [(2, False, False)], 463: [(2, False, False)], 464: [(2, False, False)], 465: [(2, False, False)], 466: [(2, False, False)], 467: [(2, False, False)], 468: [(2, False, False)], 469: [(2, False, False)], 470: [(2, False, False)], 471: [(2, False, False)], 472: [(2, False, False)], 473: [(2, False, False)], 474: [(2, False, False)], 475: [(2, False, False)], 476: [(2, False, False)], 477: [(2, False, False)], 478: [(2, False, False)], 479: [(2, False, False)], 480: [(2, False, False)], 481: [(2, False, False)], 482: [(2, False, False)], 483: [(2, False, False)], 484: [(2, False, False)], 485: [(2, False, False)], 486: [(2, False, False)], 487: [(2, False, False)], 488: [(2, False, False)], 489: [(2, False, False)], 490: [(2, False, False)], 491: [(2, False, False)], 492: [(2, False, False)], 493: [(2, False, False)], 494: [(2, False, False)], 495: [(2, False, False)], 496: [(2, False, False)], 497: [(2, False, False)], 498: [(2, False, False)], 499: [(2, False, False)], 500: [(2, False, False)], 501: [(2, False, False)], 502: [(2, False, False)], 503: [(2, False, False)], 504: [(2, False, False)], 505: [(2, False, False)], 506: [(2, False, False)], 507: [(2, False, False)], 508: [(2, False, False)], 509: [(2, False, False)], 510: [(2, False, False)], 511: [(2, False, False)], 512: [(2, False, False)], 513: [(2, False, False)], 514: [(2, False, False)], 515: [(2, False, False)], 516: [(2, False, False), (4, False, False)], 517: [(2, False, False), (4, False, False)], 518: [(2, False, False), (4, False, False)], 519: [(2, False, False), (4, False, False)], 520: [(2, False, False), (4, False, False)], 521: [(2, False, False), (4, False, False)], 522: [(2, False, False), (4, False, False)], 523: [(2, False, False), (4, False, False)], 524: [(2, False, False), (4, False, False)], 525: [(2, False, False), (4, False, False)], 526: [(2, False, False), (4, False, False)], 527: [(2, False, False), (4, False, False)], 528: [(2, False, False), (4, False, False)], 529: [(2, False, False), (4, False, False)], 530: [(2, False, False), (4, False, False)], 531: [(2, False, False), (4, False, False)], 532: [(2, False, False), (4, False, False)], 533: [(2, False, False), (4, False, False)], 534: [(2, False, False), (4, False, False)], 535: [(2, False, False), (4, False, False)], 536: [(2, False, False), (4, False, False)], 537: [(2, False, False), (4, False, False)], 538: [(2, False, False), (4, False, False)], 539: [(2, False, False), (4, False, False)], 540: [(2, False, False), (4, False, False)], 541: [(2, False, False), (4, False, False)], 542: [(2, False, False), (4, False, False)], 543: [(2, False, False), (4, False, False)], 544: [(2, False, False), (4, False, False)], 545: [(2, False, False), (4, False, False)], 546: [(2, False, False), (4, False, False)], 547: [(2, False, False)], 548: [(2, False, False), (4, False, False)], 549: [(2, False, False), (4, False, False)], 550: [(2, False, False)], 551: [(2, False, False)], 552: [(2, False, False)], 553: [(2, False, False)], 554: [(2, False, False)], 555: [(2, False, False)], 556: [(2, False, False)], 557: [(2, False, False)], 558: [(2, False, False)], 559: [(2, False, False)], 560: [(2, False, False)], 561: [(2, False, False)], 562: [(2, False, False)], 563: [(2, False, False)], 564: [(2, False, False)], 565: [(2, False, False)], 566: [(2, False, False)], 567: [(2, False, False)], 568: [(2, False, False)], 569: [(2, False, False)], 570: [(2, False, False)], 571: [(2, False, False)], 572: [(2, False, False)], 573: [(2, False, False)], 574: [(2, False, False)], 575: [(2, False, False)], 576: [(2, False, False)], 577: [(2, False, False)], 578: [(2, False, False)], 579: [(2, False, False)], 580: [(2, False, False)], 581: [(2, False, False)], 582: [(2, False, False)], 583: [(2, False, False)], 584: [(2, False, False)], 585: [(2, False, False)], 586: [(2, False, False)], 587: [(2, False, False)], 588: [(2, False, False)], 589: [(2, False, False)], 590: [(2, False, False)], 591: [(2, False, False)], 592: [(2, False, False)], 593: [(2, False, False)], 594: [(2, False, False)], 595: [(2, False, False)], 596: [(2, False, False)], 597: [(2, False, False)], 598: [(2, False, False)], 599: [(2, False, False)], 600: [(2, False, False)], 601: [(2, False, False)], 602: [(2, False, False)], 603: [(2, False, False)], 604: [(2, False, False)], 605: [(2, False, False)], 606: [(2, False, False)], 607: [(2, False, False)], 608: [(2, False, False)], 609: [(2, False, False)], 610: [(2, False, False)], 611: [(2, False, False)], 612: [(2, False, False)], 613: [(2, False, False)], 614: [(2, False, False)], 615: [(2, False, False)], 616: [(2, False, False)], 617: [(2, False, False)], 618: [(2, False, False)], 619: [(2, False, False)], 620: [(2, False, False)], 621: [(2, False, False)], 622: [(2, False, False)], 623: [(2, False, False)], 624: [(2, False, False)], 625: [(2, False, False)], 626: [(2, False, False)], 627: [(2, False, False)], 628: [(2, False, False)], 629: [(2, False, False)], 630: [(2, False, False)], 631: [(2, False, False)], 632: [(2, False, False)], 633: [(2, False, False)], 634: [(2, False, False)], 635: [(2, False, False)], 636: [(2, False, False)], 637: [(2, False, False)], 638: [(2, False, False)], 639: [(2, False, False)], 640: [(2, False, False)], 641: [(2, False, False)], 642: [(2, False, False)], 643: [(2, False, False)], 644: [(2, False, False)], 645: [(2, False, False)], 646: [(2, False, False)], 647: [(2, False, False)], 648: [(2, False, False)], 649: [(2, False, False)], 650: [(2, False, False)], 651: [(2, False, False)], 652: [(2, False, False)], 653: [(2, False, False)], 654: [(2, False, False)], 655: [(2, False, False)], 656: [(2, False, False)], 657: [(2, False, False)], 658: [(2, False, False)], 659: [(2, False, False)], 660: [(2, False, False)], 661: [(2, False, False)], 662: [(2, False, False)], 663: [(2, False, False)], 664: [(2, False, False)], 665: [(2, False, False)], 666: [(2, False, False)], 667: [(2, False, False)], 668: [(2, False, False)], 669: [(2, False, False)], 670: [(2, False, False)], 671: [(2, False, False)], 672: [(2, False, False)], 673: [(2, False, False)], 674: [(2, False, False)], 675: [(2, False, False)], 676: [(2, False, False)], 677: [(2, False, False)], 678: [(2, False, False)], 679: [(2, False, False)], 680: [(2, False, False)], 681: [(2, False, False)], 682: [(2, False, False)], 683: [(2, False, False)], 684: [(2, False, False)], 685: [(2, False, False)], 686: [(2, False, False)], 687: [(2, False, False)], 688: [(2, False, False)], 689: [(2, False, False)], 690: [(2, False, False)], 691: [(2, False, False)], 692: [(2, False, False)], 693: [(2, False, False)], 694: [(2, False, False)], 695: [(2, False, False)], 696: [(2, False, False)], 697: [(2, False, False)], 698: [(2, False, False)], 699: [(2, False, False)], 700: [(2, False, False)], 701: [(2, False, False)], 702: [(2, False, False)], 703: [(2, False, False)], 704: [(2, False, False)], 705: [(2, False, False)], 706: [(2, False, False)], 707: [(2, False, False)], 708: [(2, False, False)], 709: [(2, False, False)], 710: [(2, False, False)], 711: [(2, False, False)], 712: [(2, False, False)], 713: [(2, False, False)], 714: [(2, False, False)], 715: [(2, False, False)], 716: [(2, False, False)], 717: [(2, False, False)], 718: [(2, False, False)], 719: [(2, False, False)], 720: [(2, False, False)], 721: [(2, False, False)], 722: [(2, False, False)], 723: [(2, False, False)], 724: [(2, False, False)], 725: [(2, False, False)], 726: [(2, False, False)], 727: [(2, False, False)], 728: [(2, False, False)], 729: [(2, False, False)], 730: [(2, False, False)], 731: [(2, False, False)], 732: [(2, False, False)], 733: [(2, False, False)], 734: [(2, False, False)], 735: [(2, False, False), (7, False, False)], 736: [(2, False, False), (7, False, False)], 737: [(2, False, False), (7, False, False)], 738: [(2, False, False), (7, False, False)], 739: [(2, False, False), (7, False, False)], 740: [(2, False, False), (7, False, False)], 741: [(2, False, False), (7, False, False)], 742: [(2, False, False), (7, False, False)], 743: [(2, False, False), (7, False, False)], 744: [(2, False, False), (7, False, False)], 745: [(2, False, False), (7, False, False)], 746: [(2, False, False), (7, False, False)], 747: [(2, False, False), (7, False, False)], 748: [(2, False, False), (7, False, False)], 749: [(2, False, False), (7, False, False)], 750: [(2, False, False), (7, False, False)], 751: [(2, False, False), (7, False, False)], 752: [(2, False, False), (7, False, False)], 753: [(2, False, False), (7, False, False)], 754: [(2, False, False), (7, False, False)], 755: [(2, False, False), (7, False, False)], 756: [(2, False, False), (7, False, False)], 757: [(2, False, False), (7, False, False)], 758: [(2, False, False)], 759: [(2, False, False)], 760: [(2, False, False)], 761: [(2, False, False)], 762: [(2, False, False)], 763: [(2, False, False)], 764: [(2, False, False)], 765: [(2, False, False)], 766: [(2, False, False)], 767: [(2, False, False)], 768: [(2, False, False)], 769: [(2, False, False)], 770: [(2, False, False)], 771: [(2, False, False)], 772: [(2, False, False)], 773: [(2, False, False)], 774: [(2, False, False)], 775: [(2, False, False)], 776: [(2, False, False)], 777: [(2, False, False)], 778: [(2, False, False)], 779: [(2, False, False)], 780: [(2, False, False)], 781: [(2, False, False)], 782: [(2, False, False)], 783: [(2, False, False)], 784: [(2, False, False)], 785: [(2, False, False)], 786: [(2, False, False)], 787: [(2, False, False)], 788: [(2, False, False)], 789: [(2, False, False)], 790: [(2, False, False)], 791: [(2, False, False)], 792: [(2, False, False)], 793: [(2, False, False)], 794: [(2, False, False)], 795: [(2, False, False)], 796: [(2, False, False)], 797: [(2, False, False)], 798: [(2, False, False)], 799: [(2, False, False)], 800: [(2, False, False)], 801: [(2, False, False)], 802: [(2, False, False)], 803: [(2, False, False)], 804: [(2, False, False)], 805: [(2, False, False)], 806: [(2, False, False)], 807: [(2, False, False)], 808: [(2, False, False)], 809: [(2, False, False)], 810: [(2, False, False)], 811: [(2, False, False)], 812: [(2, False, False)], 813: [(2, False, False)], 814: [(2, False, False)], 815: [(2, False, False)], 816: [(2, False, False)], 817: [(2, False, False)], 818: [(2, False, False)], 819: [(2, False, False)], 820: [(2, False, False)], 821: [(2, False, False)], 822: [(2, False, False)], 823: [(2, False, False)], 824: [(2, False, False)], 825: [(2, False, False)], 826: [(2, False, False)], 827: [(2, False, False)], 828: [(2, False, False)], 829: [(2, False, False)], 830: [(2, False, False)], 831: [(2, False, False)], 832: [(2, False, False)], 833: [(2, False, False)], 834: [(2, False, False)], 835: [(2, False, False)], 836: [(2, False, False)], 837: [(2, False, False)], 838: [(2, False, False)], 839: [(2, False, False)], 840: [(2, False, False)], 841: [(2, False, False)], 842: [(2, False, False)], 843: [(2, False, False)], 844: [(2, False, False)], 845: [(2, False, False)], 846: [(2, False, False)], 847: [(2, False, False)], 848: [(2, False, False)], 849: [(2, False, False)], 850: [(2, False, False)], 851: [(2, False, False)], 852: [(2, False, False)], 853: [(2, False, False)], 854: [(2, False, False)], 855: [(2, False, False)], 856: [(2, False, False)], 857: [(2, False, False)], 858: [(2, False, False)], 859: [(2, False, False)], 860: [(2, False, False)], 861: [(2, False, False)], 862: [(2, False, False)], 863: [(2, False, False)], 864: [(2, False, False)], 865: [(2, False, False)], 866: [(2, False, False)], 867: [(2, False, False)], 868: [(2, False, False)], 869: [(2, False, False)], 870: [(2, False, False)], 871: [(2, False, False)], 872: [(2, False, False)], 873: [(2, False, False)], 874: [(2, False, False)], 875: [(2, False, False)], 876: [(2, False, False)], 877: [(2, False, False)], 878: [(2, False, False)], 879: [(2, False, False)], 880: [(2, False, False)], 881: [(2, False, False)], 882: [(2, False, False)], 883: [(2, False, False)], 884: [(2, False, False)], 885: [(2, False, False)], 886: [(2, False, False)], 887: [(2, False, False)], 888: [(2, False, False)], 889: [(2, False, False)], 890: [(2, False, False)], 891: [(2, False, False)], 892: [(2, False, False)], 893: [(2, False, False)], 894: [(2, False, False)], 895: [(2, False, False)], 896: [(2, False, False)], 897: [(2, False, False)], 898: [(2, False, False)], 899: [(2, False, False)], 900: [(2, False, False)], 901: [(2, False, False)], 902: [(2, False, False)], 903: [(2, False, False)], 904: [(2, False, False)], 905: [(2, False, False)], 906: [(2, False, False)], 907: [(2, False, False)], 908: [(2, False, False)], 909: [(2, False, False)], 910: [(2, False, False)], 911: [(2, False, False)], 912: [(2, False, False)], 913: [(2, False, False)], 914: [(2, False, False)], 915: [(2, False, False)], 916: [(2, False, False)], 917: [(2, False, False)], 918: [(2, False, False)], 919: [(2, False, False)], 920: [(2, False, False)], 921: [(2, False, False)], 922: [(2, False, False)], 923: [(2, False, False)], 924: [(2, False, False)], 925: [(2, False, False)], 926: [(2, False, False)], 927: [(2, False, False)], 928: [(2, False, False)], 929: [(2, False, False)], 930: [(2, False, False)], 931: [(2, False, False)], 932: [(2, False, False)], 933: [(2, False, False)], 934: [(2, False, False)], 935: [(2, False, False)], 936: [(2, False, False)], 937: [(2, False, False)], 938: [(2, False, False)], 939: [(2, False, False)], 940: [(2, False, False)], 941: [(2, False, False)], 942: [(2, False, False)], 943: [(2, False, False)], 944: [(2, False, False)], 945: [(2, False, False)], 946: [(2, False, False)], 947: [(2, False, False)], 948: [(2, False, False)], 949: [(2, False, False)], 950: [(2, False, False)], 951: [(2, False, False)], 952: [(2, False, False)], 953: [(2, False, False)], 954: [(2, False, False)], 955: [(2, False, False)], 956: [(2, False, False)], 957: [(2, False, False)], 958: [(2, False, False)], 959: [(2, False, False)], 960: [(2, False, False)], 961: [(2, False, False)], 962: [(2, False, False)], 963: [(2, False, False)], 964: [(2, False, False)], 965: [(2, False, False)], 966: [(2, False, False)], 967: [(2, False, False)], 968: [(2, False, False)], 969: [(2, False, False)], 970: [(2, False, False)], 971: [(2, False, False)], 972: [(2, False, False)], 973: [(2, False, False)], 974: [(2, False, False)], 975: [(2, False, False)], 976: [(2, False, False)], 977: [(2, False, False)], 978: [(2, False, False)], 979: [(2, False, False)], 980: [(2, False, False)], 981: [(2, False, False)], 982: [(2, False, False)], 983: [(2, False, False)], 984: [(2, False, False)], 985: [(2, False, False)], 986: [(2, False, False)], 987: [(2, False, False)], 988: [(2, False, False)], 989: [(2, False, False)], 990: [(2, False, False)], 991: [(2, False, False)], 992: [(2, False, False)], 993: [(2, False, False)], 994: [(2, False, False)], 995: [(2, False, False)], 996: [(2, False, False)], 997: [(2, False, False)], 998: [(2, False, False)], 999: [(2, False, False)], 1000: [(2, False, False)], 1001: [(2, False, False)], 1002: [(2, False, False)], 1003: [(2, False, False)], 1004: [(2, False, False)], 1005: [(2, False, False)], 1006: [(2, False, False)], 1007: [(2, False, False)], 1008: [(2, False, False)], 1009: [(2, False, False)], 1010: [(2, False, False)], 1011: [(2, False, False)], 1012: [(2, False, False)], 1013: [(2, True, False), (16, True, False)], 1014: [(2, True, False), (16, True, False)], 1015: [(16, True, False)], 1016: [(16, True, False)], 1017: [(16, True, False)], 1018: [(16, True, False)], 1019: [(16, True, False)], 1020: [(16, True, False)], 1021: [(16, True, False)], 1022: [(16, False, False)], 1023: [(16, False, False)], 1024: [(16, False, False)], 1025: [(16, False, False)], 1026: [(16, False, False)], 1027: [(16, False, False)], 1028: [(16, False, False)], 1029: [(16, False, False)], 1030: [(16, False, False)], 1031: [(16, False, False)], 1032: [(16, False, False)], 1033: [(16, False, False)], 1034: [(16, False, False)], 1035: [(16, False, False)], 1036: [(16, False, False)], 1037: [(16, False, False)], 1038: [(16, False, False)], 1039: [(16, False, False)], 1040: [(16, False, False)], 1041: [(16, False, False)], 1042: [(16, False, False)], 1043: [(16, False, False)], 1044: [(16, False, False)], 1045: [(16, False, False)], 1046: [(16, False, False)], 1047: [(16, False, False)], 1048: [(16, False, False)], 1049: [(16, False, False)], 1050: [(16, False, False)], 1051: [(16, False, False)], 1052: [(16, False, False)], 1053: [(16, False, False)], 1054: [(16, False, False)], 1055: [(16, False, False)], 1056: [(16, False, False)], 1057: [(16, False, False)], 1058: [(16, False, False)], 1059: [(16, False, False)], 1060: [(16, False, False)], 1189: [(16, False, False)], 1191: [(18, False, False)], 1192: [(18, False, False)], 1193: [(18, False, False)], 1194: [(18, False, False)], 1195: [(18, False, False)], 1196: [(18, False, False)], 1197: [(18, False, False)], 1198: [(18, False, False)], 1199: [(18, False, False)], 1200: [(18, False, False)], 1201: [(18, False, False)], 1202: [(18, False, False)], 1203: [(18, False, False)], 1204: [(18, False, False)], 1205: [(18, False, False)], 1206: [(18, False, False)], 1207: [(18, False, False)], 1208: [(18, False, False)], 1209: [(18, False, False)], 1210: [(18, False, False)], 1211: [(18, False, False)], 1212: [(18, False, False)], 1213: [(18, False, False)], 1214: [(18, False, False)], 1215: [(18, False, False)], 1216: [(18, False, False)], 1217: [(18, False, False)], 1218: [(18, False, False)], 1219: [(18, False, False)], 1220: [(18, False, False)], 1221: [(18, False, False)], 1222: [(18, False, False)], 1223: [(18, False, False)], 1224: [(18, False, False)], 1225: [(18, False, False)], 1226: [(18, False, False)], 1227: [(18, False, False)], 1228: [(18, False, False)], 1229: [(18, False, False), (21, True, False)], 1230: [(18, False, True), (21, True, True)], 1231: [(18, False, False), (21, True, True)], 1232: [(18, False, False), (21, True, True)], 1233: [(18, False, False), (21, True, True)], 1234: [(18, False, True), (21, True, True)], 1235: [(18, False, True), (21, True, True)], 1236: [(18, False, False), (21, True, True)], 1237: [(18, False, False), (21, True, True)], 1238: [(18, False, False), (21, True, True)], 1239: [(18, False, False), (21, True, True)], 1240: [(18, False, False), (21, True, True)], 1241: [(18, False, False), (21, True, True)], 1242: [(18, False, False), (21, True, True)], 1243: [(18, False, False), (21, True, True)], 1244: [(18, False, False), (21, True, True)], 1245: [(18, False, False), (21, True, True)], 1246: [(18, False, False), (21, True, True)], 1247: [(18, False, False), (21, True, True)], 1248: [(18, False, False), (21, True, True)], 1249: [(18, False, False), (21, True, True)], 1250: [(18, False, False), (21, True, True)], 1251: [(18, False, False), (21, True, True)], 1252: [(18, False, False), (21, True, True)], 1253: [(18, False, False), (21, False, True)], 1254: [(18, False, False), (21, True, True)], 1255: [(21, True, True)], 1256: [(21, True, True)], 1257: [(21, True, True)], 1258: [(21, True, True)], 1259: [(21, True, True)], 1260: [(21, True, True)], 1261: [(21, True, True)], 1262: [(21, True, True)], 1263: [(21, False, True)], 1264: [(21, True, True)], 1265: [(21, True, True)], 1266: [(21, True, True)], 1267: [(21, True, True)], 1268: [(21, True, True)], 1269: [(21, True, True)], 1270: [(21, True, True)], 1271: [(21, True, True)], 1272: [(21, False, True)], 1273: [(21, False, True)], 1274: [(21, True, True)], 1275: [(21, True, True)], 1276: [(21, False, True)], 1277: [(21, False, True)], 1278: [(21, False, True)], 1279: [(21, False, True)], 1280: [(21, False, True)], 1281: [(21, False, True)], 1282: [(21, False, True)], 1283: [(21, False, True)], 1284: [(21, True, True)], 1285: [(21, True, True)], 1286: [(21, True, True)], 1287: [(21, True, True)], 1288: [(21, True, True)], 1289: [(21, True, True)], 1290: [(21, True, True)], 1431: [], 1433: [(26, False, False)], 1434: [(26, False, False)], 1435: [(26, False, False)], 1436: [(26, False, False)], 1437: [(26, False, False)], 1438: [(26, False, False)], 1439: [(26, False, False)], 1440: [(26, False, False)], 1441: [(26, False, False)], 1442: [(26, False, False)], 1443: [(26, False, False)], 1444: [(26, False, False)], 1445: [(26, False, False)], 1446: [(26, False, False)], 1447: [(26, False, False)], 1448: [(26, False, False)], 1449: [(26, False, False)], 1450: [(26, False, False)], 1451: [(26, False, False)], 1452: [(26, False, False)], 1453: [(26, False, False)], 1454: [(26, False, False)], 1455: [(26, False, False)], 1456: [(26, False, False)], 1457: [(26, False, False)], 1458: [(26, False, False)], 1459: [(26, False, False)], 1460: [(26, False, False)], 1461: [(26, False, False)], 1462: [(26, False, False)], 1463: [(26, False, False)], 1464: [(26, False, False)], 1465: [(26, False, False)], 1466: [(26, False, False)], 1467: [(26, False, False)], 1468: [(26, False, False)], 1469: [(26, False, False)], 1470: [(26, False, False)], 1471: [(26, False, False)], 1472: [(26, False, False)], 1473: [(26, False, False)], 1474: [(26, False, False)], 1475: [(26, False, False)], 1476: [(26, False, False)], 1477: [(26, False, False)], 1478: [(26, False, False)], 1479: [(26, False, False)], 1480: [(26, False, False)], 1481: [(26, False, False)], 1482: [(26, False, False)], 1483: [(26, False, False)], 1484: [(26, False, False)], 1485: [(26, False, False)], 1486: [(26, False, False)], 1487: [(26, False, False)], 1627: [(26, False, False)], 1629: [(27, False, False)], 1630: [(27, False, False)], 1631: [(27, False, False)], 1632: [(27, False, False)], 1633: [(27, False, False)], 1634: [(27, False, False)], 1635: [(27, False, False)], 1636: [(27, False, False)], 1637: [(27, False, False)], 1638: [(27, False, False)], 1639: [(27, False, False)], 1640: [(27, False, False)], 1641: [(27, False, False)], 1642: [(27, False, False)], 1643: [(27, False, False)], 1644: [(27, False, False)], 1645: [(27, False, False)], 1646: [(27, False, False)], 1647: [(27, False, False)], 1648: [(27, False, False)], 1649: [(27, False, False)], 1650: [(27, False, False)], 1651: [(27, False, False)], 1652: [(27, False, False)], 1653: [(27, False, False)], 1654: [(27, False, False)], 1655: [(27, False, False)], 1656: [(27, False, False)], 1657: [(27, False, False)], 1658: [(27, False, False)], 1659: [(27, False, False)], 1660: [(27, False, False)], 1661: [(27, False, False)], 1662: [(27, False, False)], 1663: [(27, False, False)], 1664: [(27, False, False)], 1665: [(27, False, False)], 1666: [(27, False, False)], 1667: [(27, False, False)], 1668: [(27, False, False)], 1669: [(27, False, False)], 1670: [(27, False, False)], 1671: [(27, False, False)], 1777: [(27, False, False)], 1778: [(27, False, False)], 1779: [(27, False, True)], 1780: [(27, False, True)], 1781: [(27, False, True)], 1782: [(27, False, True)], 1783: [(27, True, True)], 1784: [(27, True, True)], 1785: [(27, True, True)], 1786: [(27, True, True)], 1787: [(27, True, True)], 1788: [(27, True, True)], 1789: [(27, True, True)], 1790: [(27, True, True)], 1791: [(27, True, True)], 1792: [(27, True, True)], 1793: [(27, True, True)], 1794: [(27, True, True)], 1795: [(27, True, True)], 1796: [(27, True, True)], 1797: [(27, True, True)], 1798: [(27, True, True)], 1799: [(27, True, True)], 1800: [(27, True, True)], 1801: [(27, True, True)], 1802: [(27, True, True)], 1803: [(27, True, True)], 1804: [(27, True, True)], 1805: [(27, True, True)], 1806: [(27, True, True)], 1807: [(27, True, True)], 1808: [(27, True, True)], 1809: [(27, True, True)], 1810: [(27, True, True)], 1811: [(27, True, True)], 1812: [(27, True, True)], 1813: [(27, True, True)], 1814: [(27, True, True)], 1815: [(27, True, True)], 1816: [(27, True, True)], 1817: [(27, True, True)], 1818: [(27, True, True)], 1819: [(27, True, True)], 1820: [(27, True, True)], 1821: [(27, True, True)], 1822: [(27, True, True)], 1823: [(27, True, True)], 1824: [(27, True, True)], 1825: [(27, True, True)], 1826: [(27, True, True)], 1827: [(27, True, True)], 1828: [(27, True, True)], 1829: [(27, True, True)], 1830: [(27, True, True)], 1831: [(27, True, True)], 1832: [(27, True, True)], 1833: [(27, True, True)], 1834: [(27, True, True)], 1835: [(27, True, True)], 1836: [(27, True, True)], 1837: [(27, True, True)], 1838: [(27, True, True)], 1839: [(27, True, True)], 1840: [(27, True, True)], 1841: [(27, True, True)], 1842: [(27, True, True)], 1843: [(27, True, True)], 1844: [(27, True, True)], 1845: [(27, True, True)], 1846: [(27, True, True)], 1847: [(27, True, True)], 1848: [(27, True, True)], 1849: [(27, True, True)], 1850: [(27, True, True)], 1851: [(27, True, True)], 1852: [(27, True, True)], 1853: [(27, True, True)], 1854: [(27, True, True)], 1855: [(27, True, True)], 1856: [(27, True, True)], 1857: [(27, True, True)], 1858: [(27, True, True)], 1859: [(27, True, True)], 1860: [(27, True, True)], 1861: [(27, True, True)], 1862: [(27, True, True)], 1863: [(27, True, True)], 1864: [(27, True, True)], 1865: [(27, True, True)], 1866: [(27, True, True)], 1867: [(27, True, True)], 1868: [(27, True, True)], 1869: [(27, True, True)], 1870: [(27, True, True)], 1871: [(27, True, False)], 1872: [(27, True, False)], 1873: [(27, True, False)], 1874: [(27, True, False)], 1875: [(27, True, False)], 1876: [(27, True, True)], 1877: [(27, True, True)], 1878: [(27, True, True)], 1879: [(27, True, True)], 1880: [(27, True, True)], 1881: [(27, True, True)], 1882: [(27, True, True)], 1883: [(27, True, False)], 1884: [(27, True, False)], 1885: [(27, False, False)], 1886: [(27, False, False)], 1887: [(27, False, False)], 1888: [(27, False, False)], 1889: [(27, False, False)], 1890: [(27, True, False)], 1891: [(27, True, False)], 1892: [(27, True, False)], 1893: [(27, False, False)], 1894: [(27, False, False)], 1895: [(27, False, False)], 1896: [(27, False, False)], 1897: [(27, False, False)], 1958: [(27, False, False)], 1960: [(34, False, False)], 1961: [(34, False, False)], 1962: [(34, False, False)], 1963: [(34, False, False)], 1964: [(34, False, False)], 1965: [(34, False, False)], 1966: [(34, False, False)], 1967: [(34, False, False)], 1968: [(34, False, False)], 1969: [(34, False, False)], 1970: [(34, False, False)], 1971: [(34, False, False)], 1972: [(34, False, False)], 1973: [(34, False, False)], 1974: [(34, False, False)], 1975: [(34, False, False)], 1976: [(34, False, False)], 1977: [(34, False, False)], 1978: [(34, False, False)], 1979: [(34, False, False)], 1980: [(34, False, False)], 1981: [(34, False, False)], 1982: [(34, False, False)], 1983: [(34, False, False)], 1984: [(34, False, False)], 1985: [(34, False, False)], 1986: [(34, False, False)], 1987: [(34, False, False)], 1988: [(34, False, False)], 1989: [(34, False, False)], 1990: [(34, False, False)], 1991: [(34, False, False)], 1992: [(34, False, False)], 1993: [(34, False, False)], 1994: [(34, False, False)], 1995: [(34, False, False)], 1996: [(34, False, False)], 1997: [(34, False, False)], 1998: [(34, False, False)], 1999: [(34, False, False)], 2000: [(34, False, False)], 2001: [(34, False, False)], 2002: [(34, False, False)], 2003: [(34, False, False)], 2004: [(34, False, False)], 2005: [(34, False, False)], 2006: [(34, False, False)], 2007: [(34, False, False)], 2008: [(34, False, False)], 2009: [(34, False, False)], 2010: [(34, False, False)], 2011: [(34, False, False)], 2012: [(34, False, False)], 2013: [(34, False, False)], 2014: [(34, False, False)], 2016: [(34, False, False)], 2019: [(36, False, False)], 2020: [(36, False, False)], 2021: [(36, False, False)], 2022: [(36, False, False)], 2023: [(36, False, False)], 2024: [(36, False, False)], 2025: [(36, False, False)], 2026: [(36, False, False)], 2027: [(36, False, False)], 2028: [(36, False, False)], 2029: [(36, False, False)], 2030: [(36, False, False)], 2031: [(36, False, False)], 2032: [(36, False, False)], 2033: [(36, False, False)], 2034: [(36, False, False)], 2035: [(36, False, False)], 2036: [(36, False, False)], 2037: [(36, False, False)], 2038: [(36, False, False)], 2039: [(36, False, False)], 2040: [(36, False, False)], 2041: [(36, False, False)], 2042: [(36, False, False)], 2043: [(36, False, False)], 2044: [(36, False, False)], 2045: [(36, False, False)], 2046: [(36, False, False)], 2047: [(36, False, False)], 2048: [(36, False, False)], 2049: [(36, False, False)], 2050: [(36, False, False)], 2051: [(36, False, False)], 2052: [(36, False, False)], 2053: [(36, False, False)], 2054: [(36, False, False)], 2055: [(36, False, False)], 2056: [(36, False, False)], 2057: [(36, False, False)], 2058: [(36, False, False)], 2059: [(36, False, False)], 2060: [(36, False, False)], 2061: [(36, False, False)], 2062: [(36, False, False)], 2063: [(36, False, False)], 2064: [(36, False, False)], 2065: [(36, False, False)], 2066: [(36, False, False)], 2067: [(36, False, False)], 2068: [(36, False, False)], 2069: [(36, False, False)], 2070: [(36, False, False)], 2071: [(36, False, False)], 2072: [(36, False, False)], 2073: [(36, False, False)], 2074: [(36, False, False)], 2075: [(36, False, False)], 2076: [(36, False, False)], 2077: [(36, False, False)], 2078: [(36, False, False)], 2079: [(36, False, False)], 2080: [(36, False, False)], 2081: [(36, False, False)], 2082: [(36, False, False), (37, False, False)], 2083: [(36, False, False), (37, False, False)], 2084: [(36, False, False)], 2085: [(36, False, False)], 2086: [(36, False, False)], 2087: [(36, False, False)], 2088: [(36, False, False)], 2089: [(36, False, False)], 2090: [(36, False, False)], 2091: [(36, False, False)], 2092: [(36, False, False)], 2093: [(36, False, False)], 2094: [(36, False, False)], 2095: [(36, False, False)], 2096: [(36, False, False)], 2097: [(36, False, False)], 2098: [(36, False, False)], 2099: [(36, False, False)], 2100: [(36, False, False)], 2101: [(36, False, False)], 2102: [(36, False, False)], 2103: [(36, False, False)], 2104: [(36, False, False)], 2105: [(36, False, False)], 2106: [(36, False, False)], 2107: [(36, False, False)], 2108: [(36, False, False)], 2109: [(36, False, False)], 2110: [(36, False, False)], 2111: [(36, False, False)], 2112: [(36, False, False)], 2113: [(36, False, False)], 2114: [(36, False, False)], 2115: [(36, False, False)], 2116: [(36, False, False)], 2117: [(36, False, False)], 2118: [(36, False, False)], 2119: [(36, False, False)], 2120: [(36, False, False)], 2121: [(36, False, False)], 2122: [(36, False, False)], 2123: [(36, False, False)], 2124: [(36, False, False)], 2125: [(36, False, False)], 2126: [(36, False, False)], 2127: [(36, False, False)], 2128: [(36, False, False)], 2129: [(36, False, False)], 2130: [(36, False, False)], 2131: [(36, False, False)], 2132: [(36, False, False)], 2133: [(36, False, False)], 2134: [(36, False, False)], 2135: [(36, False, False)], 2136: [(36, False, False)], 2137: [(36, False, False)], 2138: [(36, False, False)], 2139: [(36, False, False)], 2140: [(36, False, False)], 2141: [(36, False, False)], 2142: [(36, False, False)], 2143: [(36, False, False)], 2144: [(36, False, False)], 2145: [(36, False, False)], 2146: [(36, False, False)], 2147: [(36, False, False)], 2148: [(36, False, False)], 2149: [(36, False, False)], 2150: [(36, False, False)], 2151: [(36, False, False)], 2152: [(36, False, False)], 2153: [(36, False, False)], 2154: [(36, False, False)], 2155: [(36, False, False)], 2156: [(36, False, False)], 2157: [(36, False, False)], 2158: [(36, False, False)], 2159: [(36, False, False)], 2160: [(36, False, False)], 2161: [(36, False, False)], 2162: [(36, False, False)], 2163: [(36, False, False)], 2164: [(36, False, False)], 2165: [(36, False, False)], 2166: [(36, False, False)], 2167: [(36, False, False)], 2168: [(36, False, False)], 2169: [(36, False, False)], 2170: [(36, False, False)], 2171: [(36, False, False)], 2172: [(36, False, False)], 2173: [(36, False, False)], 2174: [(36, False, False)], 2175: [(36, False, False)], 2176: [(36, False, False)], 2177: [(36, False, False)], 2178: [(36, False, False)], 2179: [(36, False, False)], 2180: [(36, False, False)], 2181: [(36, False, False)], 2182: [(36, False, False)], 2183: [(36, False, False)], 2184: [(36, False, False)], 2185: [(36, False, False)], 2186: [(36, False, False)], 2187: [(36, False, False)], 2188: [(36, False, False)], 2189: [(36, False, False)], 2190: [(36, False, False)], 2275: [(36, False, False)], 2277: [(41, False, False)], 2278: [(41, False, False)], 2279: [(41, False, False)], 2280: [(41, False, False)], 2281: [(41, False, False)], 2282: [(41, False, False)], 2283: [(41, False, False)], 2284: [(41, False, False)], 2285: [(41, False, False)], 2286: [(41, False, False)], 2287: [(41, False, False)], 2288: [(41, False, False)], 2289: [(41, False, False)], 2290: [(41, False, False)], 2291: [(41, False, False)], 2292: [(41, False, False)], 2293: [(41, False, False)], 2294: [(41, False, False)], 2295: [(41, False, False)], 2296: [(41, False, False)], 2297: [(41, False, False)], 2298: [(41, False, False)], 2299: [(41, False, False)], 2300: [(41, False, False)], 2301: [(41, False, False)], 2302: [(41, False, False)], 2303: [(41, False, False)], 2304: [(41, False, False)], 2305: [(41, False, False)], 2306: [(41, False, False)], 2307: [(41, False, False)], 2308: [(41, False, False)], 2309: [(41, False, False)], 2310: [(41, False, False)], 2311: [(41, False, False)], 2312: [(41, False, False)], 2313: [(41, False, False)], 2314: [(41, False, False)], 2315: [(41, False, False)], 2316: [(41, False, False)], 2317: [(41, False, False)], 2318: [(41, False, False)], 2319: [(41, False, False)], 2320: [(41, False, False)], 2321: [(41, False, False)], 2322: [(41, False, False)], 2428: [(41, False, False)], 2429: [(41, False, False)], 2430: [(41, False, False)], 2435: [(41, False, False)], 2436: [(41, False, False)], 2437: [(41, False, False)], 2448: [(41, False, False)], 2449: [(41, False, False)], 2455: [(41, False, False)], 2465: [(41, False, False)], 2466: [(41, False, False)], 2467: [(41, False, False)], 2468: [(41, False, False)], 2469: [(41, False, False)], 2470: [(41, False, False)], 2471: [(41, False, False)], 2472: [(41, False, False)], 2473: [(41, False, False)], 2474: [(41, False, False)], 2475: [(41, False, False)], 2476: [(41, False, False)], 2477: [(41, False, False)], 2478: [(41, False, False)], 2479: [(41, False, False)], 2480: [(41, False, False)], 2481: [(41, False, False)], 2482: [(41, False, False)], 2483: [(41, False, False)], 2484: [(41, False, False)], 2485: [(41, False, False)], 2486: [(41, False, False)], 2487: [(41, False, False)], 2488: [(41, False, False)], 2489: [(41, False, False)], 2490: [(41, False, False)], 2491: [(41, False, False)], 2492: [(41, False, False)], 2493: [(41, False, False)], 2494: [(41, False, False)], 2495: [(41, False, False)], 2496: [(41, False, False)], 2497: [(41, False, False)], 2498: [(41, False, False)], 2499: [(41, False, False)], 2500: [(41, False, False)], 2501: [(41, False, False)], 2502: [(41, False, False)], 2503: [(41, False, False)], 2504: [(41, False, False)], 2505: [(41, False, False)], 2506: [(41, False, False)], 2507: [(41, False, False)], 2508: [(41, False, False)], 2509: [(41, False, False)], 2510: [(41, False, False)], 2511: [(41, False, False)], 2512: [(41, False, False)], 2513: [(41, False, False)], 2514: [(41, False, False)], 2515: [(41, False, False)], 2516: [(41, False, False)], 2517: [(41, False, False)], 2518: [(41, False, False)], 2523: [(41, False, False)], 2524: [(41, False, False)], 2527: [(41, False, False)], 2528: [(41, False, False)], 2529: [(41, False, False)], 2530: [(41, False, False)], 2531: [(41, False, False)], 2532: [(41, False, False)], 2533: [(41, False, False)], 2534: [(41, False, False)], 2535: [(41, False, False)], 2536: [(41, False, False)], 2537: [(41, False, False)], 2538: [(41, False, False)], 2539: [(41, False, False)], 2540: [(41, False, False)], 2541: [(41, False, False)], 2542: [(41, False, False)], 2543: [(41, False, False)], 2544: [(41, False, False)], 2545: [(41, False, False)], 2546: [(41, False, False)], 2547: [(41, False, False)], 2548: [(41, False, False)], 2549: [(41, False, False)], 2550: [(41, False, False)], 2551: [(41, False, False)], 2552: [(41, False, False)], 2553: [(41, False, False)], 2554: [(41, False, False)], 2555: [(41, False, False)], 2556: [(41, False, False)], 2557: [(41, False, False)], 2558: [(41, False, False)], 2559: [(41, False, False)], 2560: [(41, False, False)], 2561: [(41, False, False)], 2562: [(41, False, False)], 2563: [(41, False, False)], 2564: [(41, False, False)], 2565: [(41, False, False)], 2566: [(41, False, False)], 2567: [(41, False, False)], 2568: [(41, False, False)], 2569: [(41, False, False)], 2570: [(41, False, False)], 2571: [(41, False, False)], 2572: [(41, False, False)], 2573: [(41, False, False)], 2574: [(41, False, False)], 2575: [(41, False, False)], 2576: [(41, False, False)], 2577: [(41, False, False)], 2578: [(41, False, False)], 2579: [(41, False, False)], 2580: [(41, False, False)], 2581: [(41, False, False)], 2582: [(41, False, False)], 2583: [(41, False, False)], 2584: [(41, False, False)], 2585: [(41, False, False)], 2586: [(41, False, False)], 2587: [(41, False, False)], 2588: [(41, False, False)], 2589: [(41, False, False)], 2590: [(41, False, False)], 2591: [(41, False, False)], 2592: [(41, False, False)], 2593: [(41, False, False)], 2594: [(41, False, False)], 2595: [(41, False, False)], 2596: [(41, False, False)], 2597: [(41, False, False)], 2598: [(41, False, False)], 2599: [(41, False, False)], 2600: [(41, False, False)], 2601: [(41, False, False)], 2602: [(41, False, False)], 2603: [(41, False, False)], 2604: [(41, False, False)], 2605: [(41, False, False)], 2606: [(41, False, False)], 2607: [(41, False, False)], 2608: [(41, False, False)], 2609: [(41, False, False)], 2610: [(41, False, False)], 2611: [(41, False, False)], 2612: [(41, False, False)], 2613: [(41, False, False)], 2614: [(41, False, False)], 2615: [(41, False, False)], 2616: [(41, False, False)], 2617: [(41, False, False)], 2618: [(41, False, False)], 2619: [(41, False, False)], 2620: [(41, False, False)], 2621: [(41, False, False)], 2622: [(41, False, False)], 2623: [(41, False, False)], 2624: [(41, False, False)], 2625: [(41, False, False)], 2626: [(41, False, False)], 2627: [(41, False, False)], 2628: [(41, False, False)], 2695: [(41, False, False)], 2697: [(42, False, False)], 2698: [(42, False, False)], 2699: [(42, False, False)], 2700: [(42, False, False)], 2701: [(42, False, False)], 2702: [(42, False, False)], 2703: [(42, False, False)], 2704: [(42, False, False)], 2705: [(42, False, False)], 2706: [(42, False, False)], 2707: [(42, False, False)], 2708: [(42, False, False)], 2709: [(42, False, False)], 2710: [(42, False, False)], 2711: [(42, False, False)], 2712: [(42, False, False)], 2713: [(42, False, False)], 2714: [(42, False, False)], 2715: [(42, False, False)], 2716: [(42, False, False)], 2717: [(42, False, False)], 2718: [(42, False, False)], 2719: [(42, False, False)], 2720: [(42, False, False)], 2721: [(42, False, False)], 2722: [(42, False, False)], 2723: [(42, False, False)], 2724: [(42, False, False)], 2725: [(42, False, False)], 2726: [(42, False, False)], 2727: [(42, False, False)], 2728: [(42, False, False)], 2729: [(42, False, False)], 2730: [(42, False, False)], 2731: [(42, False, False)], 2732: [(42, False, False)], 2733: [(42, False, False)], 2734: [(42, False, False)], 2735: [(42, False, False)], 2736: [(42, False, False)], 2737: [(42, False, False)], 2738: [(42, False, False)], 2739: [(42, False, False)], 2740: [(42, False, False)], 2741: [(42, False, False)], 2742: [(42, False, False)], 2743: [(42, False, False)], 2744: [(42, False, False)], 2745: [(42, False, False)], 2746: [(42, False, False)], 2747: [(42, False, False)], 2748: [(42, False, False)], 2749: [(42, False, False)], 2750: [(42, False, False)], 2751: [(42, False, False)], 2752: [(42, False, False)], 2753: [(42, False, False)], 2754: [(42, False, False)], 2755: [(42, False, False)], 2756: [(42, False, False)], 2757: [(42, False, False)], 2758: [(42, False, False)], 2759: [(42, False, False)], 2760: [(42, False, False)], 2761: [(42, False, False)], 2762: [(42, False, False)], 2763: [(42, False, False)], 2825: [(42, False, False)], 2826: [(42, False, False)], 2827: [(42, True, True)], 2828: [(42, True, True)], 2829: [(42, True, True)], 2830: [(42, True, True)], 2831: [(42, True, True)], 2832: [(42, True, True)], 2833: [(42, True, True)], 2834: [(42, True, True)], 2835: [(42, True, True)], 2836: [(42, True, True)], 2837: [(42, True, True)], 2838: [(42, True, True)], 2839: [(42, True, True)], 2840: [(42, True, True)], 2841: [(42, True, True)], 2842: [(42, True, True)], 2843: [(42, True, True)], 2844: [(42, True, True)], 2845: [(42, True, True)], 2846: [(42, True, True)], 2847: [(42, True, True)], 2848: [(42, True, True)], 2849: [(42, True, True)], 2850: [(42, True, True)], 2851: [(42, True, True)], 2852: [(42, True, True)], 2853: [(42, True, True)], 2854: [(42, True, True)], 2855: [(42, True, True)], 2856: [(42, True, True)], 2857: [(42, True, True)], 2858: [(42, True, True)], 2859: [(42, True, True)], 2860: [(42, True, True)], 2861: [(42, True, True)], 2862: [(42, True, True)], 2863: [(42, True, True)], 2864: [(42, True, True)], 2865: [(42, True, True)], 2866: [(42, True, True)], 2867: [(42, True, True)], 2868: [(42, True, True)], 2869: [(42, True, True)], 2870: [(42, True, True)], 2871: [(42, True, True)], 2872: [(42, True, True)], 2873: [(42, True, True)], 2874: [(42, True, True)], 2875: [(42, True, True)], 2876: [(42, True, True)], 2877: [(42, True, True)], 2878: [(42, True, True)], 2879: [(42, True, True)], 2880: [(42, True, True)], 2881: [(42, True, True)], 2882: [(42, True, True)], 2883: [(42, True, True)], 2884: [(42, True, True)], 2885: [(42, True, True)], 2886: [(42, True, True)], 2887: [(42, True, True)], 3043: [(42, False, True)], 3044: [(42, False, False)], 3045: [(42, False, False)], 3046: [(42, False, False)], 3047: [(42, False, False)], 3048: [(42, True, False)], 3049: [(42, True, False)], 3050: [(42, True, False)], 3051: [(42, True, False)], 3052: [(42, True, True)], 3053: [(42, True, True)], 3054: [(42, True, True)], 3055: [(42, True, True)], 3056: [(42, True, True)], 3057: [(42, True, True)], 3058: [(42, True, True)], 3059: [(42, True, True)], 3060: [(42, True, True)], 3061: [(42, True, True)], 3062: [(42, True, True)], 3063: [(42, True, True)], 3064: [(42, True, True)], 3065: [(42, True, True)], 3066: [(42, True, True)], 3067: [(42, True, True)], 3068: [(42, True, True)], 3069: [(42, True, True)], 3070: [(42, True, True)], 3071: [(42, True, True)], 3072: [(42, True, True)], 3073: [(42, True, True)], 3074: [(42, True, True)], 3075: [(42, True, True)], 3076: [(42, True, True)], 3077: [(42, True, False)], 3078: [(42, True, False)], 3079: [(42, True, False)], 3080: [(42, True, False)], 3081: [(42, True, True)], 3082: [(42, True, True)], 3083: [(42, True, True)], 3084: [(42, True, True)], 3085: [(42, True, True)], 3086: [(42, True, True)], 3087: [(42, True, True)], 3088: [(42, True, False)], 3089: [(42, True, False)], 3090: [(42, True, False)], 3091: [(42, True, False)], 3092: [(42, True, False)], 3093: [(42, True, False)], 3094: [(42, True, False)], 3095: [(42, True, False)]}\n",
            "Human 1 is detected in 44 frames, we detect that he has a hat in 0 frames and vest in 0 frames.\n",
            "Human with id 1 is crossing with no hat, no vest in interval 0 min 6 sec - 0 min 18 sec.\n",
            "Human 27 is detected in 165 frames, we detect that he has a hat in 105 frames and vest in 99 frames.\n",
            "Human with id 27 is crossing with no hat, no vest in interval 2 min 15 sec - 2 min 42 sec.\n",
            "Human 34 is detected in 56 frames, we detect that he has a hat in 0 frames and vest in 0 frames.\n",
            "Human with id 34 is crossing with no hat, no vest in interval 2 min 42 sec - 2 min 47 sec.\n",
            "Human 36 is detected in 173 frames, we detect that he has a hat in 0 frames and vest in 0 frames.\n",
            "Human with id 36 is crossing with no hat, no vest in interval 2 min 47 sec - 3 min 9 sec.\n",
            "Human 41 is detected in 214 frames, we detect that he has a hat in 0 frames and vest in 0 frames.\n",
            "Human with id 41 is crossing with no hat, no vest in interval 3 min 9 sec - 3 min 44 sec.\n",
            "Human 42 is detected in 183 frames, we detect that he has a hat in 109 frames and vest in 94 frames.\n",
            "Human with id 42 is crossing with no hat, no vest in interval 3 min 44 sec - 4 min 17 sec.\n",
            "Human 16 is detected in 49 frames, we detect that he has a hat in 9 frames and vest in 0 frames.\n",
            "Human with id 16 is crossing with no hat, no vest in interval 1 min 24 sec - 1 min 38 sec.\n",
            "Human 18 is detected in 64 frames, we detect that he has a hat in 0 frames and vest in 3 frames.\n",
            "Human with id 18 is crossing with no hat, no vest in interval 1 min 39 sec - 1 min 44 sec.\n",
            "Human 21 is detected in 62 frames, we detect that he has a hat in 50 frames and vest in 61 frames.\n",
            "Human 21 is a good human. :-)\n",
            "Human 26 is detected in 56 frames, we detect that he has a hat in 0 frames and vest in 0 frames.\n",
            "Human with id 26 is crossing with no hat, no vest in interval 1 min 59 sec - 2 min 15 sec.\n",
            "Human 27 is detected in 165 frames, we detect that he has a hat in 105 frames and vest in 99 frames.\n",
            "Human with id 27 is crossing with no hat, no vest in interval 2 min 15 sec - 2 min 42 sec.\n",
            "Human 41 is detected in 214 frames, we detect that he has a hat in 0 frames and vest in 0 frames.\n",
            "Human with id 41 is crossing with no hat, no vest in interval 3 min 9 sec - 3 min 44 sec.\n",
            "6 6 {1: [(6, 18), (135, 162), (162, 167), (167, 189), (189, 224), (224, 257), (84, 98), (99, 104), (119, 135), (135, 162), (189, 224)]}\n"
          ]
        }
      ]
    },
    {
      "cell_type": "code",
      "source": [
        "came, left, violations = get_results('/content/drive/MyDrive/Hardhats_vests/tracker_results/39/tracks/39.txt')\n",
        "print(came, left, violations)"
      ],
      "metadata": {
        "colab": {
          "base_uri": "https://localhost:8080/"
        },
        "id": "nwnI9D7ekqPq",
        "outputId": "acecd195-83af-444c-8061-340ecca872bc"
      },
      "execution_count": null,
      "outputs": [
        {
          "output_type": "stream",
          "name": "stdout",
          "text": [
            "(0, 3)\n",
            "cntry_min = 273, cntry_max = 365\n",
            "cntry_start = 365, cntry_end = 273\n",
            "Human 3 moved 27% of the frame (vertically)\n",
            "Human 3 left.\n",
            "[] [3]\n",
            "0 people came in\n",
            "1 people left\n",
            "{68: [], 69: [], 70: [(3, True, True)], 71: [(3, True, True)], 72: [(3, True, True)], 73: [(3, True, True)], 74: [(3, True, True)], 75: [(3, True, True)], 76: [(3, True, True)], 77: [(3, True, True)], 78: [(3, True, True)], 79: [(3, True, True)], 80: [(3, True, True)], 81: [(3, True, True)], 82: [(3, True, True)], 83: [(3, True, True)], 84: [(3, True, True)], 85: [(3, True, True)], 86: [(3, True, True)], 87: [(3, True, True)], 88: [(3, True, True)], 89: [(3, True, True)], 90: [(3, True, True)], 91: [(3, True, True)], 92: [(3, True, True)], 93: [(3, True, True)], 94: [(3, True, True)], 95: [(3, True, True)], 96: [(3, True, True)], 97: [(3, True, True)], 98: [(3, True, True)], 99: [(3, True, True)], 100: [(3, True, True)], 101: [(3, True, True)], 102: [(3, True, True)], 103: [(3, True, True)], 104: [(3, True, True)], 105: [(3, True, True)], 106: [(3, True, True)], 107: [(3, True, True)], 108: [(3, True, True)], 109: [(3, True, True)], 110: [(3, True, True)], 111: [(3, True, True)], 112: [(3, True, True)], 113: [(3, True, True)], 114: [(3, True, True)], 115: [(3, True, True)], 116: [(3, True, True)], 117: [(3, True, True)], 118: [(3, True, True)], 119: [(3, True, True)], 120: [(3, True, True)], 121: [(3, True, True)], 122: [(3, True, True)], 123: [(3, True, True)], 124: [(3, True, True)], 125: [(3, True, True)], 126: [(3, True, True)], 127: [(3, True, True)], 128: [(3, True, True)], 129: [(3, True, True)], 130: [(3, True, True)], 131: [(3, True, True)], 132: [(3, True, True)], 133: [(3, True, True)], 134: [(3, True, True)], 135: [(3, True, True)], 136: [(3, True, True)], 137: [(3, True, True)], 138: [(3, True, True)], 139: [(3, True, True)], 140: [(3, True, True)], 141: [(3, True, True)], 142: [(3, True, True)], 143: [(3, True, True)], 144: [(3, True, True)], 145: [(3, True, True)], 146: [(3, True, True)], 147: [(3, True, True)], 148: [(3, True, True)], 149: [(3, True, True)], 150: [(3, True, True)], 151: [(3, True, True)], 152: [(3, True, True)], 153: [(3, True, True)], 154: [(3, True, True)], 155: [(3, True, True)], 156: [(3, True, True)], 157: [(3, True, True)], 158: [(3, True, True)], 159: [(3, True, True)], 160: [(3, True, True)], 161: [(3, True, True)], 162: [(3, True, True)], 163: [(3, True, True)], 164: [(3, True, True)], 165: [(3, True, True)], 166: [(3, True, True)], 167: [(3, True, True)], 168: [(3, True, True)], 169: [(3, True, True)], 170: [(3, True, True)], 171: [(3, True, True)], 172: [(3, True, True)], 173: [(3, True, True)], 174: [(3, True, True)], 175: [(3, True, True)], 176: [(3, True, True)], 177: [(3, True, True)], 178: [(3, True, True)], 179: [(3, True, True)], 180: [(3, True, True)], 181: [(3, True, True)], 182: [(3, True, True)], 183: [(3, True, True)], 184: [(3, True, True)], 185: [(3, True, True)], 186: [(3, True, True)], 187: [(3, True, True)], 188: [(3, True, True)], 189: [(3, True, True)], 190: [(3, True, True)], 191: [(3, True, True)], 192: [(3, True, True)], 193: [(3, True, True)], 194: [(3, False, True)], 195: [(3, False, True)], 196: [(3, False, True)], 197: [(3, False, True)], 198: [(3, False, True)], 199: [(3, False, True)], 200: [(3, False, True)], 201: [(3, False, True)], 202: [(3, False, True)], 203: [(3, False, True)], 204: [(3, False, True)], 205: [(3, False, True)]}\n",
            "Human 3 is detected in 136 frames, we detect that he has a hat in 124 frames and vest in 136 frames.\n",
            "Human 3 is a good human. :-)\n",
            "0 1 {}\n"
          ]
        }
      ]
    },
    {
      "cell_type": "code",
      "source": [
        "came, left, violations = get_results('/content/drive/MyDrive/Hardhats_vests/tracker_results/40/tracks/40.txt')\n",
        "print(came, left, violations)"
      ],
      "metadata": {
        "colab": {
          "base_uri": "https://localhost:8080/"
        },
        "id": "AjrcWWhNlDJ1",
        "outputId": "302547e0-8b6b-466a-f4ff-7abc7a99b241"
      },
      "execution_count": null,
      "outputs": [
        {
          "output_type": "stream",
          "name": "stdout",
          "text": [
            "(0, 1)\n",
            "cntry_min = 288, cntry_max = 421\n",
            "cntry_start = 411, cntry_end = 289\n",
            "Human 1 moved 41% of the frame (vertically)\n",
            "Human 1 left.\n",
            "[] [1]\n",
            "0 people came in\n",
            "1 people left\n",
            "{165: [(1, False, False)], 166: [(1, False, False)], 167: [(1, False, False)], 168: [(1, False, False)], 169: [(1, False, False)], 170: [(1, False, False)], 171: [(1, False, False)], 172: [(1, False, False)], 173: [(1, False, False)], 174: [(1, False, False)], 175: [(1, False, False)], 176: [(1, False, False)], 177: [(1, False, False)], 215: [(1, False, False)], 216: [(1, False, False)], 217: [(1, False, False)], 218: [(1, False, False)], 219: [(1, False, False)], 220: [(1, False, False)], 221: [(1, False, False)], 222: [(1, False, False)], 223: [(1, False, False)], 224: [(1, False, False)], 225: [(1, False, False)], 226: [(1, False, False)], 227: [(1, False, False)], 228: [(1, False, False)], 229: [(1, False, False)], 230: [(1, False, False)], 231: [(1, False, False)], 232: [(1, False, False)], 233: [(1, False, False)], 234: [(1, False, False)], 235: [(1, False, False)], 236: [(1, False, False)], 237: [(1, False, False)], 238: [(1, False, False)], 239: [(1, False, False)], 240: [(1, False, False)], 241: [(1, False, False)], 242: [(1, False, False)], 243: [(1, False, False)], 244: [(1, False, False)], 245: [(1, False, False)], 246: [(1, False, False)], 247: [(1, False, False)], 248: [(1, False, False)], 249: [(1, False, False)], 250: [(1, False, False)], 251: [(1, False, False)], 252: [(1, False, False)], 253: [(1, False, False)], 254: [(1, False, False)], 255: [(1, False, False)], 256: [(1, False, False)], 257: [(1, False, False)], 258: [(1, False, False)], 259: [(1, False, False)], 260: [(1, False, False)], 261: [(1, False, False)], 262: [(1, False, False)], 263: [(1, False, False)], 264: [(1, False, False)], 265: [(1, False, False)], 266: [(1, False, False)], 267: [(1, False, False)], 268: [(1, False, False)], 269: [(1, False, False)], 270: [(1, False, False)], 271: [(1, False, False)], 272: [(1, False, False)], 273: [(1, False, False)]}\n",
            "Human 1 is detected in 72 frames, we detect that he has a hat in 0 frames and vest in 0 frames.\n",
            "Human with id 1 is crossing with no hat, no vest in interval 0 min 13 sec - 0 min 22 sec.\n",
            "0 1 {1: [(13, 22)]}\n"
          ]
        }
      ]
    },
    {
      "cell_type": "code",
      "source": [
        "came, left, violations = get_results('/content/drive/MyDrive/Hardhats_vests/tracker_results/42/tracks/42.txt')\n",
        "print(came, left, violations)"
      ],
      "metadata": {
        "colab": {
          "base_uri": "https://localhost:8080/"
        },
        "id": "FHQrVEjJlc54",
        "outputId": "f6ccd1d5-c86d-4174-cae1-517ba89c8d5d"
      },
      "execution_count": null,
      "outputs": [
        {
          "output_type": "stream",
          "name": "stdout",
          "text": [
            "(0, 1)\n",
            "cntry_min = 306, cntry_max = 401\n",
            "cntry_start = 306, cntry_end = 401\n",
            "Human 1 moved 29% of the frame (vertically)\n",
            "Human 1 came in.\n",
            "(0, 2)\n",
            "cntry_min = 294, cntry_max = 435\n",
            "cntry_start = 295, cntry_end = 435\n",
            "Human 2 moved 44% of the frame (vertically)\n",
            "Human 2 came in.\n",
            "(0, 4)\n",
            "cntry_min = 295, cntry_max = 317\n",
            "cntry_start = 298, cntry_end = 308\n",
            "Human 4 moved 6% of the frame (vertically)\n",
            "[1, 2] []\n",
            "2 people came in\n",
            "0 people left\n",
            "{3: [(1, False, False)], 4: [(1, False, False)], 5: [(1, False, False)], 6: [(1, False, False)], 7: [(1, False, False)], 8: [(1, False, False)], 9: [(1, False, False)], 10: [(1, False, False)], 11: [(1, False, False)], 12: [(1, False, False)], 13: [(1, False, False)], 14: [(1, False, False)], 15: [(1, False, False)], 16: [(1, False, False)], 17: [(1, False, False)], 18: [(1, False, False)], 19: [(1, False, False)], 20: [(1, False, False)], 21: [(1, False, False)], 22: [(1, False, False)], 23: [(1, False, False)], 24: [(1, False, False)], 25: [(1, False, False)], 26: [(1, False, False)], 27: [(1, False, False)], 28: [(1, False, False)], 29: [(1, False, False)], 30: [(1, False, False)], 31: [(1, False, False)], 32: [(1, False, False)], 33: [(1, False, False)], 34: [(1, False, False), (2, False, False)], 35: [(1, False, False), (2, False, False)], 36: [(1, False, False), (2, False, False)], 37: [(1, False, False), (2, False, False)], 38: [(2, False, False)], 39: [(2, False, False)], 40: [(2, False, False)], 41: [(2, False, False)], 42: [(2, False, False)], 43: [(2, False, False)], 44: [(2, False, False)], 45: [(2, False, False)], 46: [(2, False, False)], 47: [(2, False, False)], 48: [(2, False, False)], 49: [(2, False, False)], 50: [(2, False, False)], 51: [(2, False, False)], 52: [(2, False, False)], 53: [(2, False, False)], 54: [(2, False, False)], 55: [(2, False, False)], 56: [(2, False, False)], 57: [(2, False, False)], 58: [(2, False, False)], 59: [(2, False, False)], 60: [(2, False, False)], 61: [(2, False, False)], 62: [(2, False, False)], 63: [(2, False, False)], 64: [(2, False, False)], 65: [(2, False, False)], 66: [(2, False, False)], 67: [(2, False, False)], 68: [(2, False, False)], 69: [(2, False, False)], 70: [(2, False, False)], 71: [(2, False, False)], 72: [(2, False, False)], 73: [(2, False, False)], 74: [(2, False, False)], 75: [(2, False, False)], 76: [(2, False, False)], 77: [(2, False, False)], 78: [(2, False, False)], 79: [(2, False, False)], 80: [(2, False, False)], 81: [(2, False, False)], 82: [(2, False, False)], 83: [(2, False, False)], 84: [(2, False, False)], 85: [(2, False, False)], 86: [(2, False, False)], 87: [(2, False, False)], 88: [(2, False, False)], 89: [(2, False, False)], 90: [(2, False, False), (4, True, False)], 91: [(2, False, False), (4, True, False)], 92: [(2, False, False), (4, True, False)], 93: [(2, False, False), (4, True, False)], 94: [(2, False, False), (4, True, False)], 95: [(4, True, True)], 96: [(4, True, True)], 97: [(4, True, True)], 98: [(4, True, True)], 99: [(4, True, True)], 100: [(4, True, True)], 101: [(4, True, True)], 102: [(4, True, True)], 103: [(4, True, True)], 104: [(4, True, True)], 105: [(4, True, True)], 106: [(4, True, True)], 107: [(4, True, True)], 108: [(4, True, True)], 109: [(4, True, True)], 110: [(4, True, True)], 111: [(4, True, True)], 112: [(4, True, True)], 113: [(4, True, True)], 114: [(4, True, True)], 115: [(4, True, True)], 116: [(4, True, True)], 117: [(4, True, True)], 118: [(4, True, True)], 119: [(4, True, True)], 120: [(4, True, True)], 121: [(4, True, True)], 122: [(4, True, True)], 123: [(4, True, True)], 124: [(4, True, True)], 125: [(4, True, True)], 126: [(4, True, True)], 127: [(4, True, True)], 128: [(4, True, True)], 129: [(4, True, True)], 130: [(4, True, True)], 131: [(4, True, True)], 132: [(4, True, True)], 133: [(4, True, True)], 134: [(4, True, True)], 135: [(4, True, True)], 136: [(4, True, True)], 137: [(4, True, True)], 138: [(4, True, True)], 139: [(4, True, True)], 140: [(4, True, True)], 141: [(4, True, True)], 142: [(4, True, True)], 143: [(4, True, True)], 144: [(4, True, True)], 145: [(4, True, True)], 146: [(4, True, True)], 147: [(4, True, True)], 148: [(4, True, True)], 149: [(4, True, True)], 150: [(4, True, True)]}\n",
            "Human 1 is detected in 35 frames, we detect that he has a hat in 0 frames and vest in 0 frames.\n",
            "Human with id 1 is crossing with no hat, no vest in interval 0 min 0 sec - 0 min 3 sec.\n",
            "Human 2 is detected in 61 frames, we detect that he has a hat in 0 frames and vest in 0 frames.\n",
            "Human with id 2 is crossing with no hat, no vest in interval 0 min 2 sec - 0 min 7 sec.\n",
            "2 0 {1: [(0, 3), (2, 7)]}\n"
          ]
        }
      ]
    },
    {
      "cell_type": "markdown",
      "source": [
        "| Видео           | Описание        | Детекция        | Комментарий     |      \n",
        "| --------------- | --------------- | --------------- | --------------- |\n",
        "| 1.mp4           | ЧКЖ+ ЧКЖ+ ЧКЖ+  | 3+ 0-           | ОК              |\n",
        "| 2.mp4           | ЧЖ+ ЧКЖ+ ЧКЖ+   | 3+ 0-           | OK (нарушение замечено верно)        |\n",
        "| 3.mp4           | Ч ЧКЖ           | 0+ 0-           | OK              |\n",
        "| 4.mp4           |ЧКЖ+ Ч+ ЧКЖ+ ЧКЖ+| 4+ 0-           | OK (нарушение замечено верно) |\n",
        "| 5.mp4           | ЧКЖ ЧЖ          | 1+ 0-           | ошибка счета (охранник наклоняется через турникет, центр рамки пересекает турникет)              |\n",
        "| 6.mp4           |Ч- Ч- Ч- Ч- ЧКЖ+ | 1+ 3-          | ошибка счета (один из выходящих долго загорожен другим)|\n",
        "|                 |                 |                 | ошибка детекции нарушения (жилет мало детектится сетью (расстегнут))                |\n",
        "| 7.mp4           | ЧЖ- Ч- ЧЖ- Ч-   | 0+ 4-           | OK (нарушение замечено верно)|\n",
        "| 8.mp4           | Ч- Ч- Ч- Ч- Ч-  | 0+ 4-           | ошибка счета (второй выходящий детектится не все время, поэтому перемещается < 25% кадра (пороговое значение), в правом нижнем углу рядом с дверью охранника часто косяки детекции) |\n",
        "|                 |                 |                 | нарушения замечены верно |\n",
        "| 9.mp4           | ЧЖ- ЧКЖ ЧКЖ+    | 1+ 1-           | OK (нарушение замечено верно) |\n",
        "| 10.mp4          | ЧЖ- ЧЖ-         | 0+ 1-           | ошибка счета (совершенно непонятная внезапная смена id второго выходящего человека), нарушение замечено верно |\n",
        "| 11.mp4          | Ч- Ч- ЧЖ-       | 0+ 3-           | ОК (нарушения замечены верно) |\n",
        "| 12.mp4          | Ч- Ч- Ч- ЧКЖ-   | 0+ 4-           | ОК (нарушения замечены верно) |\n",
        "| 13.mp4          | ЧКЖ- ЧЖ- Ч- Ч- ЧЖ+ ЧЖ+ | 2+ 4-    | Счет верен несмотря на неверно присвоенный id 16, но из-за этого неверно замечен тип нарушения. У 3го выходящего оранж. куртк., но с ним все прекрасно!)) |\n",
        "| 14.mp4          | ЧКЖ- ЧКЖ- ЧКЖ-  | 0+ 3-           | Счет верен несмотря на полный трэш с рамками |\n",
        "|                 |                 |                 | ошибка детекции нарушения (каска полностью за бб человека, неверная детекция бб человека) |\n",
        "| 15.mp4          | Ч+ Ч+           | 2+ 0-           | ОК (нарушения замечены верно) |\n",
        "| 16.mp4          | ЧЖ- ЧЖ- ЧКЖ- Ч- | 0+ 4-           | ОК (нарушения замечены верно) |\n",
        "| 17.mp4          |Ч- ЧКЖ- Ч- Ч- ЧЖ- ЧЖ-| 0+ 5-       | ошибка счета (совершенно непонятная внезапная смена id третьего выходящего человека)                |\n",
        "|                 |                 |                 | У второго выходящего синяя каска не детектится, остальные нарушения детектятся верно. |\n",
        "| 18.mp4          |ЧКЖ+ ЧКЖ+ ЧК+ ЧК+| 4+ 0-           | ОК (нарушения замечены верно)|\n",
        "| 19.mp4          | ЧЖ+             | 1+ 0-           | ОК (нарушения замечены верно)|\n",
        "| 20.mp4          | Ч+              | 1+ 0-           | ОК (нарушения замечены верно)|\n",
        "| 21.mp4          | Ч+ Ч-           | 0+ 1-           | ошибка счета (смена id человека, который вошел и вышел, вход не учтен, т.к. центр бб сдвинулся на 24% (пороговое значение 25%)|\n",
        "|                 |                 |                 |нарушение замечено верно|\n",
        "| 22.mp4          | Ч- ЧКЖ- Ч-      | 0+ 3-           | ОК (нарушения замечены верно)|\n",
        "| 23.mp4          | Ч-              | 0+ 1-           | ОК (нарушения замечены верно)|\n",
        "| 24.mp4          | ЧКЖ+            | 1+ 0-           | ОК              |\n",
        "| 25.mp4          | Ч+ Ч+           | 2+ 0-           | ОК (нарушения замечены верно)|\n",
        "| 26.mp4          | Ч-              | 0+ 1-           | ОК (нарушения замечены верно) |\n",
        "| 27.mp4          | Ч+ ЧКЖ-         | 1+ 1-           | ошибочная детекция нарушения (каска детектится на 34 кадрах из 60, меньше порога в 70%) |\n",
        "| 28.mp4          | дубликат 27.mp4 |                 |                 |\n",
        "| 29.mp4          | Ч- Ч+           | 1+ 1-           | ОК несмотря на неверное присвоение id |\n",
        "| 30.mp4          | Ч+ ЧЖ- ЧЖ- ЧЖ-  | 1+ 2-           | ошибка счета (у первого выходящего нет бб человека!!!)|\n",
        "|                 |                 |                 |нарушения замечены верно|\n",
        "| 31.mp4          | ЧКЖ- ЧКЖ-       | 0+ 2-           | ошибка детекции нарушения (жилет детектится в 46 кадрах из 82, меньше порога в 70%|\n",
        "| 32.mp4          |никто не проходит|                 |                 |\n",
        "| 33.mp4          |никто не проходит|                 |                 |\n",
        "| 34.mp4          |никто не проходит|                 |                 |\n",
        "| 35.mp4          |никто не проходит|                 |                 |\n",
        "| 36.mp4          | Ч               | 0+ 0-           | ОК              |\n",
        "| 37.mp4          |никто не проходит|                 |                 |\n",
        "| 38.mp4          |Ч+ Ч+ Ч- Ч- ЧКЖ- Ч- Ч- ЧКЖ+|из 8+ 7- посчитано 6+ 6-  |второй человек не засчитан, т.к. переместился на 23% кадра, а пороговое значение 25%|\n",
        "|                 |Ч+ Ч+ Ч- Ч+ Ч+ ЧКЖ- ЧКЖ+|                 |ошибка детекции нарушения из-зи неверно присвоеного id|\n",
        "|                 |                 |                 |ошибка подсчета, не учтены последние 2 человека, из-зи неверно присвоенного id|\n",
        "| 39.mp4          | ЧКЖ-            | 0+ 1-           | ОК              |\n",
        "| 40.mp4          | Ч-              | 0+ 1-           | ОК (нарушения замечены верно)|\n",
        "| 41.mp4          |никто не проходит|                 |                 |\n",
        "| 42.mp4          | Ч+ Ч+           | 2+ 0-           |ОК (нарушения замечены верно)|\n",
        "| 43.mp4          |никто не проходит|                 |                 |\n",
        "|                 |                 |                 |                 |\n",
        "\n",
        "\n",
        "**Вывод:**\n",
        "\n",
        "Всего на видео присутствуют 107 человек, из них правильно учтены (входит, выходит, не пересекает турникет) 97, что примерно равняется точности в 91%\n",
        "\n",
        "Ошибок детекции нарушений 6 из 107 человек, точность 94%\n",
        "\n",
        "Возможно показатели могут быть улучшены сменой пороговых значений, но для начала следует улучшить/пополнить датасет и/или его разметку.\n",
        "Возможно смена трекера (со strongsort на другой) поможет избавиться от внезапной смены id."
      ],
      "metadata": {
        "id": "yAZAQ8_pxqzR"
      }
    }
  ]
}